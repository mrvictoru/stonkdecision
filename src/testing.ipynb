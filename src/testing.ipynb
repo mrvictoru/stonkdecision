{
 "cells": [
  {
   "cell_type": "code",
   "execution_count": 2,
   "metadata": {},
   "outputs": [],
   "source": [
    "# this notebook is to test run the custom stock trading environment"
   ]
  },
  {
   "cell_type": "code",
   "execution_count": 8,
   "metadata": {},
   "outputs": [],
   "source": [
    "# test sentiment analysis\n",
    "from transformers import AutoTokenizer, AutoModelForSequenceClassification\n",
    "import torch\n",
    "import datetime as dt\n",
    "\n",
    "# set up tokenizer and model for sentiment analysis\n",
    "device = torch.device(\"cuda\" if torch.cuda.is_available() else \"cpu\")\n",
    "tokenizer = AutoTokenizer.from_pretrained(\"ProsusAI/finbert\")\n",
    "model = AutoModelForSequenceClassification.from_pretrained(\"ProsusAI/finbert\").to(device)"
   ]
  },
  {
   "cell_type": "code",
   "execution_count": 9,
   "metadata": {},
   "outputs": [
    {
     "name": "stderr",
     "output_type": "stream",
     "text": [
      "/usr/local/lib/python3.10/dist-packages/yfinance/utils.py:775: FutureWarning: The 'unit' keyword in TimedeltaIndex construction is deprecated and will be removed in a future version. Use pd.to_timedelta instead.\n",
      "  df.index += _pd.TimedeltaIndex(dst_error_hours, 'h')\n",
      "[*********************100%%**********************]  1 of 1 completed\n",
      "/usr/local/lib/python3.10/dist-packages/ta/trend.py:988: FutureWarning: Setting an item of incompatible dtype is deprecated and will raise an error in a future version of pandas. Value '383.5398553466797' has dtype incompatible with float32, please explicitly cast to a compatible dtype first.\n",
      "  self._psar.iloc[i] = self._psar.iloc[i - 1] + (\n",
      "/usr/local/lib/python3.10/dist-packages/ta/trend.py:1030: FutureWarning: Series.__setitem__ treating keys as positions is deprecated. In a future version, integer keys will always be treated as labels (consistent with DataFrame behavior). To set a value by position, use `ser.iloc[pos] = value`\n",
      "  self._psar[i] = high2\n"
     ]
    },
    {
     "name": "stdout",
     "output_type": "stream",
     "text": [
      "Error:  400\n"
     ]
    },
    {
     "name": "stderr",
     "output_type": "stream",
     "text": [
      "/code/src/getstock.py:170: FutureWarning: ChainedAssignmentError: behaviour will change in pandas 3.0!\n",
      "You are setting values through chained assignment. Currently this works in certain cases, but when using Copy-on-Write (which will become the default behaviour in pandas 3.0) this will never work to update the original DataFrame or Series, because the intermediate object on which we are setting values will behave as a copy.\n",
      "A typical example is when you are setting values in a column of a DataFrame, like:\n",
      "\n",
      "df[\"col\"][row_indexer] = value\n",
      "\n",
      "Use `df.loc[row_indexer, \"col\"] = values` instead, to perform the assignment in a single step and ensure this keeps updating the original `df`.\n",
      "\n",
      "See the caveats in the documentation: https://pandas.pydata.org/pandas-docs/stable/user_guide/indexing.html#returning-a-view-versus-a-copy\n",
      "\n",
      "  data['positive'].iloc[i] = result[0]\n",
      "/code/src/getstock.py:170: SettingWithCopyWarning: \n",
      "A value is trying to be set on a copy of a slice from a DataFrame\n",
      "\n",
      "See the caveats in the documentation: https://pandas.pydata.org/pandas-docs/stable/user_guide/indexing.html#returning-a-view-versus-a-copy\n",
      "  data['positive'].iloc[i] = result[0]\n",
      "/code/src/getstock.py:171: FutureWarning: ChainedAssignmentError: behaviour will change in pandas 3.0!\n",
      "You are setting values through chained assignment. Currently this works in certain cases, but when using Copy-on-Write (which will become the default behaviour in pandas 3.0) this will never work to update the original DataFrame or Series, because the intermediate object on which we are setting values will behave as a copy.\n",
      "A typical example is when you are setting values in a column of a DataFrame, like:\n",
      "\n",
      "df[\"col\"][row_indexer] = value\n",
      "\n",
      "Use `df.loc[row_indexer, \"col\"] = values` instead, to perform the assignment in a single step and ensure this keeps updating the original `df`.\n",
      "\n",
      "See the caveats in the documentation: https://pandas.pydata.org/pandas-docs/stable/user_guide/indexing.html#returning-a-view-versus-a-copy\n",
      "\n",
      "  data['negative'].iloc[i] = result[1]\n",
      "/code/src/getstock.py:171: SettingWithCopyWarning: \n",
      "A value is trying to be set on a copy of a slice from a DataFrame\n",
      "\n",
      "See the caveats in the documentation: https://pandas.pydata.org/pandas-docs/stable/user_guide/indexing.html#returning-a-view-versus-a-copy\n",
      "  data['negative'].iloc[i] = result[1]\n",
      "/code/src/getstock.py:172: FutureWarning: ChainedAssignmentError: behaviour will change in pandas 3.0!\n",
      "You are setting values through chained assignment. Currently this works in certain cases, but when using Copy-on-Write (which will become the default behaviour in pandas 3.0) this will never work to update the original DataFrame or Series, because the intermediate object on which we are setting values will behave as a copy.\n",
      "A typical example is when you are setting values in a column of a DataFrame, like:\n",
      "\n",
      "df[\"col\"][row_indexer] = value\n",
      "\n",
      "Use `df.loc[row_indexer, \"col\"] = values` instead, to perform the assignment in a single step and ensure this keeps updating the original `df`.\n",
      "\n",
      "See the caveats in the documentation: https://pandas.pydata.org/pandas-docs/stable/user_guide/indexing.html#returning-a-view-versus-a-copy\n",
      "\n",
      "  data['neutral'].iloc[i] = result[2]\n",
      "/code/src/getstock.py:172: SettingWithCopyWarning: \n",
      "A value is trying to be set on a copy of a slice from a DataFrame\n",
      "\n",
      "See the caveats in the documentation: https://pandas.pydata.org/pandas-docs/stable/user_guide/indexing.html#returning-a-view-versus-a-copy\n",
      "  data['neutral'].iloc[i] = result[2]\n"
     ]
    },
    {
     "name": "stdout",
     "output_type": "stream",
     "text": [
      "Error:  400\n"
     ]
    },
    {
     "name": "stderr",
     "output_type": "stream",
     "text": [
      "/code/src/getstock.py:170: FutureWarning: ChainedAssignmentError: behaviour will change in pandas 3.0!\n",
      "You are setting values through chained assignment. Currently this works in certain cases, but when using Copy-on-Write (which will become the default behaviour in pandas 3.0) this will never work to update the original DataFrame or Series, because the intermediate object on which we are setting values will behave as a copy.\n",
      "A typical example is when you are setting values in a column of a DataFrame, like:\n",
      "\n",
      "df[\"col\"][row_indexer] = value\n",
      "\n",
      "Use `df.loc[row_indexer, \"col\"] = values` instead, to perform the assignment in a single step and ensure this keeps updating the original `df`.\n",
      "\n",
      "See the caveats in the documentation: https://pandas.pydata.org/pandas-docs/stable/user_guide/indexing.html#returning-a-view-versus-a-copy\n",
      "\n",
      "  data['positive'].iloc[i] = result[0]\n",
      "/code/src/getstock.py:170: SettingWithCopyWarning: \n",
      "A value is trying to be set on a copy of a slice from a DataFrame\n",
      "\n",
      "See the caveats in the documentation: https://pandas.pydata.org/pandas-docs/stable/user_guide/indexing.html#returning-a-view-versus-a-copy\n",
      "  data['positive'].iloc[i] = result[0]\n",
      "/code/src/getstock.py:171: FutureWarning: ChainedAssignmentError: behaviour will change in pandas 3.0!\n",
      "You are setting values through chained assignment. Currently this works in certain cases, but when using Copy-on-Write (which will become the default behaviour in pandas 3.0) this will never work to update the original DataFrame or Series, because the intermediate object on which we are setting values will behave as a copy.\n",
      "A typical example is when you are setting values in a column of a DataFrame, like:\n",
      "\n",
      "df[\"col\"][row_indexer] = value\n",
      "\n",
      "Use `df.loc[row_indexer, \"col\"] = values` instead, to perform the assignment in a single step and ensure this keeps updating the original `df`.\n",
      "\n",
      "See the caveats in the documentation: https://pandas.pydata.org/pandas-docs/stable/user_guide/indexing.html#returning-a-view-versus-a-copy\n",
      "\n",
      "  data['negative'].iloc[i] = result[1]\n",
      "/code/src/getstock.py:171: SettingWithCopyWarning: \n",
      "A value is trying to be set on a copy of a slice from a DataFrame\n",
      "\n",
      "See the caveats in the documentation: https://pandas.pydata.org/pandas-docs/stable/user_guide/indexing.html#returning-a-view-versus-a-copy\n",
      "  data['negative'].iloc[i] = result[1]\n",
      "/code/src/getstock.py:172: FutureWarning: ChainedAssignmentError: behaviour will change in pandas 3.0!\n",
      "You are setting values through chained assignment. Currently this works in certain cases, but when using Copy-on-Write (which will become the default behaviour in pandas 3.0) this will never work to update the original DataFrame or Series, because the intermediate object on which we are setting values will behave as a copy.\n",
      "A typical example is when you are setting values in a column of a DataFrame, like:\n",
      "\n",
      "df[\"col\"][row_indexer] = value\n",
      "\n",
      "Use `df.loc[row_indexer, \"col\"] = values` instead, to perform the assignment in a single step and ensure this keeps updating the original `df`.\n",
      "\n",
      "See the caveats in the documentation: https://pandas.pydata.org/pandas-docs/stable/user_guide/indexing.html#returning-a-view-versus-a-copy\n",
      "\n",
      "  data['neutral'].iloc[i] = result[2]\n",
      "/code/src/getstock.py:172: SettingWithCopyWarning: \n",
      "A value is trying to be set on a copy of a slice from a DataFrame\n",
      "\n",
      "See the caveats in the documentation: https://pandas.pydata.org/pandas-docs/stable/user_guide/indexing.html#returning-a-view-versus-a-copy\n",
      "  data['neutral'].iloc[i] = result[2]\n"
     ]
    },
    {
     "name": "stdout",
     "output_type": "stream",
     "text": [
      "Error:  400\n"
     ]
    },
    {
     "name": "stderr",
     "output_type": "stream",
     "text": [
      "/code/src/getstock.py:170: FutureWarning: ChainedAssignmentError: behaviour will change in pandas 3.0!\n",
      "You are setting values through chained assignment. Currently this works in certain cases, but when using Copy-on-Write (which will become the default behaviour in pandas 3.0) this will never work to update the original DataFrame or Series, because the intermediate object on which we are setting values will behave as a copy.\n",
      "A typical example is when you are setting values in a column of a DataFrame, like:\n",
      "\n",
      "df[\"col\"][row_indexer] = value\n",
      "\n",
      "Use `df.loc[row_indexer, \"col\"] = values` instead, to perform the assignment in a single step and ensure this keeps updating the original `df`.\n",
      "\n",
      "See the caveats in the documentation: https://pandas.pydata.org/pandas-docs/stable/user_guide/indexing.html#returning-a-view-versus-a-copy\n",
      "\n",
      "  data['positive'].iloc[i] = result[0]\n",
      "/code/src/getstock.py:170: SettingWithCopyWarning: \n",
      "A value is trying to be set on a copy of a slice from a DataFrame\n",
      "\n",
      "See the caveats in the documentation: https://pandas.pydata.org/pandas-docs/stable/user_guide/indexing.html#returning-a-view-versus-a-copy\n",
      "  data['positive'].iloc[i] = result[0]\n",
      "/code/src/getstock.py:171: FutureWarning: ChainedAssignmentError: behaviour will change in pandas 3.0!\n",
      "You are setting values through chained assignment. Currently this works in certain cases, but when using Copy-on-Write (which will become the default behaviour in pandas 3.0) this will never work to update the original DataFrame or Series, because the intermediate object on which we are setting values will behave as a copy.\n",
      "A typical example is when you are setting values in a column of a DataFrame, like:\n",
      "\n",
      "df[\"col\"][row_indexer] = value\n",
      "\n",
      "Use `df.loc[row_indexer, \"col\"] = values` instead, to perform the assignment in a single step and ensure this keeps updating the original `df`.\n",
      "\n",
      "See the caveats in the documentation: https://pandas.pydata.org/pandas-docs/stable/user_guide/indexing.html#returning-a-view-versus-a-copy\n",
      "\n",
      "  data['negative'].iloc[i] = result[1]\n",
      "/code/src/getstock.py:171: SettingWithCopyWarning: \n",
      "A value is trying to be set on a copy of a slice from a DataFrame\n",
      "\n",
      "See the caveats in the documentation: https://pandas.pydata.org/pandas-docs/stable/user_guide/indexing.html#returning-a-view-versus-a-copy\n",
      "  data['negative'].iloc[i] = result[1]\n",
      "/code/src/getstock.py:172: FutureWarning: ChainedAssignmentError: behaviour will change in pandas 3.0!\n",
      "You are setting values through chained assignment. Currently this works in certain cases, but when using Copy-on-Write (which will become the default behaviour in pandas 3.0) this will never work to update the original DataFrame or Series, because the intermediate object on which we are setting values will behave as a copy.\n",
      "A typical example is when you are setting values in a column of a DataFrame, like:\n",
      "\n",
      "df[\"col\"][row_indexer] = value\n",
      "\n",
      "Use `df.loc[row_indexer, \"col\"] = values` instead, to perform the assignment in a single step and ensure this keeps updating the original `df`.\n",
      "\n",
      "See the caveats in the documentation: https://pandas.pydata.org/pandas-docs/stable/user_guide/indexing.html#returning-a-view-versus-a-copy\n",
      "\n",
      "  data['neutral'].iloc[i] = result[2]\n",
      "/code/src/getstock.py:172: SettingWithCopyWarning: \n",
      "A value is trying to be set on a copy of a slice from a DataFrame\n",
      "\n",
      "See the caveats in the documentation: https://pandas.pydata.org/pandas-docs/stable/user_guide/indexing.html#returning-a-view-versus-a-copy\n",
      "  data['neutral'].iloc[i] = result[2]\n"
     ]
    },
    {
     "name": "stdout",
     "output_type": "stream",
     "text": [
      "Error:  400\n"
     ]
    },
    {
     "name": "stderr",
     "output_type": "stream",
     "text": [
      "/code/src/getstock.py:170: FutureWarning: ChainedAssignmentError: behaviour will change in pandas 3.0!\n",
      "You are setting values through chained assignment. Currently this works in certain cases, but when using Copy-on-Write (which will become the default behaviour in pandas 3.0) this will never work to update the original DataFrame or Series, because the intermediate object on which we are setting values will behave as a copy.\n",
      "A typical example is when you are setting values in a column of a DataFrame, like:\n",
      "\n",
      "df[\"col\"][row_indexer] = value\n",
      "\n",
      "Use `df.loc[row_indexer, \"col\"] = values` instead, to perform the assignment in a single step and ensure this keeps updating the original `df`.\n",
      "\n",
      "See the caveats in the documentation: https://pandas.pydata.org/pandas-docs/stable/user_guide/indexing.html#returning-a-view-versus-a-copy\n",
      "\n",
      "  data['positive'].iloc[i] = result[0]\n",
      "/code/src/getstock.py:170: SettingWithCopyWarning: \n",
      "A value is trying to be set on a copy of a slice from a DataFrame\n",
      "\n",
      "See the caveats in the documentation: https://pandas.pydata.org/pandas-docs/stable/user_guide/indexing.html#returning-a-view-versus-a-copy\n",
      "  data['positive'].iloc[i] = result[0]\n",
      "/code/src/getstock.py:171: FutureWarning: ChainedAssignmentError: behaviour will change in pandas 3.0!\n",
      "You are setting values through chained assignment. Currently this works in certain cases, but when using Copy-on-Write (which will become the default behaviour in pandas 3.0) this will never work to update the original DataFrame or Series, because the intermediate object on which we are setting values will behave as a copy.\n",
      "A typical example is when you are setting values in a column of a DataFrame, like:\n",
      "\n",
      "df[\"col\"][row_indexer] = value\n",
      "\n",
      "Use `df.loc[row_indexer, \"col\"] = values` instead, to perform the assignment in a single step and ensure this keeps updating the original `df`.\n",
      "\n",
      "See the caveats in the documentation: https://pandas.pydata.org/pandas-docs/stable/user_guide/indexing.html#returning-a-view-versus-a-copy\n",
      "\n",
      "  data['negative'].iloc[i] = result[1]\n",
      "/code/src/getstock.py:171: SettingWithCopyWarning: \n",
      "A value is trying to be set on a copy of a slice from a DataFrame\n",
      "\n",
      "See the caveats in the documentation: https://pandas.pydata.org/pandas-docs/stable/user_guide/indexing.html#returning-a-view-versus-a-copy\n",
      "  data['negative'].iloc[i] = result[1]\n",
      "/code/src/getstock.py:172: FutureWarning: ChainedAssignmentError: behaviour will change in pandas 3.0!\n",
      "You are setting values through chained assignment. Currently this works in certain cases, but when using Copy-on-Write (which will become the default behaviour in pandas 3.0) this will never work to update the original DataFrame or Series, because the intermediate object on which we are setting values will behave as a copy.\n",
      "A typical example is when you are setting values in a column of a DataFrame, like:\n",
      "\n",
      "df[\"col\"][row_indexer] = value\n",
      "\n",
      "Use `df.loc[row_indexer, \"col\"] = values` instead, to perform the assignment in a single step and ensure this keeps updating the original `df`.\n",
      "\n",
      "See the caveats in the documentation: https://pandas.pydata.org/pandas-docs/stable/user_guide/indexing.html#returning-a-view-versus-a-copy\n",
      "\n",
      "  data['neutral'].iloc[i] = result[2]\n",
      "/code/src/getstock.py:172: SettingWithCopyWarning: \n",
      "A value is trying to be set on a copy of a slice from a DataFrame\n",
      "\n",
      "See the caveats in the documentation: https://pandas.pydata.org/pandas-docs/stable/user_guide/indexing.html#returning-a-view-versus-a-copy\n",
      "  data['neutral'].iloc[i] = result[2]\n",
      "/code/src/getstock.py:170: FutureWarning: ChainedAssignmentError: behaviour will change in pandas 3.0!\n",
      "You are setting values through chained assignment. Currently this works in certain cases, but when using Copy-on-Write (which will become the default behaviour in pandas 3.0) this will never work to update the original DataFrame or Series, because the intermediate object on which we are setting values will behave as a copy.\n",
      "A typical example is when you are setting values in a column of a DataFrame, like:\n",
      "\n",
      "df[\"col\"][row_indexer] = value\n",
      "\n",
      "Use `df.loc[row_indexer, \"col\"] = values` instead, to perform the assignment in a single step and ensure this keeps updating the original `df`.\n",
      "\n",
      "See the caveats in the documentation: https://pandas.pydata.org/pandas-docs/stable/user_guide/indexing.html#returning-a-view-versus-a-copy\n",
      "\n",
      "  data['positive'].iloc[i] = result[0]\n",
      "/code/src/getstock.py:170: SettingWithCopyWarning: \n",
      "A value is trying to be set on a copy of a slice from a DataFrame\n",
      "\n",
      "See the caveats in the documentation: https://pandas.pydata.org/pandas-docs/stable/user_guide/indexing.html#returning-a-view-versus-a-copy\n",
      "  data['positive'].iloc[i] = result[0]\n",
      "/code/src/getstock.py:170: FutureWarning: Setting an item of incompatible dtype is deprecated and will raise an error in a future version of pandas. Value '0.9965033531188965' has dtype incompatible with int64, please explicitly cast to a compatible dtype first.\n",
      "  data['positive'].iloc[i] = result[0]\n",
      "/code/src/getstock.py:171: FutureWarning: ChainedAssignmentError: behaviour will change in pandas 3.0!\n",
      "You are setting values through chained assignment. Currently this works in certain cases, but when using Copy-on-Write (which will become the default behaviour in pandas 3.0) this will never work to update the original DataFrame or Series, because the intermediate object on which we are setting values will behave as a copy.\n",
      "A typical example is when you are setting values in a column of a DataFrame, like:\n",
      "\n",
      "df[\"col\"][row_indexer] = value\n",
      "\n",
      "Use `df.loc[row_indexer, \"col\"] = values` instead, to perform the assignment in a single step and ensure this keeps updating the original `df`.\n",
      "\n",
      "See the caveats in the documentation: https://pandas.pydata.org/pandas-docs/stable/user_guide/indexing.html#returning-a-view-versus-a-copy\n",
      "\n",
      "  data['negative'].iloc[i] = result[1]\n",
      "/code/src/getstock.py:171: SettingWithCopyWarning: \n",
      "A value is trying to be set on a copy of a slice from a DataFrame\n",
      "\n",
      "See the caveats in the documentation: https://pandas.pydata.org/pandas-docs/stable/user_guide/indexing.html#returning-a-view-versus-a-copy\n",
      "  data['negative'].iloc[i] = result[1]\n",
      "/code/src/getstock.py:171: FutureWarning: Setting an item of incompatible dtype is deprecated and will raise an error in a future version of pandas. Value '8.214559699126767e-08' has dtype incompatible with int64, please explicitly cast to a compatible dtype first.\n",
      "  data['negative'].iloc[i] = result[1]\n",
      "/code/src/getstock.py:172: FutureWarning: ChainedAssignmentError: behaviour will change in pandas 3.0!\n",
      "You are setting values through chained assignment. Currently this works in certain cases, but when using Copy-on-Write (which will become the default behaviour in pandas 3.0) this will never work to update the original DataFrame or Series, because the intermediate object on which we are setting values will behave as a copy.\n",
      "A typical example is when you are setting values in a column of a DataFrame, like:\n",
      "\n",
      "df[\"col\"][row_indexer] = value\n",
      "\n",
      "Use `df.loc[row_indexer, \"col\"] = values` instead, to perform the assignment in a single step and ensure this keeps updating the original `df`.\n",
      "\n",
      "See the caveats in the documentation: https://pandas.pydata.org/pandas-docs/stable/user_guide/indexing.html#returning-a-view-versus-a-copy\n",
      "\n",
      "  data['neutral'].iloc[i] = result[2]\n",
      "/code/src/getstock.py:172: SettingWithCopyWarning: \n",
      "A value is trying to be set on a copy of a slice from a DataFrame\n",
      "\n",
      "See the caveats in the documentation: https://pandas.pydata.org/pandas-docs/stable/user_guide/indexing.html#returning-a-view-versus-a-copy\n",
      "  data['neutral'].iloc[i] = result[2]\n",
      "/code/src/getstock.py:172: FutureWarning: Setting an item of incompatible dtype is deprecated and will raise an error in a future version of pandas. Value '0.003496594727039337' has dtype incompatible with int64, please explicitly cast to a compatible dtype first.\n",
      "  data['neutral'].iloc[i] = result[2]\n",
      "/code/src/getstock.py:170: FutureWarning: ChainedAssignmentError: behaviour will change in pandas 3.0!\n",
      "You are setting values through chained assignment. Currently this works in certain cases, but when using Copy-on-Write (which will become the default behaviour in pandas 3.0) this will never work to update the original DataFrame or Series, because the intermediate object on which we are setting values will behave as a copy.\n",
      "A typical example is when you are setting values in a column of a DataFrame, like:\n",
      "\n",
      "df[\"col\"][row_indexer] = value\n",
      "\n",
      "Use `df.loc[row_indexer, \"col\"] = values` instead, to perform the assignment in a single step and ensure this keeps updating the original `df`.\n",
      "\n",
      "See the caveats in the documentation: https://pandas.pydata.org/pandas-docs/stable/user_guide/indexing.html#returning-a-view-versus-a-copy\n",
      "\n",
      "  data['positive'].iloc[i] = result[0]\n",
      "/code/src/getstock.py:171: FutureWarning: ChainedAssignmentError: behaviour will change in pandas 3.0!\n",
      "You are setting values through chained assignment. Currently this works in certain cases, but when using Copy-on-Write (which will become the default behaviour in pandas 3.0) this will never work to update the original DataFrame or Series, because the intermediate object on which we are setting values will behave as a copy.\n",
      "A typical example is when you are setting values in a column of a DataFrame, like:\n",
      "\n",
      "df[\"col\"][row_indexer] = value\n",
      "\n",
      "Use `df.loc[row_indexer, \"col\"] = values` instead, to perform the assignment in a single step and ensure this keeps updating the original `df`.\n",
      "\n",
      "See the caveats in the documentation: https://pandas.pydata.org/pandas-docs/stable/user_guide/indexing.html#returning-a-view-versus-a-copy\n",
      "\n",
      "  data['negative'].iloc[i] = result[1]\n",
      "/code/src/getstock.py:172: FutureWarning: ChainedAssignmentError: behaviour will change in pandas 3.0!\n",
      "You are setting values through chained assignment. Currently this works in certain cases, but when using Copy-on-Write (which will become the default behaviour in pandas 3.0) this will never work to update the original DataFrame or Series, because the intermediate object on which we are setting values will behave as a copy.\n",
      "A typical example is when you are setting values in a column of a DataFrame, like:\n",
      "\n",
      "df[\"col\"][row_indexer] = value\n",
      "\n",
      "Use `df.loc[row_indexer, \"col\"] = values` instead, to perform the assignment in a single step and ensure this keeps updating the original `df`.\n",
      "\n",
      "See the caveats in the documentation: https://pandas.pydata.org/pandas-docs/stable/user_guide/indexing.html#returning-a-view-versus-a-copy\n",
      "\n",
      "  data['neutral'].iloc[i] = result[2]\n"
     ]
    }
   ],
   "source": [
    "\n",
    "from getstock import get_newsheadline_sentiment, get_stock_data_yf_between_with_indicators_news\n",
    "# test get_newsheadline_sentiment and get__stock_data_with_news with TSLA, and the last 3 days\n",
    "indicators = [\"Volume\", \"volume_cmf\", \"trend_macd\", \"momentum_rsi\", \"momentum_stoch_rsi\", \"trend_sma_fast\"]\n",
    "symbol = 'TSLA'\n",
    "#end_date = dt.datetime.now()\n",
    "#start_date = end_date - dt.timedelta(days=3)\n",
    "\n",
    "# set start time to be 2022-01-01 and end time to be 2022-01-02\n",
    "start_date = dt.datetime(2022, 1, 1)\n",
    "end_date = dt.datetime(2022, 3, 1)\n",
    "start_date_string = start_date.strftime(\"%Y-%m-%d\")\n",
    "end_date_string = end_date.strftime(\"%Y-%m-%d\")\n",
    "#result = get_newsheadline_sentiment(symbol, start_date, end_date, device, tokenizer, model)\n",
    "data = get_stock_data_yf_between_with_indicators_news(symbol, start_date_string, end_date_string, \"1d\", indicators)\n"
   ]
  },
  {
   "cell_type": "code",
   "execution_count": 10,
   "metadata": {},
   "outputs": [
    {
     "data": {
      "text/html": [
       "<div>\n",
       "<style scoped>\n",
       "    .dataframe tbody tr th:only-of-type {\n",
       "        vertical-align: middle;\n",
       "    }\n",
       "\n",
       "    .dataframe tbody tr th {\n",
       "        vertical-align: top;\n",
       "    }\n",
       "\n",
       "    .dataframe thead th {\n",
       "        text-align: right;\n",
       "    }\n",
       "</style>\n",
       "<table border=\"1\" class=\"dataframe\">\n",
       "  <thead>\n",
       "    <tr style=\"text-align: right;\">\n",
       "      <th></th>\n",
       "      <th>Open</th>\n",
       "      <th>High</th>\n",
       "      <th>Low</th>\n",
       "      <th>Close</th>\n",
       "      <th>Volume</th>\n",
       "      <th>volume_cmf</th>\n",
       "      <th>trend_macd</th>\n",
       "      <th>trend_sma_fast</th>\n",
       "      <th>momentum_rsi</th>\n",
       "      <th>momentum_stoch_rsi</th>\n",
       "      <th>positive</th>\n",
       "      <th>negative</th>\n",
       "      <th>neutral</th>\n",
       "    </tr>\n",
       "    <tr>\n",
       "      <th>Date</th>\n",
       "      <th></th>\n",
       "      <th></th>\n",
       "      <th></th>\n",
       "      <th></th>\n",
       "      <th></th>\n",
       "      <th></th>\n",
       "      <th></th>\n",
       "      <th></th>\n",
       "      <th></th>\n",
       "      <th></th>\n",
       "      <th></th>\n",
       "      <th></th>\n",
       "      <th></th>\n",
       "    </tr>\n",
       "  </thead>\n",
       "  <tbody>\n",
       "    <tr>\n",
       "      <th>2022-01-03</th>\n",
       "      <td>382.583344</td>\n",
       "      <td>400.356659</td>\n",
       "      <td>378.679993</td>\n",
       "      <td>399.926666</td>\n",
       "      <td>103931400</td>\n",
       "      <td>0.960327</td>\n",
       "      <td>0.000000</td>\n",
       "      <td>399.926666</td>\n",
       "      <td>100.000000</td>\n",
       "      <td>0.000000</td>\n",
       "      <td>0.000000e+00</td>\n",
       "      <td>0.000000e+00</td>\n",
       "      <td>0.000000</td>\n",
       "    </tr>\n",
       "    <tr>\n",
       "      <th>2022-01-04</th>\n",
       "      <td>396.516663</td>\n",
       "      <td>402.666656</td>\n",
       "      <td>374.350006</td>\n",
       "      <td>383.196655</td>\n",
       "      <td>100248300</td>\n",
       "      <td>0.304627</td>\n",
       "      <td>-1.334588</td>\n",
       "      <td>391.561661</td>\n",
       "      <td>0.000000</td>\n",
       "      <td>0.000000</td>\n",
       "      <td>0.000000e+00</td>\n",
       "      <td>0.000000e+00</td>\n",
       "      <td>0.000000</td>\n",
       "    </tr>\n",
       "    <tr>\n",
       "      <th>2022-01-05</th>\n",
       "      <td>382.216675</td>\n",
       "      <td>390.113342</td>\n",
       "      <td>360.336670</td>\n",
       "      <td>362.706665</td>\n",
       "      <td>80119800</td>\n",
       "      <td>-0.018176</td>\n",
       "      <td>-3.999525</td>\n",
       "      <td>381.943329</td>\n",
       "      <td>0.000000</td>\n",
       "      <td>0.000000</td>\n",
       "      <td>0.000000e+00</td>\n",
       "      <td>0.000000e+00</td>\n",
       "      <td>0.000000</td>\n",
       "    </tr>\n",
       "    <tr>\n",
       "      <th>2022-01-06</th>\n",
       "      <td>359.000000</td>\n",
       "      <td>362.666656</td>\n",
       "      <td>340.166656</td>\n",
       "      <td>354.899994</td>\n",
       "      <td>90336600</td>\n",
       "      <td>0.060869</td>\n",
       "      <td>-6.664615</td>\n",
       "      <td>375.182495</td>\n",
       "      <td>0.000000</td>\n",
       "      <td>0.000000</td>\n",
       "      <td>0.000000e+00</td>\n",
       "      <td>0.000000e+00</td>\n",
       "      <td>0.000000</td>\n",
       "    </tr>\n",
       "    <tr>\n",
       "      <th>2022-01-07</th>\n",
       "      <td>360.123322</td>\n",
       "      <td>360.309998</td>\n",
       "      <td>336.666656</td>\n",
       "      <td>342.320007</td>\n",
       "      <td>84164700</td>\n",
       "      <td>-0.046015</td>\n",
       "      <td>-9.680230</td>\n",
       "      <td>368.609998</td>\n",
       "      <td>0.000000</td>\n",
       "      <td>0.000000</td>\n",
       "      <td>9.965034e-01</td>\n",
       "      <td>8.214560e-08</td>\n",
       "      <td>0.003497</td>\n",
       "    </tr>\n",
       "    <tr>\n",
       "      <th>2022-01-10</th>\n",
       "      <td>333.333344</td>\n",
       "      <td>353.033325</td>\n",
       "      <td>326.666656</td>\n",
       "      <td>352.706665</td>\n",
       "      <td>91815000</td>\n",
       "      <td>0.124276</td>\n",
       "      <td>-11.104010</td>\n",
       "      <td>365.959442</td>\n",
       "      <td>18.018950</td>\n",
       "      <td>0.000000</td>\n",
       "      <td>9.968178e-01</td>\n",
       "      <td>1.690242e-08</td>\n",
       "      <td>0.003182</td>\n",
       "    </tr>\n",
       "    <tr>\n",
       "      <th>2022-01-11</th>\n",
       "      <td>351.223328</td>\n",
       "      <td>358.616669</td>\n",
       "      <td>346.273346</td>\n",
       "      <td>354.799988</td>\n",
       "      <td>66063300</td>\n",
       "      <td>0.151840</td>\n",
       "      <td>-11.925977</td>\n",
       "      <td>364.365234</td>\n",
       "      <td>21.104460</td>\n",
       "      <td>0.000000</td>\n",
       "      <td>2.248160e-04</td>\n",
       "      <td>6.075185e-12</td>\n",
       "      <td>0.999775</td>\n",
       "    </tr>\n",
       "    <tr>\n",
       "      <th>2022-01-12</th>\n",
       "      <td>359.616669</td>\n",
       "      <td>371.613342</td>\n",
       "      <td>357.529999</td>\n",
       "      <td>368.739990</td>\n",
       "      <td>83739000</td>\n",
       "      <td>0.204458</td>\n",
       "      <td>-11.322036</td>\n",
       "      <td>364.912079</td>\n",
       "      <td>37.873304</td>\n",
       "      <td>0.000000</td>\n",
       "      <td>9.999578e-01</td>\n",
       "      <td>3.473312e-09</td>\n",
       "      <td>0.000042</td>\n",
       "    </tr>\n",
       "    <tr>\n",
       "      <th>2022-01-13</th>\n",
       "      <td>369.690002</td>\n",
       "      <td>371.866669</td>\n",
       "      <td>342.179993</td>\n",
       "      <td>343.853333</td>\n",
       "      <td>97209900</td>\n",
       "      <td>0.071405</td>\n",
       "      <td>-12.705098</td>\n",
       "      <td>362.572218</td>\n",
       "      <td>26.886465</td>\n",
       "      <td>0.000000</td>\n",
       "      <td>1.592343e-02</td>\n",
       "      <td>1.733191e-05</td>\n",
       "      <td>0.984059</td>\n",
       "    </tr>\n",
       "    <tr>\n",
       "      <th>2022-01-14</th>\n",
       "      <td>339.959991</td>\n",
       "      <td>350.666656</td>\n",
       "      <td>337.793335</td>\n",
       "      <td>349.869995</td>\n",
       "      <td>72924300</td>\n",
       "      <td>0.138824</td>\n",
       "      <td>-13.163944</td>\n",
       "      <td>361.301996</td>\n",
       "      <td>32.020857</td>\n",
       "      <td>0.000000</td>\n",
       "      <td>1.161248e-05</td>\n",
       "      <td>6.302409e-05</td>\n",
       "      <td>0.999925</td>\n",
       "    </tr>\n",
       "    <tr>\n",
       "      <th>2022-01-18</th>\n",
       "      <td>342.203339</td>\n",
       "      <td>356.929993</td>\n",
       "      <td>338.686676</td>\n",
       "      <td>343.503326</td>\n",
       "      <td>66743400</td>\n",
       "      <td>0.095331</td>\n",
       "      <td>-13.881305</td>\n",
       "      <td>359.683935</td>\n",
       "      <td>29.648221</td>\n",
       "      <td>0.000000</td>\n",
       "      <td>9.803466e-01</td>\n",
       "      <td>5.614785e-04</td>\n",
       "      <td>0.019092</td>\n",
       "    </tr>\n",
       "    <tr>\n",
       "      <th>2022-01-19</th>\n",
       "      <td>347.236664</td>\n",
       "      <td>351.556671</td>\n",
       "      <td>331.666656</td>\n",
       "      <td>331.883331</td>\n",
       "      <td>75442500</td>\n",
       "      <td>0.015359</td>\n",
       "      <td>-15.212100</td>\n",
       "      <td>357.367218</td>\n",
       "      <td>25.879208</td>\n",
       "      <td>0.000000</td>\n",
       "      <td>1.498144e-03</td>\n",
       "      <td>3.285712e-04</td>\n",
       "      <td>0.998173</td>\n",
       "    </tr>\n",
       "    <tr>\n",
       "      <th>2022-01-20</th>\n",
       "      <td>336.576660</td>\n",
       "      <td>347.220001</td>\n",
       "      <td>331.333344</td>\n",
       "      <td>332.089996</td>\n",
       "      <td>70488600</td>\n",
       "      <td>-0.044515</td>\n",
       "      <td>-16.064902</td>\n",
       "      <td>351.714162</td>\n",
       "      <td>26.059244</td>\n",
       "      <td>0.000000</td>\n",
       "      <td>9.366537e-02</td>\n",
       "      <td>5.704885e-01</td>\n",
       "      <td>0.335846</td>\n",
       "    </tr>\n",
       "    <tr>\n",
       "      <th>2022-01-21</th>\n",
       "      <td>332.113342</td>\n",
       "      <td>334.850006</td>\n",
       "      <td>313.500000</td>\n",
       "      <td>314.633331</td>\n",
       "      <td>103416000</td>\n",
       "      <td>-0.118533</td>\n",
       "      <td>-17.942530</td>\n",
       "      <td>346.000552</td>\n",
       "      <td>21.343385</td>\n",
       "      <td>0.213434</td>\n",
       "      <td>2.103631e-04</td>\n",
       "      <td>3.262111e-11</td>\n",
       "      <td>0.999790</td>\n",
       "    </tr>\n",
       "    <tr>\n",
       "      <th>2022-01-24</th>\n",
       "      <td>301.586670</td>\n",
       "      <td>311.170013</td>\n",
       "      <td>283.823334</td>\n",
       "      <td>310.000000</td>\n",
       "      <td>151565700</td>\n",
       "      <td>-0.001539</td>\n",
       "      <td>-19.578743</td>\n",
       "      <td>341.608330</td>\n",
       "      <td>20.293659</td>\n",
       "      <td>0.535830</td>\n",
       "      <td>3.842856e-07</td>\n",
       "      <td>9.904191e-01</td>\n",
       "      <td>0.009581</td>\n",
       "    </tr>\n",
       "    <tr>\n",
       "      <th>2022-01-25</th>\n",
       "      <td>304.733337</td>\n",
       "      <td>317.086670</td>\n",
       "      <td>301.070007</td>\n",
       "      <td>306.133331</td>\n",
       "      <td>86595900</td>\n",
       "      <td>-0.023796</td>\n",
       "      <td>-20.946010</td>\n",
       "      <td>337.544441</td>\n",
       "      <td>19.434612</td>\n",
       "      <td>0.513148</td>\n",
       "      <td>7.117213e-03</td>\n",
       "      <td>8.185995e-02</td>\n",
       "      <td>0.911023</td>\n",
       "    </tr>\n",
       "    <tr>\n",
       "      <th>2022-01-26</th>\n",
       "      <td>317.476654</td>\n",
       "      <td>329.230011</td>\n",
       "      <td>302.000000</td>\n",
       "      <td>312.470001</td>\n",
       "      <td>104867400</td>\n",
       "      <td>-0.038001</td>\n",
       "      <td>-21.273039</td>\n",
       "      <td>335.056941</td>\n",
       "      <td>25.035070</td>\n",
       "      <td>0.661022</td>\n",
       "      <td>9.639705e-01</td>\n",
       "      <td>4.154663e-03</td>\n",
       "      <td>0.031875</td>\n",
       "    </tr>\n",
       "    <tr>\n",
       "      <th>2022-01-27</th>\n",
       "      <td>311.119995</td>\n",
       "      <td>311.796661</td>\n",
       "      <td>276.333344</td>\n",
       "      <td>276.366669</td>\n",
       "      <td>147109500</td>\n",
       "      <td>-0.122235</td>\n",
       "      <td>-24.166869</td>\n",
       "      <td>328.695274</td>\n",
       "      <td>17.549671</td>\n",
       "      <td>0.463378</td>\n",
       "      <td>1.490148e-02</td>\n",
       "      <td>1.373325e-08</td>\n",
       "      <td>0.985098</td>\n",
       "    </tr>\n",
       "    <tr>\n",
       "      <th>2022-01-28</th>\n",
       "      <td>277.186676</td>\n",
       "      <td>285.833344</td>\n",
       "      <td>264.003326</td>\n",
       "      <td>282.116669</td>\n",
       "      <td>134789100</td>\n",
       "      <td>-0.064071</td>\n",
       "      <td>-25.700020</td>\n",
       "      <td>322.638331</td>\n",
       "      <td>21.571691</td>\n",
       "      <td>0.197899</td>\n",
       "      <td>8.838733e-07</td>\n",
       "      <td>1.325541e-03</td>\n",
       "      <td>0.998674</td>\n",
       "    </tr>\n",
       "    <tr>\n",
       "      <th>2022-01-31</th>\n",
       "      <td>290.903320</td>\n",
       "      <td>312.663330</td>\n",
       "      <td>287.350006</td>\n",
       "      <td>312.239990</td>\n",
       "      <td>104436000</td>\n",
       "      <td>-0.007895</td>\n",
       "      <td>-24.205328</td>\n",
       "      <td>317.929998</td>\n",
       "      <td>38.497953</td>\n",
       "      <td>1.000000</td>\n",
       "      <td>2.002933e-03</td>\n",
       "      <td>8.936591e-03</td>\n",
       "      <td>0.989060</td>\n",
       "    </tr>\n",
       "    <tr>\n",
       "      <th>2022-02-01</th>\n",
       "      <td>311.736664</td>\n",
       "      <td>314.566681</td>\n",
       "      <td>301.666656</td>\n",
       "      <td>310.416656</td>\n",
       "      <td>73138200</td>\n",
       "      <td>-0.047133</td>\n",
       "      <td>-22.903881</td>\n",
       "      <td>315.143608</td>\n",
       "      <td>37.963873</td>\n",
       "      <td>0.974505</td>\n",
       "      <td>8.815661e-02</td>\n",
       "      <td>8.252059e-10</td>\n",
       "      <td>0.911843</td>\n",
       "    </tr>\n",
       "    <tr>\n",
       "      <th>2022-02-02</th>\n",
       "      <td>309.393341</td>\n",
       "      <td>310.500000</td>\n",
       "      <td>296.470001</td>\n",
       "      <td>301.886658</td>\n",
       "      <td>66792900</td>\n",
       "      <td>-0.035892</td>\n",
       "      <td>-22.303671</td>\n",
       "      <td>311.144997</td>\n",
       "      <td>35.483788</td>\n",
       "      <td>0.856114</td>\n",
       "      <td>1.150267e-07</td>\n",
       "      <td>9.059930e-02</td>\n",
       "      <td>0.909401</td>\n",
       "    </tr>\n",
       "    <tr>\n",
       "      <th>2022-02-03</th>\n",
       "      <td>294.000000</td>\n",
       "      <td>312.333344</td>\n",
       "      <td>293.506653</td>\n",
       "      <td>297.046661</td>\n",
       "      <td>78855600</td>\n",
       "      <td>-0.026101</td>\n",
       "      <td>-21.965344</td>\n",
       "      <td>307.273608</td>\n",
       "      <td>34.121693</td>\n",
       "      <td>0.791092</td>\n",
       "      <td>2.764751e-02</td>\n",
       "      <td>7.776675e-03</td>\n",
       "      <td>0.964576</td>\n",
       "    </tr>\n",
       "    <tr>\n",
       "      <th>2022-02-04</th>\n",
       "      <td>299.073334</td>\n",
       "      <td>312.166656</td>\n",
       "      <td>293.723328</td>\n",
       "      <td>307.773346</td>\n",
       "      <td>73625400</td>\n",
       "      <td>-0.020570</td>\n",
       "      <td>-20.594267</td>\n",
       "      <td>305.264442</td>\n",
       "      <td>39.650789</td>\n",
       "      <td>1.000000</td>\n",
       "      <td>1.118183e-05</td>\n",
       "      <td>8.201816e-03</td>\n",
       "      <td>0.991787</td>\n",
       "    </tr>\n",
       "    <tr>\n",
       "      <th>2022-02-07</th>\n",
       "      <td>307.929993</td>\n",
       "      <td>315.923340</td>\n",
       "      <td>300.903320</td>\n",
       "      <td>302.446655</td>\n",
       "      <td>60994500</td>\n",
       "      <td>-0.023343</td>\n",
       "      <td>-19.710289</td>\n",
       "      <td>302.794164</td>\n",
       "      <td>37.947563</td>\n",
       "      <td>0.922935</td>\n",
       "      <td>2.446633e-04</td>\n",
       "      <td>1.071435e-06</td>\n",
       "      <td>0.999754</td>\n",
       "    </tr>\n",
       "    <tr>\n",
       "      <th>2022-02-08</th>\n",
       "      <td>301.843323</td>\n",
       "      <td>308.763336</td>\n",
       "      <td>298.266663</td>\n",
       "      <td>307.333344</td>\n",
       "      <td>50729100</td>\n",
       "      <td>-0.053629</td>\n",
       "      <td>-18.403274</td>\n",
       "      <td>302.185832</td>\n",
       "      <td>40.473780</td>\n",
       "      <td>1.000000</td>\n",
       "      <td>1.566101e-04</td>\n",
       "      <td>4.188001e-05</td>\n",
       "      <td>0.999802</td>\n",
       "    </tr>\n",
       "    <tr>\n",
       "      <th>2022-02-09</th>\n",
       "      <td>311.666656</td>\n",
       "      <td>315.423340</td>\n",
       "      <td>306.666656</td>\n",
       "      <td>310.666656</td>\n",
       "      <td>52259400</td>\n",
       "      <td>-0.070980</td>\n",
       "      <td>-16.903631</td>\n",
       "      <td>302.241386</td>\n",
       "      <td>42.202277</td>\n",
       "      <td>1.000000</td>\n",
       "      <td>9.466849e-09</td>\n",
       "      <td>1.390310e-07</td>\n",
       "      <td>1.000000</td>\n",
       "    </tr>\n",
       "    <tr>\n",
       "      <th>2022-02-10</th>\n",
       "      <td>302.790009</td>\n",
       "      <td>314.603333</td>\n",
       "      <td>298.899994</td>\n",
       "      <td>301.516663</td>\n",
       "      <td>66126900</td>\n",
       "      <td>-0.125585</td>\n",
       "      <td>-16.265976</td>\n",
       "      <td>301.856664</td>\n",
       "      <td>38.866018</td>\n",
       "      <td>0.864669</td>\n",
       "      <td>3.086890e-04</td>\n",
       "      <td>1.743654e-04</td>\n",
       "      <td>0.999517</td>\n",
       "    </tr>\n",
       "    <tr>\n",
       "      <th>2022-02-11</th>\n",
       "      <td>303.209991</td>\n",
       "      <td>305.320007</td>\n",
       "      <td>283.566681</td>\n",
       "      <td>286.666656</td>\n",
       "      <td>79645800</td>\n",
       "      <td>-0.109834</td>\n",
       "      <td>-16.765638</td>\n",
       "      <td>299.706385</td>\n",
       "      <td>34.147809</td>\n",
       "      <td>0.673281</td>\n",
       "      <td>1.558308e-08</td>\n",
       "      <td>2.823483e-06</td>\n",
       "      <td>0.999997</td>\n",
       "    </tr>\n",
       "    <tr>\n",
       "      <th>2022-02-14</th>\n",
       "      <td>287.190002</td>\n",
       "      <td>299.626678</td>\n",
       "      <td>284.383331</td>\n",
       "      <td>291.920013</td>\n",
       "      <td>67756500</td>\n",
       "      <td>-0.147856</td>\n",
       "      <td>-16.546978</td>\n",
       "      <td>301.002497</td>\n",
       "      <td>37.058776</td>\n",
       "      <td>0.791361</td>\n",
       "      <td>4.089646e-04</td>\n",
       "      <td>2.558823e-03</td>\n",
       "      <td>0.997032</td>\n",
       "    </tr>\n",
       "    <tr>\n",
       "      <th>2022-02-15</th>\n",
       "      <td>300.000000</td>\n",
       "      <td>307.666656</td>\n",
       "      <td>297.793335</td>\n",
       "      <td>307.476654</td>\n",
       "      <td>57286200</td>\n",
       "      <td>-0.097923</td>\n",
       "      <td>-14.946108</td>\n",
       "      <td>303.115829</td>\n",
       "      <td>44.835400</td>\n",
       "      <td>1.000000</td>\n",
       "      <td>1.891119e-02</td>\n",
       "      <td>2.309767e-08</td>\n",
       "      <td>0.981089</td>\n",
       "    </tr>\n",
       "    <tr>\n",
       "      <th>2022-02-16</th>\n",
       "      <td>304.683319</td>\n",
       "      <td>308.809998</td>\n",
       "      <td>300.403320</td>\n",
       "      <td>307.796661</td>\n",
       "      <td>51294300</td>\n",
       "      <td>-0.032300</td>\n",
       "      <td>-13.496012</td>\n",
       "      <td>302.745552</td>\n",
       "      <td>44.985977</td>\n",
       "      <td>1.000000</td>\n",
       "      <td>1.051580e-05</td>\n",
       "      <td>2.427780e-11</td>\n",
       "      <td>0.999990</td>\n",
       "    </tr>\n",
       "    <tr>\n",
       "      <th>2022-02-17</th>\n",
       "      <td>304.420013</td>\n",
       "      <td>306.166656</td>\n",
       "      <td>291.366669</td>\n",
       "      <td>292.116669</td>\n",
       "      <td>55178400</td>\n",
       "      <td>-0.024083</td>\n",
       "      <td>-13.456922</td>\n",
       "      <td>301.220553</td>\n",
       "      <td>39.322201</td>\n",
       "      <td>0.478679</td>\n",
       "      <td>4.528021e-04</td>\n",
       "      <td>2.054179e-08</td>\n",
       "      <td>0.999547</td>\n",
       "    </tr>\n",
       "    <tr>\n",
       "      <th>2022-02-18</th>\n",
       "      <td>295.333344</td>\n",
       "      <td>295.623322</td>\n",
       "      <td>279.203339</td>\n",
       "      <td>285.660004</td>\n",
       "      <td>68501700</td>\n",
       "      <td>0.023091</td>\n",
       "      <td>-13.788002</td>\n",
       "      <td>299.868332</td>\n",
       "      <td>37.242890</td>\n",
       "      <td>0.287290</td>\n",
       "      <td>4.143701e-09</td>\n",
       "      <td>6.761165e-07</td>\n",
       "      <td>0.999999</td>\n",
       "    </tr>\n",
       "    <tr>\n",
       "      <th>2022-02-22</th>\n",
       "      <td>278.043335</td>\n",
       "      <td>285.576660</td>\n",
       "      <td>267.033325</td>\n",
       "      <td>273.843323</td>\n",
       "      <td>83288100</td>\n",
       "      <td>-0.078704</td>\n",
       "      <td>-14.832908</td>\n",
       "      <td>297.934720</td>\n",
       "      <td>33.727763</td>\n",
       "      <td>0.000000</td>\n",
       "      <td>3.182904e-03</td>\n",
       "      <td>3.697169e-10</td>\n",
       "      <td>0.996817</td>\n",
       "    </tr>\n",
       "    <tr>\n",
       "      <th>2022-02-23</th>\n",
       "      <td>276.809998</td>\n",
       "      <td>278.433319</td>\n",
       "      <td>253.520004</td>\n",
       "      <td>254.679993</td>\n",
       "      <td>95256900</td>\n",
       "      <td>-0.112967</td>\n",
       "      <td>-17.011229</td>\n",
       "      <td>293.510274</td>\n",
       "      <td>28.954891</td>\n",
       "      <td>0.000000</td>\n",
       "      <td>1.604518e-04</td>\n",
       "      <td>2.669989e-07</td>\n",
       "      <td>0.999839</td>\n",
       "    </tr>\n",
       "    <tr>\n",
       "      <th>2022-02-24</th>\n",
       "      <td>233.463333</td>\n",
       "      <td>267.493347</td>\n",
       "      <td>233.333328</td>\n",
       "      <td>266.923340</td>\n",
       "      <td>135322200</td>\n",
       "      <td>-0.014071</td>\n",
       "      <td>-17.547354</td>\n",
       "      <td>290.549998</td>\n",
       "      <td>35.258495</td>\n",
       "      <td>0.393211</td>\n",
       "      <td>8.350204e-04</td>\n",
       "      <td>5.507811e-06</td>\n",
       "      <td>0.999159</td>\n",
       "    </tr>\n",
       "    <tr>\n",
       "      <th>2022-02-25</th>\n",
       "      <td>269.743347</td>\n",
       "      <td>273.166656</td>\n",
       "      <td>260.799988</td>\n",
       "      <td>269.956665</td>\n",
       "      <td>76067700</td>\n",
       "      <td>0.105048</td>\n",
       "      <td>-17.525450</td>\n",
       "      <td>287.435275</td>\n",
       "      <td>36.755694</td>\n",
       "      <td>0.486605</td>\n",
       "      <td>1.146464e-04</td>\n",
       "      <td>2.410672e-05</td>\n",
       "      <td>0.999861</td>\n",
       "    </tr>\n",
       "    <tr>\n",
       "      <th>2022-02-28</th>\n",
       "      <td>271.670013</td>\n",
       "      <td>292.286682</td>\n",
       "      <td>271.570007</td>\n",
       "      <td>290.143341</td>\n",
       "      <td>99006900</td>\n",
       "      <td>0.100626</td>\n",
       "      <td>-15.698235</td>\n",
       "      <td>285.724998</td>\n",
       "      <td>45.747503</td>\n",
       "      <td>1.000000</td>\n",
       "      <td>1.303350e-04</td>\n",
       "      <td>5.716165e-05</td>\n",
       "      <td>0.999812</td>\n",
       "    </tr>\n",
       "  </tbody>\n",
       "</table>\n",
       "</div>"
      ],
      "text/plain": [
       "                  Open        High         Low       Close     Volume  \\\n",
       "Date                                                                    \n",
       "2022-01-03  382.583344  400.356659  378.679993  399.926666  103931400   \n",
       "2022-01-04  396.516663  402.666656  374.350006  383.196655  100248300   \n",
       "2022-01-05  382.216675  390.113342  360.336670  362.706665   80119800   \n",
       "2022-01-06  359.000000  362.666656  340.166656  354.899994   90336600   \n",
       "2022-01-07  360.123322  360.309998  336.666656  342.320007   84164700   \n",
       "2022-01-10  333.333344  353.033325  326.666656  352.706665   91815000   \n",
       "2022-01-11  351.223328  358.616669  346.273346  354.799988   66063300   \n",
       "2022-01-12  359.616669  371.613342  357.529999  368.739990   83739000   \n",
       "2022-01-13  369.690002  371.866669  342.179993  343.853333   97209900   \n",
       "2022-01-14  339.959991  350.666656  337.793335  349.869995   72924300   \n",
       "2022-01-18  342.203339  356.929993  338.686676  343.503326   66743400   \n",
       "2022-01-19  347.236664  351.556671  331.666656  331.883331   75442500   \n",
       "2022-01-20  336.576660  347.220001  331.333344  332.089996   70488600   \n",
       "2022-01-21  332.113342  334.850006  313.500000  314.633331  103416000   \n",
       "2022-01-24  301.586670  311.170013  283.823334  310.000000  151565700   \n",
       "2022-01-25  304.733337  317.086670  301.070007  306.133331   86595900   \n",
       "2022-01-26  317.476654  329.230011  302.000000  312.470001  104867400   \n",
       "2022-01-27  311.119995  311.796661  276.333344  276.366669  147109500   \n",
       "2022-01-28  277.186676  285.833344  264.003326  282.116669  134789100   \n",
       "2022-01-31  290.903320  312.663330  287.350006  312.239990  104436000   \n",
       "2022-02-01  311.736664  314.566681  301.666656  310.416656   73138200   \n",
       "2022-02-02  309.393341  310.500000  296.470001  301.886658   66792900   \n",
       "2022-02-03  294.000000  312.333344  293.506653  297.046661   78855600   \n",
       "2022-02-04  299.073334  312.166656  293.723328  307.773346   73625400   \n",
       "2022-02-07  307.929993  315.923340  300.903320  302.446655   60994500   \n",
       "2022-02-08  301.843323  308.763336  298.266663  307.333344   50729100   \n",
       "2022-02-09  311.666656  315.423340  306.666656  310.666656   52259400   \n",
       "2022-02-10  302.790009  314.603333  298.899994  301.516663   66126900   \n",
       "2022-02-11  303.209991  305.320007  283.566681  286.666656   79645800   \n",
       "2022-02-14  287.190002  299.626678  284.383331  291.920013   67756500   \n",
       "2022-02-15  300.000000  307.666656  297.793335  307.476654   57286200   \n",
       "2022-02-16  304.683319  308.809998  300.403320  307.796661   51294300   \n",
       "2022-02-17  304.420013  306.166656  291.366669  292.116669   55178400   \n",
       "2022-02-18  295.333344  295.623322  279.203339  285.660004   68501700   \n",
       "2022-02-22  278.043335  285.576660  267.033325  273.843323   83288100   \n",
       "2022-02-23  276.809998  278.433319  253.520004  254.679993   95256900   \n",
       "2022-02-24  233.463333  267.493347  233.333328  266.923340  135322200   \n",
       "2022-02-25  269.743347  273.166656  260.799988  269.956665   76067700   \n",
       "2022-02-28  271.670013  292.286682  271.570007  290.143341   99006900   \n",
       "\n",
       "            volume_cmf  trend_macd  trend_sma_fast  momentum_rsi  \\\n",
       "Date                                                               \n",
       "2022-01-03    0.960327    0.000000      399.926666    100.000000   \n",
       "2022-01-04    0.304627   -1.334588      391.561661      0.000000   \n",
       "2022-01-05   -0.018176   -3.999525      381.943329      0.000000   \n",
       "2022-01-06    0.060869   -6.664615      375.182495      0.000000   \n",
       "2022-01-07   -0.046015   -9.680230      368.609998      0.000000   \n",
       "2022-01-10    0.124276  -11.104010      365.959442     18.018950   \n",
       "2022-01-11    0.151840  -11.925977      364.365234     21.104460   \n",
       "2022-01-12    0.204458  -11.322036      364.912079     37.873304   \n",
       "2022-01-13    0.071405  -12.705098      362.572218     26.886465   \n",
       "2022-01-14    0.138824  -13.163944      361.301996     32.020857   \n",
       "2022-01-18    0.095331  -13.881305      359.683935     29.648221   \n",
       "2022-01-19    0.015359  -15.212100      357.367218     25.879208   \n",
       "2022-01-20   -0.044515  -16.064902      351.714162     26.059244   \n",
       "2022-01-21   -0.118533  -17.942530      346.000552     21.343385   \n",
       "2022-01-24   -0.001539  -19.578743      341.608330     20.293659   \n",
       "2022-01-25   -0.023796  -20.946010      337.544441     19.434612   \n",
       "2022-01-26   -0.038001  -21.273039      335.056941     25.035070   \n",
       "2022-01-27   -0.122235  -24.166869      328.695274     17.549671   \n",
       "2022-01-28   -0.064071  -25.700020      322.638331     21.571691   \n",
       "2022-01-31   -0.007895  -24.205328      317.929998     38.497953   \n",
       "2022-02-01   -0.047133  -22.903881      315.143608     37.963873   \n",
       "2022-02-02   -0.035892  -22.303671      311.144997     35.483788   \n",
       "2022-02-03   -0.026101  -21.965344      307.273608     34.121693   \n",
       "2022-02-04   -0.020570  -20.594267      305.264442     39.650789   \n",
       "2022-02-07   -0.023343  -19.710289      302.794164     37.947563   \n",
       "2022-02-08   -0.053629  -18.403274      302.185832     40.473780   \n",
       "2022-02-09   -0.070980  -16.903631      302.241386     42.202277   \n",
       "2022-02-10   -0.125585  -16.265976      301.856664     38.866018   \n",
       "2022-02-11   -0.109834  -16.765638      299.706385     34.147809   \n",
       "2022-02-14   -0.147856  -16.546978      301.002497     37.058776   \n",
       "2022-02-15   -0.097923  -14.946108      303.115829     44.835400   \n",
       "2022-02-16   -0.032300  -13.496012      302.745552     44.985977   \n",
       "2022-02-17   -0.024083  -13.456922      301.220553     39.322201   \n",
       "2022-02-18    0.023091  -13.788002      299.868332     37.242890   \n",
       "2022-02-22   -0.078704  -14.832908      297.934720     33.727763   \n",
       "2022-02-23   -0.112967  -17.011229      293.510274     28.954891   \n",
       "2022-02-24   -0.014071  -17.547354      290.549998     35.258495   \n",
       "2022-02-25    0.105048  -17.525450      287.435275     36.755694   \n",
       "2022-02-28    0.100626  -15.698235      285.724998     45.747503   \n",
       "\n",
       "            momentum_stoch_rsi      positive      negative   neutral  \n",
       "Date                                                                  \n",
       "2022-01-03            0.000000  0.000000e+00  0.000000e+00  0.000000  \n",
       "2022-01-04            0.000000  0.000000e+00  0.000000e+00  0.000000  \n",
       "2022-01-05            0.000000  0.000000e+00  0.000000e+00  0.000000  \n",
       "2022-01-06            0.000000  0.000000e+00  0.000000e+00  0.000000  \n",
       "2022-01-07            0.000000  9.965034e-01  8.214560e-08  0.003497  \n",
       "2022-01-10            0.000000  9.968178e-01  1.690242e-08  0.003182  \n",
       "2022-01-11            0.000000  2.248160e-04  6.075185e-12  0.999775  \n",
       "2022-01-12            0.000000  9.999578e-01  3.473312e-09  0.000042  \n",
       "2022-01-13            0.000000  1.592343e-02  1.733191e-05  0.984059  \n",
       "2022-01-14            0.000000  1.161248e-05  6.302409e-05  0.999925  \n",
       "2022-01-18            0.000000  9.803466e-01  5.614785e-04  0.019092  \n",
       "2022-01-19            0.000000  1.498144e-03  3.285712e-04  0.998173  \n",
       "2022-01-20            0.000000  9.366537e-02  5.704885e-01  0.335846  \n",
       "2022-01-21            0.213434  2.103631e-04  3.262111e-11  0.999790  \n",
       "2022-01-24            0.535830  3.842856e-07  9.904191e-01  0.009581  \n",
       "2022-01-25            0.513148  7.117213e-03  8.185995e-02  0.911023  \n",
       "2022-01-26            0.661022  9.639705e-01  4.154663e-03  0.031875  \n",
       "2022-01-27            0.463378  1.490148e-02  1.373325e-08  0.985098  \n",
       "2022-01-28            0.197899  8.838733e-07  1.325541e-03  0.998674  \n",
       "2022-01-31            1.000000  2.002933e-03  8.936591e-03  0.989060  \n",
       "2022-02-01            0.974505  8.815661e-02  8.252059e-10  0.911843  \n",
       "2022-02-02            0.856114  1.150267e-07  9.059930e-02  0.909401  \n",
       "2022-02-03            0.791092  2.764751e-02  7.776675e-03  0.964576  \n",
       "2022-02-04            1.000000  1.118183e-05  8.201816e-03  0.991787  \n",
       "2022-02-07            0.922935  2.446633e-04  1.071435e-06  0.999754  \n",
       "2022-02-08            1.000000  1.566101e-04  4.188001e-05  0.999802  \n",
       "2022-02-09            1.000000  9.466849e-09  1.390310e-07  1.000000  \n",
       "2022-02-10            0.864669  3.086890e-04  1.743654e-04  0.999517  \n",
       "2022-02-11            0.673281  1.558308e-08  2.823483e-06  0.999997  \n",
       "2022-02-14            0.791361  4.089646e-04  2.558823e-03  0.997032  \n",
       "2022-02-15            1.000000  1.891119e-02  2.309767e-08  0.981089  \n",
       "2022-02-16            1.000000  1.051580e-05  2.427780e-11  0.999990  \n",
       "2022-02-17            0.478679  4.528021e-04  2.054179e-08  0.999547  \n",
       "2022-02-18            0.287290  4.143701e-09  6.761165e-07  0.999999  \n",
       "2022-02-22            0.000000  3.182904e-03  3.697169e-10  0.996817  \n",
       "2022-02-23            0.000000  1.604518e-04  2.669989e-07  0.999839  \n",
       "2022-02-24            0.393211  8.350204e-04  5.507811e-06  0.999159  \n",
       "2022-02-25            0.486605  1.146464e-04  2.410672e-05  0.999861  \n",
       "2022-02-28            1.000000  1.303350e-04  5.716165e-05  0.999812  "
      ]
     },
     "execution_count": 10,
     "metadata": {},
     "output_type": "execute_result"
    }
   ],
   "source": [
    "data\n"
   ]
  },
  {
   "cell_type": "code",
   "execution_count": 2,
   "metadata": {},
   "outputs": [
    {
     "ename": "AttributeError",
     "evalue": "'NoneType' object has no attribute 'find_all'",
     "output_type": "error",
     "traceback": [
      "\u001b[0;31m---------------------------------------------------------------------------\u001b[0m",
      "\u001b[0;31mAttributeError\u001b[0m                            Traceback (most recent call last)",
      "Cell \u001b[0;32mIn[2], line 7\u001b[0m\n\u001b[1;32m      4\u001b[0m nasdaq_tic \u001b[38;5;241m=\u001b[39m get_nasdaq_tickers()\n\u001b[1;32m      5\u001b[0m \u001b[38;5;66;03m#sp500_tic = get_sp500_tickers()\u001b[39;00m\n\u001b[1;32m      6\u001b[0m \u001b[38;5;66;03m#dow_tic = get_dow_tickers()\u001b[39;00m\n\u001b[0;32m----> 7\u001b[0m nyse_tic \u001b[38;5;241m=\u001b[39m \u001b[43mget_nyse_tickers\u001b[49m\u001b[43m(\u001b[49m\u001b[43m)\u001b[49m\n\u001b[1;32m      8\u001b[0m dow_tic \u001b[38;5;241m=\u001b[39m [\u001b[38;5;124m'\u001b[39m\u001b[38;5;124mAAPL\u001b[39m\u001b[38;5;124m'\u001b[39m, \u001b[38;5;124m'\u001b[39m\u001b[38;5;124mAMGN\u001b[39m\u001b[38;5;124m'\u001b[39m, \u001b[38;5;124m'\u001b[39m\u001b[38;5;124mAXP\u001b[39m\u001b[38;5;124m'\u001b[39m, \u001b[38;5;124m'\u001b[39m\u001b[38;5;124mBA\u001b[39m\u001b[38;5;124m'\u001b[39m, \u001b[38;5;124m'\u001b[39m\u001b[38;5;124mCAT\u001b[39m\u001b[38;5;124m'\u001b[39m, \u001b[38;5;124m'\u001b[39m\u001b[38;5;124mCRM\u001b[39m\u001b[38;5;124m'\u001b[39m, \u001b[38;5;124m'\u001b[39m\u001b[38;5;124mCSCO\u001b[39m\u001b[38;5;124m'\u001b[39m, \u001b[38;5;124m'\u001b[39m\u001b[38;5;124mCVX\u001b[39m\u001b[38;5;124m'\u001b[39m, \u001b[38;5;124m'\u001b[39m\u001b[38;5;124mDIS\u001b[39m\u001b[38;5;124m'\u001b[39m, \u001b[38;5;124m'\u001b[39m\u001b[38;5;124mDOW\u001b[39m\u001b[38;5;124m'\u001b[39m, \u001b[38;5;124m'\u001b[39m\u001b[38;5;124mGS\u001b[39m\u001b[38;5;124m'\u001b[39m, \u001b[38;5;124m'\u001b[39m\u001b[38;5;124mHD\u001b[39m\u001b[38;5;124m'\u001b[39m, \u001b[38;5;124m'\u001b[39m\u001b[38;5;124mHON\u001b[39m\u001b[38;5;124m'\u001b[39m, \u001b[38;5;124m'\u001b[39m\u001b[38;5;124mIBM\u001b[39m\u001b[38;5;124m'\u001b[39m, \u001b[38;5;124m'\u001b[39m\u001b[38;5;124mINTC\u001b[39m\u001b[38;5;124m'\u001b[39m, \u001b[38;5;124m'\u001b[39m\u001b[38;5;124mJNJ\u001b[39m\u001b[38;5;124m'\u001b[39m, \u001b[38;5;124m'\u001b[39m\u001b[38;5;124mJPM\u001b[39m\u001b[38;5;124m'\u001b[39m, \u001b[38;5;124m'\u001b[39m\u001b[38;5;124mKO\u001b[39m\u001b[38;5;124m'\u001b[39m, \u001b[38;5;124m'\u001b[39m\u001b[38;5;124mMCD\u001b[39m\u001b[38;5;124m'\u001b[39m, \u001b[38;5;124m'\u001b[39m\u001b[38;5;124mMMM\u001b[39m\u001b[38;5;124m'\u001b[39m, \u001b[38;5;124m'\u001b[39m\u001b[38;5;124mMRK\u001b[39m\u001b[38;5;124m'\u001b[39m, \u001b[38;5;124m'\u001b[39m\u001b[38;5;124mMSFT\u001b[39m\u001b[38;5;124m'\u001b[39m, \u001b[38;5;124m'\u001b[39m\u001b[38;5;124mNKE\u001b[39m\u001b[38;5;124m'\u001b[39m, \u001b[38;5;124m'\u001b[39m\u001b[38;5;124mPG\u001b[39m\u001b[38;5;124m'\u001b[39m, \u001b[38;5;124m'\u001b[39m\u001b[38;5;124mTRV\u001b[39m\u001b[38;5;124m'\u001b[39m, \u001b[38;5;124m'\u001b[39m\u001b[38;5;124mUNH\u001b[39m\u001b[38;5;124m'\u001b[39m, \u001b[38;5;124m'\u001b[39m\u001b[38;5;124mV\u001b[39m\u001b[38;5;124m'\u001b[39m, \u001b[38;5;124m'\u001b[39m\u001b[38;5;124mVZ\u001b[39m\u001b[38;5;124m'\u001b[39m, \u001b[38;5;124m'\u001b[39m\u001b[38;5;124mWBA\u001b[39m\u001b[38;5;124m'\u001b[39m, \u001b[38;5;124m'\u001b[39m\u001b[38;5;124mWMT\u001b[39m\u001b[38;5;124m'\u001b[39m]\n\u001b[1;32m     10\u001b[0m \u001b[38;5;66;03m# merge the lists and remove duplicates\u001b[39;00m\n",
      "File \u001b[0;32m/code/src/gettickers.py:30\u001b[0m, in \u001b[0;36mget_nyse_tickers\u001b[0;34m()\u001b[0m\n\u001b[1;32m     27\u001b[0m table \u001b[38;5;241m=\u001b[39m soup\u001b[38;5;241m.\u001b[39mfind(\u001b[38;5;124m'\u001b[39m\u001b[38;5;124mtable\u001b[39m\u001b[38;5;124m'\u001b[39m, {\u001b[38;5;124m'\u001b[39m\u001b[38;5;124mclass\u001b[39m\u001b[38;5;124m'\u001b[39m: \u001b[38;5;124m'\u001b[39m\u001b[38;5;124mgenTbl closedTbl crossRatesTbl\u001b[39m\u001b[38;5;124m'\u001b[39m})\n\u001b[1;32m     29\u001b[0m \u001b[38;5;66;03m# Extract the tickers from the table\u001b[39;00m\n\u001b[0;32m---> 30\u001b[0m tickers \u001b[38;5;241m=\u001b[39m [row\u001b[38;5;241m.\u001b[39mfind(\u001b[38;5;124m'\u001b[39m\u001b[38;5;124mtd\u001b[39m\u001b[38;5;124m'\u001b[39m)\u001b[38;5;241m.\u001b[39mtext \u001b[38;5;28;01mfor\u001b[39;00m row \u001b[38;5;129;01min\u001b[39;00m \u001b[43mtable\u001b[49m\u001b[38;5;241;43m.\u001b[39;49m\u001b[43mfind_all\u001b[49m(\u001b[38;5;124m'\u001b[39m\u001b[38;5;124mtr\u001b[39m\u001b[38;5;124m'\u001b[39m) \u001b[38;5;28;01mif\u001b[39;00m row\u001b[38;5;241m.\u001b[39mfind(\u001b[38;5;124m'\u001b[39m\u001b[38;5;124mtd\u001b[39m\u001b[38;5;124m'\u001b[39m)]\n\u001b[1;32m     31\u001b[0m \u001b[38;5;28;01mreturn\u001b[39;00m tickers\n",
      "\u001b[0;31mAttributeError\u001b[0m: 'NoneType' object has no attribute 'find_all'"
     ]
    }
   ],
   "source": [
    "# this library is to get the list of tickers from NASDAQ and S&P500\n",
    "from gettickers import *\n",
    "\n",
    "nasdaq_tic = get_nasdaq_tickers()\n",
    "#sp500_tic = get_sp500_tickers()\n",
    "dow_tic = get_dow_tickers()\n",
    "#nyse_tic = get_nyse_tickers()\n",
    "#dow_tic = ['AAPL', 'AMGN', 'AXP', 'BA', 'CAT', 'CRM', 'CSCO', 'CVX', 'DIS', 'DOW', 'GS', 'HD', 'HON', 'IBM', 'INTC', 'JNJ', 'JPM', 'KO', 'MCD', 'MMM', 'MRK', 'MSFT', 'NKE', 'PG', 'TRV', 'UNH', 'V', 'VZ', 'WBA', 'WMT']\n",
    "\n",
    "# merge the lists and remove duplicates\n",
    "all_tickers = nasdaq_tic + dow_tic\n",
    "all_tickers = list(set(all_tickers))\n",
    "print(len(nasdaq_tic))\n",
    "#print(len(sp500_tic))\n",
    "print(len(dow_tic))\n",
    "print(len(all_tickers))\n",
    "# loop through tickers and only keep the ones with capital letters\n",
    "# this is to remove the tickers with special characters"
   ]
  },
  {
   "cell_type": "code",
   "execution_count": 4,
   "metadata": {},
   "outputs": [],
   "source": [
    "# create json files for all tickers for stable_baselines agent training\n",
    "start_date = \"2017-01-01\"\n",
    "num_days = 400\n",
    "interval = \"1d\"\n",
    "indicators = [\"Volume\", \"volume_cmf\", \"trend_macd\", \"momentum_rsi\", \"momentum_stoch_rsi\", \"trend_sma_fast\"]\n",
    "init_balance = 20000\n",
    "agent_output_path = \"trained_stable_agents_2/\"\n",
    "stable_training_json_path = \"training_stable_agents_config/\"\n",
    "create_json_files(all_tickers, start_date, num_days, interval, indicators, init_balance, agent_output_path, stable_training_json_path)"
   ]
  },
  {
   "cell_type": "code",
   "execution_count": 3,
   "metadata": {},
   "outputs": [],
   "source": [
    "# create json files for all tickers for decision transformer offline data generation\n",
    "from datetime import datetime, timedelta\n",
    "# calculate the new start_date as the above start_date + num_days\n",
    "start_date = datetime.strptime(start_date, \"%Y-%m-%d\")\n",
    "new_start_date = start_date + timedelta(days=num_days)\n",
    "\n",
    "# calculate the day different between current date and new_start_date\n",
    "today = datetime.today().strftime(\"%Y-%m-%d\")\n",
    "today = datetime.strptime(today, \"%Y-%m-%d\")\n",
    "day_diff = (today - new_start_date).days\n",
    "\n",
    "if day_diff < 120:\n",
    "    num_days = day_diff\n",
    "else:\n",
    "    num_days = day_diff - 120\n",
    "\n",
    "new_start_date = new_start_date.strftime(\"%Y-%m-%d\")\n",
    "output_path = \"offline_stock_trade_data/\"\n",
    "data_json_path = \"offline_stock_trade_data_config/\"\n",
    "#create_json_files(all_tickers, new_start_date, num_days, interval, indicators, init_balance, output_path, data_json_path)"
   ]
  },
  {
   "cell_type": "code",
   "execution_count": 5,
   "metadata": {},
   "outputs": [],
   "source": [
    "import os\n",
    "import re\n",
    "\n",
    "\n",
    "# import libraries for training stable baselines agent\n",
    "from train_stable_agent import create_stable_agents, evaluate_stable_agent, train_stable_agent, output_stable_agent, full_run\n",
    "\n",
    "from stable_baselines3.common.env_checker import check_env\n",
    "\n",
    "# import custom functions and classes\n",
    "from curatedataset import makegymenv, run_env, full_curate_run\n",
    "\n",
    "from get_agent import Agent, TradingAlgorithm, overbought_confidence\n"
   ]
  },
  {
   "cell_type": "code",
   "execution_count": 6,
   "metadata": {},
   "outputs": [
    {
     "name": "stdout",
     "output_type": "stream",
     "text": [
      "Training agent with training_stable_agents_config/training_config_MDB.json\n",
      "Reading JSON file:  training_stable_agents_config/training_config_MDB.json\n",
      "Creating output folder:  trained_stable_agents_2/MDB\n",
      "Creating trading environment with MDB data\n",
      "Getting stock data of MDB...\n"
     ]
    },
    {
     "name": "stderr",
     "output_type": "stream",
     "text": [
      "/usr/local/lib/python3.10/dist-packages/yfinance/utils.py:775: FutureWarning: The 'unit' keyword in TimedeltaIndex construction is deprecated and will be removed in a future version. Use pd.to_timedelta instead.\n",
      "  df.index += _pd.TimedeltaIndex(dst_error_hours, 'h')\n",
      "[*********************100%%**********************]  1 of 1 completed\n",
      "/usr/local/lib/python3.10/dist-packages/ta/trend.py:988: FutureWarning: Setting an item of incompatible dtype is deprecated and will raise an error in a future version of pandas. Value '30.746400299072267' has dtype incompatible with float32, please explicitly cast to a compatible dtype first.\n",
      "  self._psar.iloc[i] = self._psar.iloc[i - 1] + (\n",
      "/usr/local/lib/python3.10/dist-packages/ta/trend.py:1030: FutureWarning: Series.__setitem__ treating keys as positions is deprecated. In a future version, integer keys will always be treated as labels (consistent with DataFrame behavior). To set a value by position, use `ser.iloc[pos] = value`\n",
      "  self._psar[i] = high2\n"
     ]
    },
    {
     "name": "stdout",
     "output_type": "stream",
     "text": [
      "sorting indicators...\n",
      "setting up sentiment analysis model...\n"
     ]
    },
    {
     "name": "stderr",
     "output_type": "stream",
     "text": [
      "/usr/local/lib/python3.10/dist-packages/torch/_utils.py:776: UserWarning: TypedStorage is deprecated. It will be removed in the future and UntypedStorage will be the only storage class. This should only matter to you if you are using storages directly.  To access UntypedStorage directly, use tensor.untyped_storage() instead of tensor.storage()\n",
      "  return self.fget.__get__(instance, owner)()\n"
     ]
    },
    {
     "name": "stdout",
     "output_type": "stream",
     "text": [
      "Getting news sentiment of MDB...\n",
      "Error:  400\n",
      "Error:  400\n",
      "Error:  400\n",
      "Error:  400\n",
      "Error:  list index out of range\n",
      "Error:  list index out of range\n",
      "Error:  list index out of range\n",
      "Error:  list index out of range\n",
      "Error:  list index out of range\n",
      "Error:  list index out of range\n",
      "Error:  list index out of range\n",
      "Error:  list index out of range\n"
     ]
    },
    {
     "ename": "KeyboardInterrupt",
     "evalue": "",
     "output_type": "error",
     "traceback": [
      "\u001b[0;31m---------------------------------------------------------------------------\u001b[0m",
      "\u001b[0;31mKeyboardInterrupt\u001b[0m                         Traceback (most recent call last)",
      "Cell \u001b[0;32mIn[6], line 18\u001b[0m\n\u001b[1;32m     16\u001b[0m \u001b[38;5;28;01melse\u001b[39;00m:\n\u001b[1;32m     17\u001b[0m     \u001b[38;5;28;01mtry\u001b[39;00m:\n\u001b[0;32m---> 18\u001b[0m         \u001b[43mfull_run\u001b[49m\u001b[43m(\u001b[49m\u001b[43mrunfile\u001b[49m\u001b[43m)\u001b[49m\n\u001b[1;32m     19\u001b[0m     \u001b[38;5;28;01mexcept\u001b[39;00m \u001b[38;5;167;01mException\u001b[39;00m \u001b[38;5;28;01mas\u001b[39;00m e:\n\u001b[1;32m     20\u001b[0m         \u001b[38;5;28mprint\u001b[39m(\u001b[38;5;124mf\u001b[39m\u001b[38;5;124m\"\u001b[39m\u001b[38;5;124mError training agent with \u001b[39m\u001b[38;5;132;01m{\u001b[39;00mrunfile\u001b[38;5;132;01m}\u001b[39;00m\u001b[38;5;124m\"\u001b[39m)\n",
      "File \u001b[0;32m/code/src/train_stable_agent.py:82\u001b[0m, in \u001b[0;36mfull_run\u001b[0;34m(json_file_path)\u001b[0m\n\u001b[1;32m     80\u001b[0m \u001b[38;5;66;03m# create the trading environment\u001b[39;00m\n\u001b[1;32m     81\u001b[0m \u001b[38;5;28mprint\u001b[39m(\u001b[38;5;124mf\u001b[39m\u001b[38;5;124m\"\u001b[39m\u001b[38;5;124mCreating trading environment with \u001b[39m\u001b[38;5;132;01m{\u001b[39;00mstock_name\u001b[38;5;132;01m}\u001b[39;00m\u001b[38;5;124m data\u001b[39m\u001b[38;5;124m\"\u001b[39m)\n\u001b[0;32m---> 82\u001b[0m stable_env, obs_space, act_space, col, data \u001b[38;5;241m=\u001b[39m \u001b[43mmakegymenv\u001b[49m\u001b[43m(\u001b[49m\u001b[43mstock_name\u001b[49m\u001b[38;5;241;43m=\u001b[39;49m\u001b[43mstock_name\u001b[49m\u001b[43m,\u001b[49m\u001b[43m \u001b[49m\u001b[43mstart_date\u001b[49m\u001b[38;5;241;43m=\u001b[39;49m\u001b[43mstart_date\u001b[49m\u001b[43m,\u001b[49m\u001b[43m \u001b[49m\u001b[43mperiod\u001b[49m\u001b[38;5;241;43m=\u001b[39;49m\u001b[43mnum_days\u001b[49m\u001b[43m,\u001b[49m\u001b[43m \u001b[49m\u001b[43minterval\u001b[49m\u001b[38;5;241;43m=\u001b[39;49m\u001b[43minterval\u001b[49m\u001b[43m,\u001b[49m\u001b[43m \u001b[49m\u001b[43mindicators\u001b[49m\u001b[38;5;241;43m=\u001b[39;49m\u001b[43mindicators\u001b[49m\u001b[43m,\u001b[49m\u001b[43m \u001b[49m\u001b[43mnormalize\u001b[49m\u001b[38;5;241;43m=\u001b[39;49m\u001b[38;5;28;43;01mTrue\u001b[39;49;00m\u001b[43m,\u001b[49m\u001b[43m \u001b[49m\u001b[43minit_balance\u001b[49m\u001b[38;5;241;43m=\u001b[39;49m\u001b[43minit_balance\u001b[49m\u001b[43m)\u001b[49m\n\u001b[1;32m     84\u001b[0m \u001b[38;5;28mprint\u001b[39m(\u001b[38;5;124m\"\u001b[39m\u001b[38;5;124mChecking environment\u001b[39m\u001b[38;5;124m\"\u001b[39m)\n\u001b[1;32m     85\u001b[0m \u001b[38;5;28;01mtry\u001b[39;00m:\n",
      "File \u001b[0;32m/code/src/curatedataset.py:33\u001b[0m, in \u001b[0;36mmakegymenv\u001b[0;34m(stock_name, start_date, period, interval, indicators, init_balance, render, random, normalize)\u001b[0m\n\u001b[1;32m     30\u001b[0m \u001b[38;5;28;01mexcept\u001b[39;00m \u001b[38;5;167;01mValueError\u001b[39;00m:\n\u001b[1;32m     31\u001b[0m     \u001b[38;5;28;01mraise\u001b[39;00m \u001b[38;5;167;01mValueError\u001b[39;00m(\u001b[38;5;124m\"\u001b[39m\u001b[38;5;124mIncorrect data format, should be YYYY-MM-DD\u001b[39m\u001b[38;5;124m\"\u001b[39m)\n\u001b[0;32m---> 33\u001b[0m stock_data \u001b[38;5;241m=\u001b[39m \u001b[43mget_stock_data_yf_between_with_indicators_news\u001b[49m\u001b[43m(\u001b[49m\u001b[43mstock_name\u001b[49m\u001b[43m,\u001b[49m\u001b[43m \u001b[49m\u001b[43mstart_date\u001b[49m\u001b[43m,\u001b[49m\u001b[43m \u001b[49m\u001b[43mend_date\u001b[49m\u001b[43m,\u001b[49m\u001b[43m \u001b[49m\u001b[43minterval\u001b[49m\u001b[43m,\u001b[49m\u001b[43m \u001b[49m\u001b[43mindicators\u001b[49m\u001b[43m)\u001b[49m\n\u001b[1;32m     34\u001b[0m \u001b[38;5;66;03m# check if momentum_stoch_rsi is in the indicators\u001b[39;00m\n\u001b[1;32m     35\u001b[0m \u001b[38;5;28;01mif\u001b[39;00m \u001b[38;5;124m'\u001b[39m\u001b[38;5;124mmomentum_stoch_rsi\u001b[39m\u001b[38;5;124m'\u001b[39m \u001b[38;5;129;01min\u001b[39;00m indicators:\n\u001b[1;32m     36\u001b[0m     \u001b[38;5;66;03m# if so then change the first 10 rows of momentum_stoch_rsi to 0.5\u001b[39;00m\n",
      "File \u001b[0;32m/code/src/getstock.py:171\u001b[0m, in \u001b[0;36mget_stock_data_yf_between_with_indicators_news\u001b[0;34m(stock_name, start_date, end_date, interval, indicators)\u001b[0m\n\u001b[1;32m    168\u001b[0m \u001b[38;5;28;01mfor\u001b[39;00m i \u001b[38;5;129;01min\u001b[39;00m \u001b[38;5;28mrange\u001b[39m(\u001b[38;5;28mlen\u001b[39m(data)):\n\u001b[1;32m    169\u001b[0m     \u001b[38;5;66;03m# get the news sentiment\u001b[39;00m\n\u001b[1;32m    170\u001b[0m     \u001b[38;5;28;01mtry\u001b[39;00m:\n\u001b[0;32m--> 171\u001b[0m         result \u001b[38;5;241m=\u001b[39m \u001b[43mget_newsheadline_sentiment\u001b[49m\u001b[43m(\u001b[49m\u001b[43mstock_name\u001b[49m\u001b[43m,\u001b[49m\u001b[43m \u001b[49m\u001b[43mdata\u001b[49m\u001b[38;5;241;43m.\u001b[39;49m\u001b[43mindex\u001b[49m\u001b[43m[\u001b[49m\u001b[43mi\u001b[49m\u001b[38;5;241;43m-\u001b[39;49m\u001b[38;5;241;43m4\u001b[39;49m\u001b[43m]\u001b[49m\u001b[43m,\u001b[49m\u001b[43m \u001b[49m\u001b[43mdata\u001b[49m\u001b[38;5;241;43m.\u001b[39;49m\u001b[43mindex\u001b[49m\u001b[43m[\u001b[49m\u001b[43mi\u001b[49m\u001b[43m]\u001b[49m\u001b[43m,\u001b[49m\u001b[43m \u001b[49m\u001b[43mdevice\u001b[49m\u001b[43m,\u001b[49m\u001b[43m \u001b[49m\u001b[43mtokenizer\u001b[49m\u001b[43m,\u001b[49m\u001b[43m \u001b[49m\u001b[43mmodel\u001b[49m\u001b[43m)\u001b[49m\n\u001b[1;32m    172\u001b[0m     \u001b[38;5;28;01mexcept\u001b[39;00m \u001b[38;5;167;01mException\u001b[39;00m \u001b[38;5;28;01mas\u001b[39;00m e:\n\u001b[1;32m    173\u001b[0m         \u001b[38;5;28mprint\u001b[39m(\u001b[38;5;124m\"\u001b[39m\u001b[38;5;124mError: \u001b[39m\u001b[38;5;124m\"\u001b[39m, e)\n",
      "File \u001b[0;32m/code/src/getstock.py:122\u001b[0m, in \u001b[0;36mget_newsheadline_sentiment\u001b[0;34m(stock_name, start_date, end_date, device, tokenizer, model)\u001b[0m\n\u001b[1;32m    114\u001b[0m headers \u001b[38;5;241m=\u001b[39m {\n\u001b[1;32m    115\u001b[0m     \u001b[38;5;124m\"\u001b[39m\u001b[38;5;124maccept\u001b[39m\u001b[38;5;124m\"\u001b[39m: \u001b[38;5;124m\"\u001b[39m\u001b[38;5;124mapplication/json\u001b[39m\u001b[38;5;124m\"\u001b[39m,\n\u001b[1;32m    116\u001b[0m     \u001b[38;5;124m\"\u001b[39m\u001b[38;5;124mAPCA-API-KEY-ID\u001b[39m\u001b[38;5;124m\"\u001b[39m: api_key,\n\u001b[1;32m    117\u001b[0m     \u001b[38;5;124m\"\u001b[39m\u001b[38;5;124mAPCA-API-SECRET-KEY\u001b[39m\u001b[38;5;124m\"\u001b[39m: secret_key\n\u001b[1;32m    118\u001b[0m }\n\u001b[1;32m    120\u001b[0m \u001b[38;5;66;03m# use requests to get news from alpaca api\u001b[39;00m\n\u001b[0;32m--> 122\u001b[0m response \u001b[38;5;241m=\u001b[39m \u001b[43mrequests\u001b[49m\u001b[38;5;241;43m.\u001b[39;49m\u001b[43mget\u001b[49m\u001b[43m(\u001b[49m\u001b[43murl\u001b[49m\u001b[43m,\u001b[49m\u001b[43m \u001b[49m\u001b[43mheaders\u001b[49m\u001b[38;5;241;43m=\u001b[39;49m\u001b[43mheaders\u001b[49m\u001b[43m)\u001b[49m\n\u001b[1;32m    123\u001b[0m \u001b[38;5;66;03m# check if response is successful\u001b[39;00m\n\u001b[1;32m    124\u001b[0m \u001b[38;5;28;01mif\u001b[39;00m response\u001b[38;5;241m.\u001b[39mstatus_code \u001b[38;5;241m!=\u001b[39m \u001b[38;5;241m200\u001b[39m:\n",
      "File \u001b[0;32m/usr/local/lib/python3.10/dist-packages/requests/api.py:73\u001b[0m, in \u001b[0;36mget\u001b[0;34m(url, params, **kwargs)\u001b[0m\n\u001b[1;32m     62\u001b[0m \u001b[38;5;28;01mdef\u001b[39;00m \u001b[38;5;21mget\u001b[39m(url, params\u001b[38;5;241m=\u001b[39m\u001b[38;5;28;01mNone\u001b[39;00m, \u001b[38;5;241m*\u001b[39m\u001b[38;5;241m*\u001b[39mkwargs):\n\u001b[1;32m     63\u001b[0m \u001b[38;5;250m    \u001b[39m\u001b[38;5;124mr\u001b[39m\u001b[38;5;124;03m\"\"\"Sends a GET request.\u001b[39;00m\n\u001b[1;32m     64\u001b[0m \n\u001b[1;32m     65\u001b[0m \u001b[38;5;124;03m    :param url: URL for the new :class:`Request` object.\u001b[39;00m\n\u001b[0;32m   (...)\u001b[0m\n\u001b[1;32m     70\u001b[0m \u001b[38;5;124;03m    :rtype: requests.Response\u001b[39;00m\n\u001b[1;32m     71\u001b[0m \u001b[38;5;124;03m    \"\"\"\u001b[39;00m\n\u001b[0;32m---> 73\u001b[0m     \u001b[38;5;28;01mreturn\u001b[39;00m \u001b[43mrequest\u001b[49m\u001b[43m(\u001b[49m\u001b[38;5;124;43m\"\u001b[39;49m\u001b[38;5;124;43mget\u001b[39;49m\u001b[38;5;124;43m\"\u001b[39;49m\u001b[43m,\u001b[49m\u001b[43m \u001b[49m\u001b[43murl\u001b[49m\u001b[43m,\u001b[49m\u001b[43m \u001b[49m\u001b[43mparams\u001b[49m\u001b[38;5;241;43m=\u001b[39;49m\u001b[43mparams\u001b[49m\u001b[43m,\u001b[49m\u001b[43m \u001b[49m\u001b[38;5;241;43m*\u001b[39;49m\u001b[38;5;241;43m*\u001b[39;49m\u001b[43mkwargs\u001b[49m\u001b[43m)\u001b[49m\n",
      "File \u001b[0;32m/usr/local/lib/python3.10/dist-packages/requests/api.py:59\u001b[0m, in \u001b[0;36mrequest\u001b[0;34m(method, url, **kwargs)\u001b[0m\n\u001b[1;32m     55\u001b[0m \u001b[38;5;66;03m# By using the 'with' statement we are sure the session is closed, thus we\u001b[39;00m\n\u001b[1;32m     56\u001b[0m \u001b[38;5;66;03m# avoid leaving sockets open which can trigger a ResourceWarning in some\u001b[39;00m\n\u001b[1;32m     57\u001b[0m \u001b[38;5;66;03m# cases, and look like a memory leak in others.\u001b[39;00m\n\u001b[1;32m     58\u001b[0m \u001b[38;5;28;01mwith\u001b[39;00m sessions\u001b[38;5;241m.\u001b[39mSession() \u001b[38;5;28;01mas\u001b[39;00m session:\n\u001b[0;32m---> 59\u001b[0m     \u001b[38;5;28;01mreturn\u001b[39;00m \u001b[43msession\u001b[49m\u001b[38;5;241;43m.\u001b[39;49m\u001b[43mrequest\u001b[49m\u001b[43m(\u001b[49m\u001b[43mmethod\u001b[49m\u001b[38;5;241;43m=\u001b[39;49m\u001b[43mmethod\u001b[49m\u001b[43m,\u001b[49m\u001b[43m \u001b[49m\u001b[43murl\u001b[49m\u001b[38;5;241;43m=\u001b[39;49m\u001b[43murl\u001b[49m\u001b[43m,\u001b[49m\u001b[43m \u001b[49m\u001b[38;5;241;43m*\u001b[39;49m\u001b[38;5;241;43m*\u001b[39;49m\u001b[43mkwargs\u001b[49m\u001b[43m)\u001b[49m\n",
      "File \u001b[0;32m/usr/local/lib/python3.10/dist-packages/requests/sessions.py:589\u001b[0m, in \u001b[0;36mSession.request\u001b[0;34m(self, method, url, params, data, headers, cookies, files, auth, timeout, allow_redirects, proxies, hooks, stream, verify, cert, json)\u001b[0m\n\u001b[1;32m    584\u001b[0m send_kwargs \u001b[38;5;241m=\u001b[39m {\n\u001b[1;32m    585\u001b[0m     \u001b[38;5;124m\"\u001b[39m\u001b[38;5;124mtimeout\u001b[39m\u001b[38;5;124m\"\u001b[39m: timeout,\n\u001b[1;32m    586\u001b[0m     \u001b[38;5;124m\"\u001b[39m\u001b[38;5;124mallow_redirects\u001b[39m\u001b[38;5;124m\"\u001b[39m: allow_redirects,\n\u001b[1;32m    587\u001b[0m }\n\u001b[1;32m    588\u001b[0m send_kwargs\u001b[38;5;241m.\u001b[39mupdate(settings)\n\u001b[0;32m--> 589\u001b[0m resp \u001b[38;5;241m=\u001b[39m \u001b[38;5;28;43mself\u001b[39;49m\u001b[38;5;241;43m.\u001b[39;49m\u001b[43msend\u001b[49m\u001b[43m(\u001b[49m\u001b[43mprep\u001b[49m\u001b[43m,\u001b[49m\u001b[43m \u001b[49m\u001b[38;5;241;43m*\u001b[39;49m\u001b[38;5;241;43m*\u001b[39;49m\u001b[43msend_kwargs\u001b[49m\u001b[43m)\u001b[49m\n\u001b[1;32m    591\u001b[0m \u001b[38;5;28;01mreturn\u001b[39;00m resp\n",
      "File \u001b[0;32m/usr/local/lib/python3.10/dist-packages/requests/sessions.py:703\u001b[0m, in \u001b[0;36mSession.send\u001b[0;34m(self, request, **kwargs)\u001b[0m\n\u001b[1;32m    700\u001b[0m start \u001b[38;5;241m=\u001b[39m preferred_clock()\n\u001b[1;32m    702\u001b[0m \u001b[38;5;66;03m# Send the request\u001b[39;00m\n\u001b[0;32m--> 703\u001b[0m r \u001b[38;5;241m=\u001b[39m \u001b[43madapter\u001b[49m\u001b[38;5;241;43m.\u001b[39;49m\u001b[43msend\u001b[49m\u001b[43m(\u001b[49m\u001b[43mrequest\u001b[49m\u001b[43m,\u001b[49m\u001b[43m \u001b[49m\u001b[38;5;241;43m*\u001b[39;49m\u001b[38;5;241;43m*\u001b[39;49m\u001b[43mkwargs\u001b[49m\u001b[43m)\u001b[49m\n\u001b[1;32m    705\u001b[0m \u001b[38;5;66;03m# Total elapsed time of the request (approximately)\u001b[39;00m\n\u001b[1;32m    706\u001b[0m elapsed \u001b[38;5;241m=\u001b[39m preferred_clock() \u001b[38;5;241m-\u001b[39m start\n",
      "File \u001b[0;32m/usr/local/lib/python3.10/dist-packages/requests/adapters.py:486\u001b[0m, in \u001b[0;36mHTTPAdapter.send\u001b[0;34m(self, request, stream, timeout, verify, cert, proxies)\u001b[0m\n\u001b[1;32m    483\u001b[0m     timeout \u001b[38;5;241m=\u001b[39m TimeoutSauce(connect\u001b[38;5;241m=\u001b[39mtimeout, read\u001b[38;5;241m=\u001b[39mtimeout)\n\u001b[1;32m    485\u001b[0m \u001b[38;5;28;01mtry\u001b[39;00m:\n\u001b[0;32m--> 486\u001b[0m     resp \u001b[38;5;241m=\u001b[39m \u001b[43mconn\u001b[49m\u001b[38;5;241;43m.\u001b[39;49m\u001b[43murlopen\u001b[49m\u001b[43m(\u001b[49m\n\u001b[1;32m    487\u001b[0m \u001b[43m        \u001b[49m\u001b[43mmethod\u001b[49m\u001b[38;5;241;43m=\u001b[39;49m\u001b[43mrequest\u001b[49m\u001b[38;5;241;43m.\u001b[39;49m\u001b[43mmethod\u001b[49m\u001b[43m,\u001b[49m\n\u001b[1;32m    488\u001b[0m \u001b[43m        \u001b[49m\u001b[43murl\u001b[49m\u001b[38;5;241;43m=\u001b[39;49m\u001b[43murl\u001b[49m\u001b[43m,\u001b[49m\n\u001b[1;32m    489\u001b[0m \u001b[43m        \u001b[49m\u001b[43mbody\u001b[49m\u001b[38;5;241;43m=\u001b[39;49m\u001b[43mrequest\u001b[49m\u001b[38;5;241;43m.\u001b[39;49m\u001b[43mbody\u001b[49m\u001b[43m,\u001b[49m\n\u001b[1;32m    490\u001b[0m \u001b[43m        \u001b[49m\u001b[43mheaders\u001b[49m\u001b[38;5;241;43m=\u001b[39;49m\u001b[43mrequest\u001b[49m\u001b[38;5;241;43m.\u001b[39;49m\u001b[43mheaders\u001b[49m\u001b[43m,\u001b[49m\n\u001b[1;32m    491\u001b[0m \u001b[43m        \u001b[49m\u001b[43mredirect\u001b[49m\u001b[38;5;241;43m=\u001b[39;49m\u001b[38;5;28;43;01mFalse\u001b[39;49;00m\u001b[43m,\u001b[49m\n\u001b[1;32m    492\u001b[0m \u001b[43m        \u001b[49m\u001b[43massert_same_host\u001b[49m\u001b[38;5;241;43m=\u001b[39;49m\u001b[38;5;28;43;01mFalse\u001b[39;49;00m\u001b[43m,\u001b[49m\n\u001b[1;32m    493\u001b[0m \u001b[43m        \u001b[49m\u001b[43mpreload_content\u001b[49m\u001b[38;5;241;43m=\u001b[39;49m\u001b[38;5;28;43;01mFalse\u001b[39;49;00m\u001b[43m,\u001b[49m\n\u001b[1;32m    494\u001b[0m \u001b[43m        \u001b[49m\u001b[43mdecode_content\u001b[49m\u001b[38;5;241;43m=\u001b[39;49m\u001b[38;5;28;43;01mFalse\u001b[39;49;00m\u001b[43m,\u001b[49m\n\u001b[1;32m    495\u001b[0m \u001b[43m        \u001b[49m\u001b[43mretries\u001b[49m\u001b[38;5;241;43m=\u001b[39;49m\u001b[38;5;28;43mself\u001b[39;49m\u001b[38;5;241;43m.\u001b[39;49m\u001b[43mmax_retries\u001b[49m\u001b[43m,\u001b[49m\n\u001b[1;32m    496\u001b[0m \u001b[43m        \u001b[49m\u001b[43mtimeout\u001b[49m\u001b[38;5;241;43m=\u001b[39;49m\u001b[43mtimeout\u001b[49m\u001b[43m,\u001b[49m\n\u001b[1;32m    497\u001b[0m \u001b[43m        \u001b[49m\u001b[43mchunked\u001b[49m\u001b[38;5;241;43m=\u001b[39;49m\u001b[43mchunked\u001b[49m\u001b[43m,\u001b[49m\n\u001b[1;32m    498\u001b[0m \u001b[43m    \u001b[49m\u001b[43m)\u001b[49m\n\u001b[1;32m    500\u001b[0m \u001b[38;5;28;01mexcept\u001b[39;00m (ProtocolError, \u001b[38;5;167;01mOSError\u001b[39;00m) \u001b[38;5;28;01mas\u001b[39;00m err:\n\u001b[1;32m    501\u001b[0m     \u001b[38;5;28;01mraise\u001b[39;00m \u001b[38;5;167;01mConnectionError\u001b[39;00m(err, request\u001b[38;5;241m=\u001b[39mrequest)\n",
      "File \u001b[0;32m/usr/local/lib/python3.10/dist-packages/urllib3/connectionpool.py:703\u001b[0m, in \u001b[0;36mHTTPConnectionPool.urlopen\u001b[0;34m(self, method, url, body, headers, retries, redirect, assert_same_host, timeout, pool_timeout, release_conn, chunked, body_pos, **response_kw)\u001b[0m\n\u001b[1;32m    700\u001b[0m     \u001b[38;5;28mself\u001b[39m\u001b[38;5;241m.\u001b[39m_prepare_proxy(conn)\n\u001b[1;32m    702\u001b[0m \u001b[38;5;66;03m# Make the request on the httplib connection object.\u001b[39;00m\n\u001b[0;32m--> 703\u001b[0m httplib_response \u001b[38;5;241m=\u001b[39m \u001b[38;5;28;43mself\u001b[39;49m\u001b[38;5;241;43m.\u001b[39;49m\u001b[43m_make_request\u001b[49m\u001b[43m(\u001b[49m\n\u001b[1;32m    704\u001b[0m \u001b[43m    \u001b[49m\u001b[43mconn\u001b[49m\u001b[43m,\u001b[49m\n\u001b[1;32m    705\u001b[0m \u001b[43m    \u001b[49m\u001b[43mmethod\u001b[49m\u001b[43m,\u001b[49m\n\u001b[1;32m    706\u001b[0m \u001b[43m    \u001b[49m\u001b[43murl\u001b[49m\u001b[43m,\u001b[49m\n\u001b[1;32m    707\u001b[0m \u001b[43m    \u001b[49m\u001b[43mtimeout\u001b[49m\u001b[38;5;241;43m=\u001b[39;49m\u001b[43mtimeout_obj\u001b[49m\u001b[43m,\u001b[49m\n\u001b[1;32m    708\u001b[0m \u001b[43m    \u001b[49m\u001b[43mbody\u001b[49m\u001b[38;5;241;43m=\u001b[39;49m\u001b[43mbody\u001b[49m\u001b[43m,\u001b[49m\n\u001b[1;32m    709\u001b[0m \u001b[43m    \u001b[49m\u001b[43mheaders\u001b[49m\u001b[38;5;241;43m=\u001b[39;49m\u001b[43mheaders\u001b[49m\u001b[43m,\u001b[49m\n\u001b[1;32m    710\u001b[0m \u001b[43m    \u001b[49m\u001b[43mchunked\u001b[49m\u001b[38;5;241;43m=\u001b[39;49m\u001b[43mchunked\u001b[49m\u001b[43m,\u001b[49m\n\u001b[1;32m    711\u001b[0m \u001b[43m\u001b[49m\u001b[43m)\u001b[49m\n\u001b[1;32m    713\u001b[0m \u001b[38;5;66;03m# If we're going to release the connection in ``finally:``, then\u001b[39;00m\n\u001b[1;32m    714\u001b[0m \u001b[38;5;66;03m# the response doesn't need to know about the connection. Otherwise\u001b[39;00m\n\u001b[1;32m    715\u001b[0m \u001b[38;5;66;03m# it will also try to release it and we'll have a double-release\u001b[39;00m\n\u001b[1;32m    716\u001b[0m \u001b[38;5;66;03m# mess.\u001b[39;00m\n\u001b[1;32m    717\u001b[0m response_conn \u001b[38;5;241m=\u001b[39m conn \u001b[38;5;28;01mif\u001b[39;00m \u001b[38;5;129;01mnot\u001b[39;00m release_conn \u001b[38;5;28;01melse\u001b[39;00m \u001b[38;5;28;01mNone\u001b[39;00m\n",
      "File \u001b[0;32m/usr/local/lib/python3.10/dist-packages/urllib3/connectionpool.py:449\u001b[0m, in \u001b[0;36mHTTPConnectionPool._make_request\u001b[0;34m(self, conn, method, url, timeout, chunked, **httplib_request_kw)\u001b[0m\n\u001b[1;32m    444\u001b[0m             httplib_response \u001b[38;5;241m=\u001b[39m conn\u001b[38;5;241m.\u001b[39mgetresponse()\n\u001b[1;32m    445\u001b[0m         \u001b[38;5;28;01mexcept\u001b[39;00m \u001b[38;5;167;01mBaseException\u001b[39;00m \u001b[38;5;28;01mas\u001b[39;00m e:\n\u001b[1;32m    446\u001b[0m             \u001b[38;5;66;03m# Remove the TypeError from the exception chain in\u001b[39;00m\n\u001b[1;32m    447\u001b[0m             \u001b[38;5;66;03m# Python 3 (including for exceptions like SystemExit).\u001b[39;00m\n\u001b[1;32m    448\u001b[0m             \u001b[38;5;66;03m# Otherwise it looks like a bug in the code.\u001b[39;00m\n\u001b[0;32m--> 449\u001b[0m             \u001b[43msix\u001b[49m\u001b[38;5;241;43m.\u001b[39;49m\u001b[43mraise_from\u001b[49m\u001b[43m(\u001b[49m\u001b[43me\u001b[49m\u001b[43m,\u001b[49m\u001b[43m \u001b[49m\u001b[38;5;28;43;01mNone\u001b[39;49;00m\u001b[43m)\u001b[49m\n\u001b[1;32m    450\u001b[0m \u001b[38;5;28;01mexcept\u001b[39;00m (SocketTimeout, BaseSSLError, SocketError) \u001b[38;5;28;01mas\u001b[39;00m e:\n\u001b[1;32m    451\u001b[0m     \u001b[38;5;28mself\u001b[39m\u001b[38;5;241m.\u001b[39m_raise_timeout(err\u001b[38;5;241m=\u001b[39me, url\u001b[38;5;241m=\u001b[39murl, timeout_value\u001b[38;5;241m=\u001b[39mread_timeout)\n",
      "File \u001b[0;32m<string>:3\u001b[0m, in \u001b[0;36mraise_from\u001b[0;34m(value, from_value)\u001b[0m\n",
      "File \u001b[0;32m/usr/local/lib/python3.10/dist-packages/urllib3/connectionpool.py:444\u001b[0m, in \u001b[0;36mHTTPConnectionPool._make_request\u001b[0;34m(self, conn, method, url, timeout, chunked, **httplib_request_kw)\u001b[0m\n\u001b[1;32m    441\u001b[0m \u001b[38;5;28;01mexcept\u001b[39;00m \u001b[38;5;167;01mTypeError\u001b[39;00m:\n\u001b[1;32m    442\u001b[0m     \u001b[38;5;66;03m# Python 3\u001b[39;00m\n\u001b[1;32m    443\u001b[0m     \u001b[38;5;28;01mtry\u001b[39;00m:\n\u001b[0;32m--> 444\u001b[0m         httplib_response \u001b[38;5;241m=\u001b[39m \u001b[43mconn\u001b[49m\u001b[38;5;241;43m.\u001b[39;49m\u001b[43mgetresponse\u001b[49m\u001b[43m(\u001b[49m\u001b[43m)\u001b[49m\n\u001b[1;32m    445\u001b[0m     \u001b[38;5;28;01mexcept\u001b[39;00m \u001b[38;5;167;01mBaseException\u001b[39;00m \u001b[38;5;28;01mas\u001b[39;00m e:\n\u001b[1;32m    446\u001b[0m         \u001b[38;5;66;03m# Remove the TypeError from the exception chain in\u001b[39;00m\n\u001b[1;32m    447\u001b[0m         \u001b[38;5;66;03m# Python 3 (including for exceptions like SystemExit).\u001b[39;00m\n\u001b[1;32m    448\u001b[0m         \u001b[38;5;66;03m# Otherwise it looks like a bug in the code.\u001b[39;00m\n\u001b[1;32m    449\u001b[0m         six\u001b[38;5;241m.\u001b[39mraise_from(e, \u001b[38;5;28;01mNone\u001b[39;00m)\n",
      "File \u001b[0;32m/usr/lib/python3.10/http/client.py:1375\u001b[0m, in \u001b[0;36mHTTPConnection.getresponse\u001b[0;34m(self)\u001b[0m\n\u001b[1;32m   1373\u001b[0m \u001b[38;5;28;01mtry\u001b[39;00m:\n\u001b[1;32m   1374\u001b[0m     \u001b[38;5;28;01mtry\u001b[39;00m:\n\u001b[0;32m-> 1375\u001b[0m         \u001b[43mresponse\u001b[49m\u001b[38;5;241;43m.\u001b[39;49m\u001b[43mbegin\u001b[49m\u001b[43m(\u001b[49m\u001b[43m)\u001b[49m\n\u001b[1;32m   1376\u001b[0m     \u001b[38;5;28;01mexcept\u001b[39;00m \u001b[38;5;167;01mConnectionError\u001b[39;00m:\n\u001b[1;32m   1377\u001b[0m         \u001b[38;5;28mself\u001b[39m\u001b[38;5;241m.\u001b[39mclose()\n",
      "File \u001b[0;32m/usr/lib/python3.10/http/client.py:318\u001b[0m, in \u001b[0;36mHTTPResponse.begin\u001b[0;34m(self)\u001b[0m\n\u001b[1;32m    316\u001b[0m \u001b[38;5;66;03m# read until we get a non-100 response\u001b[39;00m\n\u001b[1;32m    317\u001b[0m \u001b[38;5;28;01mwhile\u001b[39;00m \u001b[38;5;28;01mTrue\u001b[39;00m:\n\u001b[0;32m--> 318\u001b[0m     version, status, reason \u001b[38;5;241m=\u001b[39m \u001b[38;5;28;43mself\u001b[39;49m\u001b[38;5;241;43m.\u001b[39;49m\u001b[43m_read_status\u001b[49m\u001b[43m(\u001b[49m\u001b[43m)\u001b[49m\n\u001b[1;32m    319\u001b[0m     \u001b[38;5;28;01mif\u001b[39;00m status \u001b[38;5;241m!=\u001b[39m CONTINUE:\n\u001b[1;32m    320\u001b[0m         \u001b[38;5;28;01mbreak\u001b[39;00m\n",
      "File \u001b[0;32m/usr/lib/python3.10/http/client.py:279\u001b[0m, in \u001b[0;36mHTTPResponse._read_status\u001b[0;34m(self)\u001b[0m\n\u001b[1;32m    278\u001b[0m \u001b[38;5;28;01mdef\u001b[39;00m \u001b[38;5;21m_read_status\u001b[39m(\u001b[38;5;28mself\u001b[39m):\n\u001b[0;32m--> 279\u001b[0m     line \u001b[38;5;241m=\u001b[39m \u001b[38;5;28mstr\u001b[39m(\u001b[38;5;28;43mself\u001b[39;49m\u001b[38;5;241;43m.\u001b[39;49m\u001b[43mfp\u001b[49m\u001b[38;5;241;43m.\u001b[39;49m\u001b[43mreadline\u001b[49m\u001b[43m(\u001b[49m\u001b[43m_MAXLINE\u001b[49m\u001b[43m \u001b[49m\u001b[38;5;241;43m+\u001b[39;49m\u001b[43m \u001b[49m\u001b[38;5;241;43m1\u001b[39;49m\u001b[43m)\u001b[49m, \u001b[38;5;124m\"\u001b[39m\u001b[38;5;124miso-8859-1\u001b[39m\u001b[38;5;124m\"\u001b[39m)\n\u001b[1;32m    280\u001b[0m     \u001b[38;5;28;01mif\u001b[39;00m \u001b[38;5;28mlen\u001b[39m(line) \u001b[38;5;241m>\u001b[39m _MAXLINE:\n\u001b[1;32m    281\u001b[0m         \u001b[38;5;28;01mraise\u001b[39;00m LineTooLong(\u001b[38;5;124m\"\u001b[39m\u001b[38;5;124mstatus line\u001b[39m\u001b[38;5;124m\"\u001b[39m)\n",
      "File \u001b[0;32m/usr/lib/python3.10/socket.py:705\u001b[0m, in \u001b[0;36mSocketIO.readinto\u001b[0;34m(self, b)\u001b[0m\n\u001b[1;32m    703\u001b[0m \u001b[38;5;28;01mwhile\u001b[39;00m \u001b[38;5;28;01mTrue\u001b[39;00m:\n\u001b[1;32m    704\u001b[0m     \u001b[38;5;28;01mtry\u001b[39;00m:\n\u001b[0;32m--> 705\u001b[0m         \u001b[38;5;28;01mreturn\u001b[39;00m \u001b[38;5;28;43mself\u001b[39;49m\u001b[38;5;241;43m.\u001b[39;49m\u001b[43m_sock\u001b[49m\u001b[38;5;241;43m.\u001b[39;49m\u001b[43mrecv_into\u001b[49m\u001b[43m(\u001b[49m\u001b[43mb\u001b[49m\u001b[43m)\u001b[49m\n\u001b[1;32m    706\u001b[0m     \u001b[38;5;28;01mexcept\u001b[39;00m timeout:\n\u001b[1;32m    707\u001b[0m         \u001b[38;5;28mself\u001b[39m\u001b[38;5;241m.\u001b[39m_timeout_occurred \u001b[38;5;241m=\u001b[39m \u001b[38;5;28;01mTrue\u001b[39;00m\n",
      "File \u001b[0;32m/usr/lib/python3.10/ssl.py:1303\u001b[0m, in \u001b[0;36mSSLSocket.recv_into\u001b[0;34m(self, buffer, nbytes, flags)\u001b[0m\n\u001b[1;32m   1299\u001b[0m     \u001b[38;5;28;01mif\u001b[39;00m flags \u001b[38;5;241m!=\u001b[39m \u001b[38;5;241m0\u001b[39m:\n\u001b[1;32m   1300\u001b[0m         \u001b[38;5;28;01mraise\u001b[39;00m \u001b[38;5;167;01mValueError\u001b[39;00m(\n\u001b[1;32m   1301\u001b[0m           \u001b[38;5;124m\"\u001b[39m\u001b[38;5;124mnon-zero flags not allowed in calls to recv_into() on \u001b[39m\u001b[38;5;132;01m%s\u001b[39;00m\u001b[38;5;124m\"\u001b[39m \u001b[38;5;241m%\u001b[39m\n\u001b[1;32m   1302\u001b[0m           \u001b[38;5;28mself\u001b[39m\u001b[38;5;241m.\u001b[39m\u001b[38;5;18m__class__\u001b[39m)\n\u001b[0;32m-> 1303\u001b[0m     \u001b[38;5;28;01mreturn\u001b[39;00m \u001b[38;5;28;43mself\u001b[39;49m\u001b[38;5;241;43m.\u001b[39;49m\u001b[43mread\u001b[49m\u001b[43m(\u001b[49m\u001b[43mnbytes\u001b[49m\u001b[43m,\u001b[49m\u001b[43m \u001b[49m\u001b[43mbuffer\u001b[49m\u001b[43m)\u001b[49m\n\u001b[1;32m   1304\u001b[0m \u001b[38;5;28;01melse\u001b[39;00m:\n\u001b[1;32m   1305\u001b[0m     \u001b[38;5;28;01mreturn\u001b[39;00m \u001b[38;5;28msuper\u001b[39m()\u001b[38;5;241m.\u001b[39mrecv_into(buffer, nbytes, flags)\n",
      "File \u001b[0;32m/usr/lib/python3.10/ssl.py:1159\u001b[0m, in \u001b[0;36mSSLSocket.read\u001b[0;34m(self, len, buffer)\u001b[0m\n\u001b[1;32m   1157\u001b[0m \u001b[38;5;28;01mtry\u001b[39;00m:\n\u001b[1;32m   1158\u001b[0m     \u001b[38;5;28;01mif\u001b[39;00m buffer \u001b[38;5;129;01mis\u001b[39;00m \u001b[38;5;129;01mnot\u001b[39;00m \u001b[38;5;28;01mNone\u001b[39;00m:\n\u001b[0;32m-> 1159\u001b[0m         \u001b[38;5;28;01mreturn\u001b[39;00m \u001b[38;5;28;43mself\u001b[39;49m\u001b[38;5;241;43m.\u001b[39;49m\u001b[43m_sslobj\u001b[49m\u001b[38;5;241;43m.\u001b[39;49m\u001b[43mread\u001b[49m\u001b[43m(\u001b[49m\u001b[38;5;28;43mlen\u001b[39;49m\u001b[43m,\u001b[49m\u001b[43m \u001b[49m\u001b[43mbuffer\u001b[49m\u001b[43m)\u001b[49m\n\u001b[1;32m   1160\u001b[0m     \u001b[38;5;28;01melse\u001b[39;00m:\n\u001b[1;32m   1161\u001b[0m         \u001b[38;5;28;01mreturn\u001b[39;00m \u001b[38;5;28mself\u001b[39m\u001b[38;5;241m.\u001b[39m_sslobj\u001b[38;5;241m.\u001b[39mread(\u001b[38;5;28mlen\u001b[39m)\n",
      "\u001b[0;31mKeyboardInterrupt\u001b[0m: "
     ]
    }
   ],
   "source": [
    "# open directory from json_path\n",
    "json_files = os.listdir(stable_training_json_path)\n",
    "\n",
    "# loop through all json file and train stablebaseline agent with full_run\n",
    "for file in json_files:\n",
    "    # check if file ends with json\n",
    "    if file.endswith(\".json\"):\n",
    "        runfile = os.path.join(stable_training_json_path, file)\n",
    "        print(f\"Training agent with {runfile}\")\n",
    "        with open(runfile, \"r\") as f:\n",
    "            runconfig = json.load(f)\n",
    "        output_path = runconfig[\"output_path\"]\n",
    "        if os.path.exists(output_path) and len(os.listdir(output_path)) == 3:\n",
    "            print(f\"Agent with {runfile} already trained\")\n",
    "            continue\n",
    "        else:\n",
    "            try:\n",
    "                full_run(runfile)\n",
    "            except Exception as e:\n",
    "                print(f\"Error training agent with {runfile}\")\n",
    "                print(e)\n",
    "                continue\n"
   ]
  },
  {
   "cell_type": "code",
   "execution_count": 12,
   "metadata": {},
   "outputs": [
    {
     "name": "stderr",
     "output_type": "stream",
     "text": [
      "/usr/local/lib/python3.10/dist-packages/yfinance/utils.py:775: FutureWarning: The 'unit' keyword in TimedeltaIndex construction is deprecated and will be removed in a future version. Use pd.to_timedelta instead.\n",
      "  df.index += _pd.TimedeltaIndex(dst_error_hours, 'h')\n",
      "[*********************100%%**********************]  1 of 1 completed"
     ]
    },
    {
     "name": "stdout",
     "output_type": "stream",
     "text": [
      "Curating data with offline_stock_trade_data_config/training_config_MDB.json\n",
      "Data already curated for MDB\n",
      "Curating data with offline_stock_trade_data_config/training_config_COST.json\n",
      "Data already curated for COST\n",
      "Curating data with offline_stock_trade_data_config/training_config_GOOG.json\n",
      "Data already curated for GOOG\n",
      "Curating data with offline_stock_trade_data_config/training_config_LULU.json\n",
      "Data already curated for LULU\n",
      "Curating data with offline_stock_trade_data_config/training_config_NXPI.json\n",
      "Data already curated for NXPI\n",
      "Curating data with offline_stock_trade_data_config/training_config_ADBE.json\n",
      "Data already curated for ADBE\n",
      "Curating data with offline_stock_trade_data_config/training_config_PCAR.json\n",
      "Data already curated for PCAR\n",
      "Curating data with offline_stock_trade_data_config/training_config_AMAT.json\n",
      "Data already curated for AMAT\n",
      "Curating data with offline_stock_trade_data_config/training_config_PYPL.json\n",
      "Data already curated for PYPL\n",
      "Curating data with offline_stock_trade_data_config/training_config_KLAC.json\n",
      "Data already curated for KLAC\n",
      "Curating data with offline_stock_trade_data_config/training_config_BKR.json\n",
      "Data already curated for BKR\n",
      "Curating data with offline_stock_trade_data_config/training_config_REGN.json\n",
      "Data already curated for REGN\n",
      "Curating data with offline_stock_trade_data_config/training_config_MDLZ.json\n",
      "Data already curated for MDLZ\n",
      "Curating data with offline_stock_trade_data_config/training_config_SIRI.json\n",
      "Data already curated for SIRI\n",
      "Curating data with offline_stock_trade_data_config/training_config_MMM.json\n",
      "Data already curated for MMM\n",
      "Curating data with offline_stock_trade_data_config/training_config_AEP.json\n",
      "Data already curated for AEP\n",
      "Curating data with offline_stock_trade_data_config/training_config_CSCO.json\n",
      "Data already curated for CSCO\n",
      "Curating data with offline_stock_trade_data_config/training_config_CAT.json\n",
      "Data already curated for CAT\n",
      "Curating data with offline_stock_trade_data_config/training_config_MU.json\n",
      "Data already curated for MU\n",
      "Curating data with offline_stock_trade_data_config/training_config_DXCM.json\n",
      "Data already curated for DXCM\n",
      "Curating data with offline_stock_trade_data_config/training_config_DOW.json\n",
      "Data already curated for DOW\n",
      "Curating data with offline_stock_trade_data_config/training_config_TMUS.json\n",
      "Data already curated for TMUS\n",
      "Curating data with offline_stock_trade_data_config/training_config_MSFT.json\n",
      "Data already curated for MSFT\n",
      "Curating data with offline_stock_trade_data_config/training_config_WBD.json\n",
      "Data already curated for WBD\n",
      "Curating data with offline_stock_trade_data_config/training_config_MCHP.json\n",
      "Data already curated for MCHP\n",
      "Curating data with offline_stock_trade_data_config/training_config_JPM.json\n",
      "Data already curated for JPM\n",
      "Curating data with offline_stock_trade_data_config/training_config_ODFL.json\n",
      "Data already curated for ODFL\n",
      "Curating data with offline_stock_trade_data_config/training_config_ADP.json\n",
      "Data already curated for ADP\n",
      "Curating data with offline_stock_trade_data_config/training_config_INTU.json\n",
      "Data already curated for INTU\n",
      "Curating data with offline_stock_trade_data_config/training_config_LRCX.json\n",
      "Data already curated for LRCX\n",
      "Curating data with offline_stock_trade_data_config/training_config_ISRG.json\n",
      "Data already curated for ISRG\n",
      "Curating data with offline_stock_trade_data_config/training_config_EXC.json\n",
      "Data already curated for EXC\n",
      "Curating data with offline_stock_trade_data_config/training_config_KHC.json\n",
      "Data already curated for KHC\n",
      "Curating data with offline_stock_trade_data_config/training_config_CCEP.json\n",
      "Data already curated for CCEP\n",
      "Curating data with offline_stock_trade_data_config/training_config_FANG.json\n",
      "Data already curated for FANG\n",
      "Curating data with offline_stock_trade_data_config/training_config_FAST.json\n",
      "Data already curated for FAST\n",
      "Curating data with offline_stock_trade_data_config/training_config_KO.json\n",
      "Data already curated for KO\n",
      "Curating data with offline_stock_trade_data_config/training_config_WBA.json\n",
      "Data already curated for WBA\n",
      "Curating data with offline_stock_trade_data_config/training_config_GILD.json\n",
      "Data already curated for GILD\n",
      "Curating data with offline_stock_trade_data_config/training_config_ROST.json\n",
      "Data already curated for ROST\n",
      "Curating data with offline_stock_trade_data_config/training_config_CSGP.json\n",
      "Data already curated for CSGP\n",
      "Curating data with offline_stock_trade_data_config/training_config_CRWD.json\n",
      "Data already curated for CRWD\n",
      "Curating data with offline_stock_trade_data_config/training_config_ON.json\n",
      "Data already curated for ON\n",
      "Curating data with offline_stock_trade_data_config/training_config_PANW.json\n",
      "Data already curated for PANW\n",
      "Curating data with offline_stock_trade_data_config/training_config_CHTR.json\n",
      "Data already curated for CHTR\n",
      "Curating data with offline_stock_trade_data_config/training_config_VRTX.json\n",
      "Data already curated for VRTX\n",
      "Curating data with offline_stock_trade_data_config/training_config_MRVL.json\n",
      "Data already curated for MRVL\n",
      "Curating data with offline_stock_trade_data_config/training_config_CPRT.json\n",
      "Data already curated for CPRT\n",
      "Curating data with offline_stock_trade_data_config/training_config_AZN.json\n",
      "Data already curated for AZN\n",
      "Curating data with offline_stock_trade_data_config/training_config_IBM.json\n",
      "Data already curated for IBM\n",
      "Curating data with offline_stock_trade_data_config/training_config_MELI.json\n",
      "Data already curated for MELI\n",
      "Curating data with offline_stock_trade_data_config/training_config_CMCSA.json\n",
      "Data already curated for CMCSA\n",
      "Curating data with offline_stock_trade_data_config/training_config_WMT.json\n",
      "Data already curated for WMT\n",
      "Curating data with offline_stock_trade_data_config/training_config_ZS.json\n",
      "Data already curated for ZS\n",
      "Curating data with offline_stock_trade_data_config/training_config_PAYX.json\n",
      "Data already curated for PAYX\n",
      "Curating data with offline_stock_trade_data_config/training_config_SNPS.json\n",
      "Data already curated for SNPS\n",
      "Curating data with offline_stock_trade_data_config/training_config_BA.json\n",
      "Data already curated for BA\n",
      "Curating data with offline_stock_trade_data_config/training_config_XEL.json\n",
      "Data already curated for XEL\n",
      "Curating data with offline_stock_trade_data_config/training_config_ADI.json\n",
      "Data already curated for ADI\n",
      "Curating data with offline_stock_trade_data_config/training_config_KDP.json\n",
      "Data already curated for KDP\n",
      "Curating data with offline_stock_trade_data_config/training_config_CEG.json\n",
      "Data already curated for CEG\n",
      "Curating data with offline_stock_trade_data_config/training_config_WDAY.json\n",
      "Data already curated for WDAY\n",
      "Curating data with offline_stock_trade_data_config/training_config_PDD.json\n",
      "Data already curated for PDD\n",
      "Curating data with offline_stock_trade_data_config/training_config_AVGO.json\n",
      "Data already curated for AVGO\n",
      "Curating data with offline_stock_trade_data_config/training_config_SBUX.json\n",
      "Data already curated for SBUX\n",
      "Curating data with offline_stock_trade_data_config/training_config_ILMN.json\n",
      "Data already curated for ILMN\n",
      "Curating data with offline_stock_trade_data_config/training_config_GEHC.json\n",
      "Data already curated for GEHC\n",
      "Curating data with offline_stock_trade_data_config/training_config_PG.json\n",
      "Data already curated for PG\n",
      "Curating data with offline_stock_trade_data_config/training_config_TSLA.json\n",
      "Data already curated for TSLA\n",
      "Curating data with offline_stock_trade_data_config/training_config_V.json\n",
      "Data already curated for V\n",
      "Curating data with offline_stock_trade_data_config/training_config_PEP.json\n",
      "Data already curated for PEP\n",
      "Curating data with offline_stock_trade_data_config/training_config_GFS.json\n",
      "Data already curated for GFS\n",
      "Curating data with offline_stock_trade_data_config/training_config_VZ.json\n",
      "Data already curated for VZ\n",
      "Curating data with offline_stock_trade_data_config/training_config_CDNS.json\n",
      "Data already curated for CDNS\n",
      "Curating data with offline_stock_trade_data_config/training_config_DASH.json\n",
      "Data already curated for DASH\n",
      "Curating data with offline_stock_trade_data_config/training_config_CTAS.json\n",
      "Data already curated for CTAS\n",
      "Curating data with offline_stock_trade_data_config/training_config_AMGN.json\n",
      "Data already curated for AMGN\n",
      "Curating data with offline_stock_trade_data_config/training_config_DDOG.json\n",
      "Data already curated for DDOG\n",
      "Curating data with offline_stock_trade_data_config/training_config_HD.json\n",
      "Data already curated for HD\n",
      "Curating data with offline_stock_trade_data_config/training_config_DLTR.json\n",
      "Data already curated for DLTR\n",
      "Curating data with offline_stock_trade_data_config/training_config_NKE.json\n",
      "Data already curated for NKE\n",
      "Curating data with offline_stock_trade_data_config/training_config_QCOM.json\n",
      "Data already curated for QCOM\n",
      "Curating data with offline_stock_trade_data_config/training_config_ADSK.json\n",
      "Data already curated for ADSK\n",
      "Curating data with offline_stock_trade_data_config/training_config_AMD.json\n",
      "Data already curated for AMD\n",
      "Curating data with offline_stock_trade_data_config/training_config_MAR.json\n",
      "Data already curated for MAR\n",
      "Curating data with offline_stock_trade_data_config/training_config_MNST.json\n",
      "Data already curated for MNST\n",
      "Curating data with offline_stock_trade_data_config/training_config_ASML.json\n",
      "Data already curated for ASML\n",
      "Curating data with offline_stock_trade_data_config/training_config_DIS.json\n",
      "Data already curated for DIS\n",
      "Curating data with offline_stock_trade_data_config/training_config_INTC.json\n",
      "Data already curated for INTC\n",
      "Curating data with offline_stock_trade_data_config/training_config_CTSH.json\n",
      "Data already curated for CTSH\n",
      "Curating data with offline_stock_trade_data_config/training_config_SPLK.json\n",
      "Data already curated for SPLK\n",
      "Curating data with offline_stock_trade_data_config/training_config_ROP.json\n",
      "Data already curated for ROP\n",
      "Curating data with offline_stock_trade_data_config/training_config_BIIB.json\n",
      "Data already curated for BIIB\n",
      "Curating data with offline_stock_trade_data_config/training_config_AMZN.json\n",
      "Data already curated for AMZN\n",
      "Curating data with offline_stock_trade_data_config/training_config_ORLY.json\n",
      "Data already curated for ORLY\n",
      "Curating data with offline_stock_trade_data_config/training_config_TXN.json\n",
      "Data already curated for TXN\n",
      "Curating data with offline_stock_trade_data_config/training_config_NFLX.json\n",
      "Data already curated for NFLX\n",
      "Curating data with offline_stock_trade_data_config/training_config_EA.json\n",
      "Data already curated for EA\n",
      "Curating data with offline_stock_trade_data_config/training_config_TEAM.json\n",
      "Data already curated for TEAM\n",
      "Curating data with offline_stock_trade_data_config/training_config_TTWO.json\n",
      "Data already curated for TTWO\n",
      "Curating data with offline_stock_trade_data_config/training_config_TRV.json\n",
      "Data already curated for TRV\n",
      "Curating data with offline_stock_trade_data_config/training_config_ABNB.json\n",
      "Data already curated for ABNB\n",
      "Curating data with offline_stock_trade_data_config/training_config_IDXX.json\n",
      "Data already curated for IDXX\n",
      "Curating data with offline_stock_trade_data_config/training_config_AXP.json\n",
      "num_episodes:  80\n",
      "Creating environment\n",
      "Getting stock data of AXP...\n"
     ]
    },
    {
     "name": "stderr",
     "output_type": "stream",
     "text": [
      "\n",
      "/usr/local/lib/python3.10/dist-packages/ta/trend.py:988: FutureWarning: Setting an item of incompatible dtype is deprecated and will raise an error in a future version of pandas. Value '94.23080032348633' has dtype incompatible with float32, please explicitly cast to a compatible dtype first.\n",
      "  self._psar.iloc[i] = self._psar.iloc[i - 1] + (\n",
      "/usr/local/lib/python3.10/dist-packages/ta/trend.py:1030: FutureWarning: Series.__setitem__ treating keys as positions is deprecated. In a future version, integer keys will always be treated as labels (consistent with DataFrame behavior). To set a value by position, use `ser.iloc[pos] = value`\n",
      "  self._psar[i] = high2\n"
     ]
    },
    {
     "name": "stdout",
     "output_type": "stream",
     "text": [
      "sorting indicators...\n",
      "setting up sentiment analysis model...\n",
      "Getting news sentiment of AXP...\n",
      "Error:  400\n",
      "Error:  400\n",
      "Error:  400\n",
      "Error:  400\n",
      "Error:  list index out of range\n",
      "Error:  list index out of range\n",
      "Error:  list index out of range\n",
      "Error:  list index out of range\n",
      "Error:  list index out of range\n",
      "Error:  list index out of range\n",
      "Error:  list index out of range\n",
      "Error:  list index out of range\n",
      "Error:  list index out of range\n",
      "Error:  list index out of range\n",
      "Error:  list index out of range\n",
      "Error:  list index out of range\n",
      "Error:  list index out of range\n",
      "Error:  list index out of range\n",
      "Error:  list index out of range\n",
      "Error:  list index out of range\n",
      "Error:  list index out of range\n",
      "Error:  list index out of range\n",
      "Error:  list index out of range\n",
      "Error:  list index out of range\n",
      "Error:  list index out of range\n",
      "Error:  list index out of range\n",
      "Error:  list index out of range\n",
      "Error:  list index out of range\n",
      "Error:  list index out of range\n",
      "Error:  list index out of range\n",
      "Error:  list index out of range\n",
      "Error:  list index out of range\n",
      "Error:  list index out of range\n",
      "Error:  list index out of range\n",
      "Error:  list index out of range\n",
      "Error:  list index out of range\n",
      "Error:  list index out of range\n",
      "Error:  list index out of range\n",
      "Error:  list index out of range\n",
      "Error:  list index out of range\n",
      "Error:  list index out of range\n",
      "Error:  list index out of range\n",
      "Error:  list index out of range\n",
      "Error:  list index out of range\n",
      "Error:  list index out of range\n",
      "Error:  list index out of range\n",
      "Error:  list index out of range\n",
      "Error:  list index out of range\n"
     ]
    }
   ],
   "source": [
    "import json\n",
    "data_json_files = os.listdir(data_json_path)\n",
    "\n",
    "# loop through all json file and run environment with trained stable agent and other algorithms\n",
    "for file in data_json_files:\n",
    "    # check if file ends with json\n",
    "    if file.endswith(\".json\"):\n",
    "        runfile = os.path.join(data_json_path, file)\n",
    "        print(f\"Curating data with {runfile}\")\n",
    "        # open the json file and read the content\n",
    "        with open(runfile, 'r') as f:\n",
    "            data = json.load(f)\n",
    "        # get the ticker\n",
    "        ticker = data['stock_name']\n",
    "        output = data[\"output_path\"]\n",
    "        # check if the output path exists and if it contain data, if so skip\n",
    "        if os.path.exists(output) and len(os.listdir(output)) > 0:\n",
    "            print(f\"Data already curated for {ticker}\")\n",
    "            continue\n",
    "        else:\n",
    "            try:\n",
    "                # joining the output path with ticker\n",
    "                trained_stable_agent_path = os.path.join(agent_output_path, ticker)\n",
    "                full_curate_run(runfile, trained_stable_agent_path, num_episodes=80)\n",
    "            except Exception as e:\n",
    "                print(f\"Error curating data with {runfile}\")\n",
    "                print(e)\n",
    "                continue"
   ]
  },
  {
   "cell_type": "code",
   "execution_count": null,
   "metadata": {},
   "outputs": [
    {
     "name": "stdout",
     "output_type": "stream",
     "text": [
      "opening files and creating datasets\n",
      "Processing data as polars dataframe.\n",
      "Dataset length:  60\n",
      "offline_stock_trade_data/AMAT/ppo_trained_AMAT_bad_AMAT_2018-05-16.json has 60 trajectories\n",
      "Processing data as polars dataframe.\n",
      "Dataset length:  60\n",
      "offline_stock_trade_data/AMAT/momentum_stoch_rsi_AMAT_2018-05-16.json has 60 trajectories\n",
      "Processing data as polars dataframe.\n",
      "Dataset length:  60\n",
      "offline_stock_trade_data/AMAT/trend_sma_fast_AMAT_2018-05-16.json has 60 trajectories\n",
      "Processing data as polars dataframe.\n",
      "Dataset length:  60\n",
      "offline_stock_trade_data/AMAT/ddpg_trained_AMAT_bad_AMAT_2018-05-16.json has 60 trajectories\n",
      "Processing data as polars dataframe.\n",
      "Dataset length:  60\n",
      "offline_stock_trade_data/AMAT/a2c_trained_AMAT_bad_AMAT_2018-05-16.json has 60 trajectories\n",
      "Processing data as polars dataframe.\n",
      "Dataset length:  60\n",
      "offline_stock_trade_data/AMAT/random_AMAT_2018-05-16.json has 60 trajectories\n",
      "Processing data as polars dataframe.\n",
      "Dataset length:  60\n",
      "offline_stock_trade_data/AMAT/sentiment_react_AMAT_2018-05-16.json has 60 trajectories\n",
      "Processing data as polars dataframe.\n",
      "Dataset length:  60\n",
      "offline_stock_trade_data/DASH/momentum_stoch_rsi_DASH_2018-05-16.json has 60 trajectories\n",
      "Processing data as polars dataframe.\n",
      "Dataset length:  60\n",
      "offline_stock_trade_data/DASH/sentiment_react_DASH_2018-05-16.json has 60 trajectories\n",
      "Processing data as polars dataframe.\n",
      "Dataset length:  60\n",
      "offline_stock_trade_data/DASH/trend_sma_fast_DASH_2018-05-16.json has 60 trajectories\n",
      "Processing data as polars dataframe.\n",
      "Dataset length:  60\n",
      "offline_stock_trade_data/DASH/random_DASH_2018-05-16.json has 60 trajectories\n",
      "Processing data as polars dataframe.\n",
      "Dataset length:  60\n",
      "offline_stock_trade_data/MSFT/sentiment_react_MSFT_2018-05-16.json has 60 trajectories\n",
      "Processing data as polars dataframe.\n",
      "Dataset length:  60\n",
      "offline_stock_trade_data/MSFT/a2c_trained_MSFT_bad_MSFT_2018-05-16.json has 60 trajectories\n",
      "Processing data as polars dataframe.\n",
      "Dataset length:  60\n",
      "offline_stock_trade_data/MSFT/ddpg_trained_MSFT_good_MSFT_2018-05-16.json has 60 trajectories\n",
      "Processing data as polars dataframe.\n",
      "Dataset length:  60\n",
      "offline_stock_trade_data/MSFT/trend_sma_fast_MSFT_2018-05-16.json has 60 trajectories\n",
      "Processing data as polars dataframe.\n",
      "Dataset length:  60\n",
      "offline_stock_trade_data/MSFT/random_MSFT_2018-05-16.json has 60 trajectories\n",
      "Processing data as polars dataframe.\n",
      "Dataset length:  60\n",
      "offline_stock_trade_data/MSFT/momentum_stoch_rsi_MSFT_2018-05-16.json has 60 trajectories\n",
      "Processing data as polars dataframe.\n",
      "Dataset length:  60\n",
      "offline_stock_trade_data/MSFT/ppo_trained_MSFT_good_MSFT_2018-05-16.json has 60 trajectories\n",
      "Processing data as polars dataframe.\n",
      "Dataset length:  60\n",
      "offline_stock_trade_data/LRCX/random_LRCX_2018-05-16.json has 60 trajectories\n",
      "Processing data as polars dataframe.\n",
      "Dataset length:  60\n",
      "offline_stock_trade_data/LRCX/a2c_trained_LRCX_bad_LRCX_2018-05-16.json has 60 trajectories\n",
      "Processing data as polars dataframe.\n",
      "Dataset length:  60\n",
      "offline_stock_trade_data/LRCX/sentiment_react_LRCX_2018-05-16.json has 60 trajectories\n",
      "Processing data as polars dataframe.\n",
      "Dataset length:  60\n",
      "offline_stock_trade_data/LRCX/ppo_trained_LRCX_bad_LRCX_2018-05-16.json has 60 trajectories\n",
      "Processing data as polars dataframe.\n",
      "Dataset length:  60\n",
      "offline_stock_trade_data/LRCX/trend_sma_fast_LRCX_2018-05-16.json has 60 trajectories\n",
      "Processing data as polars dataframe.\n",
      "Dataset length:  60\n",
      "offline_stock_trade_data/LRCX/momentum_stoch_rsi_LRCX_2018-05-16.json has 60 trajectories\n",
      "Processing data as polars dataframe.\n",
      "Dataset length:  60\n",
      "offline_stock_trade_data/LRCX/ddpg_trained_LRCX_bad_LRCX_2018-05-16.json has 60 trajectories\n",
      "Processing data as polars dataframe.\n",
      "Dataset length:  60\n",
      "offline_stock_trade_data/NFLX/a2c_trained_NFLX_bad_NFLX_2018-05-16.json has 60 trajectories\n",
      "Processing data as polars dataframe.\n",
      "Dataset length:  60\n",
      "offline_stock_trade_data/NFLX/sentiment_react_NFLX_2018-05-16.json has 60 trajectories\n",
      "Processing data as polars dataframe.\n",
      "Dataset length:  60\n",
      "offline_stock_trade_data/NFLX/ddpg_trained_NFLX_good_NFLX_2018-05-16.json has 60 trajectories\n",
      "Processing data as polars dataframe.\n",
      "Dataset length:  60\n",
      "offline_stock_trade_data/NFLX/ppo_trained_NFLX_bad_NFLX_2018-05-16.json has 60 trajectories\n",
      "Processing data as polars dataframe.\n",
      "Dataset length:  60\n",
      "offline_stock_trade_data/NFLX/trend_sma_fast_NFLX_2018-05-16.json has 60 trajectories\n",
      "Processing data as polars dataframe.\n",
      "Dataset length:  60\n",
      "offline_stock_trade_data/NFLX/momentum_stoch_rsi_NFLX_2018-05-16.json has 60 trajectories\n",
      "Processing data as polars dataframe.\n",
      "Dataset length:  60\n",
      "offline_stock_trade_data/NFLX/random_NFLX_2018-05-16.json has 60 trajectories\n",
      "Processing data as polars dataframe.\n",
      "Dataset length:  60\n",
      "offline_stock_trade_data/MCHP/ppo_trained_MCHP_bad_MCHP_2018-05-16.json has 60 trajectories\n",
      "Processing data as polars dataframe.\n",
      "Dataset length:  60\n",
      "offline_stock_trade_data/MCHP/trend_sma_fast_MCHP_2018-05-16.json has 60 trajectories\n",
      "Processing data as polars dataframe.\n",
      "Dataset length:  60\n",
      "offline_stock_trade_data/MCHP/momentum_stoch_rsi_MCHP_2018-05-16.json has 60 trajectories\n",
      "Processing data as polars dataframe.\n",
      "Dataset length:  60\n",
      "offline_stock_trade_data/MCHP/ddpg_trained_MCHP_good_MCHP_2018-05-16.json has 60 trajectories\n",
      "Processing data as polars dataframe.\n",
      "Dataset length:  60\n",
      "offline_stock_trade_data/MCHP/random_MCHP_2018-05-16.json has 60 trajectories\n",
      "Processing data as polars dataframe.\n",
      "Dataset length:  60\n",
      "offline_stock_trade_data/MCHP/a2c_trained_MCHP_bad_MCHP_2018-05-16.json has 60 trajectories\n",
      "Processing data as polars dataframe.\n",
      "Dataset length:  60\n",
      "offline_stock_trade_data/MCHP/sentiment_react_MCHP_2018-05-16.json has 60 trajectories\n",
      "Processing data as polars dataframe.\n",
      "Dataset length:  60\n",
      "offline_stock_trade_data/KO/momentum_stoch_rsi_KO_2018-05-16.json has 60 trajectories\n",
      "Processing data as polars dataframe.\n",
      "Dataset length:  60\n",
      "offline_stock_trade_data/KO/ppo_trained_KO_good_KO_2018-05-16.json has 60 trajectories\n",
      "Processing data as polars dataframe.\n",
      "Dataset length:  60\n",
      "offline_stock_trade_data/KO/trend_sma_fast_KO_2018-05-16.json has 60 trajectories\n",
      "Processing data as polars dataframe.\n",
      "Dataset length:  60\n",
      "offline_stock_trade_data/KO/ddpg_trained_KO_good_KO_2018-05-16.json has 60 trajectories\n",
      "Processing data as polars dataframe.\n",
      "Dataset length:  60\n",
      "offline_stock_trade_data/KO/random_KO_2018-05-16.json has 60 trajectories\n",
      "Processing data as polars dataframe.\n",
      "Dataset length:  60\n",
      "offline_stock_trade_data/KO/a2c_trained_KO_bad_KO_2018-05-16.json has 60 trajectories\n",
      "Processing data as polars dataframe.\n",
      "Dataset length:  60\n",
      "offline_stock_trade_data/KO/sentiment_react_KO_2018-05-16.json has 60 trajectories\n",
      "Processing data as polars dataframe.\n",
      "Dataset length:  60\n",
      "offline_stock_trade_data/VRSK/sentiment_react_VRSK_2018-05-16.json has 60 trajectories\n",
      "Processing data as polars dataframe.\n",
      "Dataset length:  60\n",
      "offline_stock_trade_data/VRSK/ppo_trained_VRSK_good_VRSK_2018-05-16.json has 60 trajectories\n",
      "Processing data as polars dataframe.\n",
      "Dataset length:  60\n",
      "offline_stock_trade_data/VRSK/trend_sma_fast_VRSK_2018-05-16.json has 60 trajectories\n",
      "Processing data as polars dataframe.\n",
      "Dataset length:  60\n",
      "offline_stock_trade_data/VRSK/momentum_stoch_rsi_VRSK_2018-05-16.json has 60 trajectories\n",
      "Processing data as polars dataframe.\n",
      "Dataset length:  60\n",
      "offline_stock_trade_data/VRSK/ddpg_trained_VRSK_bad_VRSK_2018-05-16.json has 60 trajectories\n",
      "Processing data as polars dataframe.\n",
      "Dataset length:  60\n",
      "offline_stock_trade_data/VRSK/a2c_trained_VRSK_bad_VRSK_2018-05-16.json has 60 trajectories\n",
      "Processing data as polars dataframe.\n",
      "Dataset length:  60\n",
      "offline_stock_trade_data/VRSK/random_VRSK_2018-05-16.json has 60 trajectories\n",
      "Processing data as polars dataframe.\n",
      "Dataset length:  60\n",
      "offline_stock_trade_data/GFS/momentum_stoch_rsi_GFS_2018-05-16.json has 60 trajectories\n",
      "Processing data as polars dataframe.\n",
      "Dataset length:  60\n",
      "offline_stock_trade_data/GFS/random_GFS_2018-05-16.json has 60 trajectories\n",
      "Processing data as polars dataframe.\n",
      "Dataset length:  60\n",
      "offline_stock_trade_data/GFS/sentiment_react_GFS_2018-05-16.json has 60 trajectories\n",
      "Processing data as polars dataframe.\n",
      "Dataset length:  60\n",
      "offline_stock_trade_data/GFS/trend_sma_fast_GFS_2018-05-16.json has 60 trajectories\n",
      "Processing data as polars dataframe.\n",
      "Dataset length:  60\n",
      "offline_stock_trade_data/WBA/sentiment_react_WBA_2018-05-16.json has 60 trajectories\n",
      "Processing data as polars dataframe.\n",
      "Dataset length:  60\n",
      "offline_stock_trade_data/WBA/trend_sma_fast_WBA_2018-05-16.json has 60 trajectories\n",
      "Processing data as polars dataframe.\n",
      "Dataset length:  60\n",
      "offline_stock_trade_data/WBA/a2c_trained_WBA_good_WBA_2018-05-16.json has 60 trajectories\n",
      "Processing data as polars dataframe.\n",
      "Dataset length:  60\n",
      "offline_stock_trade_data/WBA/momentum_stoch_rsi_WBA_2018-05-16.json has 60 trajectories\n",
      "Processing data as polars dataframe.\n",
      "Dataset length:  60\n",
      "offline_stock_trade_data/WBA/ddpg_trained_WBA_good_WBA_2018-05-16.json has 60 trajectories\n",
      "Processing data as polars dataframe.\n",
      "Dataset length:  60\n",
      "offline_stock_trade_data/WBA/ppo_trained_WBA_good_WBA_2018-05-16.json has 60 trajectories\n",
      "Processing data as polars dataframe.\n",
      "Dataset length:  60\n",
      "offline_stock_trade_data/WBA/random_WBA_2018-05-16.json has 60 trajectories\n",
      "Processing data as polars dataframe.\n",
      "Dataset length:  60\n",
      "offline_stock_trade_data/NXPI/a2c_trained_NXPI_good_NXPI_2018-05-16.json has 60 trajectories\n",
      "Processing data as polars dataframe.\n",
      "Dataset length:  60\n",
      "offline_stock_trade_data/NXPI/trend_sma_fast_NXPI_2018-05-16.json has 60 trajectories\n",
      "Processing data as polars dataframe.\n",
      "Dataset length:  60\n",
      "offline_stock_trade_data/NXPI/ddpg_trained_NXPI_good_NXPI_2018-05-16.json has 60 trajectories\n",
      "Processing data as polars dataframe.\n",
      "Dataset length:  60\n",
      "offline_stock_trade_data/NXPI/sentiment_react_NXPI_2018-05-16.json has 60 trajectories\n",
      "Processing data as polars dataframe.\n",
      "Dataset length:  60\n",
      "offline_stock_trade_data/NXPI/ppo_trained_NXPI_bad_NXPI_2018-05-16.json has 60 trajectories\n",
      "Processing data as polars dataframe.\n",
      "Dataset length:  60\n",
      "offline_stock_trade_data/NXPI/random_NXPI_2018-05-16.json has 60 trajectories\n",
      "Processing data as polars dataframe.\n",
      "Dataset length:  60\n",
      "offline_stock_trade_data/NXPI/momentum_stoch_rsi_NXPI_2018-05-16.json has 60 trajectories\n",
      "Processing data as polars dataframe.\n",
      "Dataset length:  60\n",
      "offline_stock_trade_data/BA/trend_sma_fast_BA_2018-05-16.json has 60 trajectories\n",
      "Processing data as polars dataframe.\n",
      "Dataset length:  60\n",
      "offline_stock_trade_data/BA/ddpg_trained_BA_bad_BA_2018-05-16.json has 60 trajectories\n",
      "Processing data as polars dataframe.\n",
      "Dataset length:  60\n",
      "offline_stock_trade_data/BA/ppo_trained_BA_bad_BA_2018-05-16.json has 60 trajectories\n",
      "Processing data as polars dataframe.\n",
      "Dataset length:  60\n",
      "offline_stock_trade_data/BA/random_BA_2018-05-16.json has 60 trajectories\n",
      "Processing data as polars dataframe.\n",
      "Dataset length:  60\n",
      "offline_stock_trade_data/BA/momentum_stoch_rsi_BA_2018-05-16.json has 60 trajectories\n",
      "Processing data as polars dataframe.\n",
      "Dataset length:  60\n",
      "offline_stock_trade_data/BA/sentiment_react_BA_2018-05-16.json has 60 trajectories\n",
      "Processing data as polars dataframe.\n",
      "Dataset length:  60\n",
      "offline_stock_trade_data/BA/a2c_trained_BA_good_BA_2018-05-16.json has 60 trajectories\n",
      "Processing data as polars dataframe.\n",
      "Dataset length:  60\n",
      "offline_stock_trade_data/AZN/momentum_stoch_rsi_AZN_2018-05-16.json has 60 trajectories\n",
      "Processing data as polars dataframe.\n",
      "Dataset length:  60\n",
      "offline_stock_trade_data/AZN/ddpg_trained_AZN_good_AZN_2018-05-16.json has 60 trajectories\n",
      "Processing data as polars dataframe.\n",
      "Dataset length:  60\n",
      "offline_stock_trade_data/AZN/a2c_trained_AZN_bad_AZN_2018-05-16.json has 60 trajectories\n",
      "Processing data as polars dataframe.\n",
      "Dataset length:  60\n",
      "offline_stock_trade_data/AZN/ppo_trained_AZN_bad_AZN_2018-05-16.json has 60 trajectories\n",
      "Processing data as polars dataframe.\n",
      "Dataset length:  60\n",
      "offline_stock_trade_data/AZN/sentiment_react_AZN_2018-05-16.json has 60 trajectories\n",
      "Processing data as polars dataframe.\n",
      "Dataset length:  60\n",
      "offline_stock_trade_data/AZN/random_AZN_2018-05-16.json has 60 trajectories\n",
      "Processing data as polars dataframe.\n",
      "Dataset length:  60\n",
      "offline_stock_trade_data/AZN/trend_sma_fast_AZN_2018-05-16.json has 60 trajectories\n",
      "Processing data as polars dataframe.\n",
      "Dataset length:  60\n",
      "offline_stock_trade_data/EXC/a2c_trained_EXC_bad_EXC_2018-05-16.json has 60 trajectories\n",
      "Processing data as polars dataframe.\n",
      "Dataset length:  60\n",
      "offline_stock_trade_data/EXC/momentum_stoch_rsi_EXC_2018-05-16.json has 60 trajectories\n",
      "Processing data as polars dataframe.\n",
      "Dataset length:  60\n",
      "offline_stock_trade_data/EXC/ppo_trained_EXC_bad_EXC_2018-05-16.json has 60 trajectories\n",
      "Processing data as polars dataframe.\n",
      "Dataset length:  60\n",
      "offline_stock_trade_data/EXC/trend_sma_fast_EXC_2018-05-16.json has 60 trajectories\n",
      "Processing data as polars dataframe.\n",
      "Dataset length:  60\n",
      "offline_stock_trade_data/EXC/random_EXC_2018-05-16.json has 60 trajectories\n",
      "Processing data as polars dataframe.\n",
      "Dataset length:  60\n",
      "offline_stock_trade_data/EXC/ddpg_trained_EXC_bad_EXC_2018-05-16.json has 60 trajectories\n",
      "Processing data as polars dataframe.\n",
      "Dataset length:  60\n",
      "offline_stock_trade_data/EXC/sentiment_react_EXC_2018-05-16.json has 60 trajectories\n",
      "Processing data as polars dataframe.\n",
      "Dataset length:  60\n",
      "offline_stock_trade_data/ZS/a2c_trained_ZS_bad_ZS_2018-05-16.json has 60 trajectories\n",
      "Processing data as polars dataframe.\n",
      "Dataset length:  60\n",
      "offline_stock_trade_data/ZS/sentiment_react_ZS_2018-05-16.json has 60 trajectories\n",
      "Processing data as polars dataframe.\n",
      "Dataset length:  60\n",
      "offline_stock_trade_data/ZS/ddpg_trained_ZS_good_ZS_2018-05-16.json has 60 trajectories\n",
      "Processing data as polars dataframe.\n",
      "Dataset length:  60\n",
      "offline_stock_trade_data/ZS/momentum_stoch_rsi_ZS_2018-05-16.json has 60 trajectories\n",
      "Processing data as polars dataframe.\n",
      "Dataset length:  60\n",
      "offline_stock_trade_data/ZS/random_ZS_2018-05-16.json has 60 trajectories\n",
      "Processing data as polars dataframe.\n",
      "Dataset length:  60\n",
      "offline_stock_trade_data/ZS/trend_sma_fast_ZS_2018-05-16.json has 60 trajectories\n",
      "Processing data as polars dataframe.\n",
      "Dataset length:  60\n",
      "offline_stock_trade_data/ZS/ppo_trained_ZS_bad_ZS_2018-05-16.json has 60 trajectories\n",
      "Processing data as polars dataframe.\n",
      "Dataset length:  60\n",
      "offline_stock_trade_data/CVX/ppo_trained_CVX_bad_CVX_2018-05-16.json has 60 trajectories\n",
      "Processing data as polars dataframe.\n",
      "Dataset length:  60\n",
      "offline_stock_trade_data/CVX/ddpg_trained_CVX_bad_CVX_2018-05-16.json has 60 trajectories\n",
      "Processing data as polars dataframe.\n",
      "Dataset length:  60\n",
      "offline_stock_trade_data/CVX/trend_sma_fast_CVX_2018-05-16.json has 60 trajectories\n",
      "Processing data as polars dataframe.\n",
      "Dataset length:  60\n",
      "offline_stock_trade_data/CVX/random_CVX_2018-05-16.json has 60 trajectories\n",
      "Processing data as polars dataframe.\n",
      "Dataset length:  60\n",
      "offline_stock_trade_data/CVX/momentum_stoch_rsi_CVX_2018-05-16.json has 60 trajectories\n",
      "Processing data as polars dataframe.\n",
      "Dataset length:  60\n",
      "offline_stock_trade_data/CVX/a2c_trained_CVX_good_CVX_2018-05-16.json has 60 trajectories\n",
      "Processing data as polars dataframe.\n",
      "Dataset length:  60\n",
      "offline_stock_trade_data/CVX/sentiment_react_CVX_2018-05-16.json has 60 trajectories\n",
      "Processing data as polars dataframe.\n",
      "Dataset length:  60\n",
      "offline_stock_trade_data/JPM/sentiment_react_JPM_2018-05-16.json has 60 trajectories\n",
      "Processing data as polars dataframe.\n",
      "Dataset length:  60\n",
      "offline_stock_trade_data/JPM/random_JPM_2018-05-16.json has 60 trajectories\n",
      "Processing data as polars dataframe.\n",
      "Dataset length:  60\n",
      "offline_stock_trade_data/JPM/trend_sma_fast_JPM_2018-05-16.json has 60 trajectories\n",
      "Processing data as polars dataframe.\n",
      "Dataset length:  60\n",
      "offline_stock_trade_data/JPM/a2c_trained_JPM_bad_JPM_2018-05-16.json has 60 trajectories\n",
      "Processing data as polars dataframe.\n",
      "Dataset length:  60\n",
      "offline_stock_trade_data/JPM/momentum_stoch_rsi_JPM_2018-05-16.json has 60 trajectories\n",
      "Processing data as polars dataframe.\n",
      "Dataset length:  60\n",
      "offline_stock_trade_data/JPM/ddpg_trained_JPM_bad_JPM_2018-05-16.json has 60 trajectories\n",
      "Processing data as polars dataframe.\n",
      "Dataset length:  60\n",
      "offline_stock_trade_data/JPM/ppo_trained_JPM_bad_JPM_2018-05-16.json has 60 trajectories\n",
      "Processing data as polars dataframe.\n",
      "Dataset length:  60\n",
      "offline_stock_trade_data/CCEP/trend_sma_fast_CCEP_2018-05-16.json has 60 trajectories\n",
      "Processing data as polars dataframe.\n",
      "Dataset length:  60\n",
      "offline_stock_trade_data/CCEP/random_CCEP_2018-05-16.json has 60 trajectories\n",
      "Processing data as polars dataframe.\n",
      "Dataset length:  60\n",
      "offline_stock_trade_data/CCEP/a2c_trained_CCEP_good_CCEP_2018-05-16.json has 60 trajectories\n",
      "Processing data as polars dataframe.\n",
      "Dataset length:  60\n",
      "offline_stock_trade_data/CCEP/sentiment_react_CCEP_2018-05-16.json has 60 trajectories\n",
      "Processing data as polars dataframe.\n",
      "Dataset length:  60\n",
      "offline_stock_trade_data/CCEP/ddpg_trained_CCEP_bad_CCEP_2018-05-16.json has 60 trajectories\n",
      "Processing data as polars dataframe.\n",
      "Dataset length:  60\n",
      "offline_stock_trade_data/CCEP/ppo_trained_CCEP_good_CCEP_2018-05-16.json has 60 trajectories\n",
      "Processing data as polars dataframe.\n",
      "Dataset length:  60\n",
      "offline_stock_trade_data/CCEP/momentum_stoch_rsi_CCEP_2018-05-16.json has 60 trajectories\n",
      "Processing data as polars dataframe.\n",
      "Dataset length:  60\n",
      "offline_stock_trade_data/ADP/sentiment_react_ADP_2018-05-16.json has 60 trajectories\n",
      "Processing data as polars dataframe.\n",
      "Dataset length:  60\n",
      "offline_stock_trade_data/ADP/ddpg_trained_ADP_good_ADP_2018-05-16.json has 60 trajectories\n",
      "Processing data as polars dataframe.\n",
      "Dataset length:  60\n",
      "offline_stock_trade_data/ADP/random_ADP_2018-05-16.json has 60 trajectories\n",
      "Processing data as polars dataframe.\n",
      "Dataset length:  60\n",
      "offline_stock_trade_data/ADP/ppo_trained_ADP_good_ADP_2018-05-16.json has 60 trajectories\n",
      "Processing data as polars dataframe.\n",
      "Dataset length:  60\n",
      "offline_stock_trade_data/ADP/trend_sma_fast_ADP_2018-05-16.json has 60 trajectories\n",
      "Processing data as polars dataframe.\n",
      "Dataset length:  60\n",
      "offline_stock_trade_data/ADP/a2c_trained_ADP_good_ADP_2018-05-16.json has 60 trajectories\n",
      "Processing data as polars dataframe.\n",
      "Dataset length:  60\n",
      "offline_stock_trade_data/ADP/momentum_stoch_rsi_ADP_2018-05-16.json has 60 trajectories\n",
      "Processing data as polars dataframe.\n",
      "Dataset length:  60\n",
      "offline_stock_trade_data/ODFL/ppo_trained_ODFL_good_ODFL_2018-05-16.json has 60 trajectories\n",
      "Processing data as polars dataframe.\n",
      "Dataset length:  60\n",
      "offline_stock_trade_data/ODFL/ddpg_trained_ODFL_good_ODFL_2018-05-16.json has 60 trajectories\n",
      "Processing data as polars dataframe.\n",
      "Dataset length:  60\n",
      "offline_stock_trade_data/ODFL/a2c_trained_ODFL_bad_ODFL_2018-05-16.json has 60 trajectories\n",
      "Processing data as polars dataframe.\n",
      "Dataset length:  60\n",
      "offline_stock_trade_data/ODFL/sentiment_react_ODFL_2018-05-16.json has 60 trajectories\n",
      "Processing data as polars dataframe.\n",
      "Dataset length:  60\n",
      "offline_stock_trade_data/ODFL/momentum_stoch_rsi_ODFL_2018-05-16.json has 60 trajectories\n",
      "Processing data as polars dataframe.\n",
      "Dataset length:  60\n",
      "offline_stock_trade_data/ODFL/trend_sma_fast_ODFL_2018-05-16.json has 60 trajectories\n",
      "Processing data as polars dataframe.\n",
      "Dataset length:  60\n",
      "offline_stock_trade_data/ODFL/random_ODFL_2018-05-16.json has 60 trajectories\n",
      "Processing data as polars dataframe.\n",
      "Dataset length:  60\n",
      "offline_stock_trade_data/ILMN/trend_sma_fast_ILMN_2018-05-16.json has 60 trajectories\n",
      "Processing data as polars dataframe.\n",
      "Dataset length:  60\n",
      "offline_stock_trade_data/ILMN/a2c_trained_ILMN_bad_ILMN_2018-05-16.json has 60 trajectories\n",
      "Processing data as polars dataframe.\n",
      "Dataset length:  60\n",
      "offline_stock_trade_data/ILMN/sentiment_react_ILMN_2018-05-16.json has 60 trajectories\n",
      "Processing data as polars dataframe.\n",
      "Dataset length:  60\n",
      "offline_stock_trade_data/ILMN/ddpg_trained_ILMN_bad_ILMN_2018-05-16.json has 60 trajectories\n",
      "Processing data as polars dataframe.\n",
      "Dataset length:  60\n",
      "offline_stock_trade_data/ILMN/ppo_trained_ILMN_bad_ILMN_2018-05-16.json has 60 trajectories\n",
      "Processing data as polars dataframe.\n",
      "Dataset length:  60\n",
      "offline_stock_trade_data/ILMN/momentum_stoch_rsi_ILMN_2018-05-16.json has 60 trajectories\n",
      "Processing data as polars dataframe.\n",
      "Dataset length:  60\n",
      "offline_stock_trade_data/ILMN/random_ILMN_2018-05-16.json has 60 trajectories\n",
      "Processing data as polars dataframe.\n",
      "Dataset length:  60\n",
      "offline_stock_trade_data/TTWO/a2c_trained_TTWO_bad_TTWO_2018-05-16.json has 60 trajectories\n",
      "Processing data as polars dataframe.\n",
      "Dataset length:  60\n",
      "offline_stock_trade_data/TTWO/random_TTWO_2018-05-16.json has 60 trajectories\n",
      "Processing data as polars dataframe.\n",
      "Dataset length:  60\n",
      "offline_stock_trade_data/TTWO/ddpg_trained_TTWO_bad_TTWO_2018-05-16.json has 60 trajectories\n",
      "Processing data as polars dataframe.\n",
      "Dataset length:  60\n",
      "offline_stock_trade_data/TTWO/momentum_stoch_rsi_TTWO_2018-05-16.json has 60 trajectories\n",
      "Processing data as polars dataframe.\n",
      "Dataset length:  60\n",
      "offline_stock_trade_data/TTWO/ppo_trained_TTWO_bad_TTWO_2018-05-16.json has 60 trajectories\n",
      "Processing data as polars dataframe.\n",
      "Dataset length:  60\n",
      "offline_stock_trade_data/TTWO/sentiment_react_TTWO_2018-05-16.json has 60 trajectories\n",
      "Processing data as polars dataframe.\n",
      "Dataset length:  60\n",
      "offline_stock_trade_data/TTWO/trend_sma_fast_TTWO_2018-05-16.json has 60 trajectories\n",
      "Processing data as polars dataframe.\n",
      "Dataset length:  60\n",
      "offline_stock_trade_data/ABNB/random_ABNB_2018-05-16.json has 60 trajectories\n",
      "Processing data as polars dataframe.\n",
      "Dataset length:  60\n",
      "offline_stock_trade_data/ABNB/momentum_stoch_rsi_ABNB_2018-05-16.json has 60 trajectories\n",
      "Processing data as polars dataframe.\n",
      "Dataset length:  60\n",
      "offline_stock_trade_data/ABNB/sentiment_react_ABNB_2018-05-16.json has 60 trajectories\n",
      "Processing data as polars dataframe.\n",
      "Dataset length:  60\n",
      "offline_stock_trade_data/ABNB/trend_sma_fast_ABNB_2018-05-16.json has 60 trajectories\n",
      "Processing data as polars dataframe.\n",
      "Dataset length:  60\n",
      "offline_stock_trade_data/AMD/random_AMD_2018-05-16.json has 60 trajectories\n",
      "Processing data as polars dataframe.\n",
      "Dataset length:  60\n",
      "offline_stock_trade_data/AMD/trend_sma_fast_AMD_2018-05-16.json has 60 trajectories\n",
      "Processing data as polars dataframe.\n",
      "Dataset length:  60\n",
      "offline_stock_trade_data/AMD/ppo_trained_AMD_bad_AMD_2018-05-16.json has 60 trajectories\n",
      "Processing data as polars dataframe.\n",
      "Dataset length:  60\n",
      "offline_stock_trade_data/AMD/sentiment_react_AMD_2018-05-16.json has 60 trajectories\n",
      "Processing data as polars dataframe.\n",
      "Dataset length:  60\n",
      "offline_stock_trade_data/AMD/a2c_trained_AMD_bad_AMD_2018-05-16.json has 60 trajectories\n",
      "Processing data as polars dataframe.\n",
      "Dataset length:  60\n",
      "offline_stock_trade_data/AMD/momentum_stoch_rsi_AMD_2018-05-16.json has 60 trajectories\n",
      "Processing data as polars dataframe.\n",
      "Dataset length:  60\n",
      "offline_stock_trade_data/AMD/ddpg_trained_AMD_good_AMD_2018-05-16.json has 60 trajectories\n",
      "Processing data as polars dataframe.\n",
      "Dataset length:  60\n",
      "offline_stock_trade_data/V/trend_sma_fast_V_2018-05-16.json has 60 trajectories\n",
      "Processing data as polars dataframe.\n",
      "Dataset length:  60\n",
      "offline_stock_trade_data/V/momentum_stoch_rsi_V_2018-05-16.json has 60 trajectories\n",
      "Processing data as polars dataframe.\n",
      "Dataset length:  60\n",
      "offline_stock_trade_data/V/sentiment_react_V_2018-05-16.json has 60 trajectories\n",
      "Processing data as polars dataframe.\n",
      "Dataset length:  60\n",
      "offline_stock_trade_data/V/ppo_trained_V_bad_V_2018-05-16.json has 60 trajectories\n",
      "Processing data as polars dataframe.\n",
      "Dataset length:  60\n",
      "offline_stock_trade_data/V/random_V_2018-05-16.json has 60 trajectories\n",
      "Processing data as polars dataframe.\n",
      "Dataset length:  60\n",
      "offline_stock_trade_data/V/ddpg_trained_V_good_V_2018-05-16.json has 60 trajectories\n",
      "Processing data as polars dataframe.\n",
      "Dataset length:  60\n",
      "offline_stock_trade_data/V/a2c_trained_V_bad_V_2018-05-16.json has 60 trajectories\n",
      "Processing data as polars dataframe.\n",
      "Dataset length:  60\n",
      "offline_stock_trade_data/GILD/a2c_trained_GILD_bad_GILD_2018-05-16.json has 60 trajectories\n",
      "Processing data as polars dataframe.\n",
      "Dataset length:  60\n",
      "offline_stock_trade_data/GILD/sentiment_react_GILD_2018-05-16.json has 60 trajectories\n",
      "Processing data as polars dataframe.\n",
      "Dataset length:  60\n",
      "offline_stock_trade_data/GILD/ppo_trained_GILD_good_GILD_2018-05-16.json has 60 trajectories\n",
      "Processing data as polars dataframe.\n",
      "Dataset length:  60\n",
      "offline_stock_trade_data/GILD/ddpg_trained_GILD_good_GILD_2018-05-16.json has 60 trajectories\n",
      "Processing data as polars dataframe.\n",
      "Dataset length:  60\n",
      "offline_stock_trade_data/GILD/random_GILD_2018-05-16.json has 60 trajectories\n",
      "Processing data as polars dataframe.\n",
      "Dataset length:  60\n",
      "offline_stock_trade_data/GILD/trend_sma_fast_GILD_2018-05-16.json has 60 trajectories\n",
      "Processing data as polars dataframe.\n",
      "Dataset length:  60\n",
      "offline_stock_trade_data/GILD/momentum_stoch_rsi_GILD_2018-05-16.json has 60 trajectories\n",
      "Processing data as polars dataframe.\n",
      "Dataset length:  60\n",
      "offline_stock_trade_data/MDB/ppo_trained_MDB_good_MDB_2018-05-16.json has 60 trajectories\n",
      "Processing data as polars dataframe.\n",
      "Dataset length:  60\n",
      "offline_stock_trade_data/MDB/ddpg_trained_MDB_bad_MDB_2018-05-16.json has 60 trajectories\n",
      "Processing data as polars dataframe.\n",
      "Dataset length:  60\n",
      "offline_stock_trade_data/MDB/momentum_stoch_rsi_MDB_2018-05-16.json has 60 trajectories\n",
      "Processing data as polars dataframe.\n",
      "Dataset length:  60\n",
      "offline_stock_trade_data/MDB/a2c_trained_MDB_good_MDB_2018-05-16.json has 60 trajectories\n",
      "Processing data as polars dataframe.\n",
      "Dataset length:  60\n",
      "offline_stock_trade_data/MDB/trend_sma_fast_MDB_2018-05-16.json has 60 trajectories\n",
      "Processing data as polars dataframe.\n",
      "Dataset length:  60\n",
      "offline_stock_trade_data/MDB/sentiment_react_MDB_2018-05-16.json has 60 trajectories\n",
      "Processing data as polars dataframe.\n",
      "Dataset length:  60\n",
      "offline_stock_trade_data/MDB/random_MDB_2018-05-16.json has 60 trajectories\n",
      "Processing data as polars dataframe.\n",
      "Dataset length:  60\n",
      "offline_stock_trade_data/FANG/ddpg_trained_FANG_good_FANG_2018-05-16.json has 60 trajectories\n",
      "Processing data as polars dataframe.\n",
      "Dataset length:  60\n",
      "offline_stock_trade_data/FANG/random_FANG_2018-05-16.json has 60 trajectories\n",
      "Processing data as polars dataframe.\n",
      "Dataset length:  60\n",
      "offline_stock_trade_data/FANG/momentum_stoch_rsi_FANG_2018-05-16.json has 60 trajectories\n",
      "Processing data as polars dataframe.\n",
      "Dataset length:  60\n",
      "offline_stock_trade_data/FANG/a2c_trained_FANG_good_FANG_2018-05-16.json has 60 trajectories\n",
      "Processing data as polars dataframe.\n",
      "Dataset length:  60\n",
      "offline_stock_trade_data/FANG/sentiment_react_FANG_2018-05-16.json has 60 trajectories\n",
      "Processing data as polars dataframe.\n",
      "Dataset length:  60\n",
      "offline_stock_trade_data/FANG/trend_sma_fast_FANG_2018-05-16.json has 60 trajectories\n",
      "Processing data as polars dataframe.\n",
      "Dataset length:  60\n",
      "offline_stock_trade_data/FANG/ppo_trained_FANG_bad_FANG_2018-05-16.json has 60 trajectories\n",
      "Processing data as polars dataframe.\n",
      "Dataset length:  60\n",
      "offline_stock_trade_data/GS/momentum_stoch_rsi_GS_2018-05-16.json has 60 trajectories\n",
      "Processing data as polars dataframe.\n",
      "Dataset length:  60\n",
      "offline_stock_trade_data/GS/sentiment_react_GS_2018-05-16.json has 60 trajectories\n",
      "Processing data as polars dataframe.\n",
      "Dataset length:  60\n",
      "offline_stock_trade_data/GS/ddpg_trained_GS_good_GS_2018-05-16.json has 60 trajectories\n",
      "Processing data as polars dataframe.\n",
      "Dataset length:  60\n",
      "offline_stock_trade_data/GS/random_GS_2018-05-16.json has 60 trajectories\n",
      "Processing data as polars dataframe.\n",
      "Dataset length:  60\n",
      "offline_stock_trade_data/GS/trend_sma_fast_GS_2018-05-16.json has 60 trajectories\n",
      "Processing data as polars dataframe.\n",
      "Dataset length:  60\n",
      "offline_stock_trade_data/GS/ppo_trained_GS_bad_GS_2018-05-16.json has 60 trajectories\n",
      "Processing data as polars dataframe.\n",
      "Dataset length:  60\n",
      "offline_stock_trade_data/GS/a2c_trained_GS_good_GS_2018-05-16.json has 60 trajectories\n",
      "Processing data as polars dataframe.\n",
      "Dataset length:  60\n",
      "offline_stock_trade_data/WBD/ppo_trained_WBD_bad_WBD_2018-05-16.json has 60 trajectories\n",
      "Processing data as polars dataframe.\n",
      "Dataset length:  60\n",
      "offline_stock_trade_data/WBD/sentiment_react_WBD_2018-05-16.json has 60 trajectories\n",
      "Processing data as polars dataframe.\n",
      "Dataset length:  60\n",
      "offline_stock_trade_data/WBD/random_WBD_2018-05-16.json has 60 trajectories\n",
      "Processing data as polars dataframe.\n",
      "Dataset length:  60\n",
      "offline_stock_trade_data/WBD/ddpg_trained_WBD_good_WBD_2018-05-16.json has 60 trajectories\n",
      "Processing data as polars dataframe.\n",
      "Dataset length:  60\n",
      "offline_stock_trade_data/WBD/momentum_stoch_rsi_WBD_2018-05-16.json has 60 trajectories\n",
      "Processing data as polars dataframe.\n",
      "Dataset length:  60\n",
      "offline_stock_trade_data/WBD/a2c_trained_WBD_bad_WBD_2018-05-16.json has 60 trajectories\n",
      "Processing data as polars dataframe.\n",
      "Dataset length:  60\n",
      "offline_stock_trade_data/WBD/trend_sma_fast_WBD_2018-05-16.json has 60 trajectories\n",
      "Processing data as polars dataframe.\n",
      "Dataset length:  60\n",
      "offline_stock_trade_data/EA/ppo_trained_EA_good_EA_2018-05-16.json has 60 trajectories\n",
      "Processing data as polars dataframe.\n",
      "Dataset length:  60\n",
      "offline_stock_trade_data/EA/sentiment_react_EA_2018-05-16.json has 60 trajectories\n",
      "Processing data as polars dataframe.\n",
      "Dataset length:  60\n",
      "offline_stock_trade_data/EA/trend_sma_fast_EA_2018-05-16.json has 60 trajectories\n",
      "Processing data as polars dataframe.\n",
      "Dataset length:  60\n",
      "offline_stock_trade_data/EA/ddpg_trained_EA_good_EA_2018-05-16.json has 60 trajectories\n",
      "Processing data as polars dataframe.\n",
      "Dataset length:  60\n",
      "offline_stock_trade_data/EA/a2c_trained_EA_bad_EA_2018-05-16.json has 60 trajectories\n",
      "Processing data as polars dataframe.\n",
      "Dataset length:  60\n",
      "offline_stock_trade_data/EA/random_EA_2018-05-16.json has 60 trajectories\n",
      "Processing data as polars dataframe.\n",
      "Dataset length:  60\n",
      "offline_stock_trade_data/EA/momentum_stoch_rsi_EA_2018-05-16.json has 60 trajectories\n",
      "Processing data as polars dataframe.\n",
      "Dataset length:  60\n",
      "offline_stock_trade_data/MAR/sentiment_react_MAR_2018-05-16.json has 60 trajectories\n",
      "Processing data as polars dataframe.\n",
      "Dataset length:  60\n",
      "offline_stock_trade_data/MAR/trend_sma_fast_MAR_2018-05-16.json has 60 trajectories\n",
      "Processing data as polars dataframe.\n",
      "Dataset length:  60\n",
      "offline_stock_trade_data/MAR/momentum_stoch_rsi_MAR_2018-05-16.json has 60 trajectories\n",
      "Processing data as polars dataframe.\n",
      "Dataset length:  60\n",
      "offline_stock_trade_data/MAR/ddpg_trained_MAR_good_MAR_2018-05-16.json has 60 trajectories\n",
      "Processing data as polars dataframe.\n",
      "Dataset length:  60\n",
      "offline_stock_trade_data/MAR/random_MAR_2018-05-16.json has 60 trajectories\n",
      "Processing data as polars dataframe.\n",
      "Dataset length:  60\n",
      "offline_stock_trade_data/MAR/ppo_trained_MAR_bad_MAR_2018-05-16.json has 60 trajectories\n",
      "Processing data as polars dataframe.\n",
      "Dataset length:  60\n",
      "offline_stock_trade_data/MAR/a2c_trained_MAR_bad_MAR_2018-05-16.json has 60 trajectories\n",
      "Processing data as polars dataframe.\n",
      "Dataset length:  60\n",
      "offline_stock_trade_data/INTU/sentiment_react_INTU_2018-05-16.json has 60 trajectories\n",
      "Processing data as polars dataframe.\n",
      "Dataset length:  60\n",
      "offline_stock_trade_data/INTU/a2c_trained_INTU_good_INTU_2018-05-16.json has 60 trajectories\n",
      "Processing data as polars dataframe.\n",
      "Dataset length:  60\n",
      "offline_stock_trade_data/INTU/momentum_stoch_rsi_INTU_2018-05-16.json has 60 trajectories\n",
      "Processing data as polars dataframe.\n",
      "Dataset length:  60\n",
      "offline_stock_trade_data/INTU/ddpg_trained_INTU_bad_INTU_2018-05-16.json has 60 trajectories\n",
      "Processing data as polars dataframe.\n",
      "Dataset length:  60\n",
      "offline_stock_trade_data/INTU/random_INTU_2018-05-16.json has 60 trajectories\n",
      "Processing data as polars dataframe.\n",
      "Dataset length:  60\n",
      "offline_stock_trade_data/INTU/ppo_trained_INTU_bad_INTU_2018-05-16.json has 60 trajectories\n",
      "Processing data as polars dataframe.\n",
      "Dataset length:  60\n",
      "offline_stock_trade_data/INTU/trend_sma_fast_INTU_2018-05-16.json has 60 trajectories\n",
      "Processing data as polars dataframe.\n",
      "Dataset length:  60\n",
      "offline_stock_trade_data/CAT/trend_sma_fast_CAT_2018-05-16.json has 60 trajectories\n",
      "Processing data as polars dataframe.\n",
      "Dataset length:  60\n",
      "offline_stock_trade_data/CAT/sentiment_react_CAT_2018-05-16.json has 60 trajectories\n",
      "Processing data as polars dataframe.\n",
      "Dataset length:  60\n",
      "offline_stock_trade_data/CAT/a2c_trained_CAT_bad_CAT_2018-05-16.json has 60 trajectories\n",
      "Processing data as polars dataframe.\n",
      "Dataset length:  60\n",
      "offline_stock_trade_data/CAT/ddpg_trained_CAT_bad_CAT_2018-05-16.json has 60 trajectories\n",
      "Processing data as polars dataframe.\n",
      "Dataset length:  60\n",
      "offline_stock_trade_data/CAT/ppo_trained_CAT_bad_CAT_2018-05-16.json has 60 trajectories\n",
      "Processing data as polars dataframe.\n",
      "Dataset length:  60\n",
      "offline_stock_trade_data/CAT/momentum_stoch_rsi_CAT_2018-05-16.json has 60 trajectories\n",
      "Processing data as polars dataframe.\n",
      "Dataset length:  60\n",
      "offline_stock_trade_data/CAT/random_CAT_2018-05-16.json has 60 trajectories\n",
      "Processing data as polars dataframe.\n",
      "Dataset length:  60\n",
      "offline_stock_trade_data/ISRG/ppo_trained_ISRG_bad_ISRG_2018-05-16.json has 60 trajectories\n",
      "Processing data as polars dataframe.\n",
      "Dataset length:  60\n",
      "offline_stock_trade_data/ISRG/sentiment_react_ISRG_2018-05-16.json has 60 trajectories\n",
      "Processing data as polars dataframe.\n",
      "Dataset length:  60\n",
      "offline_stock_trade_data/ISRG/momentum_stoch_rsi_ISRG_2018-05-16.json has 60 trajectories\n",
      "Processing data as polars dataframe.\n",
      "Dataset length:  60\n",
      "offline_stock_trade_data/ISRG/trend_sma_fast_ISRG_2018-05-16.json has 60 trajectories\n",
      "Processing data as polars dataframe.\n",
      "Dataset length:  60\n",
      "offline_stock_trade_data/ISRG/a2c_trained_ISRG_bad_ISRG_2018-05-16.json has 60 trajectories\n",
      "Processing data as polars dataframe.\n",
      "Dataset length:  60\n",
      "offline_stock_trade_data/ISRG/random_ISRG_2018-05-16.json has 60 trajectories\n",
      "Processing data as polars dataframe.\n",
      "Dataset length:  60\n",
      "offline_stock_trade_data/ISRG/ddpg_trained_ISRG_bad_ISRG_2018-05-16.json has 60 trajectories\n",
      "Processing data as polars dataframe.\n",
      "Dataset length:  60\n",
      "offline_stock_trade_data/ADSK/trend_sma_fast_ADSK_2018-05-16.json has 60 trajectories\n",
      "Processing data as polars dataframe.\n",
      "Dataset length:  60\n",
      "offline_stock_trade_data/ADSK/random_ADSK_2018-05-16.json has 60 trajectories\n",
      "Processing data as polars dataframe.\n",
      "Dataset length:  60\n",
      "offline_stock_trade_data/ADSK/ddpg_trained_ADSK_good_ADSK_2018-05-16.json has 60 trajectories\n",
      "Processing data as polars dataframe.\n",
      "Dataset length:  60\n",
      "offline_stock_trade_data/ADSK/sentiment_react_ADSK_2018-05-16.json has 60 trajectories\n",
      "Processing data as polars dataframe.\n",
      "Dataset length:  60\n",
      "offline_stock_trade_data/ADSK/momentum_stoch_rsi_ADSK_2018-05-16.json has 60 trajectories\n",
      "Processing data as polars dataframe.\n",
      "Dataset length:  60\n",
      "offline_stock_trade_data/ADSK/a2c_trained_ADSK_bad_ADSK_2018-05-16.json has 60 trajectories\n",
      "Processing data as polars dataframe.\n",
      "Dataset length:  60\n",
      "offline_stock_trade_data/ADSK/ppo_trained_ADSK_good_ADSK_2018-05-16.json has 60 trajectories\n",
      "Processing data as polars dataframe.\n",
      "Dataset length:  60\n",
      "offline_stock_trade_data/MRK/momentum_stoch_rsi_MRK_2018-05-16.json has 60 trajectories\n",
      "Processing data as polars dataframe.\n",
      "Dataset length:  60\n",
      "offline_stock_trade_data/MRK/trend_sma_fast_MRK_2018-05-16.json has 60 trajectories\n",
      "Processing data as polars dataframe.\n",
      "Dataset length:  60\n",
      "offline_stock_trade_data/MRK/ppo_trained_MRK_good_MRK_2018-05-16.json has 60 trajectories\n",
      "Processing data as polars dataframe.\n",
      "Dataset length:  60\n",
      "offline_stock_trade_data/MRK/random_MRK_2018-05-16.json has 60 trajectories\n",
      "Processing data as polars dataframe.\n",
      "Dataset length:  60\n",
      "offline_stock_trade_data/MRK/a2c_trained_MRK_bad_MRK_2018-05-16.json has 60 trajectories\n",
      "Processing data as polars dataframe.\n",
      "Dataset length:  60\n",
      "offline_stock_trade_data/MRK/sentiment_react_MRK_2018-05-16.json has 60 trajectories\n",
      "Processing data as polars dataframe.\n",
      "Dataset length:  60\n",
      "offline_stock_trade_data/MRK/ddpg_trained_MRK_good_MRK_2018-05-16.json has 60 trajectories\n",
      "Processing data as polars dataframe.\n",
      "Dataset length:  60\n",
      "offline_stock_trade_data/REGN/ddpg_trained_REGN_bad_REGN_2018-05-16.json has 60 trajectories\n",
      "Processing data as polars dataframe.\n",
      "Dataset length:  60\n",
      "offline_stock_trade_data/REGN/trend_sma_fast_REGN_2018-05-16.json has 60 trajectories\n",
      "Processing data as polars dataframe.\n",
      "Dataset length:  60\n",
      "offline_stock_trade_data/REGN/sentiment_react_REGN_2018-05-16.json has 60 trajectories\n",
      "Processing data as polars dataframe.\n",
      "Dataset length:  60\n",
      "offline_stock_trade_data/REGN/random_REGN_2018-05-16.json has 60 trajectories\n",
      "Processing data as polars dataframe.\n",
      "Dataset length:  60\n",
      "offline_stock_trade_data/REGN/a2c_trained_REGN_bad_REGN_2018-05-16.json has 60 trajectories\n",
      "Processing data as polars dataframe.\n",
      "Dataset length:  60\n",
      "offline_stock_trade_data/REGN/ppo_trained_REGN_bad_REGN_2018-05-16.json has 60 trajectories\n",
      "Processing data as polars dataframe.\n",
      "Dataset length:  60\n",
      "offline_stock_trade_data/REGN/momentum_stoch_rsi_REGN_2018-05-16.json has 60 trajectories\n",
      "Processing data as polars dataframe.\n",
      "Dataset length:  60\n",
      "offline_stock_trade_data/PG/trend_sma_fast_PG_2018-05-16.json has 60 trajectories\n",
      "Processing data as polars dataframe.\n",
      "Dataset length:  60\n",
      "offline_stock_trade_data/PG/ddpg_trained_PG_good_PG_2018-05-16.json has 60 trajectories\n",
      "Processing data as polars dataframe.\n",
      "Dataset length:  60\n",
      "offline_stock_trade_data/PG/sentiment_react_PG_2018-05-16.json has 60 trajectories\n",
      "Processing data as polars dataframe.\n",
      "Dataset length:  60\n",
      "offline_stock_trade_data/PG/momentum_stoch_rsi_PG_2018-05-16.json has 60 trajectories\n",
      "Processing data as polars dataframe.\n",
      "Dataset length:  60\n",
      "offline_stock_trade_data/PG/random_PG_2018-05-16.json has 60 trajectories\n",
      "Processing data as polars dataframe.\n",
      "Dataset length:  60\n",
      "offline_stock_trade_data/PG/a2c_trained_PG_good_PG_2018-05-16.json has 60 trajectories\n",
      "Processing data as polars dataframe.\n",
      "Dataset length:  60\n",
      "offline_stock_trade_data/PG/ppo_trained_PG_bad_PG_2018-05-16.json has 60 trajectories\n",
      "Processing data as polars dataframe.\n",
      "Dataset length:  60\n",
      "offline_stock_trade_data/ROST/ddpg_trained_ROST_good_ROST_2018-05-16.json has 60 trajectories\n",
      "Processing data as polars dataframe.\n",
      "Dataset length:  60\n",
      "offline_stock_trade_data/ROST/ppo_trained_ROST_good_ROST_2018-05-16.json has 60 trajectories\n",
      "Processing data as polars dataframe.\n",
      "Dataset length:  60\n",
      "offline_stock_trade_data/ROST/random_ROST_2018-05-16.json has 60 trajectories\n",
      "Processing data as polars dataframe.\n",
      "Dataset length:  60\n",
      "offline_stock_trade_data/ROST/a2c_trained_ROST_bad_ROST_2018-05-16.json has 60 trajectories\n",
      "Processing data as polars dataframe.\n",
      "Dataset length:  60\n",
      "offline_stock_trade_data/ROST/sentiment_react_ROST_2018-05-16.json has 60 trajectories\n",
      "Processing data as polars dataframe.\n",
      "Dataset length:  60\n",
      "offline_stock_trade_data/ROST/trend_sma_fast_ROST_2018-05-16.json has 60 trajectories\n",
      "Processing data as polars dataframe.\n",
      "Dataset length:  60\n",
      "offline_stock_trade_data/ROST/momentum_stoch_rsi_ROST_2018-05-16.json has 60 trajectories\n",
      "Processing data as polars dataframe.\n",
      "Dataset length:  60\n",
      "offline_stock_trade_data/UNH/ddpg_trained_UNH_bad_UNH_2018-05-16.json has 60 trajectories\n",
      "Processing data as polars dataframe.\n",
      "Dataset length:  60\n",
      "offline_stock_trade_data/UNH/random_UNH_2018-05-16.json has 60 trajectories\n",
      "Processing data as polars dataframe.\n",
      "Dataset length:  60\n",
      "offline_stock_trade_data/UNH/a2c_trained_UNH_good_UNH_2018-05-16.json has 60 trajectories\n",
      "Processing data as polars dataframe.\n",
      "Dataset length:  60\n",
      "offline_stock_trade_data/UNH/momentum_stoch_rsi_UNH_2018-05-16.json has 60 trajectories\n",
      "Processing data as polars dataframe.\n",
      "Dataset length:  60\n",
      "offline_stock_trade_data/UNH/ppo_trained_UNH_bad_UNH_2018-05-16.json has 60 trajectories\n",
      "Processing data as polars dataframe.\n",
      "Dataset length:  60\n",
      "offline_stock_trade_data/UNH/sentiment_react_UNH_2018-05-16.json has 60 trajectories\n",
      "Processing data as polars dataframe.\n",
      "Dataset length:  60\n",
      "offline_stock_trade_data/UNH/trend_sma_fast_UNH_2018-05-16.json has 60 trajectories\n",
      "Processing data as polars dataframe.\n",
      "Dataset length:  60\n",
      "offline_stock_trade_data/CRM/trend_sma_fast_CRM_2018-05-16.json has 60 trajectories\n",
      "Processing data as polars dataframe.\n",
      "Dataset length:  60\n",
      "offline_stock_trade_data/CRM/a2c_trained_CRM_bad_CRM_2018-05-16.json has 60 trajectories\n",
      "Processing data as polars dataframe.\n",
      "Dataset length:  60\n",
      "offline_stock_trade_data/CRM/ddpg_trained_CRM_bad_CRM_2018-05-16.json has 60 trajectories\n",
      "Processing data as polars dataframe.\n",
      "Dataset length:  60\n",
      "offline_stock_trade_data/CRM/ppo_trained_CRM_bad_CRM_2018-05-16.json has 60 trajectories\n",
      "Processing data as polars dataframe.\n",
      "Dataset length:  60\n",
      "offline_stock_trade_data/CRM/random_CRM_2018-05-16.json has 60 trajectories\n",
      "Processing data as polars dataframe.\n",
      "Dataset length:  60\n",
      "offline_stock_trade_data/CRM/sentiment_react_CRM_2018-05-16.json has 60 trajectories\n",
      "Processing data as polars dataframe.\n",
      "Dataset length:  60\n",
      "offline_stock_trade_data/CRM/momentum_stoch_rsi_CRM_2018-05-16.json has 60 trajectories\n",
      "Processing data as polars dataframe.\n",
      "Dataset length:  60\n",
      "offline_stock_trade_data/CRWD/sentiment_react_CRWD_2018-05-16.json has 60 trajectories\n",
      "Processing data as polars dataframe.\n",
      "Dataset length:  60\n",
      "offline_stock_trade_data/CRWD/trend_sma_fast_CRWD_2018-05-16.json has 60 trajectories\n",
      "Processing data as polars dataframe.\n",
      "Dataset length:  60\n",
      "offline_stock_trade_data/CRWD/momentum_stoch_rsi_CRWD_2018-05-16.json has 60 trajectories\n",
      "Processing data as polars dataframe.\n",
      "Dataset length:  60\n",
      "offline_stock_trade_data/CRWD/random_CRWD_2018-05-16.json has 60 trajectories\n",
      "Processing data as polars dataframe.\n",
      "Dataset length:  60\n",
      "offline_stock_trade_data/MRNA/sentiment_react_MRNA_2018-05-16.json has 60 trajectories\n",
      "Processing data as polars dataframe.\n",
      "Dataset length:  60\n",
      "offline_stock_trade_data/MRNA/random_MRNA_2018-05-16.json has 60 trajectories\n",
      "Processing data as polars dataframe.\n",
      "Dataset length:  60\n",
      "offline_stock_trade_data/MRNA/momentum_stoch_rsi_MRNA_2018-05-16.json has 60 trajectories\n",
      "Processing data as polars dataframe.\n",
      "Dataset length:  60\n",
      "offline_stock_trade_data/MRNA/trend_sma_fast_MRNA_2018-05-16.json has 60 trajectories\n",
      "Processing data as polars dataframe.\n",
      "Dataset length:  60\n",
      "offline_stock_trade_data/BKR/ppo_trained_BKR_bad_BKR_2018-05-16.json has 60 trajectories\n",
      "Processing data as polars dataframe.\n",
      "Dataset length:  60\n",
      "offline_stock_trade_data/BKR/trend_sma_fast_BKR_2018-05-16.json has 60 trajectories\n",
      "Processing data as polars dataframe.\n",
      "Dataset length:  60\n",
      "offline_stock_trade_data/BKR/ddpg_trained_BKR_bad_BKR_2018-05-16.json has 60 trajectories\n",
      "Processing data as polars dataframe.\n",
      "Dataset length:  60\n",
      "offline_stock_trade_data/BKR/sentiment_react_BKR_2018-05-16.json has 60 trajectories\n",
      "Processing data as polars dataframe.\n",
      "Dataset length:  60\n",
      "offline_stock_trade_data/BKR/momentum_stoch_rsi_BKR_2018-05-16.json has 60 trajectories\n",
      "Processing data as polars dataframe.\n",
      "Dataset length:  60\n",
      "offline_stock_trade_data/BKR/random_BKR_2018-05-16.json has 60 trajectories\n",
      "Processing data as polars dataframe.\n",
      "Dataset length:  60\n",
      "offline_stock_trade_data/BKR/a2c_trained_BKR_good_BKR_2018-05-16.json has 60 trajectories\n",
      "Processing data as polars dataframe.\n",
      "Dataset length:  60\n",
      "offline_stock_trade_data/MU/ppo_trained_MU_bad_MU_2018-05-16.json has 60 trajectories\n",
      "Processing data as polars dataframe.\n",
      "Dataset length:  60\n",
      "offline_stock_trade_data/MU/sentiment_react_MU_2018-05-16.json has 60 trajectories\n",
      "Processing data as polars dataframe.\n",
      "Dataset length:  60\n",
      "offline_stock_trade_data/MU/trend_sma_fast_MU_2018-05-16.json has 60 trajectories\n",
      "Processing data as polars dataframe.\n",
      "Dataset length:  60\n",
      "offline_stock_trade_data/MU/momentum_stoch_rsi_MU_2018-05-16.json has 60 trajectories\n",
      "Processing data as polars dataframe.\n",
      "Dataset length:  60\n",
      "offline_stock_trade_data/MU/a2c_trained_MU_bad_MU_2018-05-16.json has 60 trajectories\n",
      "Processing data as polars dataframe.\n",
      "Dataset length:  60\n",
      "offline_stock_trade_data/MU/random_MU_2018-05-16.json has 60 trajectories\n",
      "Processing data as polars dataframe.\n",
      "Dataset length:  60\n",
      "offline_stock_trade_data/MU/ddpg_trained_MU_bad_MU_2018-05-16.json has 60 trajectories\n",
      "Processing data as polars dataframe.\n",
      "Dataset length:  60\n",
      "offline_stock_trade_data/AXP/sentiment_react_AXP_2018-05-16.json has 60 trajectories\n",
      "Processing data as polars dataframe.\n",
      "Dataset length:  60\n",
      "offline_stock_trade_data/AXP/trend_sma_fast_AXP_2018-05-16.json has 60 trajectories\n",
      "Processing data as polars dataframe.\n",
      "Dataset length:  60\n",
      "offline_stock_trade_data/AXP/a2c_trained_AXP_good_AXP_2018-05-16.json has 60 trajectories\n",
      "Processing data as polars dataframe.\n",
      "Dataset length:  60\n",
      "offline_stock_trade_data/AXP/ddpg_trained_AXP_bad_AXP_2018-05-16.json has 60 trajectories\n",
      "Processing data as polars dataframe.\n",
      "Dataset length:  60\n",
      "offline_stock_trade_data/AXP/momentum_stoch_rsi_AXP_2018-05-16.json has 60 trajectories\n",
      "Processing data as polars dataframe.\n",
      "Dataset length:  60\n",
      "offline_stock_trade_data/AXP/ppo_trained_AXP_good_AXP_2018-05-16.json has 60 trajectories\n",
      "Processing data as polars dataframe.\n",
      "Dataset length:  60\n",
      "offline_stock_trade_data/AXP/random_AXP_2018-05-16.json has 60 trajectories\n",
      "Processing data as polars dataframe.\n",
      "Dataset length:  60\n",
      "offline_stock_trade_data/TTD/ddpg_trained_TTD_good_TTD_2018-05-16.json has 60 trajectories\n",
      "Processing data as polars dataframe.\n",
      "Dataset length:  60\n",
      "offline_stock_trade_data/TTD/trend_sma_fast_TTD_2018-05-16.json has 60 trajectories\n",
      "Processing data as polars dataframe.\n",
      "Dataset length:  60\n",
      "offline_stock_trade_data/TTD/momentum_stoch_rsi_TTD_2018-05-16.json has 60 trajectories\n",
      "Processing data as polars dataframe.\n",
      "Dataset length:  60\n",
      "offline_stock_trade_data/TTD/ppo_trained_TTD_bad_TTD_2018-05-16.json has 60 trajectories\n",
      "Processing data as polars dataframe.\n",
      "Dataset length:  60\n",
      "offline_stock_trade_data/TTD/random_TTD_2018-05-16.json has 60 trajectories\n",
      "Processing data as polars dataframe.\n",
      "Dataset length:  60\n",
      "offline_stock_trade_data/TTD/sentiment_react_TTD_2018-05-16.json has 60 trajectories\n",
      "Processing data as polars dataframe.\n",
      "Dataset length:  60\n",
      "offline_stock_trade_data/TTD/a2c_trained_TTD_bad_TTD_2018-05-16.json has 60 trajectories\n",
      "Processing data as polars dataframe.\n",
      "Dataset length:  60\n",
      "offline_stock_trade_data/CPRT/momentum_stoch_rsi_CPRT_2018-05-16.json has 60 trajectories\n",
      "Processing data as polars dataframe.\n",
      "Dataset length:  60\n",
      "offline_stock_trade_data/CPRT/a2c_trained_CPRT_bad_CPRT_2018-05-16.json has 60 trajectories\n",
      "Processing data as polars dataframe.\n",
      "Dataset length:  60\n",
      "offline_stock_trade_data/CPRT/ddpg_trained_CPRT_good_CPRT_2018-05-16.json has 60 trajectories\n",
      "Processing data as polars dataframe.\n",
      "Dataset length:  60\n",
      "offline_stock_trade_data/CPRT/sentiment_react_CPRT_2018-05-16.json has 60 trajectories\n",
      "Processing data as polars dataframe.\n",
      "Dataset length:  60\n",
      "offline_stock_trade_data/CPRT/trend_sma_fast_CPRT_2018-05-16.json has 60 trajectories\n",
      "Processing data as polars dataframe.\n",
      "Dataset length:  60\n",
      "offline_stock_trade_data/CPRT/random_CPRT_2018-05-16.json has 60 trajectories\n",
      "Processing data as polars dataframe.\n",
      "Dataset length:  60\n",
      "offline_stock_trade_data/CPRT/ppo_trained_CPRT_bad_CPRT_2018-05-16.json has 60 trajectories\n",
      "Processing data as polars dataframe.\n",
      "Dataset length:  60\n",
      "offline_stock_trade_data/ROP/random_ROP_2018-05-16.json has 60 trajectories\n",
      "Processing data as polars dataframe.\n",
      "Dataset length:  60\n",
      "offline_stock_trade_data/ROP/a2c_trained_ROP_good_ROP_2018-05-16.json has 60 trajectories\n",
      "Processing data as polars dataframe.\n",
      "Dataset length:  60\n",
      "offline_stock_trade_data/ROP/ppo_trained_ROP_bad_ROP_2018-05-16.json has 60 trajectories\n",
      "Processing data as polars dataframe.\n",
      "Dataset length:  60\n",
      "offline_stock_trade_data/ROP/momentum_stoch_rsi_ROP_2018-05-16.json has 60 trajectories\n",
      "Processing data as polars dataframe.\n",
      "Dataset length:  60\n",
      "offline_stock_trade_data/ROP/trend_sma_fast_ROP_2018-05-16.json has 60 trajectories\n",
      "Processing data as polars dataframe.\n",
      "Dataset length:  60\n",
      "offline_stock_trade_data/ROP/sentiment_react_ROP_2018-05-16.json has 60 trajectories\n",
      "Processing data as polars dataframe.\n",
      "Dataset length:  60\n",
      "offline_stock_trade_data/ROP/ddpg_trained_ROP_bad_ROP_2018-05-16.json has 60 trajectories\n",
      "Processing data as polars dataframe.\n",
      "Dataset length:  60\n",
      "offline_stock_trade_data/ORLY/ppo_trained_ORLY_bad_ORLY_2018-05-16.json has 60 trajectories\n",
      "Processing data as polars dataframe.\n",
      "Dataset length:  60\n",
      "offline_stock_trade_data/ORLY/trend_sma_fast_ORLY_2018-05-16.json has 60 trajectories\n",
      "Processing data as polars dataframe.\n",
      "Dataset length:  60\n",
      "offline_stock_trade_data/ORLY/ddpg_trained_ORLY_bad_ORLY_2018-05-16.json has 60 trajectories\n",
      "Processing data as polars dataframe.\n",
      "Dataset length:  60\n",
      "offline_stock_trade_data/ORLY/a2c_trained_ORLY_good_ORLY_2018-05-16.json has 60 trajectories\n",
      "Processing data as polars dataframe.\n",
      "Dataset length:  60\n",
      "offline_stock_trade_data/ORLY/sentiment_react_ORLY_2018-05-16.json has 60 trajectories\n",
      "Processing data as polars dataframe.\n",
      "Dataset length:  60\n",
      "offline_stock_trade_data/ORLY/momentum_stoch_rsi_ORLY_2018-05-16.json has 60 trajectories\n",
      "Processing data as polars dataframe.\n",
      "Dataset length:  60\n",
      "offline_stock_trade_data/ORLY/random_ORLY_2018-05-16.json has 60 trajectories\n",
      "Processing data as polars dataframe.\n",
      "Dataset length:  60\n",
      "offline_stock_trade_data/AMZN/random_AMZN_2018-05-16.json has 60 trajectories\n",
      "Processing data as polars dataframe.\n",
      "Dataset length:  60\n",
      "offline_stock_trade_data/AMZN/sentiment_react_AMZN_2018-05-16.json has 60 trajectories\n",
      "Processing data as polars dataframe.\n",
      "Dataset length:  60\n",
      "offline_stock_trade_data/AMZN/ppo_trained_AMZN_bad_AMZN_2018-05-16.json has 60 trajectories\n",
      "Processing data as polars dataframe.\n",
      "Dataset length:  60\n",
      "offline_stock_trade_data/AMZN/ddpg_trained_AMZN_bad_AMZN_2018-05-16.json has 60 trajectories\n",
      "Processing data as polars dataframe.\n",
      "Dataset length:  60\n",
      "offline_stock_trade_data/AMZN/a2c_trained_AMZN_bad_AMZN_2018-05-16.json has 60 trajectories\n",
      "Processing data as polars dataframe.\n",
      "Dataset length:  60\n",
      "offline_stock_trade_data/AMZN/trend_sma_fast_AMZN_2018-05-16.json has 60 trajectories\n",
      "Processing data as polars dataframe.\n",
      "Dataset length:  60\n",
      "offline_stock_trade_data/AMZN/momentum_stoch_rsi_AMZN_2018-05-16.json has 60 trajectories\n",
      "Processing data as polars dataframe.\n",
      "Dataset length:  60\n",
      "offline_stock_trade_data/JNJ/a2c_trained_JNJ_good_JNJ_2018-05-16.json has 60 trajectories\n",
      "Processing data as polars dataframe.\n",
      "Dataset length:  60\n",
      "offline_stock_trade_data/JNJ/random_JNJ_2018-05-16.json has 60 trajectories\n",
      "Processing data as polars dataframe.\n",
      "Dataset length:  60\n",
      "offline_stock_trade_data/JNJ/momentum_stoch_rsi_JNJ_2018-05-16.json has 60 trajectories\n",
      "Processing data as polars dataframe.\n",
      "Dataset length:  60\n",
      "offline_stock_trade_data/JNJ/ppo_trained_JNJ_bad_JNJ_2018-05-16.json has 60 trajectories\n",
      "Processing data as polars dataframe.\n",
      "Dataset length:  60\n",
      "offline_stock_trade_data/JNJ/ddpg_trained_JNJ_good_JNJ_2018-05-16.json has 60 trajectories\n",
      "Processing data as polars dataframe.\n",
      "Dataset length:  60\n",
      "offline_stock_trade_data/JNJ/trend_sma_fast_JNJ_2018-05-16.json has 60 trajectories\n",
      "Processing data as polars dataframe.\n",
      "Dataset length:  60\n",
      "offline_stock_trade_data/JNJ/sentiment_react_JNJ_2018-05-16.json has 60 trajectories\n",
      "Processing data as polars dataframe.\n",
      "Dataset length:  60\n",
      "offline_stock_trade_data/NKE/trend_sma_fast_NKE_2018-05-16.json has 60 trajectories\n",
      "Processing data as polars dataframe.\n",
      "Dataset length:  60\n",
      "offline_stock_trade_data/NKE/ppo_trained_NKE_bad_NKE_2018-05-16.json has 60 trajectories\n",
      "Processing data as polars dataframe.\n",
      "Dataset length:  60\n",
      "offline_stock_trade_data/NKE/momentum_stoch_rsi_NKE_2018-05-16.json has 60 trajectories\n",
      "Processing data as polars dataframe.\n",
      "Dataset length:  60\n",
      "offline_stock_trade_data/NKE/sentiment_react_NKE_2018-05-16.json has 60 trajectories\n",
      "Processing data as polars dataframe.\n",
      "Dataset length:  60\n",
      "offline_stock_trade_data/NKE/ddpg_trained_NKE_bad_NKE_2018-05-16.json has 60 trajectories\n",
      "Processing data as polars dataframe.\n",
      "Dataset length:  60\n",
      "offline_stock_trade_data/NKE/a2c_trained_NKE_bad_NKE_2018-05-16.json has 60 trajectories\n",
      "Processing data as polars dataframe.\n",
      "Dataset length:  60\n",
      "offline_stock_trade_data/NKE/random_NKE_2018-05-16.json has 60 trajectories\n",
      "Processing data as polars dataframe.\n",
      "Dataset length:  60\n",
      "offline_stock_trade_data/CSGP/momentum_stoch_rsi_CSGP_2018-05-16.json has 60 trajectories\n",
      "Processing data as polars dataframe.\n",
      "Dataset length:  60\n",
      "offline_stock_trade_data/CSGP/a2c_trained_CSGP_bad_CSGP_2018-05-16.json has 60 trajectories\n",
      "Processing data as polars dataframe.\n",
      "Dataset length:  60\n",
      "offline_stock_trade_data/CSGP/sentiment_react_CSGP_2018-05-16.json has 60 trajectories\n",
      "Processing data as polars dataframe.\n",
      "Dataset length:  60\n",
      "offline_stock_trade_data/CSGP/ddpg_trained_CSGP_bad_CSGP_2018-05-16.json has 60 trajectories\n",
      "Processing data as polars dataframe.\n",
      "Dataset length:  60\n",
      "offline_stock_trade_data/CSGP/random_CSGP_2018-05-16.json has 60 trajectories\n",
      "Processing data as polars dataframe.\n",
      "Dataset length:  60\n",
      "offline_stock_trade_data/CSGP/ppo_trained_CSGP_bad_CSGP_2018-05-16.json has 60 trajectories\n",
      "Processing data as polars dataframe.\n",
      "Dataset length:  60\n",
      "offline_stock_trade_data/CSGP/trend_sma_fast_CSGP_2018-05-16.json has 60 trajectories\n",
      "Processing data as polars dataframe.\n",
      "Dataset length:  60\n",
      "offline_stock_trade_data/TRV/sentiment_react_TRV_2018-05-16.json has 60 trajectories\n",
      "Processing data as polars dataframe.\n",
      "Dataset length:  60\n",
      "offline_stock_trade_data/TRV/trend_sma_fast_TRV_2018-05-16.json has 60 trajectories\n",
      "Processing data as polars dataframe.\n",
      "Dataset length:  60\n",
      "offline_stock_trade_data/TRV/momentum_stoch_rsi_TRV_2018-05-16.json has 60 trajectories\n",
      "Processing data as polars dataframe.\n",
      "Dataset length:  60\n",
      "offline_stock_trade_data/TRV/ddpg_trained_TRV_good_TRV_2018-05-16.json has 60 trajectories\n",
      "Processing data as polars dataframe.\n",
      "Dataset length:  60\n",
      "offline_stock_trade_data/TRV/random_TRV_2018-05-16.json has 60 trajectories\n",
      "Processing data as polars dataframe.\n",
      "Dataset length:  60\n",
      "offline_stock_trade_data/TRV/ppo_trained_TRV_bad_TRV_2018-05-16.json has 60 trajectories\n",
      "Processing data as polars dataframe.\n",
      "Dataset length:  60\n",
      "offline_stock_trade_data/TRV/a2c_trained_TRV_bad_TRV_2018-05-16.json has 60 trajectories\n",
      "Processing data as polars dataframe.\n",
      "Dataset length:  60\n",
      "offline_stock_trade_data/SPLK/trend_sma_fast_SPLK_2018-05-16.json has 60 trajectories\n",
      "Processing data as polars dataframe.\n",
      "Dataset length:  60\n",
      "offline_stock_trade_data/SPLK/momentum_stoch_rsi_SPLK_2018-05-16.json has 60 trajectories\n",
      "Processing data as polars dataframe.\n",
      "Dataset length:  60\n",
      "offline_stock_trade_data/SPLK/sentiment_react_SPLK_2018-05-16.json has 60 trajectories\n",
      "Processing data as polars dataframe.\n",
      "Dataset length:  60\n",
      "offline_stock_trade_data/SPLK/ddpg_trained_SPLK_bad_SPLK_2018-05-16.json has 60 trajectories\n",
      "Processing data as polars dataframe.\n",
      "Dataset length:  60\n",
      "offline_stock_trade_data/SPLK/random_SPLK_2018-05-16.json has 60 trajectories\n",
      "Processing data as polars dataframe.\n",
      "Dataset length:  60\n",
      "offline_stock_trade_data/SPLK/ppo_trained_SPLK_bad_SPLK_2018-05-16.json has 60 trajectories\n",
      "Processing data as polars dataframe.\n",
      "Dataset length:  60\n",
      "offline_stock_trade_data/SPLK/a2c_trained_SPLK_bad_SPLK_2018-05-16.json has 60 trajectories\n",
      "Processing data as polars dataframe.\n",
      "Dataset length:  60\n",
      "offline_stock_trade_data/MMM/sentiment_react_MMM_2018-05-16.json has 60 trajectories\n",
      "Processing data as polars dataframe.\n",
      "Dataset length:  60\n",
      "offline_stock_trade_data/MMM/random_MMM_2018-05-16.json has 60 trajectories\n",
      "Processing data as polars dataframe.\n",
      "Dataset length:  60\n",
      "offline_stock_trade_data/MMM/trend_sma_fast_MMM_2018-05-16.json has 60 trajectories\n",
      "Processing data as polars dataframe.\n",
      "Dataset length:  60\n",
      "offline_stock_trade_data/MMM/ddpg_trained_MMM_good_MMM_2018-05-16.json has 60 trajectories\n",
      "Processing data as polars dataframe.\n",
      "Dataset length:  60\n",
      "offline_stock_trade_data/MMM/ppo_trained_MMM_bad_MMM_2018-05-16.json has 60 trajectories\n",
      "Processing data as polars dataframe.\n",
      "Dataset length:  60\n",
      "offline_stock_trade_data/MMM/momentum_stoch_rsi_MMM_2018-05-16.json has 60 trajectories\n",
      "Processing data as polars dataframe.\n",
      "Dataset length:  60\n",
      "offline_stock_trade_data/MMM/a2c_trained_MMM_good_MMM_2018-05-16.json has 60 trajectories\n",
      "Processing data as polars dataframe.\n",
      "Dataset length:  60\n",
      "offline_stock_trade_data/SIRI/momentum_stoch_rsi_SIRI_2018-05-16.json has 60 trajectories\n",
      "Processing data as polars dataframe.\n",
      "Dataset length:  60\n",
      "offline_stock_trade_data/SIRI/random_SIRI_2018-05-16.json has 60 trajectories\n",
      "Processing data as polars dataframe.\n",
      "Dataset length:  60\n",
      "offline_stock_trade_data/SIRI/ddpg_trained_SIRI_bad_SIRI_2018-05-16.json has 60 trajectories\n",
      "Processing data as polars dataframe.\n",
      "Dataset length:  60\n",
      "offline_stock_trade_data/SIRI/a2c_trained_SIRI_bad_SIRI_2018-05-16.json has 60 trajectories\n",
      "Processing data as polars dataframe.\n",
      "Dataset length:  60\n",
      "offline_stock_trade_data/SIRI/trend_sma_fast_SIRI_2018-05-16.json has 60 trajectories\n",
      "Processing data as polars dataframe.\n",
      "Dataset length:  60\n",
      "offline_stock_trade_data/SIRI/sentiment_react_SIRI_2018-05-16.json has 60 trajectories\n",
      "Processing data as polars dataframe.\n",
      "Dataset length:  60\n",
      "offline_stock_trade_data/SIRI/ppo_trained_SIRI_bad_SIRI_2018-05-16.json has 60 trajectories\n",
      "Processing data as polars dataframe.\n",
      "Dataset length:  60\n",
      "offline_stock_trade_data/CMCSA/random_CMCSA_2018-05-16.json has 60 trajectories\n",
      "Processing data as polars dataframe.\n",
      "Dataset length:  60\n",
      "offline_stock_trade_data/CMCSA/sentiment_react_CMCSA_2018-05-16.json has 60 trajectories\n",
      "Processing data as polars dataframe.\n",
      "Dataset length:  60\n",
      "offline_stock_trade_data/CMCSA/a2c_trained_CMCSA_bad_CMCSA_2018-05-16.json has 60 trajectories\n",
      "Processing data as polars dataframe.\n",
      "Dataset length:  60\n",
      "offline_stock_trade_data/CMCSA/momentum_stoch_rsi_CMCSA_2018-05-16.json has 60 trajectories\n",
      "Processing data as polars dataframe.\n",
      "Dataset length:  60\n",
      "offline_stock_trade_data/CMCSA/ppo_trained_CMCSA_good_CMCSA_2018-05-16.json has 60 trajectories\n",
      "Processing data as polars dataframe.\n",
      "Dataset length:  60\n",
      "offline_stock_trade_data/CMCSA/trend_sma_fast_CMCSA_2018-05-16.json has 60 trajectories\n",
      "Processing data as polars dataframe.\n",
      "Dataset length:  60\n",
      "offline_stock_trade_data/CMCSA/ddpg_trained_CMCSA_good_CMCSA_2018-05-16.json has 60 trajectories\n",
      "Processing data as polars dataframe.\n",
      "Dataset length:  60\n",
      "offline_stock_trade_data/CDNS/ddpg_trained_CDNS_good_CDNS_2018-05-16.json has 60 trajectories\n",
      "Processing data as polars dataframe.\n",
      "Dataset length:  60\n",
      "offline_stock_trade_data/CDNS/ppo_trained_CDNS_good_CDNS_2018-05-16.json has 60 trajectories\n",
      "Processing data as polars dataframe.\n",
      "Dataset length:  60\n",
      "offline_stock_trade_data/CDNS/sentiment_react_CDNS_2018-05-16.json has 60 trajectories\n",
      "Processing data as polars dataframe.\n",
      "Dataset length:  60\n",
      "offline_stock_trade_data/CDNS/random_CDNS_2018-05-16.json has 60 trajectories\n",
      "Processing data as polars dataframe.\n",
      "Dataset length:  60\n",
      "offline_stock_trade_data/CDNS/a2c_trained_CDNS_bad_CDNS_2018-05-16.json has 60 trajectories\n",
      "Processing data as polars dataframe.\n",
      "Dataset length:  60\n",
      "offline_stock_trade_data/CDNS/trend_sma_fast_CDNS_2018-05-16.json has 60 trajectories\n",
      "Processing data as polars dataframe.\n",
      "Dataset length:  60\n",
      "offline_stock_trade_data/CDNS/momentum_stoch_rsi_CDNS_2018-05-16.json has 60 trajectories\n",
      "Processing data as polars dataframe.\n",
      "Dataset length:  60\n",
      "offline_stock_trade_data/DLTR/ppo_trained_DLTR_bad_DLTR_2018-05-16.json has 60 trajectories\n",
      "Processing data as polars dataframe.\n",
      "Dataset length:  60\n",
      "offline_stock_trade_data/DLTR/sentiment_react_DLTR_2018-05-16.json has 60 trajectories\n",
      "Processing data as polars dataframe.\n",
      "Dataset length:  60\n",
      "offline_stock_trade_data/DLTR/a2c_trained_DLTR_bad_DLTR_2018-05-16.json has 60 trajectories\n",
      "Processing data as polars dataframe.\n",
      "Dataset length:  60\n",
      "offline_stock_trade_data/DLTR/trend_sma_fast_DLTR_2018-05-16.json has 60 trajectories\n",
      "Processing data as polars dataframe.\n",
      "Dataset length:  60\n",
      "offline_stock_trade_data/DLTR/random_DLTR_2018-05-16.json has 60 trajectories\n",
      "Processing data as polars dataframe.\n",
      "Dataset length:  60\n",
      "offline_stock_trade_data/DLTR/ddpg_trained_DLTR_good_DLTR_2018-05-16.json has 60 trajectories\n",
      "Processing data as polars dataframe.\n",
      "Dataset length:  60\n",
      "offline_stock_trade_data/DLTR/momentum_stoch_rsi_DLTR_2018-05-16.json has 60 trajectories\n",
      "Processing data as polars dataframe.\n",
      "Dataset length:  60\n",
      "offline_stock_trade_data/GOOG/trend_sma_fast_GOOG_2018-05-16.json has 60 trajectories\n",
      "Processing data as polars dataframe.\n",
      "Dataset length:  60\n",
      "offline_stock_trade_data/GOOG/ddpg_trained_GOOG_good_GOOG_2018-05-16.json has 60 trajectories\n",
      "Processing data as polars dataframe.\n",
      "Dataset length:  60\n",
      "offline_stock_trade_data/GOOG/sentiment_react_GOOG_2018-05-16.json has 60 trajectories\n",
      "Processing data as polars dataframe.\n",
      "Dataset length:  60\n",
      "offline_stock_trade_data/GOOG/a2c_trained_GOOG_bad_GOOG_2018-05-16.json has 60 trajectories\n",
      "Processing data as polars dataframe.\n",
      "Dataset length:  60\n",
      "offline_stock_trade_data/GOOG/momentum_stoch_rsi_GOOG_2018-05-16.json has 60 trajectories\n",
      "Processing data as polars dataframe.\n",
      "Dataset length:  60\n",
      "offline_stock_trade_data/GOOG/random_GOOG_2018-05-16.json has 60 trajectories\n",
      "Processing data as polars dataframe.\n",
      "Dataset length:  60\n",
      "offline_stock_trade_data/GOOG/ppo_trained_GOOG_good_GOOG_2018-05-16.json has 60 trajectories\n",
      "Processing data as polars dataframe.\n",
      "Dataset length:  60\n",
      "offline_stock_trade_data/GOOGL/random_GOOGL_2018-05-16.json has 60 trajectories\n",
      "Processing data as polars dataframe.\n",
      "Dataset length:  60\n",
      "offline_stock_trade_data/GOOGL/trend_sma_fast_GOOGL_2018-05-16.json has 60 trajectories\n",
      "Processing data as polars dataframe.\n",
      "Dataset length:  60\n",
      "offline_stock_trade_data/GOOGL/momentum_stoch_rsi_GOOGL_2018-05-16.json has 60 trajectories\n",
      "Processing data as polars dataframe.\n",
      "Dataset length:  60\n",
      "offline_stock_trade_data/GOOGL/sentiment_react_GOOGL_2018-05-16.json has 60 trajectories\n",
      "Processing data as polars dataframe.\n",
      "Dataset length:  60\n",
      "offline_stock_trade_data/GOOGL/a2c_trained_GOOGL_good_GOOGL_2018-05-16.json has 60 trajectories\n",
      "Processing data as polars dataframe.\n",
      "Dataset length:  60\n",
      "offline_stock_trade_data/GOOGL/ppo_trained_GOOGL_bad_GOOGL_2018-05-16.json has 60 trajectories\n",
      "Processing data as polars dataframe.\n",
      "Dataset length:  60\n",
      "offline_stock_trade_data/GOOGL/ddpg_trained_GOOGL_bad_GOOGL_2018-05-16.json has 60 trajectories\n",
      "Processing data as polars dataframe.\n",
      "Dataset length:  60\n",
      "offline_stock_trade_data/PDD/sentiment_react_PDD_2018-05-16.json has 60 trajectories\n",
      "Processing data as polars dataframe.\n",
      "Dataset length:  60\n",
      "offline_stock_trade_data/PDD/random_PDD_2018-05-16.json has 60 trajectories\n",
      "Processing data as polars dataframe.\n",
      "Dataset length:  60\n",
      "offline_stock_trade_data/PDD/trend_sma_fast_PDD_2018-05-16.json has 60 trajectories\n",
      "Processing data as polars dataframe.\n",
      "Dataset length:  60\n",
      "offline_stock_trade_data/PDD/momentum_stoch_rsi_PDD_2018-05-16.json has 60 trajectories\n",
      "Processing data as polars dataframe.\n",
      "Dataset length:  60\n",
      "offline_stock_trade_data/TXN/momentum_stoch_rsi_TXN_2018-05-16.json has 60 trajectories\n",
      "Processing data as polars dataframe.\n",
      "Dataset length:  60\n",
      "offline_stock_trade_data/TXN/trend_sma_fast_TXN_2018-05-16.json has 60 trajectories\n",
      "Processing data as polars dataframe.\n",
      "Dataset length:  60\n",
      "offline_stock_trade_data/TXN/ppo_trained_TXN_bad_TXN_2018-05-16.json has 60 trajectories\n",
      "Processing data as polars dataframe.\n",
      "Dataset length:  60\n",
      "offline_stock_trade_data/TXN/a2c_trained_TXN_good_TXN_2018-05-16.json has 60 trajectories\n",
      "Processing data as polars dataframe.\n",
      "Dataset length:  60\n",
      "offline_stock_trade_data/TXN/ddpg_trained_TXN_bad_TXN_2018-05-16.json has 60 trajectories\n",
      "Processing data as polars dataframe.\n",
      "Dataset length:  60\n",
      "offline_stock_trade_data/TXN/random_TXN_2018-05-16.json has 60 trajectories\n",
      "Processing data as polars dataframe.\n",
      "Dataset length:  60\n",
      "offline_stock_trade_data/TXN/sentiment_react_TXN_2018-05-16.json has 60 trajectories\n",
      "Processing data as polars dataframe.\n",
      "Dataset length:  60\n",
      "offline_stock_trade_data/MNST/momentum_stoch_rsi_MNST_2018-05-16.json has 60 trajectories\n",
      "Processing data as polars dataframe.\n",
      "Dataset length:  60\n",
      "offline_stock_trade_data/MNST/trend_sma_fast_MNST_2018-05-16.json has 60 trajectories\n",
      "Processing data as polars dataframe.\n",
      "Dataset length:  60\n",
      "offline_stock_trade_data/MNST/ddpg_trained_MNST_good_MNST_2018-05-16.json has 60 trajectories\n",
      "Processing data as polars dataframe.\n",
      "Dataset length:  60\n",
      "offline_stock_trade_data/MNST/random_MNST_2018-05-16.json has 60 trajectories\n",
      "Processing data as polars dataframe.\n",
      "Dataset length:  60\n",
      "offline_stock_trade_data/MNST/ppo_trained_MNST_good_MNST_2018-05-16.json has 60 trajectories\n",
      "Processing data as polars dataframe.\n",
      "Dataset length:  60\n",
      "offline_stock_trade_data/MNST/sentiment_react_MNST_2018-05-16.json has 60 trajectories\n",
      "Processing data as polars dataframe.\n",
      "Dataset length:  60\n",
      "offline_stock_trade_data/MNST/a2c_trained_MNST_bad_MNST_2018-05-16.json has 60 trajectories\n",
      "Processing data as polars dataframe.\n",
      "Dataset length:  60\n",
      "offline_stock_trade_data/KHC/ddpg_trained_KHC_bad_KHC_2018-05-16.json has 60 trajectories\n",
      "Processing data as polars dataframe.\n",
      "Dataset length:  60\n",
      "offline_stock_trade_data/KHC/ppo_trained_KHC_good_KHC_2018-05-16.json has 60 trajectories\n",
      "Processing data as polars dataframe.\n",
      "Dataset length:  60\n",
      "offline_stock_trade_data/KHC/trend_sma_fast_KHC_2018-05-16.json has 60 trajectories\n",
      "Processing data as polars dataframe.\n",
      "Dataset length:  60\n",
      "offline_stock_trade_data/KHC/sentiment_react_KHC_2018-05-16.json has 60 trajectories\n",
      "Processing data as polars dataframe.\n",
      "Dataset length:  60\n",
      "offline_stock_trade_data/KHC/a2c_trained_KHC_bad_KHC_2018-05-16.json has 60 trajectories\n",
      "Processing data as polars dataframe.\n",
      "Dataset length:  60\n",
      "offline_stock_trade_data/KHC/random_KHC_2018-05-16.json has 60 trajectories\n",
      "Processing data as polars dataframe.\n",
      "Dataset length:  60\n",
      "offline_stock_trade_data/KHC/momentum_stoch_rsi_KHC_2018-05-16.json has 60 trajectories\n",
      "Processing data as polars dataframe.\n",
      "Dataset length:  60\n",
      "offline_stock_trade_data/AEP/momentum_stoch_rsi_AEP_2018-05-16.json has 60 trajectories\n",
      "Processing data as polars dataframe.\n",
      "Dataset length:  60\n",
      "offline_stock_trade_data/AEP/random_AEP_2018-05-16.json has 60 trajectories\n",
      "Processing data as polars dataframe.\n",
      "Dataset length:  60\n",
      "offline_stock_trade_data/AEP/sentiment_react_AEP_2018-05-16.json has 60 trajectories\n",
      "Processing data as polars dataframe.\n",
      "Dataset length:  60\n",
      "offline_stock_trade_data/AEP/trend_sma_fast_AEP_2018-05-16.json has 60 trajectories\n",
      "Processing data as polars dataframe.\n",
      "Dataset length:  60\n",
      "offline_stock_trade_data/DIS/ddpg_trained_DIS_good_DIS_2018-05-16.json has 60 trajectories\n",
      "Processing data as polars dataframe.\n",
      "Dataset length:  60\n",
      "offline_stock_trade_data/DIS/sentiment_react_DIS_2018-05-16.json has 60 trajectories\n",
      "Processing data as polars dataframe.\n",
      "Dataset length:  60\n",
      "offline_stock_trade_data/DIS/random_DIS_2018-05-16.json has 60 trajectories\n",
      "Processing data as polars dataframe.\n",
      "Dataset length:  60\n",
      "offline_stock_trade_data/DIS/trend_sma_fast_DIS_2018-05-16.json has 60 trajectories\n",
      "Processing data as polars dataframe.\n",
      "Dataset length:  60\n",
      "offline_stock_trade_data/DIS/a2c_trained_DIS_good_DIS_2018-05-16.json has 60 trajectories\n",
      "Processing data as polars dataframe.\n",
      "Dataset length:  60\n",
      "offline_stock_trade_data/DIS/momentum_stoch_rsi_DIS_2018-05-16.json has 60 trajectories\n",
      "Processing data as polars dataframe.\n",
      "Dataset length:  60\n",
      "offline_stock_trade_data/DIS/ppo_trained_DIS_bad_DIS_2018-05-16.json has 60 trajectories\n",
      "Processing data as polars dataframe.\n",
      "Dataset length:  60\n",
      "offline_stock_trade_data/INTC/momentum_stoch_rsi_INTC_2018-05-16.json has 60 trajectories\n",
      "Processing data as polars dataframe.\n",
      "Dataset length:  60\n",
      "offline_stock_trade_data/INTC/random_INTC_2018-05-16.json has 60 trajectories\n",
      "Processing data as polars dataframe.\n",
      "Dataset length:  60\n",
      "offline_stock_trade_data/INTC/ddpg_trained_INTC_good_INTC_2018-05-16.json has 60 trajectories\n",
      "Processing data as polars dataframe.\n",
      "Dataset length:  60\n",
      "offline_stock_trade_data/INTC/trend_sma_fast_INTC_2018-05-16.json has 60 trajectories\n",
      "Processing data as polars dataframe.\n",
      "Dataset length:  60\n",
      "offline_stock_trade_data/INTC/a2c_trained_INTC_bad_INTC_2018-05-16.json has 60 trajectories\n",
      "Processing data as polars dataframe.\n",
      "Dataset length:  60\n",
      "offline_stock_trade_data/INTC/sentiment_react_INTC_2018-05-16.json has 60 trajectories\n",
      "Processing data as polars dataframe.\n",
      "Dataset length:  60\n",
      "offline_stock_trade_data/INTC/ppo_trained_INTC_bad_INTC_2018-05-16.json has 60 trajectories\n",
      "Processing data as polars dataframe.\n",
      "Dataset length:  60\n",
      "offline_stock_trade_data/GEHC/momentum_stoch_rsi_GEHC_2018-05-16.json has 60 trajectories\n",
      "Processing data as polars dataframe.\n",
      "Dataset length:  60\n",
      "offline_stock_trade_data/GEHC/sentiment_react_GEHC_2018-05-16.json has 60 trajectories\n",
      "Processing data as polars dataframe.\n",
      "Dataset length:  60\n",
      "offline_stock_trade_data/GEHC/random_GEHC_2018-05-16.json has 60 trajectories\n",
      "Processing data as polars dataframe.\n",
      "Dataset length:  60\n",
      "offline_stock_trade_data/GEHC/trend_sma_fast_GEHC_2018-05-16.json has 60 trajectories\n",
      "Processing data as polars dataframe.\n",
      "Dataset length:  60\n",
      "offline_stock_trade_data/PEP/momentum_stoch_rsi_PEP_2018-05-16.json has 60 trajectories\n",
      "Processing data as polars dataframe.\n",
      "Dataset length:  60\n",
      "offline_stock_trade_data/PEP/ddpg_trained_PEP_good_PEP_2018-05-16.json has 60 trajectories\n",
      "Processing data as polars dataframe.\n",
      "Dataset length:  60\n",
      "offline_stock_trade_data/PEP/a2c_trained_PEP_good_PEP_2018-05-16.json has 60 trajectories\n",
      "Processing data as polars dataframe.\n",
      "Dataset length:  60\n",
      "offline_stock_trade_data/PEP/trend_sma_fast_PEP_2018-05-16.json has 60 trajectories\n",
      "Processing data as polars dataframe.\n",
      "Dataset length:  60\n",
      "offline_stock_trade_data/PEP/random_PEP_2018-05-16.json has 60 trajectories\n",
      "Processing data as polars dataframe.\n",
      "Dataset length:  60\n",
      "offline_stock_trade_data/PEP/sentiment_react_PEP_2018-05-16.json has 60 trajectories\n",
      "Processing data as polars dataframe.\n",
      "Dataset length:  60\n",
      "offline_stock_trade_data/PEP/ppo_trained_PEP_bad_PEP_2018-05-16.json has 60 trajectories\n",
      "Processing data as polars dataframe.\n",
      "Dataset length:  60\n",
      "offline_stock_trade_data/PYPL/momentum_stoch_rsi_PYPL_2018-05-16.json has 60 trajectories\n",
      "Processing data as polars dataframe.\n",
      "Dataset length:  60\n",
      "offline_stock_trade_data/PYPL/trend_sma_fast_PYPL_2018-05-16.json has 60 trajectories\n",
      "Processing data as polars dataframe.\n",
      "Dataset length:  60\n",
      "offline_stock_trade_data/PYPL/ppo_trained_PYPL_bad_PYPL_2018-05-16.json has 60 trajectories\n",
      "Processing data as polars dataframe.\n",
      "Dataset length:  60\n",
      "offline_stock_trade_data/PYPL/random_PYPL_2018-05-16.json has 60 trajectories\n",
      "Processing data as polars dataframe.\n",
      "Dataset length:  60\n",
      "offline_stock_trade_data/PYPL/a2c_trained_PYPL_bad_PYPL_2018-05-16.json has 60 trajectories\n",
      "Processing data as polars dataframe.\n",
      "Dataset length:  60\n",
      "offline_stock_trade_data/PYPL/sentiment_react_PYPL_2018-05-16.json has 60 trajectories\n",
      "Processing data as polars dataframe.\n",
      "Dataset length:  60\n",
      "offline_stock_trade_data/PYPL/ddpg_trained_PYPL_bad_PYPL_2018-05-16.json has 60 trajectories\n",
      "Processing data as polars dataframe.\n",
      "Dataset length:  60\n",
      "offline_stock_trade_data/PANW/ddpg_trained_PANW_bad_PANW_2018-05-16.json has 60 trajectories\n",
      "Processing data as polars dataframe.\n",
      "Dataset length:  60\n",
      "offline_stock_trade_data/PANW/random_PANW_2018-05-16.json has 60 trajectories\n",
      "Processing data as polars dataframe.\n",
      "Dataset length:  60\n",
      "offline_stock_trade_data/PANW/momentum_stoch_rsi_PANW_2018-05-16.json has 60 trajectories\n",
      "Processing data as polars dataframe.\n",
      "Dataset length:  60\n",
      "offline_stock_trade_data/PANW/ppo_trained_PANW_bad_PANW_2018-05-16.json has 60 trajectories\n",
      "Processing data as polars dataframe.\n",
      "Dataset length:  60\n",
      "offline_stock_trade_data/PANW/a2c_trained_PANW_bad_PANW_2018-05-16.json has 60 trajectories\n",
      "Processing data as polars dataframe.\n",
      "Dataset length:  60\n",
      "offline_stock_trade_data/PANW/trend_sma_fast_PANW_2018-05-16.json has 60 trajectories\n",
      "Processing data as polars dataframe.\n",
      "Dataset length:  60\n",
      "offline_stock_trade_data/PANW/sentiment_react_PANW_2018-05-16.json has 60 trajectories\n",
      "Processing data as polars dataframe.\n",
      "Dataset length:  60\n",
      "offline_stock_trade_data/ADI/a2c_trained_ADI_bad_ADI_2018-05-16.json has 60 trajectories\n"
     ]
    },
    {
     "data": {
      "application/vnd.jupyter.widget-view+json": {
       "model_id": "1c7fefb2f1324ed0bfa9276b2c9072f7",
       "version_major": 2,
       "version_minor": 0
      },
      "text/plain": [
       "Generating train split: 0 examples [00:00, ? examples/s]"
      ]
     },
     "metadata": {},
     "output_type": "display_data"
    },
    {
     "name": "stdout",
     "output_type": "stream",
     "text": [
      "Processing data as polars dataframe.\n",
      "Dataset length:  60\n",
      "offline_stock_trade_data/ADI/ppo_trained_ADI_bad_ADI_2018-05-16.json has 60 trajectories\n"
     ]
    },
    {
     "data": {
      "application/vnd.jupyter.widget-view+json": {
       "model_id": "33d08c6386654918af4e946e4c454a1e",
       "version_major": 2,
       "version_minor": 0
      },
      "text/plain": [
       "Generating train split: 0 examples [00:00, ? examples/s]"
      ]
     },
     "metadata": {},
     "output_type": "display_data"
    },
    {
     "name": "stdout",
     "output_type": "stream",
     "text": [
      "Processing data as polars dataframe.\n",
      "Dataset length:  60\n",
      "offline_stock_trade_data/ADI/ddpg_trained_ADI_good_ADI_2018-05-16.json has 60 trajectories\n"
     ]
    },
    {
     "data": {
      "application/vnd.jupyter.widget-view+json": {
       "model_id": "b9e1847356a4408dbb3d4b315705e357",
       "version_major": 2,
       "version_minor": 0
      },
      "text/plain": [
       "Generating train split: 0 examples [00:00, ? examples/s]"
      ]
     },
     "metadata": {},
     "output_type": "display_data"
    },
    {
     "name": "stdout",
     "output_type": "stream",
     "text": [
      "Processing data as polars dataframe.\n",
      "Dataset length:  60\n",
      "offline_stock_trade_data/ADI/sentiment_react_ADI_2018-05-16.json has 60 trajectories\n"
     ]
    },
    {
     "data": {
      "application/vnd.jupyter.widget-view+json": {
       "model_id": "773f78390d1245628dfb98ec0e0ef816",
       "version_major": 2,
       "version_minor": 0
      },
      "text/plain": [
       "Generating train split: 0 examples [00:00, ? examples/s]"
      ]
     },
     "metadata": {},
     "output_type": "display_data"
    },
    {
     "name": "stdout",
     "output_type": "stream",
     "text": [
      "Processing data as polars dataframe.\n",
      "Dataset length:  60\n",
      "offline_stock_trade_data/ADI/random_ADI_2018-05-16.json has 60 trajectories\n"
     ]
    },
    {
     "data": {
      "application/vnd.jupyter.widget-view+json": {
       "model_id": "733c1128dab94268a52709c38dc12bac",
       "version_major": 2,
       "version_minor": 0
      },
      "text/plain": [
       "Generating train split: 0 examples [00:00, ? examples/s]"
      ]
     },
     "metadata": {},
     "output_type": "display_data"
    },
    {
     "name": "stdout",
     "output_type": "stream",
     "text": [
      "Processing data as polars dataframe.\n",
      "Dataset length:  60\n",
      "offline_stock_trade_data/ADI/momentum_stoch_rsi_ADI_2018-05-16.json has 60 trajectories\n"
     ]
    },
    {
     "data": {
      "application/vnd.jupyter.widget-view+json": {
       "model_id": "a8b8c19f78474307aa14de3432898ec9",
       "version_major": 2,
       "version_minor": 0
      },
      "text/plain": [
       "Generating train split: 0 examples [00:00, ? examples/s]"
      ]
     },
     "metadata": {},
     "output_type": "display_data"
    },
    {
     "name": "stdout",
     "output_type": "stream",
     "text": [
      "Processing data as polars dataframe.\n",
      "Dataset length:  60\n",
      "offline_stock_trade_data/ADI/trend_sma_fast_ADI_2018-05-16.json has 60 trajectories\n"
     ]
    },
    {
     "data": {
      "application/vnd.jupyter.widget-view+json": {
       "model_id": "5980ef4298004afdb6c89234b1d9c654",
       "version_major": 2,
       "version_minor": 0
      },
      "text/plain": [
       "Generating train split: 0 examples [00:00, ? examples/s]"
      ]
     },
     "metadata": {},
     "output_type": "display_data"
    },
    {
     "name": "stdout",
     "output_type": "stream",
     "text": [
      "Processing data as polars dataframe.\n",
      "Dataset length:  60\n",
      "offline_stock_trade_data/CHTR/sentiment_react_CHTR_2018-05-16.json has 60 trajectories\n"
     ]
    },
    {
     "data": {
      "application/vnd.jupyter.widget-view+json": {
       "model_id": "5098e1a578134946b2a17a4445088deb",
       "version_major": 2,
       "version_minor": 0
      },
      "text/plain": [
       "Generating train split: 0 examples [00:00, ? examples/s]"
      ]
     },
     "metadata": {},
     "output_type": "display_data"
    },
    {
     "name": "stdout",
     "output_type": "stream",
     "text": [
      "Processing data as polars dataframe.\n",
      "Dataset length:  60\n",
      "offline_stock_trade_data/CHTR/random_CHTR_2018-05-16.json has 60 trajectories\n"
     ]
    },
    {
     "data": {
      "application/vnd.jupyter.widget-view+json": {
       "model_id": "d1fdf533a60d4d62b92677188d7facc8",
       "version_major": 2,
       "version_minor": 0
      },
      "text/plain": [
       "Generating train split: 0 examples [00:00, ? examples/s]"
      ]
     },
     "metadata": {},
     "output_type": "display_data"
    },
    {
     "name": "stdout",
     "output_type": "stream",
     "text": [
      "Processing data as polars dataframe.\n",
      "Dataset length:  60\n",
      "offline_stock_trade_data/CHTR/ddpg_trained_CHTR_bad_CHTR_2018-05-16.json has 60 trajectories\n"
     ]
    },
    {
     "data": {
      "application/vnd.jupyter.widget-view+json": {
       "model_id": "96416d214c504821a9e403e152290be1",
       "version_major": 2,
       "version_minor": 0
      },
      "text/plain": [
       "Generating train split: 0 examples [00:00, ? examples/s]"
      ]
     },
     "metadata": {},
     "output_type": "display_data"
    },
    {
     "name": "stdout",
     "output_type": "stream",
     "text": [
      "Processing data as polars dataframe.\n",
      "Dataset length:  60\n",
      "offline_stock_trade_data/CHTR/ppo_trained_CHTR_bad_CHTR_2018-05-16.json has 60 trajectories\n"
     ]
    },
    {
     "data": {
      "application/vnd.jupyter.widget-view+json": {
       "model_id": "1a26e572ffa3465b81d016e7961c8baf",
       "version_major": 2,
       "version_minor": 0
      },
      "text/plain": [
       "Generating train split: 0 examples [00:00, ? examples/s]"
      ]
     },
     "metadata": {},
     "output_type": "display_data"
    },
    {
     "name": "stdout",
     "output_type": "stream",
     "text": [
      "Processing data as polars dataframe.\n",
      "Dataset length:  60\n",
      "offline_stock_trade_data/CHTR/trend_sma_fast_CHTR_2018-05-16.json has 60 trajectories\n"
     ]
    },
    {
     "data": {
      "application/vnd.jupyter.widget-view+json": {
       "model_id": "58cd2f5953004ca8a178068ab26ea123",
       "version_major": 2,
       "version_minor": 0
      },
      "text/plain": [
       "Generating train split: 0 examples [00:00, ? examples/s]"
      ]
     },
     "metadata": {},
     "output_type": "display_data"
    },
    {
     "name": "stdout",
     "output_type": "stream",
     "text": [
      "Processing data as polars dataframe.\n",
      "Dataset length:  60\n",
      "offline_stock_trade_data/CHTR/a2c_trained_CHTR_good_CHTR_2018-05-16.json has 60 trajectories\n"
     ]
    },
    {
     "data": {
      "application/vnd.jupyter.widget-view+json": {
       "model_id": "ec4d942a305d43e99ab5a7b874269cdc",
       "version_major": 2,
       "version_minor": 0
      },
      "text/plain": [
       "Generating train split: 0 examples [00:00, ? examples/s]"
      ]
     },
     "metadata": {},
     "output_type": "display_data"
    },
    {
     "name": "stdout",
     "output_type": "stream",
     "text": [
      "Processing data as polars dataframe.\n",
      "Dataset length:  60\n",
      "offline_stock_trade_data/CHTR/momentum_stoch_rsi_CHTR_2018-05-16.json has 60 trajectories\n"
     ]
    },
    {
     "data": {
      "application/vnd.jupyter.widget-view+json": {
       "model_id": "284d182631ca454ba84cd63011bdbaf5",
       "version_major": 2,
       "version_minor": 0
      },
      "text/plain": [
       "Generating train split: 0 examples [00:00, ? examples/s]"
      ]
     },
     "metadata": {},
     "output_type": "display_data"
    },
    {
     "name": "stdout",
     "output_type": "stream",
     "text": [
      "Processing data as polars dataframe.\n",
      "Dataset length:  60\n",
      "offline_stock_trade_data/VZ/ddpg_trained_VZ_good_VZ_2018-05-16.json has 60 trajectories\n"
     ]
    },
    {
     "data": {
      "application/vnd.jupyter.widget-view+json": {
       "model_id": "9070a307e14f4abe82ca55424b2f614b",
       "version_major": 2,
       "version_minor": 0
      },
      "text/plain": [
       "Generating train split: 0 examples [00:00, ? examples/s]"
      ]
     },
     "metadata": {},
     "output_type": "display_data"
    },
    {
     "name": "stdout",
     "output_type": "stream",
     "text": [
      "Processing data as polars dataframe.\n",
      "Dataset length:  60\n",
      "offline_stock_trade_data/VZ/sentiment_react_VZ_2018-05-16.json has 60 trajectories\n"
     ]
    },
    {
     "data": {
      "application/vnd.jupyter.widget-view+json": {
       "model_id": "f3e252301cbd43f083a264e99a01f9f5",
       "version_major": 2,
       "version_minor": 0
      },
      "text/plain": [
       "Generating train split: 0 examples [00:00, ? examples/s]"
      ]
     },
     "metadata": {},
     "output_type": "display_data"
    },
    {
     "name": "stdout",
     "output_type": "stream",
     "text": [
      "Processing data as polars dataframe.\n",
      "Dataset length:  60\n",
      "offline_stock_trade_data/VZ/trend_sma_fast_VZ_2018-05-16.json has 60 trajectories\n"
     ]
    },
    {
     "data": {
      "application/vnd.jupyter.widget-view+json": {
       "model_id": "cfaf68d3fd1a434d90564625a5f4ca7b",
       "version_major": 2,
       "version_minor": 0
      },
      "text/plain": [
       "Generating train split: 0 examples [00:00, ? examples/s]"
      ]
     },
     "metadata": {},
     "output_type": "display_data"
    },
    {
     "name": "stdout",
     "output_type": "stream",
     "text": [
      "Processing data as polars dataframe.\n",
      "Dataset length:  60\n",
      "offline_stock_trade_data/VZ/ppo_trained_VZ_good_VZ_2018-05-16.json has 60 trajectories\n"
     ]
    },
    {
     "data": {
      "application/vnd.jupyter.widget-view+json": {
       "model_id": "8bb354acb0f548798eb20462f5f641f3",
       "version_major": 2,
       "version_minor": 0
      },
      "text/plain": [
       "Generating train split: 0 examples [00:00, ? examples/s]"
      ]
     },
     "metadata": {},
     "output_type": "display_data"
    },
    {
     "name": "stdout",
     "output_type": "stream",
     "text": [
      "Processing data as polars dataframe.\n",
      "Dataset length:  60\n",
      "offline_stock_trade_data/VZ/random_VZ_2018-05-16.json has 60 trajectories\n"
     ]
    },
    {
     "data": {
      "application/vnd.jupyter.widget-view+json": {
       "model_id": "5b37a3f8c1ae4b059d01e92f02708bee",
       "version_major": 2,
       "version_minor": 0
      },
      "text/plain": [
       "Generating train split: 0 examples [00:00, ? examples/s]"
      ]
     },
     "metadata": {},
     "output_type": "display_data"
    },
    {
     "name": "stdout",
     "output_type": "stream",
     "text": [
      "Processing data as polars dataframe.\n",
      "Dataset length:  60\n",
      "offline_stock_trade_data/VZ/a2c_trained_VZ_good_VZ_2018-05-16.json has 60 trajectories\n"
     ]
    },
    {
     "data": {
      "application/vnd.jupyter.widget-view+json": {
       "model_id": "1507a55c6fc4467bb792bcc52b3db095",
       "version_major": 2,
       "version_minor": 0
      },
      "text/plain": [
       "Generating train split: 0 examples [00:00, ? examples/s]"
      ]
     },
     "metadata": {},
     "output_type": "display_data"
    },
    {
     "name": "stdout",
     "output_type": "stream",
     "text": [
      "Processing data as polars dataframe.\n",
      "Dataset length:  60\n",
      "offline_stock_trade_data/VZ/momentum_stoch_rsi_VZ_2018-05-16.json has 60 trajectories\n"
     ]
    },
    {
     "data": {
      "application/vnd.jupyter.widget-view+json": {
       "model_id": "3c37e6a750ed427e873c5a090e59c626",
       "version_major": 2,
       "version_minor": 0
      },
      "text/plain": [
       "Generating train split: 0 examples [00:00, ? examples/s]"
      ]
     },
     "metadata": {},
     "output_type": "display_data"
    },
    {
     "name": "stdout",
     "output_type": "stream",
     "text": [
      "Processing data as polars dataframe.\n",
      "Dataset length:  60\n",
      "offline_stock_trade_data/ASML/sentiment_react_ASML_2018-05-16.json has 60 trajectories\n"
     ]
    },
    {
     "data": {
      "application/vnd.jupyter.widget-view+json": {
       "model_id": "2389ad3202264bf89d1741c506366e40",
       "version_major": 2,
       "version_minor": 0
      },
      "text/plain": [
       "Generating train split: 0 examples [00:00, ? examples/s]"
      ]
     },
     "metadata": {},
     "output_type": "display_data"
    },
    {
     "name": "stdout",
     "output_type": "stream",
     "text": [
      "Processing data as polars dataframe.\n",
      "Dataset length:  60\n",
      "offline_stock_trade_data/ASML/ddpg_trained_ASML_good_ASML_2018-05-16.json has 60 trajectories\n"
     ]
    },
    {
     "data": {
      "application/vnd.jupyter.widget-view+json": {
       "model_id": "cfa1eaed058249c4acab8686a68a66e0",
       "version_major": 2,
       "version_minor": 0
      },
      "text/plain": [
       "Generating train split: 0 examples [00:00, ? examples/s]"
      ]
     },
     "metadata": {},
     "output_type": "display_data"
    },
    {
     "name": "stdout",
     "output_type": "stream",
     "text": [
      "Processing data as polars dataframe.\n",
      "Dataset length:  60\n",
      "offline_stock_trade_data/ASML/a2c_trained_ASML_bad_ASML_2018-05-16.json has 60 trajectories\n"
     ]
    },
    {
     "data": {
      "application/vnd.jupyter.widget-view+json": {
       "model_id": "a86e817439394126845390b0c529a579",
       "version_major": 2,
       "version_minor": 0
      },
      "text/plain": [
       "Generating train split: 0 examples [00:00, ? examples/s]"
      ]
     },
     "metadata": {},
     "output_type": "display_data"
    },
    {
     "name": "stdout",
     "output_type": "stream",
     "text": [
      "Processing data as polars dataframe.\n",
      "Dataset length:  60\n",
      "offline_stock_trade_data/ASML/momentum_stoch_rsi_ASML_2018-05-16.json has 60 trajectories\n"
     ]
    },
    {
     "data": {
      "application/vnd.jupyter.widget-view+json": {
       "model_id": "306b9ab9fb3342269bccb4e2cdca2fe7",
       "version_major": 2,
       "version_minor": 0
      },
      "text/plain": [
       "Generating train split: 0 examples [00:00, ? examples/s]"
      ]
     },
     "metadata": {},
     "output_type": "display_data"
    },
    {
     "name": "stdout",
     "output_type": "stream",
     "text": [
      "Processing data as polars dataframe.\n",
      "Dataset length:  60\n",
      "offline_stock_trade_data/ASML/trend_sma_fast_ASML_2018-05-16.json has 60 trajectories\n"
     ]
    },
    {
     "data": {
      "application/vnd.jupyter.widget-view+json": {
       "model_id": "6ce9f90676894346a8a50ec4fe0f7667",
       "version_major": 2,
       "version_minor": 0
      },
      "text/plain": [
       "Generating train split: 0 examples [00:00, ? examples/s]"
      ]
     },
     "metadata": {},
     "output_type": "display_data"
    },
    {
     "name": "stdout",
     "output_type": "stream",
     "text": [
      "Processing data as polars dataframe.\n",
      "Dataset length:  60\n",
      "offline_stock_trade_data/ASML/ppo_trained_ASML_bad_ASML_2018-05-16.json has 60 trajectories\n"
     ]
    },
    {
     "data": {
      "application/vnd.jupyter.widget-view+json": {
       "model_id": "d83959c8c44645a2976a17fb058ba500",
       "version_major": 2,
       "version_minor": 0
      },
      "text/plain": [
       "Generating train split: 0 examples [00:00, ? examples/s]"
      ]
     },
     "metadata": {},
     "output_type": "display_data"
    },
    {
     "name": "stdout",
     "output_type": "stream",
     "text": [
      "Processing data as polars dataframe.\n",
      "Dataset length:  60\n",
      "offline_stock_trade_data/ASML/random_ASML_2018-05-16.json has 60 trajectories\n"
     ]
    },
    {
     "data": {
      "application/vnd.jupyter.widget-view+json": {
       "model_id": "69b1774eece243e1b7e7ec13d60c5c35",
       "version_major": 2,
       "version_minor": 0
      },
      "text/plain": [
       "Generating train split: 0 examples [00:00, ? examples/s]"
      ]
     },
     "metadata": {},
     "output_type": "display_data"
    },
    {
     "name": "stdout",
     "output_type": "stream",
     "text": [
      "Processing data as polars dataframe.\n",
      "Dataset length:  60\n",
      "offline_stock_trade_data/KDP/a2c_trained_KDP_bad_KDP_2018-05-16.json has 60 trajectories\n"
     ]
    },
    {
     "data": {
      "application/vnd.jupyter.widget-view+json": {
       "model_id": "915b1ff661894126a67d4184f2f4cb5e",
       "version_major": 2,
       "version_minor": 0
      },
      "text/plain": [
       "Generating train split: 0 examples [00:00, ? examples/s]"
      ]
     },
     "metadata": {},
     "output_type": "display_data"
    },
    {
     "name": "stdout",
     "output_type": "stream",
     "text": [
      "Processing data as polars dataframe.\n",
      "Dataset length:  60\n",
      "offline_stock_trade_data/KDP/ppo_trained_KDP_bad_KDP_2018-05-16.json has 60 trajectories\n"
     ]
    },
    {
     "data": {
      "application/vnd.jupyter.widget-view+json": {
       "model_id": "4442ef85881f4c00b7de3080aa43d53d",
       "version_major": 2,
       "version_minor": 0
      },
      "text/plain": [
       "Generating train split: 0 examples [00:00, ? examples/s]"
      ]
     },
     "metadata": {},
     "output_type": "display_data"
    },
    {
     "name": "stdout",
     "output_type": "stream",
     "text": [
      "Processing data as polars dataframe.\n",
      "Dataset length:  60\n",
      "offline_stock_trade_data/KDP/random_KDP_2018-05-16.json has 60 trajectories\n"
     ]
    },
    {
     "data": {
      "application/vnd.jupyter.widget-view+json": {
       "model_id": "a2e887475f4b4a6e980156a13e907c6e",
       "version_major": 2,
       "version_minor": 0
      },
      "text/plain": [
       "Generating train split: 0 examples [00:00, ? examples/s]"
      ]
     },
     "metadata": {},
     "output_type": "display_data"
    },
    {
     "name": "stdout",
     "output_type": "stream",
     "text": [
      "Processing data as polars dataframe.\n",
      "Dataset length:  60\n",
      "offline_stock_trade_data/KDP/ddpg_trained_KDP_bad_KDP_2018-05-16.json has 60 trajectories\n"
     ]
    },
    {
     "data": {
      "application/vnd.jupyter.widget-view+json": {
       "model_id": "890b55bc4d9c47f5bf43943b04f3d630",
       "version_major": 2,
       "version_minor": 0
      },
      "text/plain": [
       "Generating train split: 0 examples [00:00, ? examples/s]"
      ]
     },
     "metadata": {},
     "output_type": "display_data"
    },
    {
     "name": "stdout",
     "output_type": "stream",
     "text": [
      "Processing data as polars dataframe.\n",
      "Dataset length:  60\n",
      "offline_stock_trade_data/KDP/momentum_stoch_rsi_KDP_2018-05-16.json has 60 trajectories\n"
     ]
    },
    {
     "data": {
      "application/vnd.jupyter.widget-view+json": {
       "model_id": "6da5af8f8024415fa1374f3af4bf2a43",
       "version_major": 2,
       "version_minor": 0
      },
      "text/plain": [
       "Generating train split: 0 examples [00:00, ? examples/s]"
      ]
     },
     "metadata": {},
     "output_type": "display_data"
    },
    {
     "name": "stdout",
     "output_type": "stream",
     "text": [
      "Processing data as polars dataframe.\n",
      "Dataset length:  60\n",
      "offline_stock_trade_data/KDP/sentiment_react_KDP_2018-05-16.json has 60 trajectories\n"
     ]
    },
    {
     "data": {
      "application/vnd.jupyter.widget-view+json": {
       "model_id": "844f1bb99233481e9d97a44ba8a28086",
       "version_major": 2,
       "version_minor": 0
      },
      "text/plain": [
       "Generating train split: 0 examples [00:00, ? examples/s]"
      ]
     },
     "metadata": {},
     "output_type": "display_data"
    },
    {
     "name": "stdout",
     "output_type": "stream",
     "text": [
      "Processing data as polars dataframe.\n",
      "Dataset length:  60\n",
      "offline_stock_trade_data/KDP/trend_sma_fast_KDP_2018-05-16.json has 60 trajectories\n"
     ]
    },
    {
     "data": {
      "application/vnd.jupyter.widget-view+json": {
       "model_id": "7823d44a369e4e29ba921735f6f08cab",
       "version_major": 2,
       "version_minor": 0
      },
      "text/plain": [
       "Generating train split: 0 examples [00:00, ? examples/s]"
      ]
     },
     "metadata": {},
     "output_type": "display_data"
    },
    {
     "name": "stdout",
     "output_type": "stream",
     "text": [
      "Processing data as polars dataframe.\n",
      "Dataset length:  60\n",
      "offline_stock_trade_data/DDOG/momentum_stoch_rsi_DDOG_2018-05-16.json has 60 trajectories\n"
     ]
    },
    {
     "data": {
      "application/vnd.jupyter.widget-view+json": {
       "model_id": "d51a96bf9ae141bb87e5138f45087757",
       "version_major": 2,
       "version_minor": 0
      },
      "text/plain": [
       "Generating train split: 0 examples [00:00, ? examples/s]"
      ]
     },
     "metadata": {},
     "output_type": "display_data"
    },
    {
     "name": "stdout",
     "output_type": "stream",
     "text": [
      "Processing data as polars dataframe.\n",
      "Dataset length:  60\n",
      "offline_stock_trade_data/DDOG/trend_sma_fast_DDOG_2018-05-16.json has 60 trajectories\n"
     ]
    },
    {
     "data": {
      "application/vnd.jupyter.widget-view+json": {
       "model_id": "f084768d12c3424d96c1b764dbf8c31c",
       "version_major": 2,
       "version_minor": 0
      },
      "text/plain": [
       "Generating train split: 0 examples [00:00, ? examples/s]"
      ]
     },
     "metadata": {},
     "output_type": "display_data"
    },
    {
     "name": "stdout",
     "output_type": "stream",
     "text": [
      "Processing data as polars dataframe.\n",
      "Dataset length:  60\n",
      "offline_stock_trade_data/DDOG/random_DDOG_2018-05-16.json has 60 trajectories\n"
     ]
    },
    {
     "data": {
      "application/vnd.jupyter.widget-view+json": {
       "model_id": "b8888d85cadc49748290842165a0ae29",
       "version_major": 2,
       "version_minor": 0
      },
      "text/plain": [
       "Generating train split: 0 examples [00:00, ? examples/s]"
      ]
     },
     "metadata": {},
     "output_type": "display_data"
    },
    {
     "name": "stdout",
     "output_type": "stream",
     "text": [
      "Processing data as polars dataframe.\n",
      "Dataset length:  60\n",
      "offline_stock_trade_data/DDOG/sentiment_react_DDOG_2018-05-16.json has 60 trajectories\n"
     ]
    },
    {
     "data": {
      "application/vnd.jupyter.widget-view+json": {
       "model_id": "565e1ba849a14faaaa0de9639d4ea750",
       "version_major": 2,
       "version_minor": 0
      },
      "text/plain": [
       "Generating train split: 0 examples [00:00, ? examples/s]"
      ]
     },
     "metadata": {},
     "output_type": "display_data"
    },
    {
     "name": "stdout",
     "output_type": "stream",
     "text": [
      "Processing data as polars dataframe.\n",
      "Dataset length:  60\n",
      "offline_stock_trade_data/CSCO/a2c_trained_CSCO_bad_CSCO_2018-05-16.json has 60 trajectories\n"
     ]
    },
    {
     "data": {
      "application/vnd.jupyter.widget-view+json": {
       "model_id": "aaa817fbde19404893d4b3bb860b6078",
       "version_major": 2,
       "version_minor": 0
      },
      "text/plain": [
       "Generating train split: 0 examples [00:00, ? examples/s]"
      ]
     },
     "metadata": {},
     "output_type": "display_data"
    },
    {
     "name": "stdout",
     "output_type": "stream",
     "text": [
      "Processing data as polars dataframe.\n",
      "Dataset length:  60\n",
      "offline_stock_trade_data/CSCO/ppo_trained_CSCO_bad_CSCO_2018-05-16.json has 60 trajectories\n"
     ]
    },
    {
     "data": {
      "application/vnd.jupyter.widget-view+json": {
       "model_id": "e5f40048d0a64cec803aaa4164718674",
       "version_major": 2,
       "version_minor": 0
      },
      "text/plain": [
       "Generating train split: 0 examples [00:00, ? examples/s]"
      ]
     },
     "metadata": {},
     "output_type": "display_data"
    },
    {
     "name": "stdout",
     "output_type": "stream",
     "text": [
      "Processing data as polars dataframe.\n",
      "Dataset length:  60\n",
      "offline_stock_trade_data/CSCO/ddpg_trained_CSCO_good_CSCO_2018-05-16.json has 60 trajectories\n"
     ]
    },
    {
     "data": {
      "application/vnd.jupyter.widget-view+json": {
       "model_id": "068f3954eff8480a9d2d91e2c7fecf03",
       "version_major": 2,
       "version_minor": 0
      },
      "text/plain": [
       "Generating train split: 0 examples [00:00, ? examples/s]"
      ]
     },
     "metadata": {},
     "output_type": "display_data"
    },
    {
     "name": "stdout",
     "output_type": "stream",
     "text": [
      "Processing data as polars dataframe.\n",
      "Dataset length:  60\n",
      "offline_stock_trade_data/CSCO/random_CSCO_2018-05-16.json has 60 trajectories\n"
     ]
    },
    {
     "data": {
      "application/vnd.jupyter.widget-view+json": {
       "model_id": "33ba3243410f4c42a428174ae97ad650",
       "version_major": 2,
       "version_minor": 0
      },
      "text/plain": [
       "Generating train split: 0 examples [00:00, ? examples/s]"
      ]
     },
     "metadata": {},
     "output_type": "display_data"
    },
    {
     "name": "stdout",
     "output_type": "stream",
     "text": [
      "Processing data as polars dataframe.\n",
      "Dataset length:  60\n",
      "offline_stock_trade_data/CSCO/trend_sma_fast_CSCO_2018-05-16.json has 60 trajectories\n"
     ]
    },
    {
     "data": {
      "application/vnd.jupyter.widget-view+json": {
       "model_id": "dd36dfd46af448ccad3be1d10e3d688e",
       "version_major": 2,
       "version_minor": 0
      },
      "text/plain": [
       "Generating train split: 0 examples [00:00, ? examples/s]"
      ]
     },
     "metadata": {},
     "output_type": "display_data"
    },
    {
     "name": "stdout",
     "output_type": "stream",
     "text": [
      "Processing data as polars dataframe.\n",
      "Dataset length:  60\n",
      "offline_stock_trade_data/CSCO/sentiment_react_CSCO_2018-05-16.json has 60 trajectories\n"
     ]
    },
    {
     "data": {
      "application/vnd.jupyter.widget-view+json": {
       "model_id": "192c3964b49640b5bec672c2ec938412",
       "version_major": 2,
       "version_minor": 0
      },
      "text/plain": [
       "Generating train split: 0 examples [00:00, ? examples/s]"
      ]
     },
     "metadata": {},
     "output_type": "display_data"
    },
    {
     "name": "stdout",
     "output_type": "stream",
     "text": [
      "Processing data as polars dataframe.\n",
      "Dataset length:  60\n",
      "offline_stock_trade_data/CSCO/momentum_stoch_rsi_CSCO_2018-05-16.json has 60 trajectories\n"
     ]
    },
    {
     "data": {
      "application/vnd.jupyter.widget-view+json": {
       "model_id": "200e27949aca4dd09880d9ccb5058328",
       "version_major": 2,
       "version_minor": 0
      },
      "text/plain": [
       "Generating train split: 0 examples [00:00, ? examples/s]"
      ]
     },
     "metadata": {},
     "output_type": "display_data"
    },
    {
     "name": "stdout",
     "output_type": "stream",
     "text": [
      "Processing data as polars dataframe.\n",
      "Dataset length:  60\n",
      "offline_stock_trade_data/META/random_META_2018-05-16.json has 60 trajectories\n"
     ]
    },
    {
     "data": {
      "application/vnd.jupyter.widget-view+json": {
       "model_id": "1d5d041f46384c6e945423d7d8635563",
       "version_major": 2,
       "version_minor": 0
      },
      "text/plain": [
       "Generating train split: 0 examples [00:00, ? examples/s]"
      ]
     },
     "metadata": {},
     "output_type": "display_data"
    },
    {
     "name": "stdout",
     "output_type": "stream",
     "text": [
      "Processing data as polars dataframe.\n",
      "Dataset length:  60\n",
      "offline_stock_trade_data/META/ddpg_trained_META_good_META_2018-05-16.json has 60 trajectories\n"
     ]
    },
    {
     "data": {
      "application/vnd.jupyter.widget-view+json": {
       "model_id": "bf910c81a2c547dfa19e0c7621f883bd",
       "version_major": 2,
       "version_minor": 0
      },
      "text/plain": [
       "Generating train split: 0 examples [00:00, ? examples/s]"
      ]
     },
     "metadata": {},
     "output_type": "display_data"
    },
    {
     "name": "stdout",
     "output_type": "stream",
     "text": [
      "Processing data as polars dataframe.\n",
      "Dataset length:  60\n",
      "offline_stock_trade_data/META/momentum_stoch_rsi_META_2018-05-16.json has 60 trajectories\n"
     ]
    },
    {
     "data": {
      "application/vnd.jupyter.widget-view+json": {
       "model_id": "76e473e473d04e4e805098fec7f9de54",
       "version_major": 2,
       "version_minor": 0
      },
      "text/plain": [
       "Generating train split: 0 examples [00:00, ? examples/s]"
      ]
     },
     "metadata": {},
     "output_type": "display_data"
    },
    {
     "name": "stdout",
     "output_type": "stream",
     "text": [
      "Processing data as polars dataframe.\n",
      "Dataset length:  60\n",
      "offline_stock_trade_data/META/ppo_trained_META_bad_META_2018-05-16.json has 60 trajectories\n"
     ]
    },
    {
     "data": {
      "application/vnd.jupyter.widget-view+json": {
       "model_id": "f5bb6c5a52a74480a3b72ebb373b1a55",
       "version_major": 2,
       "version_minor": 0
      },
      "text/plain": [
       "Generating train split: 0 examples [00:00, ? examples/s]"
      ]
     },
     "metadata": {},
     "output_type": "display_data"
    },
    {
     "name": "stdout",
     "output_type": "stream",
     "text": [
      "Processing data as polars dataframe.\n",
      "Dataset length:  60\n",
      "offline_stock_trade_data/META/a2c_trained_META_bad_META_2018-05-16.json has 60 trajectories\n"
     ]
    },
    {
     "data": {
      "application/vnd.jupyter.widget-view+json": {
       "model_id": "815fa00f2b484a649d9fc68690419660",
       "version_major": 2,
       "version_minor": 0
      },
      "text/plain": [
       "Generating train split: 0 examples [00:00, ? examples/s]"
      ]
     },
     "metadata": {},
     "output_type": "display_data"
    },
    {
     "name": "stdout",
     "output_type": "stream",
     "text": [
      "Processing data as polars dataframe.\n",
      "Dataset length:  60\n",
      "offline_stock_trade_data/META/sentiment_react_META_2018-05-16.json has 60 trajectories\n"
     ]
    },
    {
     "data": {
      "application/vnd.jupyter.widget-view+json": {
       "model_id": "6bbf3651f1244e21af8f6930a2f43073",
       "version_major": 2,
       "version_minor": 0
      },
      "text/plain": [
       "Generating train split: 0 examples [00:00, ? examples/s]"
      ]
     },
     "metadata": {},
     "output_type": "display_data"
    },
    {
     "name": "stdout",
     "output_type": "stream",
     "text": [
      "Processing data as polars dataframe.\n",
      "Dataset length:  60\n",
      "offline_stock_trade_data/META/trend_sma_fast_META_2018-05-16.json has 60 trajectories\n"
     ]
    },
    {
     "data": {
      "application/vnd.jupyter.widget-view+json": {
       "model_id": "2859206ad0fe4cb783c980b9a455fd19",
       "version_major": 2,
       "version_minor": 0
      },
      "text/plain": [
       "Generating train split: 0 examples [00:00, ? examples/s]"
      ]
     },
     "metadata": {},
     "output_type": "display_data"
    },
    {
     "name": "stdout",
     "output_type": "stream",
     "text": [
      "Processing data as polars dataframe.\n",
      "Dataset length:  60\n",
      "offline_stock_trade_data/IBM/sentiment_react_IBM_2018-05-16.json has 60 trajectories\n"
     ]
    },
    {
     "data": {
      "application/vnd.jupyter.widget-view+json": {
       "model_id": "4fcbea3e8a144c2dbce7c72c035f6782",
       "version_major": 2,
       "version_minor": 0
      },
      "text/plain": [
       "Generating train split: 0 examples [00:00, ? examples/s]"
      ]
     },
     "metadata": {},
     "output_type": "display_data"
    },
    {
     "name": "stdout",
     "output_type": "stream",
     "text": [
      "Processing data as polars dataframe.\n",
      "Dataset length:  60\n",
      "offline_stock_trade_data/IBM/a2c_trained_IBM_good_IBM_2018-05-16.json has 60 trajectories\n"
     ]
    },
    {
     "data": {
      "application/vnd.jupyter.widget-view+json": {
       "model_id": "3f6f4866e9f4433eb3b0aceaddc79b80",
       "version_major": 2,
       "version_minor": 0
      },
      "text/plain": [
       "Generating train split: 0 examples [00:00, ? examples/s]"
      ]
     },
     "metadata": {},
     "output_type": "display_data"
    },
    {
     "name": "stdout",
     "output_type": "stream",
     "text": [
      "Processing data as polars dataframe.\n",
      "Dataset length:  60\n",
      "offline_stock_trade_data/IBM/ppo_trained_IBM_bad_IBM_2018-05-16.json has 60 trajectories\n"
     ]
    },
    {
     "data": {
      "application/vnd.jupyter.widget-view+json": {
       "model_id": "c19766b09b2d41c29703dbe0a94d59ec",
       "version_major": 2,
       "version_minor": 0
      },
      "text/plain": [
       "Generating train split: 0 examples [00:00, ? examples/s]"
      ]
     },
     "metadata": {},
     "output_type": "display_data"
    },
    {
     "name": "stdout",
     "output_type": "stream",
     "text": [
      "Processing data as polars dataframe.\n",
      "Dataset length:  60\n",
      "offline_stock_trade_data/IBM/ddpg_trained_IBM_bad_IBM_2018-05-16.json has 60 trajectories\n"
     ]
    },
    {
     "data": {
      "application/vnd.jupyter.widget-view+json": {
       "model_id": "ceeaf06fe324475bb2a65a6d8b41d3ba",
       "version_major": 2,
       "version_minor": 0
      },
      "text/plain": [
       "Generating train split: 0 examples [00:00, ? examples/s]"
      ]
     },
     "metadata": {},
     "output_type": "display_data"
    },
    {
     "name": "stdout",
     "output_type": "stream",
     "text": [
      "Processing data as polars dataframe.\n",
      "Dataset length:  60\n",
      "offline_stock_trade_data/IBM/trend_sma_fast_IBM_2018-05-16.json has 60 trajectories\n"
     ]
    },
    {
     "data": {
      "application/vnd.jupyter.widget-view+json": {
       "model_id": "e6a24184b61a4f4b892321eed24b5723",
       "version_major": 2,
       "version_minor": 0
      },
      "text/plain": [
       "Generating train split: 0 examples [00:00, ? examples/s]"
      ]
     },
     "metadata": {},
     "output_type": "display_data"
    },
    {
     "name": "stdout",
     "output_type": "stream",
     "text": [
      "Processing data as polars dataframe.\n",
      "Dataset length:  60\n",
      "offline_stock_trade_data/IBM/momentum_stoch_rsi_IBM_2018-05-16.json has 60 trajectories\n"
     ]
    },
    {
     "data": {
      "application/vnd.jupyter.widget-view+json": {
       "model_id": "484382b879ff4e8c87a69004516cd4e8",
       "version_major": 2,
       "version_minor": 0
      },
      "text/plain": [
       "Generating train split: 0 examples [00:00, ? examples/s]"
      ]
     },
     "metadata": {},
     "output_type": "display_data"
    },
    {
     "name": "stdout",
     "output_type": "stream",
     "text": [
      "Processing data as polars dataframe.\n",
      "Dataset length:  60\n",
      "offline_stock_trade_data/IBM/random_IBM_2018-05-16.json has 60 trajectories\n"
     ]
    },
    {
     "data": {
      "application/vnd.jupyter.widget-view+json": {
       "model_id": "d5cc008b56684458afa055217d2b989c",
       "version_major": 2,
       "version_minor": 0
      },
      "text/plain": [
       "Generating train split: 0 examples [00:00, ? examples/s]"
      ]
     },
     "metadata": {},
     "output_type": "display_data"
    },
    {
     "name": "stdout",
     "output_type": "stream",
     "text": [
      "Processing data as polars dataframe.\n",
      "Dataset length:  60\n",
      "offline_stock_trade_data/WMT/ddpg_trained_WMT_good_WMT_2018-05-16.json has 60 trajectories\n"
     ]
    },
    {
     "data": {
      "application/vnd.jupyter.widget-view+json": {
       "model_id": "eebf5dd7b7804e7da200f981482c714f",
       "version_major": 2,
       "version_minor": 0
      },
      "text/plain": [
       "Generating train split: 0 examples [00:00, ? examples/s]"
      ]
     },
     "metadata": {},
     "output_type": "display_data"
    },
    {
     "name": "stdout",
     "output_type": "stream",
     "text": [
      "Processing data as polars dataframe.\n",
      "Dataset length:  60\n",
      "offline_stock_trade_data/WMT/sentiment_react_WMT_2018-05-16.json has 60 trajectories\n"
     ]
    },
    {
     "data": {
      "application/vnd.jupyter.widget-view+json": {
       "model_id": "550e643e48a54d288a6d6710c8dbfb87",
       "version_major": 2,
       "version_minor": 0
      },
      "text/plain": [
       "Generating train split: 0 examples [00:00, ? examples/s]"
      ]
     },
     "metadata": {},
     "output_type": "display_data"
    },
    {
     "name": "stdout",
     "output_type": "stream",
     "text": [
      "Processing data as polars dataframe.\n",
      "Dataset length:  60\n",
      "offline_stock_trade_data/WMT/ppo_trained_WMT_bad_WMT_2018-05-16.json has 60 trajectories\n"
     ]
    },
    {
     "data": {
      "application/vnd.jupyter.widget-view+json": {
       "model_id": "b667308ac8ad49048882e7ad888d372a",
       "version_major": 2,
       "version_minor": 0
      },
      "text/plain": [
       "Generating train split: 0 examples [00:00, ? examples/s]"
      ]
     },
     "metadata": {},
     "output_type": "display_data"
    },
    {
     "name": "stdout",
     "output_type": "stream",
     "text": [
      "Processing data as polars dataframe.\n",
      "Dataset length:  60\n",
      "offline_stock_trade_data/WMT/trend_sma_fast_WMT_2018-05-16.json has 60 trajectories\n"
     ]
    },
    {
     "data": {
      "application/vnd.jupyter.widget-view+json": {
       "model_id": "97de77fde40441f59bb750f39b0f7231",
       "version_major": 2,
       "version_minor": 0
      },
      "text/plain": [
       "Generating train split: 0 examples [00:00, ? examples/s]"
      ]
     },
     "metadata": {},
     "output_type": "display_data"
    },
    {
     "name": "stdout",
     "output_type": "stream",
     "text": [
      "Processing data as polars dataframe.\n",
      "Dataset length:  60\n",
      "offline_stock_trade_data/WMT/random_WMT_2018-05-16.json has 60 trajectories\n"
     ]
    },
    {
     "data": {
      "application/vnd.jupyter.widget-view+json": {
       "model_id": "a71f5dcb77c04c53bcdd3da8da72d66a",
       "version_major": 2,
       "version_minor": 0
      },
      "text/plain": [
       "Generating train split: 0 examples [00:00, ? examples/s]"
      ]
     },
     "metadata": {},
     "output_type": "display_data"
    },
    {
     "name": "stdout",
     "output_type": "stream",
     "text": [
      "Processing data as polars dataframe.\n",
      "Dataset length:  60\n",
      "offline_stock_trade_data/WMT/a2c_trained_WMT_bad_WMT_2018-05-16.json has 60 trajectories\n"
     ]
    },
    {
     "data": {
      "application/vnd.jupyter.widget-view+json": {
       "model_id": "6801b01dfaec429594011c20f317ce20",
       "version_major": 2,
       "version_minor": 0
      },
      "text/plain": [
       "Generating train split: 0 examples [00:00, ? examples/s]"
      ]
     },
     "metadata": {},
     "output_type": "display_data"
    },
    {
     "name": "stdout",
     "output_type": "stream",
     "text": [
      "Processing data as polars dataframe.\n",
      "Dataset length:  60\n",
      "offline_stock_trade_data/WMT/momentum_stoch_rsi_WMT_2018-05-16.json has 60 trajectories\n"
     ]
    },
    {
     "data": {
      "application/vnd.jupyter.widget-view+json": {
       "model_id": "7d96493e882a48c89d3b137eedad633c",
       "version_major": 2,
       "version_minor": 0
      },
      "text/plain": [
       "Generating train split: 0 examples [00:00, ? examples/s]"
      ]
     },
     "metadata": {},
     "output_type": "display_data"
    },
    {
     "name": "stdout",
     "output_type": "stream",
     "text": [
      "Processing data as polars dataframe.\n",
      "Dataset length:  60\n",
      "offline_stock_trade_data/MDLZ/momentum_stoch_rsi_MDLZ_2018-05-16.json has 60 trajectories\n"
     ]
    },
    {
     "data": {
      "application/vnd.jupyter.widget-view+json": {
       "model_id": "a8635b3b469d4b53a6c45aa1689eb97f",
       "version_major": 2,
       "version_minor": 0
      },
      "text/plain": [
       "Generating train split: 0 examples [00:00, ? examples/s]"
      ]
     },
     "metadata": {},
     "output_type": "display_data"
    },
    {
     "name": "stdout",
     "output_type": "stream",
     "text": [
      "Processing data as polars dataframe.\n",
      "Dataset length:  60\n",
      "offline_stock_trade_data/MDLZ/ddpg_trained_MDLZ_good_MDLZ_2018-05-16.json has 60 trajectories\n"
     ]
    },
    {
     "data": {
      "application/vnd.jupyter.widget-view+json": {
       "model_id": "310e61bc63da41188792d22c08fcd94f",
       "version_major": 2,
       "version_minor": 0
      },
      "text/plain": [
       "Generating train split: 0 examples [00:00, ? examples/s]"
      ]
     },
     "metadata": {},
     "output_type": "display_data"
    },
    {
     "name": "stdout",
     "output_type": "stream",
     "text": [
      "Processing data as polars dataframe.\n",
      "Dataset length:  60\n",
      "offline_stock_trade_data/MDLZ/sentiment_react_MDLZ_2018-05-16.json has 60 trajectories\n"
     ]
    },
    {
     "data": {
      "application/vnd.jupyter.widget-view+json": {
       "model_id": "738bdd3fe7b3421db98ce2114d39a630",
       "version_major": 2,
       "version_minor": 0
      },
      "text/plain": [
       "Generating train split: 0 examples [00:00, ? examples/s]"
      ]
     },
     "metadata": {},
     "output_type": "display_data"
    },
    {
     "name": "stdout",
     "output_type": "stream",
     "text": [
      "Processing data as polars dataframe.\n",
      "Dataset length:  60\n",
      "offline_stock_trade_data/MDLZ/a2c_trained_MDLZ_bad_MDLZ_2018-05-16.json has 60 trajectories\n"
     ]
    },
    {
     "data": {
      "application/vnd.jupyter.widget-view+json": {
       "model_id": "670bb7a5190a4b0aab2be4092e55a0e3",
       "version_major": 2,
       "version_minor": 0
      },
      "text/plain": [
       "Generating train split: 0 examples [00:00, ? examples/s]"
      ]
     },
     "metadata": {},
     "output_type": "display_data"
    },
    {
     "name": "stdout",
     "output_type": "stream",
     "text": [
      "Processing data as polars dataframe.\n",
      "Dataset length:  60\n",
      "offline_stock_trade_data/MDLZ/trend_sma_fast_MDLZ_2018-05-16.json has 60 trajectories\n"
     ]
    },
    {
     "data": {
      "application/vnd.jupyter.widget-view+json": {
       "model_id": "5c729a5264e846ac9b8fccde1824411e",
       "version_major": 2,
       "version_minor": 0
      },
      "text/plain": [
       "Generating train split: 0 examples [00:00, ? examples/s]"
      ]
     },
     "metadata": {},
     "output_type": "display_data"
    },
    {
     "name": "stdout",
     "output_type": "stream",
     "text": [
      "Processing data as polars dataframe.\n",
      "Dataset length:  60\n",
      "offline_stock_trade_data/MDLZ/ppo_trained_MDLZ_good_MDLZ_2018-05-16.json has 60 trajectories\n"
     ]
    },
    {
     "data": {
      "application/vnd.jupyter.widget-view+json": {
       "model_id": "dfac23f0ab7d4ae49529e43c366b819a",
       "version_major": 2,
       "version_minor": 0
      },
      "text/plain": [
       "Generating train split: 0 examples [00:00, ? examples/s]"
      ]
     },
     "metadata": {},
     "output_type": "display_data"
    },
    {
     "name": "stdout",
     "output_type": "stream",
     "text": [
      "Processing data as polars dataframe.\n",
      "Dataset length:  60\n",
      "offline_stock_trade_data/MDLZ/random_MDLZ_2018-05-16.json has 60 trajectories\n"
     ]
    },
    {
     "data": {
      "application/vnd.jupyter.widget-view+json": {
       "model_id": "bad05f6d32ef4630a951f0f59307fec5",
       "version_major": 2,
       "version_minor": 0
      },
      "text/plain": [
       "Generating train split: 0 examples [00:00, ? examples/s]"
      ]
     },
     "metadata": {},
     "output_type": "display_data"
    },
    {
     "name": "stdout",
     "output_type": "stream",
     "text": [
      "Processing data as polars dataframe.\n",
      "Dataset length:  60\n",
      "offline_stock_trade_data/CTAS/random_CTAS_2018-05-16.json has 60 trajectories\n"
     ]
    },
    {
     "data": {
      "application/vnd.jupyter.widget-view+json": {
       "model_id": "677e8b4d9abc42019a4b98f678fbb907",
       "version_major": 2,
       "version_minor": 0
      },
      "text/plain": [
       "Generating train split: 0 examples [00:00, ? examples/s]"
      ]
     },
     "metadata": {},
     "output_type": "display_data"
    },
    {
     "name": "stdout",
     "output_type": "stream",
     "text": [
      "Processing data as polars dataframe.\n",
      "Dataset length:  60\n",
      "offline_stock_trade_data/CTAS/a2c_trained_CTAS_bad_CTAS_2018-05-16.json has 60 trajectories\n"
     ]
    },
    {
     "data": {
      "application/vnd.jupyter.widget-view+json": {
       "model_id": "9796affd6af740498117c20ee8971118",
       "version_major": 2,
       "version_minor": 0
      },
      "text/plain": [
       "Generating train split: 0 examples [00:00, ? examples/s]"
      ]
     },
     "metadata": {},
     "output_type": "display_data"
    },
    {
     "name": "stdout",
     "output_type": "stream",
     "text": [
      "Processing data as polars dataframe.\n",
      "Dataset length:  60\n",
      "offline_stock_trade_data/CTAS/momentum_stoch_rsi_CTAS_2018-05-16.json has 60 trajectories\n"
     ]
    },
    {
     "data": {
      "application/vnd.jupyter.widget-view+json": {
       "model_id": "943fe04a5f09450e905e940c07e12c2f",
       "version_major": 2,
       "version_minor": 0
      },
      "text/plain": [
       "Generating train split: 0 examples [00:00, ? examples/s]"
      ]
     },
     "metadata": {},
     "output_type": "display_data"
    },
    {
     "name": "stdout",
     "output_type": "stream",
     "text": [
      "Processing data as polars dataframe.\n",
      "Dataset length:  60\n",
      "offline_stock_trade_data/CTAS/ddpg_trained_CTAS_bad_CTAS_2018-05-16.json has 60 trajectories\n"
     ]
    },
    {
     "data": {
      "application/vnd.jupyter.widget-view+json": {
       "model_id": "53461377d3774c19aa7fa40534bf73de",
       "version_major": 2,
       "version_minor": 0
      },
      "text/plain": [
       "Generating train split: 0 examples [00:00, ? examples/s]"
      ]
     },
     "metadata": {},
     "output_type": "display_data"
    },
    {
     "name": "stdout",
     "output_type": "stream",
     "text": [
      "Processing data as polars dataframe.\n",
      "Dataset length:  60\n",
      "offline_stock_trade_data/CTAS/sentiment_react_CTAS_2018-05-16.json has 60 trajectories\n"
     ]
    },
    {
     "data": {
      "application/vnd.jupyter.widget-view+json": {
       "model_id": "a0e85a87fe294e5da2d58acde94ef4fb",
       "version_major": 2,
       "version_minor": 0
      },
      "text/plain": [
       "Generating train split: 0 examples [00:00, ? examples/s]"
      ]
     },
     "metadata": {},
     "output_type": "display_data"
    },
    {
     "name": "stdout",
     "output_type": "stream",
     "text": [
      "Processing data as polars dataframe.\n",
      "Dataset length:  60\n",
      "offline_stock_trade_data/CTAS/ppo_trained_CTAS_bad_CTAS_2018-05-16.json has 60 trajectories\n"
     ]
    },
    {
     "data": {
      "application/vnd.jupyter.widget-view+json": {
       "model_id": "e83001fd078d431db6039e0d3ae9dd69",
       "version_major": 2,
       "version_minor": 0
      },
      "text/plain": [
       "Generating train split: 0 examples [00:00, ? examples/s]"
      ]
     },
     "metadata": {},
     "output_type": "display_data"
    },
    {
     "name": "stdout",
     "output_type": "stream",
     "text": [
      "Processing data as polars dataframe.\n",
      "Dataset length:  60\n",
      "offline_stock_trade_data/CTAS/trend_sma_fast_CTAS_2018-05-16.json has 60 trajectories\n"
     ]
    },
    {
     "data": {
      "application/vnd.jupyter.widget-view+json": {
       "model_id": "1e946136dda54b0db4788ed25c8a3508",
       "version_major": 2,
       "version_minor": 0
      },
      "text/plain": [
       "Generating train split: 0 examples [00:00, ? examples/s]"
      ]
     },
     "metadata": {},
     "output_type": "display_data"
    },
    {
     "name": "stdout",
     "output_type": "stream",
     "text": [
      "Processing data as polars dataframe.\n",
      "Dataset length:  60\n",
      "offline_stock_trade_data/MCD/ppo_trained_MCD_bad_MCD_2018-05-16.json has 60 trajectories\n"
     ]
    },
    {
     "data": {
      "application/vnd.jupyter.widget-view+json": {
       "model_id": "584e0f565be741d79608002b6e4c662c",
       "version_major": 2,
       "version_minor": 0
      },
      "text/plain": [
       "Generating train split: 0 examples [00:00, ? examples/s]"
      ]
     },
     "metadata": {},
     "output_type": "display_data"
    },
    {
     "name": "stdout",
     "output_type": "stream",
     "text": [
      "Processing data as polars dataframe.\n",
      "Dataset length:  60\n",
      "offline_stock_trade_data/MCD/sentiment_react_MCD_2018-05-16.json has 60 trajectories\n"
     ]
    },
    {
     "data": {
      "application/vnd.jupyter.widget-view+json": {
       "model_id": "499fd472e2ef4ff18a003d0dfe136af6",
       "version_major": 2,
       "version_minor": 0
      },
      "text/plain": [
       "Generating train split: 0 examples [00:00, ? examples/s]"
      ]
     },
     "metadata": {},
     "output_type": "display_data"
    },
    {
     "name": "stdout",
     "output_type": "stream",
     "text": [
      "Processing data as polars dataframe.\n",
      "Dataset length:  60\n",
      "offline_stock_trade_data/MCD/random_MCD_2018-05-16.json has 60 trajectories\n"
     ]
    },
    {
     "data": {
      "application/vnd.jupyter.widget-view+json": {
       "model_id": "d765c1c7a29a4fff97f714cd84253480",
       "version_major": 2,
       "version_minor": 0
      },
      "text/plain": [
       "Generating train split: 0 examples [00:00, ? examples/s]"
      ]
     },
     "metadata": {},
     "output_type": "display_data"
    },
    {
     "name": "stdout",
     "output_type": "stream",
     "text": [
      "Processing data as polars dataframe.\n",
      "Dataset length:  60\n",
      "offline_stock_trade_data/MCD/trend_sma_fast_MCD_2018-05-16.json has 60 trajectories\n"
     ]
    },
    {
     "data": {
      "application/vnd.jupyter.widget-view+json": {
       "model_id": "434648a678dc4447b205fb48f44f7358",
       "version_major": 2,
       "version_minor": 0
      },
      "text/plain": [
       "Generating train split: 0 examples [00:00, ? examples/s]"
      ]
     },
     "metadata": {},
     "output_type": "display_data"
    },
    {
     "name": "stdout",
     "output_type": "stream",
     "text": [
      "Processing data as polars dataframe.\n",
      "Dataset length:  60\n",
      "offline_stock_trade_data/MCD/ddpg_trained_MCD_good_MCD_2018-05-16.json has 60 trajectories\n"
     ]
    },
    {
     "data": {
      "application/vnd.jupyter.widget-view+json": {
       "model_id": "4cbebc1c0456417babcbeb828e9f79ab",
       "version_major": 2,
       "version_minor": 0
      },
      "text/plain": [
       "Generating train split: 0 examples [00:00, ? examples/s]"
      ]
     },
     "metadata": {},
     "output_type": "display_data"
    },
    {
     "name": "stdout",
     "output_type": "stream",
     "text": [
      "Processing data as polars dataframe.\n",
      "Dataset length:  60\n",
      "offline_stock_trade_data/MCD/a2c_trained_MCD_good_MCD_2018-05-16.json has 60 trajectories\n"
     ]
    },
    {
     "data": {
      "application/vnd.jupyter.widget-view+json": {
       "model_id": "7c56ee9511c843ed968d1a28b527eece",
       "version_major": 2,
       "version_minor": 0
      },
      "text/plain": [
       "Generating train split: 0 examples [00:00, ? examples/s]"
      ]
     },
     "metadata": {},
     "output_type": "display_data"
    },
    {
     "name": "stdout",
     "output_type": "stream",
     "text": [
      "Processing data as polars dataframe.\n",
      "Dataset length:  60\n",
      "offline_stock_trade_data/MCD/momentum_stoch_rsi_MCD_2018-05-16.json has 60 trajectories\n"
     ]
    },
    {
     "data": {
      "application/vnd.jupyter.widget-view+json": {
       "model_id": "9d97744f26bf4ee48603c58ab91cbb86",
       "version_major": 2,
       "version_minor": 0
      },
      "text/plain": [
       "Generating train split: 0 examples [00:00, ? examples/s]"
      ]
     },
     "metadata": {},
     "output_type": "display_data"
    },
    {
     "name": "stdout",
     "output_type": "stream",
     "text": [
      "Processing data as polars dataframe.\n",
      "Dataset length:  60\n",
      "offline_stock_trade_data/HD/sentiment_react_HD_2018-05-16.json has 60 trajectories\n"
     ]
    },
    {
     "data": {
      "application/vnd.jupyter.widget-view+json": {
       "model_id": "e798b63f6337462c973e99bc1d38f640",
       "version_major": 2,
       "version_minor": 0
      },
      "text/plain": [
       "Generating train split: 0 examples [00:00, ? examples/s]"
      ]
     },
     "metadata": {},
     "output_type": "display_data"
    },
    {
     "name": "stdout",
     "output_type": "stream",
     "text": [
      "Processing data as polars dataframe.\n",
      "Dataset length:  60\n",
      "offline_stock_trade_data/HD/trend_sma_fast_HD_2018-05-16.json has 60 trajectories\n"
     ]
    },
    {
     "data": {
      "application/vnd.jupyter.widget-view+json": {
       "model_id": "4a0b2efaad324e55a4d91c9e07814485",
       "version_major": 2,
       "version_minor": 0
      },
      "text/plain": [
       "Generating train split: 0 examples [00:00, ? examples/s]"
      ]
     },
     "metadata": {},
     "output_type": "display_data"
    },
    {
     "name": "stdout",
     "output_type": "stream",
     "text": [
      "Processing data as polars dataframe.\n",
      "Dataset length:  60\n",
      "offline_stock_trade_data/HD/random_HD_2018-05-16.json has 60 trajectories\n"
     ]
    },
    {
     "data": {
      "application/vnd.jupyter.widget-view+json": {
       "model_id": "c203081a7e674e5fb5370733951b48ff",
       "version_major": 2,
       "version_minor": 0
      },
      "text/plain": [
       "Generating train split: 0 examples [00:00, ? examples/s]"
      ]
     },
     "metadata": {},
     "output_type": "display_data"
    },
    {
     "name": "stdout",
     "output_type": "stream",
     "text": [
      "Processing data as polars dataframe.\n",
      "Dataset length:  60\n",
      "offline_stock_trade_data/HD/ppo_trained_HD_bad_HD_2018-05-16.json has 60 trajectories\n"
     ]
    },
    {
     "data": {
      "application/vnd.jupyter.widget-view+json": {
       "model_id": "20754677feb14add831fba2c6003eb02",
       "version_major": 2,
       "version_minor": 0
      },
      "text/plain": [
       "Generating train split: 0 examples [00:00, ? examples/s]"
      ]
     },
     "metadata": {},
     "output_type": "display_data"
    },
    {
     "name": "stdout",
     "output_type": "stream",
     "text": [
      "Processing data as polars dataframe.\n",
      "Dataset length:  60\n",
      "offline_stock_trade_data/HD/a2c_trained_HD_good_HD_2018-05-16.json has 60 trajectories\n"
     ]
    },
    {
     "data": {
      "application/vnd.jupyter.widget-view+json": {
       "model_id": "1cd7aec930d64c15991c73be632ac353",
       "version_major": 2,
       "version_minor": 0
      },
      "text/plain": [
       "Generating train split: 0 examples [00:00, ? examples/s]"
      ]
     },
     "metadata": {},
     "output_type": "display_data"
    },
    {
     "name": "stdout",
     "output_type": "stream",
     "text": [
      "Processing data as polars dataframe.\n",
      "Dataset length:  60\n",
      "offline_stock_trade_data/HD/momentum_stoch_rsi_HD_2018-05-16.json has 60 trajectories\n"
     ]
    },
    {
     "data": {
      "application/vnd.jupyter.widget-view+json": {
       "model_id": "fb927430d51f4ffd877bb60d1d7ddd73",
       "version_major": 2,
       "version_minor": 0
      },
      "text/plain": [
       "Generating train split: 0 examples [00:00, ? examples/s]"
      ]
     },
     "metadata": {},
     "output_type": "display_data"
    },
    {
     "name": "stdout",
     "output_type": "stream",
     "text": [
      "Processing data as polars dataframe.\n",
      "Dataset length:  60\n",
      "offline_stock_trade_data/HD/ddpg_trained_HD_bad_HD_2018-05-16.json has 60 trajectories\n"
     ]
    },
    {
     "data": {
      "application/vnd.jupyter.widget-view+json": {
       "model_id": "e994706ec23d4fe48989bb9c3fc5ff8e",
       "version_major": 2,
       "version_minor": 0
      },
      "text/plain": [
       "Generating train split: 0 examples [00:00, ? examples/s]"
      ]
     },
     "metadata": {},
     "output_type": "display_data"
    },
    {
     "name": "stdout",
     "output_type": "stream",
     "text": [
      "Processing data as polars dataframe.\n",
      "Dataset length:  60\n",
      "offline_stock_trade_data/HON/trend_sma_fast_HON_2018-05-16.json has 60 trajectories\n"
     ]
    },
    {
     "data": {
      "application/vnd.jupyter.widget-view+json": {
       "model_id": "fba9e5346e9448c6b98f6d560895e0b7",
       "version_major": 2,
       "version_minor": 0
      },
      "text/plain": [
       "Generating train split: 0 examples [00:00, ? examples/s]"
      ]
     },
     "metadata": {},
     "output_type": "display_data"
    },
    {
     "name": "stdout",
     "output_type": "stream",
     "text": [
      "Processing data as polars dataframe.\n",
      "Dataset length:  60\n",
      "offline_stock_trade_data/HON/ddpg_trained_HON_good_HON_2018-05-16.json has 60 trajectories\n"
     ]
    },
    {
     "data": {
      "application/vnd.jupyter.widget-view+json": {
       "model_id": "da9813a4b83c43cb8594310bc3b21ab6",
       "version_major": 2,
       "version_minor": 0
      },
      "text/plain": [
       "Generating train split: 0 examples [00:00, ? examples/s]"
      ]
     },
     "metadata": {},
     "output_type": "display_data"
    },
    {
     "name": "stdout",
     "output_type": "stream",
     "text": [
      "Processing data as polars dataframe.\n",
      "Dataset length:  60\n",
      "offline_stock_trade_data/HON/momentum_stoch_rsi_HON_2018-05-16.json has 60 trajectories\n"
     ]
    },
    {
     "data": {
      "application/vnd.jupyter.widget-view+json": {
       "model_id": "499d177456c9414db725be332b31b634",
       "version_major": 2,
       "version_minor": 0
      },
      "text/plain": [
       "Generating train split: 0 examples [00:00, ? examples/s]"
      ]
     },
     "metadata": {},
     "output_type": "display_data"
    },
    {
     "name": "stdout",
     "output_type": "stream",
     "text": [
      "Processing data as polars dataframe.\n",
      "Dataset length:  60\n",
      "offline_stock_trade_data/HON/sentiment_react_HON_2018-05-16.json has 60 trajectories\n"
     ]
    },
    {
     "data": {
      "application/vnd.jupyter.widget-view+json": {
       "model_id": "5d97bd626aa845329498c1e6d0922a33",
       "version_major": 2,
       "version_minor": 0
      },
      "text/plain": [
       "Generating train split: 0 examples [00:00, ? examples/s]"
      ]
     },
     "metadata": {},
     "output_type": "display_data"
    },
    {
     "name": "stdout",
     "output_type": "stream",
     "text": [
      "Processing data as polars dataframe.\n",
      "Dataset length:  60\n",
      "offline_stock_trade_data/HON/ppo_trained_HON_bad_HON_2018-05-16.json has 60 trajectories\n"
     ]
    },
    {
     "data": {
      "application/vnd.jupyter.widget-view+json": {
       "model_id": "b24e156eda7742b1a4f43ed3795191ef",
       "version_major": 2,
       "version_minor": 0
      },
      "text/plain": [
       "Generating train split: 0 examples [00:00, ? examples/s]"
      ]
     },
     "metadata": {},
     "output_type": "display_data"
    },
    {
     "name": "stdout",
     "output_type": "stream",
     "text": [
      "Processing data as polars dataframe.\n",
      "Dataset length:  60\n",
      "offline_stock_trade_data/HON/random_HON_2018-05-16.json has 60 trajectories\n"
     ]
    },
    {
     "data": {
      "application/vnd.jupyter.widget-view+json": {
       "model_id": "ad154c5960f84a97a9bfad447139993f",
       "version_major": 2,
       "version_minor": 0
      },
      "text/plain": [
       "Generating train split: 0 examples [00:00, ? examples/s]"
      ]
     },
     "metadata": {},
     "output_type": "display_data"
    },
    {
     "name": "stdout",
     "output_type": "stream",
     "text": [
      "Processing data as polars dataframe.\n",
      "Dataset length:  60\n",
      "offline_stock_trade_data/HON/a2c_trained_HON_good_HON_2018-05-16.json has 60 trajectories\n"
     ]
    },
    {
     "data": {
      "application/vnd.jupyter.widget-view+json": {
       "model_id": "b64ae9c35fb3445caaa3c3b72c6caea9",
       "version_major": 2,
       "version_minor": 0
      },
      "text/plain": [
       "Generating train split: 0 examples [00:00, ? examples/s]"
      ]
     },
     "metadata": {},
     "output_type": "display_data"
    },
    {
     "name": "stdout",
     "output_type": "stream",
     "text": [
      "Processing data as polars dataframe.\n",
      "Dataset length:  60\n",
      "offline_stock_trade_data/BIIB/a2c_trained_BIIB_bad_BIIB_2018-05-16.json has 60 trajectories\n"
     ]
    },
    {
     "data": {
      "application/vnd.jupyter.widget-view+json": {
       "model_id": "62dacd3fb9fb4e06a2044bc996460292",
       "version_major": 2,
       "version_minor": 0
      },
      "text/plain": [
       "Generating train split: 0 examples [00:00, ? examples/s]"
      ]
     },
     "metadata": {},
     "output_type": "display_data"
    },
    {
     "name": "stdout",
     "output_type": "stream",
     "text": [
      "Processing data as polars dataframe.\n",
      "Dataset length:  60\n",
      "offline_stock_trade_data/BIIB/ddpg_trained_BIIB_good_BIIB_2018-05-16.json has 60 trajectories\n"
     ]
    },
    {
     "data": {
      "application/vnd.jupyter.widget-view+json": {
       "model_id": "13abfa06f6ac49278e24dca162e8f89f",
       "version_major": 2,
       "version_minor": 0
      },
      "text/plain": [
       "Generating train split: 0 examples [00:00, ? examples/s]"
      ]
     },
     "metadata": {},
     "output_type": "display_data"
    },
    {
     "name": "stdout",
     "output_type": "stream",
     "text": [
      "Processing data as polars dataframe.\n",
      "Dataset length:  60\n",
      "offline_stock_trade_data/BIIB/momentum_stoch_rsi_BIIB_2018-05-16.json has 60 trajectories\n"
     ]
    },
    {
     "data": {
      "application/vnd.jupyter.widget-view+json": {
       "model_id": "a46b2682b67a48328a870409fde90203",
       "version_major": 2,
       "version_minor": 0
      },
      "text/plain": [
       "Generating train split: 0 examples [00:00, ? examples/s]"
      ]
     },
     "metadata": {},
     "output_type": "display_data"
    },
    {
     "name": "stdout",
     "output_type": "stream",
     "text": [
      "Processing data as polars dataframe.\n",
      "Dataset length:  60\n",
      "offline_stock_trade_data/BIIB/trend_sma_fast_BIIB_2018-05-16.json has 60 trajectories\n"
     ]
    },
    {
     "data": {
      "application/vnd.jupyter.widget-view+json": {
       "model_id": "977b6843a8034fcf923cdd05e58bb0a9",
       "version_major": 2,
       "version_minor": 0
      },
      "text/plain": [
       "Generating train split: 0 examples [00:00, ? examples/s]"
      ]
     },
     "metadata": {},
     "output_type": "display_data"
    },
    {
     "name": "stdout",
     "output_type": "stream",
     "text": [
      "Processing data as polars dataframe.\n",
      "Dataset length:  60\n",
      "offline_stock_trade_data/BIIB/sentiment_react_BIIB_2018-05-16.json has 60 trajectories\n"
     ]
    },
    {
     "data": {
      "application/vnd.jupyter.widget-view+json": {
       "model_id": "19adfd5ef6ec4e4bb59499e17ec71ae6",
       "version_major": 2,
       "version_minor": 0
      },
      "text/plain": [
       "Generating train split: 0 examples [00:00, ? examples/s]"
      ]
     },
     "metadata": {},
     "output_type": "display_data"
    },
    {
     "name": "stdout",
     "output_type": "stream",
     "text": [
      "Processing data as polars dataframe.\n",
      "Dataset length:  60\n",
      "offline_stock_trade_data/BIIB/ppo_trained_BIIB_bad_BIIB_2018-05-16.json has 60 trajectories\n"
     ]
    },
    {
     "data": {
      "application/vnd.jupyter.widget-view+json": {
       "model_id": "b2a8cf2c9c66457bab60bbf2df728be3",
       "version_major": 2,
       "version_minor": 0
      },
      "text/plain": [
       "Generating train split: 0 examples [00:00, ? examples/s]"
      ]
     },
     "metadata": {},
     "output_type": "display_data"
    },
    {
     "name": "stdout",
     "output_type": "stream",
     "text": [
      "Processing data as polars dataframe.\n",
      "Dataset length:  60\n",
      "offline_stock_trade_data/BIIB/random_BIIB_2018-05-16.json has 60 trajectories\n"
     ]
    },
    {
     "data": {
      "application/vnd.jupyter.widget-view+json": {
       "model_id": "f615a7f9e31e47a1a12df70959d949db",
       "version_major": 2,
       "version_minor": 0
      },
      "text/plain": [
       "Generating train split: 0 examples [00:00, ? examples/s]"
      ]
     },
     "metadata": {},
     "output_type": "display_data"
    },
    {
     "name": "stdout",
     "output_type": "stream",
     "text": [
      "Processing data as polars dataframe.\n",
      "Dataset length:  60\n",
      "offline_stock_trade_data/AAPL/random_AAPL_2018-05-16.json has 60 trajectories\n"
     ]
    },
    {
     "data": {
      "application/vnd.jupyter.widget-view+json": {
       "model_id": "3338889fb9ea423b910cf5494c73207d",
       "version_major": 2,
       "version_minor": 0
      },
      "text/plain": [
       "Generating train split: 0 examples [00:00, ? examples/s]"
      ]
     },
     "metadata": {},
     "output_type": "display_data"
    },
    {
     "name": "stdout",
     "output_type": "stream",
     "text": [
      "Processing data as polars dataframe.\n",
      "Dataset length:  60\n",
      "offline_stock_trade_data/AAPL/trend_sma_fast_AAPL_2018-05-16.json has 60 trajectories\n"
     ]
    },
    {
     "data": {
      "application/vnd.jupyter.widget-view+json": {
       "model_id": "1796127f8d0e45ac8f1eebf3c6ae1835",
       "version_major": 2,
       "version_minor": 0
      },
      "text/plain": [
       "Generating train split: 0 examples [00:00, ? examples/s]"
      ]
     },
     "metadata": {},
     "output_type": "display_data"
    },
    {
     "name": "stdout",
     "output_type": "stream",
     "text": [
      "Processing data as polars dataframe.\n",
      "Dataset length:  60\n",
      "offline_stock_trade_data/AAPL/ddpg_trained_AAPL_good_AAPL_2018-05-16.json has 60 trajectories\n"
     ]
    },
    {
     "data": {
      "application/vnd.jupyter.widget-view+json": {
       "model_id": "bde012c0c1554871b556675c23bc499e",
       "version_major": 2,
       "version_minor": 0
      },
      "text/plain": [
       "Generating train split: 0 examples [00:00, ? examples/s]"
      ]
     },
     "metadata": {},
     "output_type": "display_data"
    },
    {
     "name": "stdout",
     "output_type": "stream",
     "text": [
      "Processing data as polars dataframe.\n",
      "Dataset length:  60\n",
      "offline_stock_trade_data/AAPL/sentiment_react_AAPL_2018-05-16.json has 60 trajectories\n"
     ]
    },
    {
     "data": {
      "application/vnd.jupyter.widget-view+json": {
       "model_id": "428b7c82eb5941c2ab4c8ea06ec01c30",
       "version_major": 2,
       "version_minor": 0
      },
      "text/plain": [
       "Generating train split: 0 examples [00:00, ? examples/s]"
      ]
     },
     "metadata": {},
     "output_type": "display_data"
    },
    {
     "name": "stdout",
     "output_type": "stream",
     "text": [
      "Processing data as polars dataframe.\n",
      "Dataset length:  60\n",
      "offline_stock_trade_data/AAPL/ppo_trained_AAPL_bad_AAPL_2018-05-16.json has 60 trajectories\n"
     ]
    },
    {
     "data": {
      "application/vnd.jupyter.widget-view+json": {
       "model_id": "273ca06b36854aeca7235fc7d435b759",
       "version_major": 2,
       "version_minor": 0
      },
      "text/plain": [
       "Generating train split: 0 examples [00:00, ? examples/s]"
      ]
     },
     "metadata": {},
     "output_type": "display_data"
    },
    {
     "name": "stdout",
     "output_type": "stream",
     "text": [
      "Processing data as polars dataframe.\n",
      "Dataset length:  60\n",
      "offline_stock_trade_data/AAPL/momentum_stoch_rsi_AAPL_2018-05-16.json has 60 trajectories\n"
     ]
    },
    {
     "data": {
      "application/vnd.jupyter.widget-view+json": {
       "model_id": "b6239462c53347cf889ac5a911b0a8b8",
       "version_major": 2,
       "version_minor": 0
      },
      "text/plain": [
       "Generating train split: 0 examples [00:00, ? examples/s]"
      ]
     },
     "metadata": {},
     "output_type": "display_data"
    },
    {
     "name": "stdout",
     "output_type": "stream",
     "text": [
      "Processing data as polars dataframe.\n",
      "Dataset length:  60\n",
      "offline_stock_trade_data/AAPL/a2c_trained_AAPL_bad_AAPL_2018-05-16.json has 60 trajectories\n"
     ]
    },
    {
     "data": {
      "application/vnd.jupyter.widget-view+json": {
       "model_id": "1c3b46f9de1b4c378a9992bcfe98e826",
       "version_major": 2,
       "version_minor": 0
      },
      "text/plain": [
       "Generating train split: 0 examples [00:00, ? examples/s]"
      ]
     },
     "metadata": {},
     "output_type": "display_data"
    },
    {
     "name": "stdout",
     "output_type": "stream",
     "text": [
      "Processing data as polars dataframe.\n",
      "Dataset length:  60\n",
      "offline_stock_trade_data/WDAY/sentiment_react_WDAY_2018-05-16.json has 60 trajectories\n"
     ]
    },
    {
     "data": {
      "application/vnd.jupyter.widget-view+json": {
       "model_id": "52bda02f81114a0abbf1b684757d6503",
       "version_major": 2,
       "version_minor": 0
      },
      "text/plain": [
       "Generating train split: 0 examples [00:00, ? examples/s]"
      ]
     },
     "metadata": {},
     "output_type": "display_data"
    },
    {
     "name": "stdout",
     "output_type": "stream",
     "text": [
      "Processing data as polars dataframe.\n",
      "Dataset length:  60\n",
      "offline_stock_trade_data/WDAY/random_WDAY_2018-05-16.json has 60 trajectories\n"
     ]
    },
    {
     "data": {
      "application/vnd.jupyter.widget-view+json": {
       "model_id": "c7c92de5c32a4c92a3082e87341f6e99",
       "version_major": 2,
       "version_minor": 0
      },
      "text/plain": [
       "Generating train split: 0 examples [00:00, ? examples/s]"
      ]
     },
     "metadata": {},
     "output_type": "display_data"
    },
    {
     "name": "stdout",
     "output_type": "stream",
     "text": [
      "Processing data as polars dataframe.\n",
      "Dataset length:  60\n",
      "offline_stock_trade_data/WDAY/momentum_stoch_rsi_WDAY_2018-05-16.json has 60 trajectories\n"
     ]
    },
    {
     "data": {
      "application/vnd.jupyter.widget-view+json": {
       "model_id": "34555f14c69f4e9d866883e8405cce71",
       "version_major": 2,
       "version_minor": 0
      },
      "text/plain": [
       "Generating train split: 0 examples [00:00, ? examples/s]"
      ]
     },
     "metadata": {},
     "output_type": "display_data"
    },
    {
     "name": "stdout",
     "output_type": "stream",
     "text": [
      "Processing data as polars dataframe.\n",
      "Dataset length:  60\n",
      "offline_stock_trade_data/WDAY/trend_sma_fast_WDAY_2018-05-16.json has 60 trajectories\n"
     ]
    },
    {
     "data": {
      "application/vnd.jupyter.widget-view+json": {
       "model_id": "a34625a363ab40e2902943fa76ce5831",
       "version_major": 2,
       "version_minor": 0
      },
      "text/plain": [
       "Generating train split: 0 examples [00:00, ? examples/s]"
      ]
     },
     "metadata": {},
     "output_type": "display_data"
    },
    {
     "name": "stdout",
     "output_type": "stream",
     "text": [
      "Processing data as polars dataframe.\n",
      "Dataset length:  60\n",
      "offline_stock_trade_data/WDAY/a2c_trained_WDAY_bad_WDAY_2018-05-16.json has 60 trajectories\n"
     ]
    },
    {
     "data": {
      "application/vnd.jupyter.widget-view+json": {
       "model_id": "2ea3a3e8cd3c4b1baebef5f6090682c3",
       "version_major": 2,
       "version_minor": 0
      },
      "text/plain": [
       "Generating train split: 0 examples [00:00, ? examples/s]"
      ]
     },
     "metadata": {},
     "output_type": "display_data"
    },
    {
     "name": "stdout",
     "output_type": "stream",
     "text": [
      "Processing data as polars dataframe.\n",
      "Dataset length:  60\n",
      "offline_stock_trade_data/WDAY/ppo_trained_WDAY_bad_WDAY_2018-05-16.json has 60 trajectories\n"
     ]
    },
    {
     "data": {
      "application/vnd.jupyter.widget-view+json": {
       "model_id": "7ee8fac1362949d1b827652e3ba76aef",
       "version_major": 2,
       "version_minor": 0
      },
      "text/plain": [
       "Generating train split: 0 examples [00:00, ? examples/s]"
      ]
     },
     "metadata": {},
     "output_type": "display_data"
    },
    {
     "name": "stdout",
     "output_type": "stream",
     "text": [
      "Processing data as polars dataframe.\n",
      "Dataset length:  60\n",
      "offline_stock_trade_data/WDAY/ddpg_trained_WDAY_bad_WDAY_2018-05-16.json has 60 trajectories\n"
     ]
    },
    {
     "data": {
      "application/vnd.jupyter.widget-view+json": {
       "model_id": "50d604558fe94064a33e74bd54d0de23",
       "version_major": 2,
       "version_minor": 0
      },
      "text/plain": [
       "Generating train split: 0 examples [00:00, ? examples/s]"
      ]
     },
     "metadata": {},
     "output_type": "display_data"
    },
    {
     "name": "stdout",
     "output_type": "stream",
     "text": [
      "Processing data as polars dataframe.\n",
      "Dataset length:  60\n",
      "offline_stock_trade_data/DOW/random_DOW_2018-05-16.json has 60 trajectories\n"
     ]
    },
    {
     "data": {
      "application/vnd.jupyter.widget-view+json": {
       "model_id": "5a787350d3cb4107a623fef17d1f01a6",
       "version_major": 2,
       "version_minor": 0
      },
      "text/plain": [
       "Generating train split: 0 examples [00:00, ? examples/s]"
      ]
     },
     "metadata": {},
     "output_type": "display_data"
    },
    {
     "name": "stdout",
     "output_type": "stream",
     "text": [
      "Processing data as polars dataframe.\n",
      "Dataset length:  60\n",
      "offline_stock_trade_data/DOW/sentiment_react_DOW_2018-05-16.json has 60 trajectories\n"
     ]
    },
    {
     "data": {
      "application/vnd.jupyter.widget-view+json": {
       "model_id": "c58e226d0954424888ae418f60bc7a62",
       "version_major": 2,
       "version_minor": 0
      },
      "text/plain": [
       "Generating train split: 0 examples [00:00, ? examples/s]"
      ]
     },
     "metadata": {},
     "output_type": "display_data"
    },
    {
     "name": "stdout",
     "output_type": "stream",
     "text": [
      "Processing data as polars dataframe.\n",
      "Dataset length:  60\n",
      "offline_stock_trade_data/DOW/trend_sma_fast_DOW_2018-05-16.json has 60 trajectories\n"
     ]
    },
    {
     "data": {
      "application/vnd.jupyter.widget-view+json": {
       "model_id": "c7de861a46af46dbbddb477418bd286f",
       "version_major": 2,
       "version_minor": 0
      },
      "text/plain": [
       "Generating train split: 0 examples [00:00, ? examples/s]"
      ]
     },
     "metadata": {},
     "output_type": "display_data"
    },
    {
     "name": "stdout",
     "output_type": "stream",
     "text": [
      "Processing data as polars dataframe.\n",
      "Dataset length:  60\n",
      "offline_stock_trade_data/DOW/momentum_stoch_rsi_DOW_2018-05-16.json has 60 trajectories\n"
     ]
    },
    {
     "data": {
      "application/vnd.jupyter.widget-view+json": {
       "model_id": "c6d2412b04364324a5f6f4d04c5d34e2",
       "version_major": 2,
       "version_minor": 0
      },
      "text/plain": [
       "Generating train split: 0 examples [00:00, ? examples/s]"
      ]
     },
     "metadata": {},
     "output_type": "display_data"
    },
    {
     "name": "stdout",
     "output_type": "stream",
     "text": [
      "Processing data as polars dataframe.\n",
      "Dataset length:  60\n",
      "offline_stock_trade_data/MELI/trend_sma_fast_MELI_2018-05-16.json has 60 trajectories\n"
     ]
    },
    {
     "data": {
      "application/vnd.jupyter.widget-view+json": {
       "model_id": "35af7879ab57410a89fbe45a6c22c27d",
       "version_major": 2,
       "version_minor": 0
      },
      "text/plain": [
       "Generating train split: 0 examples [00:00, ? examples/s]"
      ]
     },
     "metadata": {},
     "output_type": "display_data"
    },
    {
     "name": "stdout",
     "output_type": "stream",
     "text": [
      "Processing data as polars dataframe.\n",
      "Dataset length:  60\n",
      "offline_stock_trade_data/MELI/random_MELI_2018-05-16.json has 60 trajectories\n"
     ]
    },
    {
     "data": {
      "application/vnd.jupyter.widget-view+json": {
       "model_id": "61c0c299acab4401861cafc72eb7e85f",
       "version_major": 2,
       "version_minor": 0
      },
      "text/plain": [
       "Generating train split: 0 examples [00:00, ? examples/s]"
      ]
     },
     "metadata": {},
     "output_type": "display_data"
    },
    {
     "name": "stdout",
     "output_type": "stream",
     "text": [
      "Processing data as polars dataframe.\n",
      "Dataset length:  60\n",
      "offline_stock_trade_data/MELI/a2c_trained_MELI_bad_MELI_2018-05-16.json has 60 trajectories\n"
     ]
    },
    {
     "data": {
      "application/vnd.jupyter.widget-view+json": {
       "model_id": "49f465eb9f9e423a82a7f60979da4bb6",
       "version_major": 2,
       "version_minor": 0
      },
      "text/plain": [
       "Generating train split: 0 examples [00:00, ? examples/s]"
      ]
     },
     "metadata": {},
     "output_type": "display_data"
    },
    {
     "name": "stdout",
     "output_type": "stream",
     "text": [
      "Processing data as polars dataframe.\n",
      "Dataset length:  60\n",
      "offline_stock_trade_data/MELI/ppo_trained_MELI_bad_MELI_2018-05-16.json has 60 trajectories\n"
     ]
    },
    {
     "data": {
      "application/vnd.jupyter.widget-view+json": {
       "model_id": "ec680b87ef0c42a18a02e023967c8503",
       "version_major": 2,
       "version_minor": 0
      },
      "text/plain": [
       "Generating train split: 0 examples [00:00, ? examples/s]"
      ]
     },
     "metadata": {},
     "output_type": "display_data"
    },
    {
     "name": "stdout",
     "output_type": "stream",
     "text": [
      "Processing data as polars dataframe.\n",
      "Dataset length:  60\n",
      "offline_stock_trade_data/MELI/momentum_stoch_rsi_MELI_2018-05-16.json has 60 trajectories\n"
     ]
    },
    {
     "data": {
      "application/vnd.jupyter.widget-view+json": {
       "model_id": "0e4884acf17244fb9337f1e862030d94",
       "version_major": 2,
       "version_minor": 0
      },
      "text/plain": [
       "Generating train split: 0 examples [00:00, ? examples/s]"
      ]
     },
     "metadata": {},
     "output_type": "display_data"
    },
    {
     "name": "stdout",
     "output_type": "stream",
     "text": [
      "Processing data as polars dataframe.\n",
      "Dataset length:  60\n",
      "offline_stock_trade_data/MELI/ddpg_trained_MELI_bad_MELI_2018-05-16.json has 60 trajectories\n"
     ]
    },
    {
     "data": {
      "application/vnd.jupyter.widget-view+json": {
       "model_id": "3dec8e5d411244d5b09da0ae0b104822",
       "version_major": 2,
       "version_minor": 0
      },
      "text/plain": [
       "Generating train split: 0 examples [00:00, ? examples/s]"
      ]
     },
     "metadata": {},
     "output_type": "display_data"
    },
    {
     "name": "stdout",
     "output_type": "stream",
     "text": [
      "Processing data as polars dataframe.\n",
      "Dataset length:  60\n",
      "offline_stock_trade_data/MELI/sentiment_react_MELI_2018-05-16.json has 60 trajectories\n"
     ]
    },
    {
     "data": {
      "application/vnd.jupyter.widget-view+json": {
       "model_id": "28bfecaff0a14d24a0d15b497f4a9917",
       "version_major": 2,
       "version_minor": 0
      },
      "text/plain": [
       "Generating train split: 0 examples [00:00, ? examples/s]"
      ]
     },
     "metadata": {},
     "output_type": "display_data"
    },
    {
     "name": "stdout",
     "output_type": "stream",
     "text": [
      "Processing data as polars dataframe.\n",
      "Dataset length:  60\n",
      "offline_stock_trade_data/ANSS/momentum_stoch_rsi_ANSS_2018-05-16.json has 60 trajectories\n"
     ]
    },
    {
     "data": {
      "application/vnd.jupyter.widget-view+json": {
       "model_id": "5c9fab5438574f54935fe02e1ca4af5d",
       "version_major": 2,
       "version_minor": 0
      },
      "text/plain": [
       "Generating train split: 0 examples [00:00, ? examples/s]"
      ]
     },
     "metadata": {},
     "output_type": "display_data"
    },
    {
     "name": "stdout",
     "output_type": "stream",
     "text": [
      "Processing data as polars dataframe.\n",
      "Dataset length:  60\n",
      "offline_stock_trade_data/ANSS/a2c_trained_ANSS_bad_ANSS_2018-05-16.json has 60 trajectories\n"
     ]
    },
    {
     "data": {
      "application/vnd.jupyter.widget-view+json": {
       "model_id": "33a6cf578afe425d8526570de119f0ba",
       "version_major": 2,
       "version_minor": 0
      },
      "text/plain": [
       "Generating train split: 0 examples [00:00, ? examples/s]"
      ]
     },
     "metadata": {},
     "output_type": "display_data"
    },
    {
     "name": "stdout",
     "output_type": "stream",
     "text": [
      "Processing data as polars dataframe.\n",
      "Dataset length:  60\n",
      "offline_stock_trade_data/ANSS/sentiment_react_ANSS_2018-05-16.json has 60 trajectories\n"
     ]
    },
    {
     "data": {
      "application/vnd.jupyter.widget-view+json": {
       "model_id": "4f23d5113eeb4d248e7808844a10eac1",
       "version_major": 2,
       "version_minor": 0
      },
      "text/plain": [
       "Generating train split: 0 examples [00:00, ? examples/s]"
      ]
     },
     "metadata": {},
     "output_type": "display_data"
    },
    {
     "name": "stdout",
     "output_type": "stream",
     "text": [
      "Processing data as polars dataframe.\n",
      "Dataset length:  60\n",
      "offline_stock_trade_data/ANSS/trend_sma_fast_ANSS_2018-05-16.json has 60 trajectories\n"
     ]
    },
    {
     "data": {
      "application/vnd.jupyter.widget-view+json": {
       "model_id": "a3a98b3b82284a3a956d11145b72dfc5",
       "version_major": 2,
       "version_minor": 0
      },
      "text/plain": [
       "Generating train split: 0 examples [00:00, ? examples/s]"
      ]
     },
     "metadata": {},
     "output_type": "display_data"
    },
    {
     "name": "stdout",
     "output_type": "stream",
     "text": [
      "Processing data as polars dataframe.\n",
      "Dataset length:  60\n",
      "offline_stock_trade_data/ANSS/random_ANSS_2018-05-16.json has 60 trajectories\n"
     ]
    },
    {
     "data": {
      "application/vnd.jupyter.widget-view+json": {
       "model_id": "e570598775f7461181835e9a0c447c55",
       "version_major": 2,
       "version_minor": 0
      },
      "text/plain": [
       "Generating train split: 0 examples [00:00, ? examples/s]"
      ]
     },
     "metadata": {},
     "output_type": "display_data"
    },
    {
     "name": "stdout",
     "output_type": "stream",
     "text": [
      "Processing data as polars dataframe.\n",
      "Dataset length:  60\n",
      "offline_stock_trade_data/ANSS/ddpg_trained_ANSS_good_ANSS_2018-05-16.json has 60 trajectories\n"
     ]
    },
    {
     "data": {
      "application/vnd.jupyter.widget-view+json": {
       "model_id": "d3335a25a8a54eef881f146f5a3662c8",
       "version_major": 2,
       "version_minor": 0
      },
      "text/plain": [
       "Generating train split: 0 examples [00:00, ? examples/s]"
      ]
     },
     "metadata": {},
     "output_type": "display_data"
    },
    {
     "name": "stdout",
     "output_type": "stream",
     "text": [
      "Processing data as polars dataframe.\n",
      "Dataset length:  60\n",
      "offline_stock_trade_data/ANSS/ppo_trained_ANSS_bad_ANSS_2018-05-16.json has 60 trajectories\n"
     ]
    },
    {
     "data": {
      "application/vnd.jupyter.widget-view+json": {
       "model_id": "8106af48bf914982aa0e0bcae123c576",
       "version_major": 2,
       "version_minor": 0
      },
      "text/plain": [
       "Generating train split: 0 examples [00:00, ? examples/s]"
      ]
     },
     "metadata": {},
     "output_type": "display_data"
    },
    {
     "name": "stdout",
     "output_type": "stream",
     "text": [
      "Processing data as polars dataframe.\n",
      "Dataset length:  60\n",
      "offline_stock_trade_data/TEAM/ppo_trained_TEAM_bad_TEAM_2018-05-16.json has 60 trajectories\n"
     ]
    },
    {
     "data": {
      "application/vnd.jupyter.widget-view+json": {
       "model_id": "9efee77d78b94b218593e942bd9493a3",
       "version_major": 2,
       "version_minor": 0
      },
      "text/plain": [
       "Generating train split: 0 examples [00:00, ? examples/s]"
      ]
     },
     "metadata": {},
     "output_type": "display_data"
    },
    {
     "name": "stdout",
     "output_type": "stream",
     "text": [
      "Processing data as polars dataframe.\n",
      "Dataset length:  60\n",
      "offline_stock_trade_data/TEAM/a2c_trained_TEAM_bad_TEAM_2018-05-16.json has 60 trajectories\n"
     ]
    },
    {
     "data": {
      "application/vnd.jupyter.widget-view+json": {
       "model_id": "335ff54b012245f9afe34fffd6a9cbd4",
       "version_major": 2,
       "version_minor": 0
      },
      "text/plain": [
       "Generating train split: 0 examples [00:00, ? examples/s]"
      ]
     },
     "metadata": {},
     "output_type": "display_data"
    },
    {
     "name": "stdout",
     "output_type": "stream",
     "text": [
      "Processing data as polars dataframe.\n",
      "Dataset length:  60\n",
      "offline_stock_trade_data/TEAM/trend_sma_fast_TEAM_2018-05-16.json has 60 trajectories\n"
     ]
    },
    {
     "data": {
      "application/vnd.jupyter.widget-view+json": {
       "model_id": "a8fa39d00a3a40ff85528c381d17ee04",
       "version_major": 2,
       "version_minor": 0
      },
      "text/plain": [
       "Generating train split: 0 examples [00:00, ? examples/s]"
      ]
     },
     "metadata": {},
     "output_type": "display_data"
    },
    {
     "name": "stdout",
     "output_type": "stream",
     "text": [
      "Processing data as polars dataframe.\n",
      "Dataset length:  60\n",
      "offline_stock_trade_data/TEAM/random_TEAM_2018-05-16.json has 60 trajectories\n"
     ]
    },
    {
     "data": {
      "application/vnd.jupyter.widget-view+json": {
       "model_id": "9c1554a779bc4ec99774d74f022cb60e",
       "version_major": 2,
       "version_minor": 0
      },
      "text/plain": [
       "Generating train split: 0 examples [00:00, ? examples/s]"
      ]
     },
     "metadata": {},
     "output_type": "display_data"
    },
    {
     "name": "stdout",
     "output_type": "stream",
     "text": [
      "Processing data as polars dataframe.\n",
      "Dataset length:  60\n",
      "offline_stock_trade_data/TEAM/sentiment_react_TEAM_2018-05-16.json has 60 trajectories\n"
     ]
    },
    {
     "data": {
      "application/vnd.jupyter.widget-view+json": {
       "model_id": "460d8f9b107a4fa68c1ba5f0abfeac37",
       "version_major": 2,
       "version_minor": 0
      },
      "text/plain": [
       "Generating train split: 0 examples [00:00, ? examples/s]"
      ]
     },
     "metadata": {},
     "output_type": "display_data"
    },
    {
     "name": "stdout",
     "output_type": "stream",
     "text": [
      "Processing data as polars dataframe.\n",
      "Dataset length:  60\n",
      "offline_stock_trade_data/TEAM/momentum_stoch_rsi_TEAM_2018-05-16.json has 60 trajectories\n"
     ]
    },
    {
     "data": {
      "application/vnd.jupyter.widget-view+json": {
       "model_id": "78f39c1f4d11407d9af1f357540b6fdf",
       "version_major": 2,
       "version_minor": 0
      },
      "text/plain": [
       "Generating train split: 0 examples [00:00, ? examples/s]"
      ]
     },
     "metadata": {},
     "output_type": "display_data"
    },
    {
     "name": "stdout",
     "output_type": "stream",
     "text": [
      "Processing data as polars dataframe.\n",
      "Dataset length:  60\n",
      "offline_stock_trade_data/TEAM/ddpg_trained_TEAM_good_TEAM_2018-05-16.json has 60 trajectories\n"
     ]
    },
    {
     "data": {
      "application/vnd.jupyter.widget-view+json": {
       "model_id": "e221271d0e264b00935a3da674879443",
       "version_major": 2,
       "version_minor": 0
      },
      "text/plain": [
       "Generating train split: 0 examples [00:00, ? examples/s]"
      ]
     },
     "metadata": {},
     "output_type": "display_data"
    },
    {
     "name": "stdout",
     "output_type": "stream",
     "text": [
      "Processing data as polars dataframe.\n",
      "Dataset length:  60\n",
      "offline_stock_trade_data/SNPS/a2c_trained_SNPS_bad_SNPS_2018-05-16.json has 60 trajectories\n"
     ]
    },
    {
     "data": {
      "application/vnd.jupyter.widget-view+json": {
       "model_id": "a49b5b9ee9984824b1b688d52260184b",
       "version_major": 2,
       "version_minor": 0
      },
      "text/plain": [
       "Generating train split: 0 examples [00:00, ? examples/s]"
      ]
     },
     "metadata": {},
     "output_type": "display_data"
    },
    {
     "name": "stdout",
     "output_type": "stream",
     "text": [
      "Processing data as polars dataframe.\n",
      "Dataset length:  60\n",
      "offline_stock_trade_data/SNPS/trend_sma_fast_SNPS_2018-05-16.json has 60 trajectories\n"
     ]
    },
    {
     "data": {
      "application/vnd.jupyter.widget-view+json": {
       "model_id": "99c4435855974dadb1d1fbe9f6ed87b6",
       "version_major": 2,
       "version_minor": 0
      },
      "text/plain": [
       "Generating train split: 0 examples [00:00, ? examples/s]"
      ]
     },
     "metadata": {},
     "output_type": "display_data"
    },
    {
     "name": "stdout",
     "output_type": "stream",
     "text": [
      "Processing data as polars dataframe.\n",
      "Dataset length:  60\n",
      "offline_stock_trade_data/SNPS/random_SNPS_2018-05-16.json has 60 trajectories\n"
     ]
    },
    {
     "data": {
      "application/vnd.jupyter.widget-view+json": {
       "model_id": "c2b24190ca944866967e7a3cd7a2c2f8",
       "version_major": 2,
       "version_minor": 0
      },
      "text/plain": [
       "Generating train split: 0 examples [00:00, ? examples/s]"
      ]
     },
     "metadata": {},
     "output_type": "display_data"
    },
    {
     "name": "stdout",
     "output_type": "stream",
     "text": [
      "Processing data as polars dataframe.\n",
      "Dataset length:  60\n",
      "offline_stock_trade_data/SNPS/sentiment_react_SNPS_2018-05-16.json has 60 trajectories\n"
     ]
    },
    {
     "data": {
      "application/vnd.jupyter.widget-view+json": {
       "model_id": "a772f9f017634315a53664cbbdaa68b9",
       "version_major": 2,
       "version_minor": 0
      },
      "text/plain": [
       "Generating train split: 0 examples [00:00, ? examples/s]"
      ]
     },
     "metadata": {},
     "output_type": "display_data"
    },
    {
     "name": "stdout",
     "output_type": "stream",
     "text": [
      "Processing data as polars dataframe.\n",
      "Dataset length:  60\n",
      "offline_stock_trade_data/SNPS/momentum_stoch_rsi_SNPS_2018-05-16.json has 60 trajectories\n"
     ]
    },
    {
     "data": {
      "application/vnd.jupyter.widget-view+json": {
       "model_id": "99e801fce523491eb957ab7b801bdf51",
       "version_major": 2,
       "version_minor": 0
      },
      "text/plain": [
       "Generating train split: 0 examples [00:00, ? examples/s]"
      ]
     },
     "metadata": {},
     "output_type": "display_data"
    },
    {
     "name": "stdout",
     "output_type": "stream",
     "text": [
      "Processing data as polars dataframe.\n",
      "Dataset length:  60\n",
      "offline_stock_trade_data/SNPS/ddpg_trained_SNPS_good_SNPS_2018-05-16.json has 60 trajectories\n"
     ]
    },
    {
     "data": {
      "application/vnd.jupyter.widget-view+json": {
       "model_id": "5f66c993d2aa4a528153ae9f0b2689f8",
       "version_major": 2,
       "version_minor": 0
      },
      "text/plain": [
       "Generating train split: 0 examples [00:00, ? examples/s]"
      ]
     },
     "metadata": {},
     "output_type": "display_data"
    },
    {
     "name": "stdout",
     "output_type": "stream",
     "text": [
      "Processing data as polars dataframe.\n",
      "Dataset length:  60\n",
      "offline_stock_trade_data/SNPS/ppo_trained_SNPS_bad_SNPS_2018-05-16.json has 60 trajectories\n"
     ]
    },
    {
     "data": {
      "application/vnd.jupyter.widget-view+json": {
       "model_id": "ac34f2b026d343c8b59ea099c436d8e4",
       "version_major": 2,
       "version_minor": 0
      },
      "text/plain": [
       "Generating train split: 0 examples [00:00, ? examples/s]"
      ]
     },
     "metadata": {},
     "output_type": "display_data"
    },
    {
     "name": "stdout",
     "output_type": "stream",
     "text": [
      "Processing data as polars dataframe.\n",
      "Dataset length:  60\n",
      "offline_stock_trade_data/SBUX/momentum_stoch_rsi_SBUX_2018-05-16.json has 60 trajectories\n"
     ]
    },
    {
     "data": {
      "application/vnd.jupyter.widget-view+json": {
       "model_id": "3ddbf55bfeaf4b0b9d05f2f00a20fba6",
       "version_major": 2,
       "version_minor": 0
      },
      "text/plain": [
       "Generating train split: 0 examples [00:00, ? examples/s]"
      ]
     },
     "metadata": {},
     "output_type": "display_data"
    },
    {
     "name": "stdout",
     "output_type": "stream",
     "text": [
      "Processing data as polars dataframe.\n",
      "Dataset length:  60\n",
      "offline_stock_trade_data/SBUX/random_SBUX_2018-05-16.json has 60 trajectories\n"
     ]
    },
    {
     "data": {
      "application/vnd.jupyter.widget-view+json": {
       "model_id": "c96f10d51ae645f6bf0237dee06e2004",
       "version_major": 2,
       "version_minor": 0
      },
      "text/plain": [
       "Generating train split: 0 examples [00:00, ? examples/s]"
      ]
     },
     "metadata": {},
     "output_type": "display_data"
    },
    {
     "name": "stdout",
     "output_type": "stream",
     "text": [
      "Processing data as polars dataframe.\n",
      "Dataset length:  60\n",
      "offline_stock_trade_data/SBUX/a2c_trained_SBUX_good_SBUX_2018-05-16.json has 60 trajectories\n"
     ]
    },
    {
     "data": {
      "application/vnd.jupyter.widget-view+json": {
       "model_id": "03178fef806a4436ae91a130de3e0898",
       "version_major": 2,
       "version_minor": 0
      },
      "text/plain": [
       "Generating train split: 0 examples [00:00, ? examples/s]"
      ]
     },
     "metadata": {},
     "output_type": "display_data"
    },
    {
     "name": "stdout",
     "output_type": "stream",
     "text": [
      "Processing data as polars dataframe.\n",
      "Dataset length:  60\n",
      "offline_stock_trade_data/SBUX/trend_sma_fast_SBUX_2018-05-16.json has 60 trajectories\n"
     ]
    },
    {
     "data": {
      "application/vnd.jupyter.widget-view+json": {
       "model_id": "e2a53d677724429692c691351ebc90b5",
       "version_major": 2,
       "version_minor": 0
      },
      "text/plain": [
       "Generating train split: 0 examples [00:00, ? examples/s]"
      ]
     },
     "metadata": {},
     "output_type": "display_data"
    },
    {
     "name": "stdout",
     "output_type": "stream",
     "text": [
      "Processing data as polars dataframe.\n",
      "Dataset length:  60\n",
      "offline_stock_trade_data/SBUX/ppo_trained_SBUX_good_SBUX_2018-05-16.json has 60 trajectories\n"
     ]
    },
    {
     "data": {
      "application/vnd.jupyter.widget-view+json": {
       "model_id": "1763af8ab3c44765afee7361f5b43b5f",
       "version_major": 2,
       "version_minor": 0
      },
      "text/plain": [
       "Generating train split: 0 examples [00:00, ? examples/s]"
      ]
     },
     "metadata": {},
     "output_type": "display_data"
    },
    {
     "name": "stdout",
     "output_type": "stream",
     "text": [
      "Processing data as polars dataframe.\n",
      "Dataset length:  60\n",
      "offline_stock_trade_data/SBUX/ddpg_trained_SBUX_good_SBUX_2018-05-16.json has 60 trajectories\n"
     ]
    },
    {
     "data": {
      "application/vnd.jupyter.widget-view+json": {
       "model_id": "501734032f9744da8e31188e45daae1c",
       "version_major": 2,
       "version_minor": 0
      },
      "text/plain": [
       "Generating train split: 0 examples [00:00, ? examples/s]"
      ]
     },
     "metadata": {},
     "output_type": "display_data"
    },
    {
     "name": "stdout",
     "output_type": "stream",
     "text": [
      "Processing data as polars dataframe.\n",
      "Dataset length:  60\n",
      "offline_stock_trade_data/SBUX/sentiment_react_SBUX_2018-05-16.json has 60 trajectories\n"
     ]
    },
    {
     "data": {
      "application/vnd.jupyter.widget-view+json": {
       "model_id": "ca2b220a2e924e83be5589cb017873fa",
       "version_major": 2,
       "version_minor": 0
      },
      "text/plain": [
       "Generating train split: 0 examples [00:00, ? examples/s]"
      ]
     },
     "metadata": {},
     "output_type": "display_data"
    },
    {
     "name": "stdout",
     "output_type": "stream",
     "text": [
      "Processing data as polars dataframe.\n",
      "Dataset length:  60\n",
      "offline_stock_trade_data/TMUS/momentum_stoch_rsi_TMUS_2018-05-16.json has 60 trajectories\n"
     ]
    },
    {
     "data": {
      "application/vnd.jupyter.widget-view+json": {
       "model_id": "c22c5c6f24c446efb80596cf35e0877a",
       "version_major": 2,
       "version_minor": 0
      },
      "text/plain": [
       "Generating train split: 0 examples [00:00, ? examples/s]"
      ]
     },
     "metadata": {},
     "output_type": "display_data"
    },
    {
     "name": "stdout",
     "output_type": "stream",
     "text": [
      "Processing data as polars dataframe.\n",
      "Dataset length:  60\n",
      "offline_stock_trade_data/TMUS/sentiment_react_TMUS_2018-05-16.json has 60 trajectories\n"
     ]
    },
    {
     "data": {
      "application/vnd.jupyter.widget-view+json": {
       "model_id": "766cef14363046e2944259cc82c2fcda",
       "version_major": 2,
       "version_minor": 0
      },
      "text/plain": [
       "Generating train split: 0 examples [00:00, ? examples/s]"
      ]
     },
     "metadata": {},
     "output_type": "display_data"
    },
    {
     "name": "stdout",
     "output_type": "stream",
     "text": [
      "Processing data as polars dataframe.\n",
      "Dataset length:  60\n",
      "offline_stock_trade_data/TMUS/ppo_trained_TMUS_good_TMUS_2018-05-16.json has 60 trajectories\n"
     ]
    },
    {
     "data": {
      "application/vnd.jupyter.widget-view+json": {
       "model_id": "37ac7edb5f0847d29e8925933258f27c",
       "version_major": 2,
       "version_minor": 0
      },
      "text/plain": [
       "Generating train split: 0 examples [00:00, ? examples/s]"
      ]
     },
     "metadata": {},
     "output_type": "display_data"
    },
    {
     "name": "stdout",
     "output_type": "stream",
     "text": [
      "Processing data as polars dataframe.\n",
      "Dataset length:  60\n",
      "offline_stock_trade_data/TMUS/ddpg_trained_TMUS_good_TMUS_2018-05-16.json has 60 trajectories\n"
     ]
    },
    {
     "data": {
      "application/vnd.jupyter.widget-view+json": {
       "model_id": "2e6555977c6b4b72b81d7bb59a6bad0a",
       "version_major": 2,
       "version_minor": 0
      },
      "text/plain": [
       "Generating train split: 0 examples [00:00, ? examples/s]"
      ]
     },
     "metadata": {},
     "output_type": "display_data"
    },
    {
     "name": "stdout",
     "output_type": "stream",
     "text": [
      "Processing data as polars dataframe.\n",
      "Dataset length:  60\n",
      "offline_stock_trade_data/TMUS/random_TMUS_2018-05-16.json has 60 trajectories\n"
     ]
    },
    {
     "data": {
      "application/vnd.jupyter.widget-view+json": {
       "model_id": "3d425939c19a467db8fd6c072f80ee97",
       "version_major": 2,
       "version_minor": 0
      },
      "text/plain": [
       "Generating train split: 0 examples [00:00, ? examples/s]"
      ]
     },
     "metadata": {},
     "output_type": "display_data"
    },
    {
     "name": "stdout",
     "output_type": "stream",
     "text": [
      "Processing data as polars dataframe.\n",
      "Dataset length:  60\n",
      "offline_stock_trade_data/TMUS/trend_sma_fast_TMUS_2018-05-16.json has 60 trajectories\n"
     ]
    },
    {
     "data": {
      "application/vnd.jupyter.widget-view+json": {
       "model_id": "9993e91e5e91421c9923a2581c48b7a2",
       "version_major": 2,
       "version_minor": 0
      },
      "text/plain": [
       "Generating train split: 0 examples [00:00, ? examples/s]"
      ]
     },
     "metadata": {},
     "output_type": "display_data"
    },
    {
     "name": "stdout",
     "output_type": "stream",
     "text": [
      "Processing data as polars dataframe.\n",
      "Dataset length:  60\n",
      "offline_stock_trade_data/TMUS/a2c_trained_TMUS_good_TMUS_2018-05-16.json has 60 trajectories\n"
     ]
    },
    {
     "data": {
      "application/vnd.jupyter.widget-view+json": {
       "model_id": "ca9b03a28ceb4c5d95e8250d3306a4ae",
       "version_major": 2,
       "version_minor": 0
      },
      "text/plain": [
       "Generating train split: 0 examples [00:00, ? examples/s]"
      ]
     },
     "metadata": {},
     "output_type": "display_data"
    },
    {
     "name": "stdout",
     "output_type": "stream",
     "text": [
      "Processing data as polars dataframe.\n",
      "Dataset length:  60\n",
      "offline_stock_trade_data/VRTX/ppo_trained_VRTX_bad_VRTX_2018-05-16.json has 60 trajectories\n"
     ]
    },
    {
     "data": {
      "application/vnd.jupyter.widget-view+json": {
       "model_id": "2f6f4bb8a420468fac15d9384864444a",
       "version_major": 2,
       "version_minor": 0
      },
      "text/plain": [
       "Generating train split: 0 examples [00:00, ? examples/s]"
      ]
     },
     "metadata": {},
     "output_type": "display_data"
    },
    {
     "name": "stdout",
     "output_type": "stream",
     "text": [
      "Processing data as polars dataframe.\n",
      "Dataset length:  60\n",
      "offline_stock_trade_data/VRTX/ddpg_trained_VRTX_good_VRTX_2018-05-16.json has 60 trajectories\n"
     ]
    },
    {
     "data": {
      "application/vnd.jupyter.widget-view+json": {
       "model_id": "8378e60ce2494a4785c9795e71f5cf32",
       "version_major": 2,
       "version_minor": 0
      },
      "text/plain": [
       "Generating train split: 0 examples [00:00, ? examples/s]"
      ]
     },
     "metadata": {},
     "output_type": "display_data"
    },
    {
     "name": "stdout",
     "output_type": "stream",
     "text": [
      "Processing data as polars dataframe.\n",
      "Dataset length:  60\n",
      "offline_stock_trade_data/VRTX/sentiment_react_VRTX_2018-05-16.json has 60 trajectories\n"
     ]
    },
    {
     "data": {
      "application/vnd.jupyter.widget-view+json": {
       "model_id": "4d3d0f894b0f477db2c9a851733fe2c8",
       "version_major": 2,
       "version_minor": 0
      },
      "text/plain": [
       "Generating train split: 0 examples [00:00, ? examples/s]"
      ]
     },
     "metadata": {},
     "output_type": "display_data"
    },
    {
     "name": "stdout",
     "output_type": "stream",
     "text": [
      "Processing data as polars dataframe.\n",
      "Dataset length:  60\n",
      "offline_stock_trade_data/VRTX/random_VRTX_2018-05-16.json has 60 trajectories\n"
     ]
    },
    {
     "data": {
      "application/vnd.jupyter.widget-view+json": {
       "model_id": "3eb064453a3c442a8d63276d4e175d4f",
       "version_major": 2,
       "version_minor": 0
      },
      "text/plain": [
       "Generating train split: 0 examples [00:00, ? examples/s]"
      ]
     },
     "metadata": {},
     "output_type": "display_data"
    },
    {
     "name": "stdout",
     "output_type": "stream",
     "text": [
      "Processing data as polars dataframe.\n",
      "Dataset length:  60\n",
      "offline_stock_trade_data/VRTX/a2c_trained_VRTX_bad_VRTX_2018-05-16.json has 60 trajectories\n"
     ]
    },
    {
     "data": {
      "application/vnd.jupyter.widget-view+json": {
       "model_id": "e819d38e94e54a6d9a54317474f59dfc",
       "version_major": 2,
       "version_minor": 0
      },
      "text/plain": [
       "Generating train split: 0 examples [00:00, ? examples/s]"
      ]
     },
     "metadata": {},
     "output_type": "display_data"
    },
    {
     "name": "stdout",
     "output_type": "stream",
     "text": [
      "Processing data as polars dataframe.\n",
      "Dataset length:  60\n",
      "offline_stock_trade_data/VRTX/momentum_stoch_rsi_VRTX_2018-05-16.json has 60 trajectories\n"
     ]
    },
    {
     "data": {
      "application/vnd.jupyter.widget-view+json": {
       "model_id": "f324be169df74f479c5c493a262ede72",
       "version_major": 2,
       "version_minor": 0
      },
      "text/plain": [
       "Generating train split: 0 examples [00:00, ? examples/s]"
      ]
     },
     "metadata": {},
     "output_type": "display_data"
    },
    {
     "name": "stdout",
     "output_type": "stream",
     "text": [
      "Processing data as polars dataframe.\n",
      "Dataset length:  60\n",
      "offline_stock_trade_data/VRTX/trend_sma_fast_VRTX_2018-05-16.json has 60 trajectories\n"
     ]
    },
    {
     "data": {
      "application/vnd.jupyter.widget-view+json": {
       "model_id": "7a0145a932f54877bb36aa405c8c3b82",
       "version_major": 2,
       "version_minor": 0
      },
      "text/plain": [
       "Generating train split: 0 examples [00:00, ? examples/s]"
      ]
     },
     "metadata": {},
     "output_type": "display_data"
    },
    {
     "name": "stdout",
     "output_type": "stream",
     "text": [
      "Processing data as polars dataframe.\n",
      "Dataset length:  60\n",
      "offline_stock_trade_data/ADBE/trend_sma_fast_ADBE_2018-05-16.json has 60 trajectories\n"
     ]
    },
    {
     "data": {
      "application/vnd.jupyter.widget-view+json": {
       "model_id": "3ff8c45a52ef4902a906baf987fbf7ac",
       "version_major": 2,
       "version_minor": 0
      },
      "text/plain": [
       "Generating train split: 0 examples [00:00, ? examples/s]"
      ]
     },
     "metadata": {},
     "output_type": "display_data"
    },
    {
     "name": "stdout",
     "output_type": "stream",
     "text": [
      "Processing data as polars dataframe.\n",
      "Dataset length:  60\n",
      "offline_stock_trade_data/ADBE/momentum_stoch_rsi_ADBE_2018-05-16.json has 60 trajectories\n"
     ]
    },
    {
     "data": {
      "application/vnd.jupyter.widget-view+json": {
       "model_id": "d7ec859662da47eda7a70931abe4fe97",
       "version_major": 2,
       "version_minor": 0
      },
      "text/plain": [
       "Generating train split: 0 examples [00:00, ? examples/s]"
      ]
     },
     "metadata": {},
     "output_type": "display_data"
    },
    {
     "name": "stdout",
     "output_type": "stream",
     "text": [
      "Processing data as polars dataframe.\n",
      "Dataset length:  60\n",
      "offline_stock_trade_data/ADBE/ddpg_trained_ADBE_bad_ADBE_2018-05-16.json has 60 trajectories\n"
     ]
    },
    {
     "data": {
      "application/vnd.jupyter.widget-view+json": {
       "model_id": "f854bb485b2d4739b6e3e923bbb31be3",
       "version_major": 2,
       "version_minor": 0
      },
      "text/plain": [
       "Generating train split: 0 examples [00:00, ? examples/s]"
      ]
     },
     "metadata": {},
     "output_type": "display_data"
    },
    {
     "name": "stdout",
     "output_type": "stream",
     "text": [
      "Processing data as polars dataframe.\n",
      "Dataset length:  60\n",
      "offline_stock_trade_data/ADBE/sentiment_react_ADBE_2018-05-16.json has 60 trajectories\n"
     ]
    },
    {
     "data": {
      "application/vnd.jupyter.widget-view+json": {
       "model_id": "d2335d7ea3be4a5cbd15dad19c17169e",
       "version_major": 2,
       "version_minor": 0
      },
      "text/plain": [
       "Generating train split: 0 examples [00:00, ? examples/s]"
      ]
     },
     "metadata": {},
     "output_type": "display_data"
    },
    {
     "name": "stdout",
     "output_type": "stream",
     "text": [
      "Processing data as polars dataframe.\n",
      "Dataset length:  60\n",
      "offline_stock_trade_data/ADBE/ppo_trained_ADBE_bad_ADBE_2018-05-16.json has 60 trajectories\n"
     ]
    },
    {
     "data": {
      "application/vnd.jupyter.widget-view+json": {
       "model_id": "40051abc6a014b5085c8758ebb2e0581",
       "version_major": 2,
       "version_minor": 0
      },
      "text/plain": [
       "Generating train split: 0 examples [00:00, ? examples/s]"
      ]
     },
     "metadata": {},
     "output_type": "display_data"
    },
    {
     "name": "stdout",
     "output_type": "stream",
     "text": [
      "Processing data as polars dataframe.\n",
      "Dataset length:  60\n",
      "offline_stock_trade_data/ADBE/random_ADBE_2018-05-16.json has 60 trajectories\n"
     ]
    },
    {
     "data": {
      "application/vnd.jupyter.widget-view+json": {
       "model_id": "13ff2557f8424efca1c6401a5b57c392",
       "version_major": 2,
       "version_minor": 0
      },
      "text/plain": [
       "Generating train split: 0 examples [00:00, ? examples/s]"
      ]
     },
     "metadata": {},
     "output_type": "display_data"
    },
    {
     "name": "stdout",
     "output_type": "stream",
     "text": [
      "Processing data as polars dataframe.\n",
      "Dataset length:  60\n",
      "offline_stock_trade_data/ADBE/a2c_trained_ADBE_bad_ADBE_2018-05-16.json has 60 trajectories\n"
     ]
    },
    {
     "data": {
      "application/vnd.jupyter.widget-view+json": {
       "model_id": "23682554df4f45bd9b3fb9a2dbbd666a",
       "version_major": 2,
       "version_minor": 0
      },
      "text/plain": [
       "Generating train split: 0 examples [00:00, ? examples/s]"
      ]
     },
     "metadata": {},
     "output_type": "display_data"
    },
    {
     "name": "stdout",
     "output_type": "stream",
     "text": [
      "Processing data as polars dataframe.\n",
      "Dataset length:  60\n",
      "offline_stock_trade_data/DXCM/ddpg_trained_DXCM_bad_DXCM_2018-05-16.json has 60 trajectories\n"
     ]
    },
    {
     "data": {
      "application/vnd.jupyter.widget-view+json": {
       "model_id": "578000362b1c488e8821dbac1d6f6109",
       "version_major": 2,
       "version_minor": 0
      },
      "text/plain": [
       "Generating train split: 0 examples [00:00, ? examples/s]"
      ]
     },
     "metadata": {},
     "output_type": "display_data"
    },
    {
     "name": "stdout",
     "output_type": "stream",
     "text": [
      "Processing data as polars dataframe.\n",
      "Dataset length:  60\n",
      "offline_stock_trade_data/DXCM/random_DXCM_2018-05-16.json has 60 trajectories\n"
     ]
    },
    {
     "data": {
      "application/vnd.jupyter.widget-view+json": {
       "model_id": "2d5caba912734123a338ed52ca3a0f9e",
       "version_major": 2,
       "version_minor": 0
      },
      "text/plain": [
       "Generating train split: 0 examples [00:00, ? examples/s]"
      ]
     },
     "metadata": {},
     "output_type": "display_data"
    },
    {
     "name": "stdout",
     "output_type": "stream",
     "text": [
      "Processing data as polars dataframe.\n",
      "Dataset length:  60\n",
      "offline_stock_trade_data/DXCM/a2c_trained_DXCM_bad_DXCM_2018-05-16.json has 60 trajectories\n"
     ]
    },
    {
     "data": {
      "application/vnd.jupyter.widget-view+json": {
       "model_id": "6c2b6a1bae07482eaf618567d864d349",
       "version_major": 2,
       "version_minor": 0
      },
      "text/plain": [
       "Generating train split: 0 examples [00:00, ? examples/s]"
      ]
     },
     "metadata": {},
     "output_type": "display_data"
    },
    {
     "name": "stdout",
     "output_type": "stream",
     "text": [
      "Processing data as polars dataframe.\n",
      "Dataset length:  60\n",
      "offline_stock_trade_data/DXCM/momentum_stoch_rsi_DXCM_2018-05-16.json has 60 trajectories\n"
     ]
    },
    {
     "data": {
      "application/vnd.jupyter.widget-view+json": {
       "model_id": "c354e1aa5331402ea05751284dfcc9a4",
       "version_major": 2,
       "version_minor": 0
      },
      "text/plain": [
       "Generating train split: 0 examples [00:00, ? examples/s]"
      ]
     },
     "metadata": {},
     "output_type": "display_data"
    },
    {
     "name": "stdout",
     "output_type": "stream",
     "text": [
      "Processing data as polars dataframe.\n",
      "Dataset length:  60\n",
      "offline_stock_trade_data/DXCM/ppo_trained_DXCM_bad_DXCM_2018-05-16.json has 60 trajectories\n"
     ]
    },
    {
     "data": {
      "application/vnd.jupyter.widget-view+json": {
       "model_id": "8848d2120e9f4a96aed97cd2b609b25b",
       "version_major": 2,
       "version_minor": 0
      },
      "text/plain": [
       "Generating train split: 0 examples [00:00, ? examples/s]"
      ]
     },
     "metadata": {},
     "output_type": "display_data"
    },
    {
     "name": "stdout",
     "output_type": "stream",
     "text": [
      "Processing data as polars dataframe.\n",
      "Dataset length:  60\n",
      "offline_stock_trade_data/DXCM/sentiment_react_DXCM_2018-05-16.json has 60 trajectories\n"
     ]
    },
    {
     "data": {
      "application/vnd.jupyter.widget-view+json": {
       "model_id": "09957cb9af204d36942ddc16bd10624d",
       "version_major": 2,
       "version_minor": 0
      },
      "text/plain": [
       "Generating train split: 0 examples [00:00, ? examples/s]"
      ]
     },
     "metadata": {},
     "output_type": "display_data"
    },
    {
     "name": "stdout",
     "output_type": "stream",
     "text": [
      "Processing data as polars dataframe.\n",
      "Dataset length:  60\n",
      "offline_stock_trade_data/DXCM/trend_sma_fast_DXCM_2018-05-16.json has 60 trajectories\n"
     ]
    },
    {
     "data": {
      "application/vnd.jupyter.widget-view+json": {
       "model_id": "09c347f9996049888a519350d1607def",
       "version_major": 2,
       "version_minor": 0
      },
      "text/plain": [
       "Generating train split: 0 examples [00:00, ? examples/s]"
      ]
     },
     "metadata": {},
     "output_type": "display_data"
    },
    {
     "name": "stdout",
     "output_type": "stream",
     "text": [
      "Processing data as polars dataframe.\n",
      "Dataset length:  60\n",
      "offline_stock_trade_data/KLAC/ddpg_trained_KLAC_good_KLAC_2018-05-16.json has 60 trajectories\n"
     ]
    },
    {
     "data": {
      "application/vnd.jupyter.widget-view+json": {
       "model_id": "88b18e4298f84bb18dca3f94ee7b1196",
       "version_major": 2,
       "version_minor": 0
      },
      "text/plain": [
       "Generating train split: 0 examples [00:00, ? examples/s]"
      ]
     },
     "metadata": {},
     "output_type": "display_data"
    },
    {
     "name": "stdout",
     "output_type": "stream",
     "text": [
      "Processing data as polars dataframe.\n",
      "Dataset length:  60\n",
      "offline_stock_trade_data/KLAC/ppo_trained_KLAC_bad_KLAC_2018-05-16.json has 60 trajectories\n"
     ]
    },
    {
     "data": {
      "application/vnd.jupyter.widget-view+json": {
       "model_id": "5bf90c7e26344d94baa901217648eafe",
       "version_major": 2,
       "version_minor": 0
      },
      "text/plain": [
       "Generating train split: 0 examples [00:00, ? examples/s]"
      ]
     },
     "metadata": {},
     "output_type": "display_data"
    },
    {
     "name": "stdout",
     "output_type": "stream",
     "text": [
      "Processing data as polars dataframe.\n",
      "Dataset length:  60\n",
      "offline_stock_trade_data/KLAC/a2c_trained_KLAC_good_KLAC_2018-05-16.json has 60 trajectories\n"
     ]
    },
    {
     "data": {
      "application/vnd.jupyter.widget-view+json": {
       "model_id": "19feadf0fdb84186bb24be8f3336e11b",
       "version_major": 2,
       "version_minor": 0
      },
      "text/plain": [
       "Generating train split: 0 examples [00:00, ? examples/s]"
      ]
     },
     "metadata": {},
     "output_type": "display_data"
    },
    {
     "name": "stdout",
     "output_type": "stream",
     "text": [
      "Processing data as polars dataframe.\n",
      "Dataset length:  60\n",
      "offline_stock_trade_data/KLAC/sentiment_react_KLAC_2018-05-16.json has 60 trajectories\n"
     ]
    },
    {
     "data": {
      "application/vnd.jupyter.widget-view+json": {
       "model_id": "17d4a439dc114c9d8f071a9cd5d08dd8",
       "version_major": 2,
       "version_minor": 0
      },
      "text/plain": [
       "Generating train split: 0 examples [00:00, ? examples/s]"
      ]
     },
     "metadata": {},
     "output_type": "display_data"
    },
    {
     "name": "stdout",
     "output_type": "stream",
     "text": [
      "Processing data as polars dataframe.\n",
      "Dataset length:  60\n",
      "offline_stock_trade_data/KLAC/momentum_stoch_rsi_KLAC_2018-05-16.json has 60 trajectories\n"
     ]
    },
    {
     "data": {
      "application/vnd.jupyter.widget-view+json": {
       "model_id": "5a04114ac52f477b8c15e8b3f286240c",
       "version_major": 2,
       "version_minor": 0
      },
      "text/plain": [
       "Generating train split: 0 examples [00:00, ? examples/s]"
      ]
     },
     "metadata": {},
     "output_type": "display_data"
    },
    {
     "name": "stdout",
     "output_type": "stream",
     "text": [
      "Processing data as polars dataframe.\n",
      "Dataset length:  60\n",
      "offline_stock_trade_data/KLAC/random_KLAC_2018-05-16.json has 60 trajectories\n"
     ]
    },
    {
     "data": {
      "application/vnd.jupyter.widget-view+json": {
       "model_id": "4342dae00bdb4b1b9fd5d7182e7f8046",
       "version_major": 2,
       "version_minor": 0
      },
      "text/plain": [
       "Generating train split: 0 examples [00:00, ? examples/s]"
      ]
     },
     "metadata": {},
     "output_type": "display_data"
    },
    {
     "name": "stdout",
     "output_type": "stream",
     "text": [
      "Processing data as polars dataframe.\n",
      "Dataset length:  60\n",
      "offline_stock_trade_data/KLAC/trend_sma_fast_KLAC_2018-05-16.json has 60 trajectories\n"
     ]
    },
    {
     "data": {
      "application/vnd.jupyter.widget-view+json": {
       "model_id": "94b8155f19fe459bbde355f19418ad60",
       "version_major": 2,
       "version_minor": 0
      },
      "text/plain": [
       "Generating train split: 0 examples [00:00, ? examples/s]"
      ]
     },
     "metadata": {},
     "output_type": "display_data"
    },
    {
     "name": "stdout",
     "output_type": "stream",
     "text": [
      "Processing data as polars dataframe.\n",
      "Dataset length:  60\n",
      "offline_stock_trade_data/AMGN/a2c_trained_AMGN_bad_AMGN_2018-05-16.json has 60 trajectories\n"
     ]
    },
    {
     "data": {
      "application/vnd.jupyter.widget-view+json": {
       "model_id": "d9aac141a0d847b392c1092defeccce3",
       "version_major": 2,
       "version_minor": 0
      },
      "text/plain": [
       "Generating train split: 0 examples [00:00, ? examples/s]"
      ]
     },
     "metadata": {},
     "output_type": "display_data"
    },
    {
     "name": "stdout",
     "output_type": "stream",
     "text": [
      "Processing data as polars dataframe.\n",
      "Dataset length:  60\n",
      "offline_stock_trade_data/AMGN/sentiment_react_AMGN_2018-05-16.json has 60 trajectories\n"
     ]
    },
    {
     "data": {
      "application/vnd.jupyter.widget-view+json": {
       "model_id": "0f25eee6f12049acb4dac34bc4573bcf",
       "version_major": 2,
       "version_minor": 0
      },
      "text/plain": [
       "Generating train split: 0 examples [00:00, ? examples/s]"
      ]
     },
     "metadata": {},
     "output_type": "display_data"
    },
    {
     "name": "stdout",
     "output_type": "stream",
     "text": [
      "Processing data as polars dataframe.\n",
      "Dataset length:  60\n",
      "offline_stock_trade_data/AMGN/momentum_stoch_rsi_AMGN_2018-05-16.json has 60 trajectories\n"
     ]
    },
    {
     "data": {
      "application/vnd.jupyter.widget-view+json": {
       "model_id": "d5916b0c6e95415ea43dcd9976dc74be",
       "version_major": 2,
       "version_minor": 0
      },
      "text/plain": [
       "Generating train split: 0 examples [00:00, ? examples/s]"
      ]
     },
     "metadata": {},
     "output_type": "display_data"
    },
    {
     "name": "stdout",
     "output_type": "stream",
     "text": [
      "Processing data as polars dataframe.\n",
      "Dataset length:  60\n",
      "offline_stock_trade_data/AMGN/ddpg_trained_AMGN_bad_AMGN_2018-05-16.json has 60 trajectories\n"
     ]
    },
    {
     "data": {
      "application/vnd.jupyter.widget-view+json": {
       "model_id": "dc8da4473c444a4282b89fcc1748bffc",
       "version_major": 2,
       "version_minor": 0
      },
      "text/plain": [
       "Generating train split: 0 examples [00:00, ? examples/s]"
      ]
     },
     "metadata": {},
     "output_type": "display_data"
    },
    {
     "name": "stdout",
     "output_type": "stream",
     "text": [
      "Processing data as polars dataframe.\n",
      "Dataset length:  60\n",
      "offline_stock_trade_data/AMGN/trend_sma_fast_AMGN_2018-05-16.json has 60 trajectories\n"
     ]
    },
    {
     "data": {
      "application/vnd.jupyter.widget-view+json": {
       "model_id": "96f4e356458247c1b13b887f437adc51",
       "version_major": 2,
       "version_minor": 0
      },
      "text/plain": [
       "Generating train split: 0 examples [00:00, ? examples/s]"
      ]
     },
     "metadata": {},
     "output_type": "display_data"
    },
    {
     "name": "stdout",
     "output_type": "stream",
     "text": [
      "Processing data as polars dataframe.\n",
      "Dataset length:  60\n",
      "offline_stock_trade_data/AMGN/ppo_trained_AMGN_bad_AMGN_2018-05-16.json has 60 trajectories\n"
     ]
    },
    {
     "data": {
      "application/vnd.jupyter.widget-view+json": {
       "model_id": "e1c8b04b0d4d4fd8ae5c2bc105fdf5f5",
       "version_major": 2,
       "version_minor": 0
      },
      "text/plain": [
       "Generating train split: 0 examples [00:00, ? examples/s]"
      ]
     },
     "metadata": {},
     "output_type": "display_data"
    },
    {
     "name": "stdout",
     "output_type": "stream",
     "text": [
      "Processing data as polars dataframe.\n",
      "Dataset length:  60\n",
      "offline_stock_trade_data/AMGN/random_AMGN_2018-05-16.json has 60 trajectories\n"
     ]
    },
    {
     "data": {
      "application/vnd.jupyter.widget-view+json": {
       "model_id": "a75e8c7e55a84084948892d653a5afeb",
       "version_major": 2,
       "version_minor": 0
      },
      "text/plain": [
       "Generating train split: 0 examples [00:00, ? examples/s]"
      ]
     },
     "metadata": {},
     "output_type": "display_data"
    },
    {
     "name": "stdout",
     "output_type": "stream",
     "text": [
      "Processing data as polars dataframe.\n",
      "Dataset length:  60\n",
      "offline_stock_trade_data/BKNG/random_BKNG_2018-05-16.json has 60 trajectories\n"
     ]
    },
    {
     "data": {
      "application/vnd.jupyter.widget-view+json": {
       "model_id": "24b03ef2b09b45b797759a2101e9fc83",
       "version_major": 2,
       "version_minor": 0
      },
      "text/plain": [
       "Generating train split: 0 examples [00:00, ? examples/s]"
      ]
     },
     "metadata": {},
     "output_type": "display_data"
    },
    {
     "name": "stdout",
     "output_type": "stream",
     "text": [
      "Processing data as polars dataframe.\n",
      "Dataset length:  60\n",
      "offline_stock_trade_data/BKNG/ddpg_trained_BKNG_bad_BKNG_2018-05-16.json has 60 trajectories\n"
     ]
    },
    {
     "data": {
      "application/vnd.jupyter.widget-view+json": {
       "model_id": "4bbbfa54eed24b3a85a7e0f6f0e5172e",
       "version_major": 2,
       "version_minor": 0
      },
      "text/plain": [
       "Generating train split: 0 examples [00:00, ? examples/s]"
      ]
     },
     "metadata": {},
     "output_type": "display_data"
    },
    {
     "name": "stdout",
     "output_type": "stream",
     "text": [
      "Processing data as polars dataframe.\n",
      "Dataset length:  60\n",
      "offline_stock_trade_data/BKNG/momentum_stoch_rsi_BKNG_2018-05-16.json has 60 trajectories\n"
     ]
    },
    {
     "data": {
      "application/vnd.jupyter.widget-view+json": {
       "model_id": "d473d44ff7d94f9f840b5716ffbaac50",
       "version_major": 2,
       "version_minor": 0
      },
      "text/plain": [
       "Generating train split: 0 examples [00:00, ? examples/s]"
      ]
     },
     "metadata": {},
     "output_type": "display_data"
    },
    {
     "name": "stdout",
     "output_type": "stream",
     "text": [
      "Processing data as polars dataframe.\n",
      "Dataset length:  60\n",
      "offline_stock_trade_data/BKNG/sentiment_react_BKNG_2018-05-16.json has 60 trajectories\n"
     ]
    },
    {
     "data": {
      "application/vnd.jupyter.widget-view+json": {
       "model_id": "09577e105c594651a761bff2721e825d",
       "version_major": 2,
       "version_minor": 0
      },
      "text/plain": [
       "Generating train split: 0 examples [00:00, ? examples/s]"
      ]
     },
     "metadata": {},
     "output_type": "display_data"
    },
    {
     "name": "stdout",
     "output_type": "stream",
     "text": [
      "Processing data as polars dataframe.\n",
      "Dataset length:  60\n",
      "offline_stock_trade_data/BKNG/trend_sma_fast_BKNG_2018-05-16.json has 60 trajectories\n"
     ]
    },
    {
     "data": {
      "application/vnd.jupyter.widget-view+json": {
       "model_id": "766bbaf1c61a46ecbe5b75116450df7a",
       "version_major": 2,
       "version_minor": 0
      },
      "text/plain": [
       "Generating train split: 0 examples [00:00, ? examples/s]"
      ]
     },
     "metadata": {},
     "output_type": "display_data"
    },
    {
     "name": "stdout",
     "output_type": "stream",
     "text": [
      "Processing data as polars dataframe.\n",
      "Dataset length:  60\n",
      "offline_stock_trade_data/BKNG/a2c_trained_BKNG_good_BKNG_2018-05-16.json has 60 trajectories\n"
     ]
    },
    {
     "data": {
      "application/vnd.jupyter.widget-view+json": {
       "model_id": "f660a8640a174b59a6534bbbee96b456",
       "version_major": 2,
       "version_minor": 0
      },
      "text/plain": [
       "Generating train split: 0 examples [00:00, ? examples/s]"
      ]
     },
     "metadata": {},
     "output_type": "display_data"
    },
    {
     "name": "stdout",
     "output_type": "stream",
     "text": [
      "Processing data as polars dataframe.\n",
      "Dataset length:  60\n",
      "offline_stock_trade_data/BKNG/ppo_trained_BKNG_bad_BKNG_2018-05-16.json has 60 trajectories\n",
      "checking for env_state consistency\n",
      "All env_states are the same in the datasets\n",
      "Combining datasets\n",
      "Combined dataset has 42720 trajectories\n",
      "Initializing training object\n",
      "Number of parameters: 4353234\n",
      "Training object initialized\n",
      "Training model...\n"
     ]
    },
    {
     "name": "stderr",
     "output_type": "stream",
     "text": [
      "100%|██████████| 1335/1335 [01:26<00:00, 15.45it/s]\n"
     ]
    },
    {
     "name": "stdout",
     "output_type": "stream",
     "text": [
      "Epoch 0: Loss: 0.16934320330619812\n"
     ]
    },
    {
     "name": "stderr",
     "output_type": "stream",
     "text": [
      "100%|██████████| 1335/1335 [01:25<00:00, 15.58it/s]\n",
      "100%|██████████| 1335/1335 [01:26<00:00, 15.50it/s]\n",
      "100%|██████████| 1335/1335 [01:25<00:00, 15.56it/s]\n",
      "100%|██████████| 1335/1335 [01:25<00:00, 15.55it/s]\n",
      "100%|██████████| 1335/1335 [01:25<00:00, 15.56it/s]\n",
      "100%|██████████| 1335/1335 [01:26<00:00, 15.50it/s]\n",
      "100%|██████████| 1335/1335 [01:25<00:00, 15.53it/s]\n",
      "100%|██████████| 1335/1335 [01:25<00:00, 15.55it/s]\n",
      "100%|██████████| 1335/1335 [01:26<00:00, 15.47it/s]\n",
      "100%|██████████| 1335/1335 [01:25<00:00, 15.55it/s]\n",
      "100%|██████████| 1335/1335 [01:26<00:00, 15.51it/s]\n",
      "100%|██████████| 1335/1335 [01:25<00:00, 15.57it/s]\n",
      "100%|██████████| 1335/1335 [01:25<00:00, 15.55it/s]\n",
      "100%|██████████| 1335/1335 [01:25<00:00, 15.53it/s]\n",
      "100%|██████████| 1335/1335 [01:26<00:00, 15.47it/s]\n",
      "100%|██████████| 1335/1335 [01:25<00:00, 15.61it/s]\n",
      "100%|██████████| 1335/1335 [01:25<00:00, 15.53it/s]\n",
      "100%|██████████| 1335/1335 [01:26<00:00, 15.50it/s]\n",
      "100%|██████████| 1335/1335 [01:25<00:00, 15.54it/s]\n",
      "100%|██████████| 1335/1335 [01:26<00:00, 15.52it/s]\n",
      "100%|██████████| 1335/1335 [01:25<00:00, 15.54it/s]\n",
      "100%|██████████| 1335/1335 [01:26<00:00, 15.52it/s]\n",
      "100%|██████████| 1335/1335 [01:26<00:00, 15.51it/s]\n",
      "100%|██████████| 1335/1335 [01:25<00:00, 15.55it/s]\n",
      "100%|██████████| 1335/1335 [01:26<00:00, 15.49it/s]\n",
      "100%|██████████| 1335/1335 [01:26<00:00, 15.50it/s]\n",
      "100%|██████████| 1335/1335 [01:25<00:00, 15.54it/s]\n",
      "100%|██████████| 1335/1335 [01:25<00:00, 15.53it/s]\n",
      "100%|██████████| 1335/1335 [01:25<00:00, 15.53it/s]\n",
      "100%|██████████| 1335/1335 [01:26<00:00, 15.51it/s]\n",
      "100%|██████████| 1335/1335 [01:25<00:00, 15.69it/s]\n",
      "100%|██████████| 1335/1335 [01:19<00:00, 16.89it/s]\n",
      "100%|██████████| 1335/1335 [01:19<00:00, 16.85it/s]\n",
      "100%|██████████| 1335/1335 [01:19<00:00, 16.86it/s]\n",
      "100%|██████████| 1335/1335 [01:19<00:00, 16.86it/s]\n",
      "100%|██████████| 1335/1335 [01:19<00:00, 16.88it/s]\n",
      "100%|██████████| 1335/1335 [01:19<00:00, 16.89it/s]\n",
      "100%|██████████| 1335/1335 [01:19<00:00, 16.84it/s]\n",
      "100%|██████████| 1335/1335 [01:19<00:00, 16.89it/s]\n",
      "100%|██████████| 1335/1335 [01:19<00:00, 16.90it/s]\n",
      "100%|██████████| 1335/1335 [01:19<00:00, 16.87it/s]\n",
      "100%|██████████| 1335/1335 [01:19<00:00, 16.88it/s]\n",
      "100%|██████████| 1335/1335 [01:19<00:00, 16.89it/s]\n",
      "100%|██████████| 1335/1335 [01:19<00:00, 16.86it/s]\n",
      "100%|██████████| 1335/1335 [01:19<00:00, 16.88it/s]\n",
      "100%|██████████| 1335/1335 [01:19<00:00, 16.85it/s]\n",
      "100%|██████████| 1335/1335 [01:19<00:00, 16.88it/s]\n",
      "100%|██████████| 1335/1335 [01:19<00:00, 16.87it/s]\n",
      "100%|██████████| 1335/1335 [01:19<00:00, 16.84it/s]\n",
      "100%|██████████| 1335/1335 [01:19<00:00, 16.87it/s]\n",
      "100%|██████████| 1335/1335 [01:19<00:00, 16.84it/s]\n",
      "100%|██████████| 1335/1335 [01:19<00:00, 16.87it/s]\n",
      "100%|██████████| 1335/1335 [01:19<00:00, 16.86it/s]\n",
      "100%|██████████| 1335/1335 [01:19<00:00, 16.86it/s]\n",
      "100%|██████████| 1335/1335 [01:19<00:00, 16.86it/s]\n",
      "100%|██████████| 1335/1335 [01:18<00:00, 16.90it/s]\n",
      "100%|██████████| 1335/1335 [01:19<00:00, 16.87it/s]\n",
      "100%|██████████| 1335/1335 [01:19<00:00, 16.83it/s]\n",
      "100%|██████████| 1335/1335 [01:18<00:00, 16.91it/s]\n",
      "100%|██████████| 1335/1335 [01:19<00:00, 16.87it/s]\n",
      "100%|██████████| 1335/1335 [01:19<00:00, 16.88it/s]\n",
      "100%|██████████| 1335/1335 [01:18<00:00, 16.90it/s]\n",
      "100%|██████████| 1335/1335 [01:19<00:00, 16.88it/s]\n",
      "100%|██████████| 1335/1335 [01:19<00:00, 16.90it/s]\n",
      "100%|██████████| 1335/1335 [01:19<00:00, 16.85it/s]\n",
      "100%|██████████| 1335/1335 [01:19<00:00, 16.89it/s]\n",
      "100%|██████████| 1335/1335 [01:19<00:00, 16.88it/s]\n",
      "100%|██████████| 1335/1335 [01:20<00:00, 16.53it/s]\n",
      "100%|██████████| 1335/1335 [01:26<00:00, 15.52it/s]\n",
      "100%|██████████| 1335/1335 [01:24<00:00, 15.74it/s]\n",
      "100%|██████████| 1335/1335 [01:27<00:00, 15.34it/s]\n",
      "100%|██████████| 1335/1335 [01:30<00:00, 14.75it/s]\n",
      "100%|██████████| 1335/1335 [01:30<00:00, 14.69it/s]\n",
      "100%|██████████| 1335/1335 [01:28<00:00, 15.07it/s]\n",
      "100%|██████████| 1335/1335 [01:25<00:00, 15.69it/s]\n",
      "100%|██████████| 1335/1335 [01:26<00:00, 15.47it/s]\n",
      "100%|██████████| 1335/1335 [01:26<00:00, 15.45it/s]\n",
      "100%|██████████| 1335/1335 [01:27<00:00, 15.29it/s]\n",
      "100%|██████████| 1335/1335 [01:26<00:00, 15.36it/s]\n",
      "100%|██████████| 1335/1335 [01:26<00:00, 15.42it/s]\n",
      "100%|██████████| 1335/1335 [01:26<00:00, 15.40it/s]\n",
      "100%|██████████| 1335/1335 [01:26<00:00, 15.39it/s]\n",
      "100%|██████████| 1335/1335 [01:26<00:00, 15.43it/s]\n",
      "100%|██████████| 1335/1335 [01:26<00:00, 15.41it/s]\n",
      "100%|██████████| 1335/1335 [01:23<00:00, 15.91it/s]\n",
      "100%|██████████| 1335/1335 [01:19<00:00, 16.85it/s]\n",
      "100%|██████████| 1335/1335 [01:19<00:00, 16.87it/s]\n",
      "100%|██████████| 1335/1335 [01:19<00:00, 16.87it/s]\n",
      "100%|██████████| 1335/1335 [01:19<00:00, 16.86it/s]\n",
      "100%|██████████| 1335/1335 [01:19<00:00, 16.83it/s]\n",
      "100%|██████████| 1335/1335 [01:25<00:00, 15.55it/s]\n",
      "100%|██████████| 1335/1335 [01:26<00:00, 15.45it/s]\n",
      "100%|██████████| 1335/1335 [01:21<00:00, 16.42it/s]\n",
      "100%|██████████| 1335/1335 [01:20<00:00, 16.57it/s]\n",
      "100%|██████████| 1335/1335 [01:26<00:00, 15.51it/s]\n",
      "100%|██████████| 1335/1335 [01:26<00:00, 15.41it/s]\n",
      "100%|██████████| 1335/1335 [01:26<00:00, 15.38it/s]\n",
      "100%|██████████| 1335/1335 [01:27<00:00, 15.34it/s]\n",
      "100%|██████████| 1335/1335 [01:26<00:00, 15.38it/s]\n",
      "100%|██████████| 1335/1335 [01:26<00:00, 15.38it/s]\n"
     ]
    },
    {
     "name": "stdout",
     "output_type": "stream",
     "text": [
      "Epoch 100: Loss: 0.09530346095561981\n"
     ]
    },
    {
     "name": "stderr",
     "output_type": "stream",
     "text": [
      "100%|██████████| 1335/1335 [01:26<00:00, 15.36it/s]\n",
      "100%|██████████| 1335/1335 [01:21<00:00, 16.36it/s]\n",
      "100%|██████████| 1335/1335 [01:20<00:00, 16.66it/s]\n",
      "100%|██████████| 1335/1335 [01:20<00:00, 16.67it/s]\n",
      "100%|██████████| 1335/1335 [01:20<00:00, 16.66it/s]\n",
      "100%|██████████| 1335/1335 [01:19<00:00, 16.72it/s]\n",
      "100%|██████████| 1335/1335 [01:20<00:00, 16.67it/s]\n",
      "100%|██████████| 1335/1335 [01:19<00:00, 16.69it/s]\n",
      "100%|██████████| 1335/1335 [01:20<00:00, 16.66it/s]\n",
      "100%|██████████| 1335/1335 [01:20<00:00, 16.68it/s]\n",
      "100%|██████████| 1335/1335 [01:19<00:00, 16.71it/s]\n",
      "100%|██████████| 1335/1335 [01:20<00:00, 16.68it/s]\n",
      "100%|██████████| 1335/1335 [01:20<00:00, 16.66it/s]\n",
      "100%|██████████| 1335/1335 [01:20<00:00, 16.66it/s]\n",
      "100%|██████████| 1335/1335 [01:20<00:00, 16.68it/s]\n",
      "100%|██████████| 1335/1335 [01:19<00:00, 16.72it/s]\n",
      "100%|██████████| 1335/1335 [01:19<00:00, 16.72it/s]\n",
      "100%|██████████| 1335/1335 [01:19<00:00, 16.71it/s]\n",
      "100%|██████████| 1335/1335 [01:19<00:00, 16.70it/s]\n"
     ]
    },
    {
     "name": "stdout",
     "output_type": "stream",
     "text": [
      "Epoch 119: Loss: 0.1251811981201172\n",
      "Training time: 2:45:35.724801\n",
      "Training complete\n"
     ]
    },
    {
     "data": {
      "image/png": "[encoded data removed]",
      "text/plain": [
       "<Figure size 640x480 with 1 Axes>"
      ]
     },
     "metadata": {},
     "output_type": "display_data"
    }
   ],
   "source": [
    "from train_decision_transformer import full_training_run, save_model\n",
    "\n",
    "import torch\n",
    "device = torch.device(\"cuda\" if torch.cuda.is_available() else \"cpu\")\n",
    "trained_model, trained_params = full_training_run(output_path, device = device, n_epochs = 40)"
   ]
  },
  {
   "cell_type": "code",
   "execution_count": 8,
   "metadata": {},
   "outputs": [],
   "source": [
    "model_name = 'nadaq_dow_news_1'\n",
    "model_path = 'trained_nadaq_dow_decision_transformer'\n",
    "save_model(trained_model, trained_params, model_name, model_path)"
   ]
  },
  {
   "cell_type": "code",
   "execution_count": 4,
   "metadata": {},
   "outputs": [
    {
     "name": "stdout",
     "output_type": "stream",
     "text": [
      "shape: (1, 7)\n",
      "┌──────────────┬─────────────┬─────────────┬────────────┬────────────┬───────────┬────────────┐\n",
      "│ reward_min   ┆ reward_max  ┆ reward_10   ┆ reward_25  ┆ reward_50  ┆ reward_75 ┆ reward_90  │\n",
      "│ ---          ┆ ---         ┆ ---         ┆ ---        ┆ ---        ┆ ---       ┆ ---        │\n",
      "│ f64          ┆ f64         ┆ f64         ┆ f64        ┆ f64        ┆ f64       ┆ f64        │\n",
      "╞══════════════╪═════════════╪═════════════╪════════════╪════════════╪═══════════╪════════════╡\n",
      "│ -1338.940979 ┆ 1247.566015 ┆ -200.098689 ┆ -87.448859 ┆ -11.143283 ┆ 43.680648 ┆ 154.310042 │\n",
      "└──────────────┴─────────────┴─────────────┴────────────┴────────────┴───────────┴────────────┘\n"
     ]
    }
   ],
   "source": [
    "from curatedataset import eval_reward_datasets\n",
    "mean_rewards = eval_reward_datasets(output_path)"
   ]
  },
  {
   "cell_type": "code",
   "execution_count": 7,
   "metadata": {},
   "outputs": [
    {
     "data": {
      "text/plain": [
       "154.3100419447728"
      ]
     },
     "execution_count": 7,
     "metadata": {},
     "output_type": "execute_result"
    }
   ],
   "source": [
    "mean_rewards['reward_90'][0]"
   ]
  },
  {
   "cell_type": "code",
   "execution_count": 9,
   "metadata": {},
   "outputs": [
    {
     "name": "stdout",
     "output_type": "stream",
     "text": [
      "Getting stock data of TSLA...\n"
     ]
    },
    {
     "name": "stderr",
     "output_type": "stream",
     "text": [
      "/usr/local/lib/python3.10/dist-packages/yfinance/utils.py:775: FutureWarning: The 'unit' keyword in TimedeltaIndex construction is deprecated and will be removed in a future version. Use pd.to_timedelta instead.\n",
      "  df.index += _pd.TimedeltaIndex(dst_error_hours, 'h')\n",
      "[*********************100%%**********************]  1 of 1 completed\n",
      "/usr/local/lib/python3.10/dist-packages/ta/trend.py:988: FutureWarning: Setting an item of incompatible dtype is deprecated and will raise an error in a future version of pandas. Value '258.3132098388672' has dtype incompatible with float32, please explicitly cast to a compatible dtype first.\n",
      "  self._psar.iloc[i] = self._psar.iloc[i - 1] + (\n",
      "/usr/local/lib/python3.10/dist-packages/ta/trend.py:1030: FutureWarning: Series.__setitem__ treating keys as positions is deprecated. In a future version, integer keys will always be treated as labels (consistent with DataFrame behavior). To set a value by position, use `ser.iloc[pos] = value`\n",
      "  self._psar[i] = high2\n"
     ]
    },
    {
     "name": "stdout",
     "output_type": "stream",
     "text": [
      "sorting indicators...\n",
      "setting up sentiment analysis model...\n"
     ]
    },
    {
     "name": "stderr",
     "output_type": "stream",
     "text": [
      "/usr/local/lib/python3.10/dist-packages/torch/_utils.py:776: UserWarning: TypedStorage is deprecated. It will be removed in the future and UntypedStorage will be the only storage class. This should only matter to you if you are using storages directly.  To access UntypedStorage directly, use tensor.untyped_storage() instead of tensor.storage()\n",
      "  return self.fget.__get__(instance, owner)()\n"
     ]
    },
    {
     "name": "stdout",
     "output_type": "stream",
     "text": [
      "Getting news sentiment of TSLA...\n",
      "Error:  400\n",
      "Error:  400\n",
      "Error:  400\n",
      "Error:  400\n",
      "Getting stock data of TSLA completed.\n",
      "init env with max step:  250\n"
     ]
    },
    {
     "name": "stderr",
     "output_type": "stream",
     "text": [
      "/code/src/curatedataset.py:37: FutureWarning: ChainedAssignmentError: behaviour will change in pandas 3.0!\n",
      "You are setting values through chained assignment. Currently this works in certain cases, but when using Copy-on-Write (which will become the default behaviour in pandas 3.0) this will never work to update the original DataFrame or Series, because the intermediate object on which we are setting values will behave as a copy.\n",
      "A typical example is when you are setting values in a column of a DataFrame, like:\n",
      "\n",
      "df[\"col\"][row_indexer] = value\n",
      "\n",
      "Use `df.loc[row_indexer, \"col\"] = values` instead, to perform the assignment in a single step and ensure this keeps updating the original `df`.\n",
      "\n",
      "See the caveats in the documentation: https://pandas.pydata.org/pandas-docs/stable/user_guide/indexing.html#returning-a-view-versus-a-copy\n",
      "\n",
      "  stock_data['momentum_stoch_rsi'].iloc[:10] = 0.5\n",
      "/code/src/curatedataset.py:37: SettingWithCopyWarning: \n",
      "A value is trying to be set on a copy of a slice from a DataFrame\n",
      "\n",
      "See the caveats in the documentation: https://pandas.pydata.org/pandas-docs/stable/user_guide/indexing.html#returning-a-view-versus-a-copy\n",
      "  stock_data['momentum_stoch_rsi'].iloc[:10] = 0.5\n"
     ]
    }
   ],
   "source": [
    "from curatedataset import makegymenv, run_env\n",
    "test_tic = ['AAPL', 'MSFT', 'GOOGL', 'TSLA', 'AMZN', 'META', 'NVDA', 'INTC', 'AMD']\n",
    "# make gym environment\n",
    "stock_name = test_tic[3]\n",
    "# TODO test different start date within the dataset \n",
    "start_date = '2022-06-01'\n",
    "num_days = 365\n",
    "interval = '1d'\n",
    "indicators = [\"Volume\", \"volume_cmf\", \"trend_macd\", \"momentum_rsi\", \"momentum_stoch_rsi\", \"trend_sma_fast\"]\n",
    "init_balance = 20000\n",
    "#data = get_stock_data_yf_between_with_indicators(stock_name, '2019-01-01', '2020-02-01', interval, ['all'])\n",
    "#norm_env, obs_space, act_space, col, data = makegymenv(stock_name, start_date, num_days, interval, normalize=True, init_balance=init_balance)\n",
    "env,obs_space, act_space, col, data = makegymenv(stock_name, start_date, num_days, interval, indicators=indicators, normalize=False, init_balance=init_balance)\n"
   ]
  },
  {
   "cell_type": "code",
   "execution_count": 14,
   "metadata": {},
   "outputs": [],
   "source": [
    "from get_agent import Agent\n",
    "import torch\n",
    "import fnmatch\n",
    "# get model parameter's path under model path by checking for _params.json\n",
    "f = os.listdir(model_path)\n",
    "matching_files = fnmatch.filter(f, model_name+'*_params.json')\n",
    "parameter_path = os.path.join(model_path, matching_files[0])\n",
    "# pick the 90th percentile reward as the target reward\n",
    "rtg_target = mean_rewards['reward_90'][0]\n",
    "device = torch.device(\"cuda\" if torch.cuda.is_available() else \"cpu\")\n",
    "DecisionTransformer = Agent(env, 'transformer', rtg_target=rtg_target, rtg_scale=0.7, model_path=parameter_path, device=device)"
   ]
  },
  {
   "cell_type": "code",
   "execution_count": 15,
   "metadata": {},
   "outputs": [
    {
     "name": "stdout",
     "output_type": "stream",
     "text": [
      "Episode:  0 Timestep: 249  done\n",
      "Episode:  1 Timestep: 249  done\n",
      "Episode:  2 Timestep: 249  done\n",
      "Episode:  3 Timestep: 249  done\n",
      "Episode:  4 Timestep: 249  done\n",
      "Episode:  5 Timestep: 249  done\n",
      "Episode:  6 Timestep: 249  done\n",
      "Episode:  7 Timestep: 249  done\n",
      "Episode:  8 Timestep: 249  done\n",
      "Episode:  9 Timestep: 249  done\n"
     ]
    }
   ],
   "source": [
    "trade_data = run_env(DecisionTransformer, stock_name, env, 10, start_date)"
   ]
  },
  {
   "cell_type": "code",
   "execution_count": 18,
   "metadata": {},
   "outputs": [],
   "source": [
    "from curatedataset import save_data, evaluate_dataset\n",
    "file_name = os.path.join(model_path, 'trained_transformer_'+stock_name+'_'+start_date+'_test.json')\n",
    "save_data(trade_data, file_name)"
   ]
  },
  {
   "cell_type": "code",
   "execution_count": 19,
   "metadata": {},
   "outputs": [
    {
     "name": "stdout",
     "output_type": "stream",
     "text": [
      "Mean simple sum reward:  0.0\n",
      "Std simple sum reward:  0.0\n",
      "Mean net worth growth:  0.0\n",
      "Std net worth growth: +/- 0.0\n",
      "Plotting episode:  6\n"
     ]
    },
    {
     "ename": "TypeError",
     "evalue": "Index(...) must be called with a collection of some kind, Timestamp('2022-06-01 00:00:00') was passed",
     "output_type": "error",
     "traceback": [
      "\u001b[0;31m---------------------------------------------------------------------------\u001b[0m",
      "\u001b[0;31mTypeError\u001b[0m                                 Traceback (most recent call last)",
      "Cell \u001b[0;32mIn[19], line 1\u001b[0m\n\u001b[0;32m----> 1\u001b[0m \u001b[43mevaluate_dataset\u001b[49m\u001b[43m(\u001b[49m\u001b[43mfile_name\u001b[49m\u001b[43m)\u001b[49m\n",
      "File \u001b[0;32m/code/src/curatedataset.py:250\u001b[0m, in \u001b[0;36mevaluate_dataset\u001b[0;34m(data_path)\u001b[0m\n\u001b[1;32m    248\u001b[0m action \u001b[38;5;241m=\u001b[39m np\u001b[38;5;241m.\u001b[39marray(data[\u001b[38;5;124m'\u001b[39m\u001b[38;5;124mdata\u001b[39m\u001b[38;5;124m'\u001b[39m][episode][\u001b[38;5;124m'\u001b[39m\u001b[38;5;124maction\u001b[39m\u001b[38;5;124m'\u001b[39m])\n\u001b[1;32m    249\u001b[0m date \u001b[38;5;241m=\u001b[39m data[\u001b[38;5;124m'\u001b[39m\u001b[38;5;124mdate\u001b[39m\u001b[38;5;124m'\u001b[39m][:state\u001b[38;5;241m.\u001b[39mshape[\u001b[38;5;241m0\u001b[39m]]\n\u001b[0;32m--> 250\u001b[0m \u001b[43mplot_stock_trading_data\u001b[49m\u001b[43m(\u001b[49m\u001b[43mstate\u001b[49m\u001b[43m,\u001b[49m\u001b[43m \u001b[49m\u001b[43mcol\u001b[49m\u001b[43m,\u001b[49m\u001b[43m \u001b[49m\u001b[43maction\u001b[49m\u001b[43m,\u001b[49m\u001b[43m \u001b[49m\u001b[43mdate\u001b[49m\u001b[43m)\u001b[49m\n",
      "File \u001b[0;32m/code/src/StockTradingGraph.py:142\u001b[0m, in \u001b[0;36mplot_stock_trading_data\u001b[0;34m(state, col, action_history, date)\u001b[0m\n\u001b[1;32m    140\u001b[0m \u001b[38;5;66;03m# create a dataframe with the stock price data\u001b[39;00m\n\u001b[1;32m    141\u001b[0m df \u001b[38;5;241m=\u001b[39m pd\u001b[38;5;241m.\u001b[39mDataFrame({\u001b[38;5;124m'\u001b[39m\u001b[38;5;124mOpen\u001b[39m\u001b[38;5;124m'\u001b[39m:Open, \u001b[38;5;124m'\u001b[39m\u001b[38;5;124mHigh\u001b[39m\u001b[38;5;124m'\u001b[39m:High, \u001b[38;5;124m'\u001b[39m\u001b[38;5;124mLow\u001b[39m\u001b[38;5;124m'\u001b[39m:Low, \u001b[38;5;124m'\u001b[39m\u001b[38;5;124mClose\u001b[39m\u001b[38;5;124m'\u001b[39m:Close})\n\u001b[0;32m--> 142\u001b[0m \u001b[43mdf\u001b[49m\u001b[38;5;241;43m.\u001b[39;49m\u001b[43mindex\u001b[49m \u001b[38;5;241m=\u001b[39m dt_index\n\u001b[1;32m    143\u001b[0m \u001b[38;5;66;03m# create an instance of the StockTradingGraph class\u001b[39;00m\n\u001b[1;32m    144\u001b[0m stock_graph \u001b[38;5;241m=\u001b[39m StockTradingGraph(df, \u001b[38;5;28;01mNone\u001b[39;00m, action_history, net_worth, windows_size)\n",
      "File \u001b[0;32m/usr/local/lib/python3.10/dist-packages/pandas/core/generic.py:6307\u001b[0m, in \u001b[0;36mNDFrame.__setattr__\u001b[0;34m(self, name, value)\u001b[0m\n\u001b[1;32m   6305\u001b[0m \u001b[38;5;28;01mtry\u001b[39;00m:\n\u001b[1;32m   6306\u001b[0m     \u001b[38;5;28mobject\u001b[39m\u001b[38;5;241m.\u001b[39m\u001b[38;5;21m__getattribute__\u001b[39m(\u001b[38;5;28mself\u001b[39m, name)\n\u001b[0;32m-> 6307\u001b[0m     \u001b[38;5;28;01mreturn\u001b[39;00m \u001b[38;5;28;43mobject\u001b[39;49m\u001b[38;5;241;43m.\u001b[39;49m\u001b[38;5;21;43m__setattr__\u001b[39;49m\u001b[43m(\u001b[49m\u001b[38;5;28;43mself\u001b[39;49m\u001b[43m,\u001b[49m\u001b[43m \u001b[49m\u001b[43mname\u001b[49m\u001b[43m,\u001b[49m\u001b[43m \u001b[49m\u001b[43mvalue\u001b[49m\u001b[43m)\u001b[49m\n\u001b[1;32m   6308\u001b[0m \u001b[38;5;28;01mexcept\u001b[39;00m \u001b[38;5;167;01mAttributeError\u001b[39;00m:\n\u001b[1;32m   6309\u001b[0m     \u001b[38;5;28;01mpass\u001b[39;00m\n",
      "File \u001b[0;32mproperties.pyx:69\u001b[0m, in \u001b[0;36mpandas._libs.properties.AxisProperty.__set__\u001b[0;34m()\u001b[0m\n",
      "File \u001b[0;32m/usr/local/lib/python3.10/dist-packages/pandas/core/generic.py:812\u001b[0m, in \u001b[0;36mNDFrame._set_axis\u001b[0;34m(self, axis, labels)\u001b[0m\n\u001b[1;32m    806\u001b[0m \u001b[38;5;129m@final\u001b[39m\n\u001b[1;32m    807\u001b[0m \u001b[38;5;28;01mdef\u001b[39;00m \u001b[38;5;21m_set_axis\u001b[39m(\u001b[38;5;28mself\u001b[39m, axis: AxisInt, labels: AnyArrayLike \u001b[38;5;241m|\u001b[39m \u001b[38;5;28mlist\u001b[39m) \u001b[38;5;241m-\u001b[39m\u001b[38;5;241m>\u001b[39m \u001b[38;5;28;01mNone\u001b[39;00m:\n\u001b[1;32m    808\u001b[0m \u001b[38;5;250m    \u001b[39m\u001b[38;5;124;03m\"\"\"\u001b[39;00m\n\u001b[1;32m    809\u001b[0m \u001b[38;5;124;03m    This is called from the cython code when we set the `index` attribute\u001b[39;00m\n\u001b[1;32m    810\u001b[0m \u001b[38;5;124;03m    directly, e.g. `series.index = [1, 2, 3]`.\u001b[39;00m\n\u001b[1;32m    811\u001b[0m \u001b[38;5;124;03m    \"\"\"\u001b[39;00m\n\u001b[0;32m--> 812\u001b[0m     labels \u001b[38;5;241m=\u001b[39m \u001b[43mensure_index\u001b[49m\u001b[43m(\u001b[49m\u001b[43mlabels\u001b[49m\u001b[43m)\u001b[49m\n\u001b[1;32m    813\u001b[0m     \u001b[38;5;28mself\u001b[39m\u001b[38;5;241m.\u001b[39m_mgr\u001b[38;5;241m.\u001b[39mset_axis(axis, labels)\n\u001b[1;32m    814\u001b[0m     \u001b[38;5;28mself\u001b[39m\u001b[38;5;241m.\u001b[39m_clear_item_cache()\n",
      "File \u001b[0;32m/usr/local/lib/python3.10/dist-packages/pandas/core/indexes/base.py:7648\u001b[0m, in \u001b[0;36mensure_index\u001b[0;34m(index_like, copy)\u001b[0m\n\u001b[1;32m   7646\u001b[0m         \u001b[38;5;28;01mreturn\u001b[39;00m Index(index_like, copy\u001b[38;5;241m=\u001b[39mcopy, tupleize_cols\u001b[38;5;241m=\u001b[39m\u001b[38;5;28;01mFalse\u001b[39;00m)\n\u001b[1;32m   7647\u001b[0m \u001b[38;5;28;01melse\u001b[39;00m:\n\u001b[0;32m-> 7648\u001b[0m     \u001b[38;5;28;01mreturn\u001b[39;00m \u001b[43mIndex\u001b[49m\u001b[43m(\u001b[49m\u001b[43mindex_like\u001b[49m\u001b[43m,\u001b[49m\u001b[43m \u001b[49m\u001b[43mcopy\u001b[49m\u001b[38;5;241;43m=\u001b[39;49m\u001b[43mcopy\u001b[49m\u001b[43m)\u001b[49m\n",
      "File \u001b[0;32m/usr/local/lib/python3.10/dist-packages/pandas/core/indexes/base.py:526\u001b[0m, in \u001b[0;36mIndex.__new__\u001b[0;34m(cls, data, dtype, copy, name, tupleize_cols)\u001b[0m\n\u001b[1;32m    523\u001b[0m         data \u001b[38;5;241m=\u001b[39m com\u001b[38;5;241m.\u001b[39masarray_tuplesafe(data, dtype\u001b[38;5;241m=\u001b[39m_dtype_obj)\n\u001b[1;32m    525\u001b[0m \u001b[38;5;28;01melif\u001b[39;00m is_scalar(data):\n\u001b[0;32m--> 526\u001b[0m     \u001b[38;5;28;01mraise\u001b[39;00m \u001b[38;5;28;43mcls\u001b[39;49m\u001b[38;5;241;43m.\u001b[39;49m\u001b[43m_raise_scalar_data_error\u001b[49m\u001b[43m(\u001b[49m\u001b[43mdata\u001b[49m\u001b[43m)\u001b[49m\n\u001b[1;32m    527\u001b[0m \u001b[38;5;28;01melif\u001b[39;00m \u001b[38;5;28mhasattr\u001b[39m(data, \u001b[38;5;124m\"\u001b[39m\u001b[38;5;124m__array__\u001b[39m\u001b[38;5;124m\"\u001b[39m):\n\u001b[1;32m    528\u001b[0m     \u001b[38;5;28;01mreturn\u001b[39;00m \u001b[38;5;28mcls\u001b[39m(np\u001b[38;5;241m.\u001b[39masarray(data), dtype\u001b[38;5;241m=\u001b[39mdtype, copy\u001b[38;5;241m=\u001b[39mcopy, name\u001b[38;5;241m=\u001b[39mname)\n",
      "File \u001b[0;32m/usr/local/lib/python3.10/dist-packages/pandas/core/indexes/base.py:5285\u001b[0m, in \u001b[0;36mIndex._raise_scalar_data_error\u001b[0;34m(cls, data)\u001b[0m\n\u001b[1;32m   5280\u001b[0m \u001b[38;5;129m@final\u001b[39m\n\u001b[1;32m   5281\u001b[0m \u001b[38;5;129m@classmethod\u001b[39m\n\u001b[1;32m   5282\u001b[0m \u001b[38;5;28;01mdef\u001b[39;00m \u001b[38;5;21m_raise_scalar_data_error\u001b[39m(\u001b[38;5;28mcls\u001b[39m, data):\n\u001b[1;32m   5283\u001b[0m     \u001b[38;5;66;03m# We return the TypeError so that we can raise it from the constructor\u001b[39;00m\n\u001b[1;32m   5284\u001b[0m     \u001b[38;5;66;03m#  in order to keep mypy happy\u001b[39;00m\n\u001b[0;32m-> 5285\u001b[0m     \u001b[38;5;28;01mraise\u001b[39;00m \u001b[38;5;167;01mTypeError\u001b[39;00m(\n\u001b[1;32m   5286\u001b[0m         \u001b[38;5;124mf\u001b[39m\u001b[38;5;124m\"\u001b[39m\u001b[38;5;132;01m{\u001b[39;00m\u001b[38;5;28mcls\u001b[39m\u001b[38;5;241m.\u001b[39m\u001b[38;5;18m__name__\u001b[39m\u001b[38;5;132;01m}\u001b[39;00m\u001b[38;5;124m(...) must be called with a collection of some \u001b[39m\u001b[38;5;124m\"\u001b[39m\n\u001b[1;32m   5287\u001b[0m         \u001b[38;5;124mf\u001b[39m\u001b[38;5;124m\"\u001b[39m\u001b[38;5;124mkind, \u001b[39m\u001b[38;5;132;01m{\u001b[39;00m\u001b[38;5;28mrepr\u001b[39m(data)\u001b[38;5;250m \u001b[39m\u001b[38;5;28;01mif\u001b[39;00m\u001b[38;5;250m \u001b[39m\u001b[38;5;129;01mnot\u001b[39;00m\u001b[38;5;250m \u001b[39m\u001b[38;5;28misinstance\u001b[39m(data,\u001b[38;5;250m \u001b[39mnp\u001b[38;5;241m.\u001b[39mgeneric)\u001b[38;5;250m \u001b[39m\u001b[38;5;28;01melse\u001b[39;00m\u001b[38;5;250m \u001b[39m\u001b[38;5;28mstr\u001b[39m(data)\u001b[38;5;132;01m}\u001b[39;00m\u001b[38;5;124m \u001b[39m\u001b[38;5;124m\"\u001b[39m\n\u001b[1;32m   5288\u001b[0m         \u001b[38;5;124m\"\u001b[39m\u001b[38;5;124mwas passed\u001b[39m\u001b[38;5;124m\"\u001b[39m\n\u001b[1;32m   5289\u001b[0m     )\n",
      "\u001b[0;31mTypeError\u001b[0m: Index(...) must be called with a collection of some kind, Timestamp('2022-06-01 00:00:00') was passed"
     ]
    }
   ],
   "source": [
    "evaluate_dataset(file_name)"
   ]
  },
  {
   "cell_type": "code",
   "execution_count": null,
   "metadata": {},
   "outputs": [],
   "source": []
  }
 ],
 "metadata": {
  "kernelspec": {
   "display_name": "Python 3 (ipykernel)",
   "language": "python",
   "name": "python3"
  },
  "language_info": {
   "codemirror_mode": {
    "name": "ipython",
    "version": 3
   },
   "file_extension": ".py",
   "mimetype": "text/x-python",
   "name": "python",
   "nbconvert_exporter": "python",
   "pygments_lexer": "ipython3",
   "version": "3.10.11"
  },
  "orig_nbformat": 4
 },
 "nbformat": 4,
 "nbformat_minor": 2
}
