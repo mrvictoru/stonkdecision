{
 "cells": [
  {
   "cell_type": "code",
   "execution_count": null,
   "metadata": {},
   "outputs": [],
   "source": [
    "# this notebook is to test run the custom stock trading environment"
   ]
  },
  {
   "cell_type": "code",
   "execution_count": 1,
   "metadata": {},
   "outputs": [
    {
     "name": "stderr",
     "output_type": "stream",
     "text": [
      "/home/victoru/anaconda3/envs/testpython/lib/python3.10/site-packages/tqdm/auto.py:21: TqdmWarning: IProgress not found. Please update jupyter and ipywidgets. See https://ipywidgets.readthedocs.io/en/stable/user_install.html\n",
      "  from .autonotebook import tqdm as notebook_tqdm\n"
     ]
    }
   ],
   "source": [
    "# import custom functions and classes\n",
    "from curatedataset import makegymenv, run_env\n",
    "\n",
    "from get_agent import Agent, TradingAlgorithm"
   ]
  },
  {
   "cell_type": "code",
   "execution_count": 2,
   "metadata": {},
   "outputs": [
    {
     "name": "stdout",
     "output_type": "stream",
     "text": [
      "[*********************100%***********************]  1 of 1 completed\n"
     ]
    },
    {
     "name": "stderr",
     "output_type": "stream",
     "text": [
      "/home/victoru/anaconda3/envs/testpython/lib/python3.10/site-packages/ta/trend.py:780: RuntimeWarning: invalid value encountered in scalar divide\n",
      "  dip[idx] = 100 * (self._dip[idx] / value)\n",
      "/home/victoru/anaconda3/envs/testpython/lib/python3.10/site-packages/ta/trend.py:785: RuntimeWarning: invalid value encountered in scalar divide\n",
      "  din[idx] = 100 * (self._din[idx] / value)\n",
      "/home/victoru/anaconda3/envs/testpython/lib/python3.10/site-packages/gymnasium/spaces/box.py:130: UserWarning: \u001b[33mWARN: Box bound precision lowered by casting to float32\u001b[0m\n",
      "  gym.logger.warn(f\"Box bound precision lowered by casting to {self.dtype}\")\n"
     ]
    }
   ],
   "source": [
    "# make gym environment\n",
    "stock_name = 'TSLA'\n",
    "start_date = '2018-01-01'\n",
    "num_days = 365*4\n",
    "interval = '1d'\n",
    "\n",
    "env, obs_space_shape, act_space_shape, obs_features = makegymenv(stock_name, start_date, num_days, interval)"
   ]
  },
  {
   "cell_type": "code",
   "execution_count": 3,
   "metadata": {},
   "outputs": [
    {
     "name": "stdout",
     "output_type": "stream",
     "text": [
      "['Open', 'High', 'Low', 'Close', 'volume_cmf', 'trend_macd', 'momentum_rsi', 'momentum_stoch_rsi', 'Balance', 'Net_worth', 'Shares_held', 'Cost_basis', 'Total_shares_sold', 'Total_sales_value']\n"
     ]
    }
   ],
   "source": [
    "print(obs_features)"
   ]
  },
  {
   "cell_type": "code",
   "execution_count": 4,
   "metadata": {},
   "outputs": [],
   "source": [
    "agenttype = 'algo'\n",
    "algotype = 'momentum_stoch_rsi'\n",
    "# set the trading range as % of balance\n",
    "trade_range = [0.2, 0.6]\n",
    "# find the momentum_stoch_rsi position in obs_features\n",
    "for i in range(len(obs_features)):\n",
    "    if obs_features[i] == algotype:\n",
    "        algotype_index = i\n",
    "        break\n",
    "\n",
    "tradalgo = TradingAlgorithm(algotype, algotype_index, trade_range)\n",
    "algoagent = Agent(env, agenttype, algo = tradalgo)"
   ]
  },
  {
   "cell_type": "code",
   "execution_count": 6,
   "metadata": {},
   "outputs": [
    {
     "ename": "AttributeError",
     "evalue": "'TradingAlgorithm' object has no attribute 'amount_range'",
     "output_type": "error",
     "traceback": [
      "\u001b[0;31m---------------------------------------------------------------------------\u001b[0m",
      "\u001b[0;31mAttributeError\u001b[0m                            Traceback (most recent call last)",
      "\u001b[1;32m/media/victoru/B612CEC512CE8A37/stonkdecisiondocker/stonkdecision/src/testing.ipynb Cell 6\u001b[0m line \u001b[0;36m3\n\u001b[1;32m      <a href='vscode-notebook-cell:/media/victoru/B612CEC512CE8A37/stonkdecisiondocker/stonkdecision/src/testing.ipynb#W6sZmlsZQ%3D%3D?line=0'>1</a>\u001b[0m \u001b[39m# run the environment\u001b[39;00m\n\u001b[1;32m      <a href='vscode-notebook-cell:/media/victoru/B612CEC512CE8A37/stonkdecisiondocker/stonkdecision/src/testing.ipynb#W6sZmlsZQ%3D%3D?line=1'>2</a>\u001b[0m num_episodes \u001b[39m=\u001b[39m \u001b[39m1\u001b[39m\n\u001b[0;32m----> <a href='vscode-notebook-cell:/media/victoru/B612CEC512CE8A37/stonkdecisiondocker/stonkdecision/src/testing.ipynb#W6sZmlsZQ%3D%3D?line=2'>3</a>\u001b[0m run_env(algoagent, env, num_episodes, normalize \u001b[39m=\u001b[39;49m \u001b[39mFalse\u001b[39;49;00m)\n",
      "File \u001b[0;32m/media/victoru/B612CEC512CE8A37/stonkdecisiondocker/stonkdecision/src/curatedataset.py:63\u001b[0m, in \u001b[0;36mrun_env\u001b[0;34m(agent, env, num_episodes, normalize)\u001b[0m\n\u001b[1;32m     60\u001b[0m \u001b[39m# loop to sample action, next_state, reward, from the env\u001b[39;00m\n\u001b[1;32m     61\u001b[0m \u001b[39mwhile\u001b[39;00m \u001b[39mnot\u001b[39;00m done:\n\u001b[1;32m     62\u001b[0m     \u001b[39m# sample action\u001b[39;00m\n\u001b[0;32m---> 63\u001b[0m     action, _states \u001b[39m=\u001b[39m agent\u001b[39m.\u001b[39;49mpredict(state, deterministic\u001b[39m=\u001b[39;49m\u001b[39mFalse\u001b[39;49;00m)\n\u001b[1;32m     64\u001b[0m     \u001b[39mtry\u001b[39;00m:\n\u001b[1;32m     65\u001b[0m         next_state, reward, terminated, truncated, info \u001b[39m=\u001b[39m env\u001b[39m.\u001b[39mstep(action)\n",
      "File \u001b[0;32m/media/victoru/B612CEC512CE8A37/stonkdecisiondocker/stonkdecision/src/get_agent.py:32\u001b[0m, in \u001b[0;36mAgent.predict\u001b[0;34m(self, state, deterministic)\u001b[0m\n\u001b[1;32m     30\u001b[0m \u001b[39m# if the agent is a TradingAlgorith, then return the action from the algorithm\u001b[39;00m\n\u001b[1;32m     31\u001b[0m \u001b[39melif\u001b[39;00m \u001b[39misinstance\u001b[39m(\u001b[39mself\u001b[39m\u001b[39m.\u001b[39magent, TradingAlgorithm):\n\u001b[0;32m---> 32\u001b[0m     \u001b[39mreturn\u001b[39;00m \u001b[39mself\u001b[39;49m\u001b[39m.\u001b[39;49magent\u001b[39m.\u001b[39;49mtrade(state)\n\u001b[1;32m     33\u001b[0m \u001b[39m# else, return the action from the stable-baselines agent\u001b[39;00m\n\u001b[1;32m     34\u001b[0m \u001b[39melse\u001b[39;00m:\n\u001b[1;32m     35\u001b[0m     \u001b[39mreturn\u001b[39;00m \u001b[39mself\u001b[39m\u001b[39m.\u001b[39magent\u001b[39m.\u001b[39mpredict(state, deterministic\u001b[39m=\u001b[39mdeterministic)\n",
      "File \u001b[0;32m/media/victoru/B612CEC512CE8A37/stonkdecisiondocker/stonkdecision/src/get_agent.py:55\u001b[0m, in \u001b[0;36mTradingAlgorithm.trade\u001b[0;34m(self, state)\u001b[0m\n\u001b[1;32m     53\u001b[0m     \u001b[39mself\u001b[39m\u001b[39m.\u001b[39mbought \u001b[39m=\u001b[39m \u001b[39mTrue\u001b[39;00m\n\u001b[1;32m     54\u001b[0m     \u001b[39m# calculate return confidence and action\u001b[39;00m\n\u001b[0;32m---> 55\u001b[0m     \u001b[39mreturn\u001b[39;00m [oversold_confidence(momentum_stoch_rsi), oversold_action(momentum_stoch_rsi, \u001b[39mself\u001b[39;49m\u001b[39m.\u001b[39;49mamount_range[\u001b[39m0\u001b[39m], \u001b[39mself\u001b[39m\u001b[39m.\u001b[39mamount_range[\u001b[39m1\u001b[39m])]\n\u001b[1;32m     57\u001b[0m \u001b[39melif\u001b[39;00m momentum_stoch_rsi \u001b[39m>\u001b[39m \u001b[39m0.8\u001b[39m \u001b[39mand\u001b[39;00m \u001b[39mself\u001b[39m\u001b[39m.\u001b[39mbought:\n\u001b[1;32m     58\u001b[0m     \u001b[39m# Sell the stock if it is overbought\u001b[39;00m\n\u001b[1;32m     59\u001b[0m     \u001b[39mself\u001b[39m\u001b[39m.\u001b[39mbought \u001b[39m=\u001b[39m \u001b[39mFalse\u001b[39;00m\n",
      "\u001b[0;31mAttributeError\u001b[0m: 'TradingAlgorithm' object has no attribute 'amount_range'"
     ]
    }
   ],
   "source": [
    "# run the environment\n",
    "num_episodes = 1\n",
    "run_env(algoagent, env, num_episodes, normalize = False)"
   ]
  }
 ],
 "metadata": {
  "kernelspec": {
   "display_name": "testpython",
   "language": "python",
   "name": "python3"
  },
  "language_info": {
   "codemirror_mode": {
    "name": "ipython",
    "version": 3
   },
   "file_extension": ".py",
   "mimetype": "text/x-python",
   "name": "python",
   "nbconvert_exporter": "python",
   "pygments_lexer": "ipython3",
   "version": "3.10.11"
  },
  "orig_nbformat": 4
 },
 "nbformat": 4,
 "nbformat_minor": 2
}
