{
 "cells": [
  {
   "cell_type": "code",
   "execution_count": null,
   "metadata": {},
   "outputs": [],
   "source": [
    "# this notebook will show case how to use the helper function to train decision transformer agent with the dataset\n",
    "\n",
    "# define the dataset path\n",
    "dataset_path = \"offline_stock_trade_data\""
   ]
  },
  {
   "cell_type": "code",
   "execution_count": null,
   "metadata": {},
   "outputs": [],
   "source": [
    "# first we need to calculate the mean and std of each feature in the dataset\n",
    "from curatedataset import calc_meanstd_datasets\n",
    "dataset_meanstd = calc_meanstd_datasets(dataset_path, [\"positive\", \"negative\", \"neutral\"])\n"
   ]
  },
  {
   "cell_type": "code",
   "execution_count": null,
   "metadata": {},
   "outputs": [],
   "source": [
    "# then we can train the agent using the full_training_run helper function\n",
    "from train_decision_transformer import full_training_run\n",
    "import torch\n",
    "\n",
    "# set device to cuda if available\n",
    "device = torch.device(\"cuda\" if torch.cuda.is_available() else \"cpu\")\n",
    "trained_model, trained_params = full_training_run(\n",
    "    dataset_path, device = device, force_normalize=dataset_meanstd, n_epochs=40)"
   ]
  },
  {
   "cell_type": "code",
   "execution_count": null,
   "metadata": {},
   "outputs": [],
   "source": [
    "# save the trained model\n",
    "from train_decision_transformer import save_model\n",
    "\n",
    "model_name = 'nasdaq_dow_news_meanstd'\n",
    "model_path = 'trained_nasdaq_dow_decision_transformer'\n",
    "#save_model(trained_model, trained_params, model_name, model_path)"
   ]
  },
  {
   "cell_type": "code",
   "execution_count": null,
   "metadata": {},
   "outputs": [],
   "source": [
    "# we first need to see what are rewards distribution in the dataset\n",
    "\n",
    "from curatedataset import eval_reward_datasets\n",
    "mean_rewards = eval_reward_datasets(dataset_path)"
   ]
  },
  {
   "cell_type": "code",
   "execution_count": null,
   "metadata": {},
   "outputs": [],
   "source": [
    "# we then can use the reward as RTG for agent to trade\n",
    "# rtg = mean_rewards['reward_75'][0]\n",
    "rtg = 28.7"
   ]
  },
  {
   "cell_type": "code",
   "execution_count": null,
   "metadata": {},
   "outputs": [],
   "source": [
    "# we will then create the gym environment to test run the agent\n",
    "# the gym environment will be normalized using the same mean_std as what is used to train the model\n",
    "\n",
    "import json\n",
    "import os\n",
    "from TradingEnvClass import MeanStdObject\n",
    "\n",
    "# get file end with params.json\n",
    "json_files = [f for f in os.listdir(model_path) if f.endswith('params.json')]\n",
    "parameter_path = os.path.join(model_path, json_files[0])\n",
    "with open(parameter_path, 'r') as f:\n",
    "    normalize = json.load(f)[\"normalize\"]\n",
    "\n",
    "mean_std_dict = {key: MeanStdObject(mean = value['mean'], std=value['std']) \n",
    "                 for key, value in normalize.items()}\n"
   ]
  },
  {
   "cell_type": "code",
   "execution_count": null,
   "metadata": {},
   "outputs": [],
   "source": [
    "from curatedataset import makegymenv, run_env\n",
    "test_tic = ['AAPL', 'MSFT', 'GOOGL', 'TSLA', 'AMZN', 'META', 'NVDA', 'INTC', 'AMD']\n",
    "\n",
    "# TODO test different start date within the dataset \n",
    "start_date = '2020-06-01'\n",
    "num_days = 365\n",
    "interval = '1d'\n",
    "indicators = [\"Volume\", \"volume_cmf\", \"trend_macd\", \"momentum_rsi\", \"momentum_stoch_rsi\", \"trend_sma_fast\"]\n",
    "init_balance = 20000\n",
    "test_env_list_norm = []\n",
    "test_env_list = []\n",
    "#data = get_stock_data_yf_between_with_indicators(stock_name, '2019-01-01', '2020-02-01', interval, ['all'])\n",
    "\"\"\"\n",
    "for stock_name in test_tic:\n",
    "    env, obs_space, act_space, col, data = makegymenv(stock_name, start_date, num_days, interval, indicators=indicators, normalize=mean_std_dict, init_balance=init_balance)\n",
    "    test_env_list_norm.append(env)\n",
    "\"\"\"\n",
    "for stock_name in test_tic:\n",
    "    env, obs_space, act_space, col, data = makegymenv(stock_name, start_date, num_days, interval, indicators=indicators, init_balance=init_balance)\n",
    "    test_env_list.append(env)\n"
   ]
  },
  {
   "cell_type": "code",
   "execution_count": null,
   "metadata": {},
   "outputs": [],
   "source": [
    "# then create an agent from model weight to interact with the environment\n",
    "from get_agent import Agent, TradingAlgorithm\n",
    "import torch\n",
    "import fnmatch\n",
    "\n",
    "# get model parameter's path under model path by checking for _params.json\n",
    "f = os.listdir(model_path)\n",
    "matching_files = fnmatch.filter(f, model_name+'*_params.json')\n",
    "# get the file that store the model information\n",
    "parameter_path = os.path.join(model_path, matching_files[0])\n",
    "\n",
    "device = torch.device(\"cuda\" if torch.cuda.is_available() else \"cpu\")\n",
    "\"\"\"\n",
    "# create agent (use the first env as sample env)\n",
    "DecisionTransformer = Agent(test_env_list_norm[0], 'transformer', \n",
    "                            rtg_target=rtg, rtg_scale=0.7, model_path=parameter_path, device=device)\n",
    "\"\"\"\n",
    "# create a random agent for comparison\n",
    "RandomAgent = Agent(test_env_list[0], 'random')\n",
    "# create a momentum algo agent for comparison\n",
    "momentumAlgo = TradingAlgorithm(algo_type='momentum_stoch_rsi', \n",
    "                                indicator_column = col.index('momentum_stoch_rsi'), amount_range = [0.05, 0.55])\n",
    "momentumAgent = Agent(test_env_list[0], 'algo', algo=momentumAlgo)\n",
    "# create a sentiment algo agent for comparison\n",
    "sentimentAlgo = TradingAlgorithm(algo_type='sentiment_react', \n",
    "                                 indicator_column = [col.index('positive'), col.index('negative'), col.index('neutral')], \n",
    "                                 amount_range = [0.05, 0.55])\n",
    "sentimentAgent = Agent(test_env_list[0], 'algo', algo=sentimentAlgo)"
   ]
  },
  {
   "cell_type": "code",
   "execution_count": null,
   "metadata": {},
   "outputs": [],
   "source": [
    "# run and save the interaction data\n",
    "from curatedataset import save_data\n",
    "\"\"\"\n",
    "for env, stock_name in zip(test_env_list_norm, test_tic):\n",
    "    trade_data = run_env(DecisionTransformer, stock_name, env, 3, start_date, normalize_param = mean_std_dict)\n",
    "    file_name = os.path.join(model_path, f'trained_transformer_{stock_name}_{start_date}_{num_days}_{interval}_test.json')\n",
    "    save_data(trade_data, file_name)\n",
    "\"\"\"\n",
    "# also run the other agent for comparison\n",
    "test_compare_directory = 'test_compare'\n",
    "# check if the directory exist\n",
    "if not os.path.exists(test_compare_directory):\n",
    "    os.makedirs(test_compare_directory)\n",
    "for env, stock_name in zip(test_env_list, test_tic):\n",
    "    trade_data = run_env(RandomAgent, stock_name, env, 3, start_date)\n",
    "    file_name = os.path.join(test_compare_directory, f'random_agent_{stock_name}_{start_date}_{num_days}_{interval}_test.json')\n",
    "    save_data(trade_data, file_name)\n",
    "    trade_data = run_env(momentumAgent, stock_name, env, 3, start_date)\n",
    "    file_name = os.path.join(test_compare_directory, f'momentum_agent_{stock_name}_{start_date}_{num_days}_{interval}_test.json')\n",
    "    save_data(trade_data, file_name)\n",
    "    trade_data = run_env(sentimentAgent, stock_name, env, 3, start_date)\n",
    "    file_name = os.path.join(test_compare_directory, f'sentiment_agent_{stock_name}_{start_date}_{num_days}_{interval}_test.json')\n",
    "    save_data(trade_data, file_name)\n"
   ]
  },
  {
   "cell_type": "code",
   "execution_count": null,
   "metadata": {},
   "outputs": [],
   "source": [
    "# we then can use the evaluation helper to plot the stock price movement and trading action.\n",
    "# this is for the decision transformer agent\n",
    "from curatedataset import evaluate_dataset\n",
    "import os\n",
    "\n",
    "json_files = [f for f in os.listdir(model_path) if f.endswith('1d_test.json')]\n",
    "# get the index of list from tic\n",
    "keywords = ['NVDA']\n",
    "# get the json file that contain the keyword\n",
    "ticindex = [i for i, item in enumerate(json_files) if all(k in item for k in keywords)][0]\n",
    "eval_data = os.path.join(model_path,json_files[ticindex])\n",
    "print(eval_data)\n",
    "evaluate_dataset(eval_data)"
   ]
  },
  {
   "cell_type": "code",
   "execution_count": null,
   "metadata": {},
   "outputs": [],
   "source": [
    "# we then can use the evaluation helper to plot the stock price movement and trading action.\n",
    "# this is for the other agent\n",
    "\n",
    "json_files = [f for f in os.listdir(test_compare_directory) if f.endswith('1d_test.json')]\n",
    "# get the index of list from tic\n",
    "keywords = ['momentum', 'NVDA']\n",
    "# get the json file that contain the keyword\n",
    "ticindex = [i for i, item in enumerate(json_files) if all(k in item for k in keywords)][0]\n",
    "eval_data = os.path.join(test_compare_directory,json_files[ticindex])\n",
    "print(eval_data)\n",
    "evaluate_dataset(eval_data)"
   ]
  }
 ],
 "metadata": {
  "kernelspec": {
   "display_name": "Python 3 (ipykernel)",
   "language": "python",
   "name": "python3"
  }
 },
 "nbformat": 4,
 "nbformat_minor": 2
}
