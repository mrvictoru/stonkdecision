{
 "cells": [
  {
   "cell_type": "code",
   "execution_count": 1,
   "metadata": {},
   "outputs": [],
   "source": [
    "# this notebook will show case how to use the helper function to train decision transformer agent with the dataset\n",
    "\n",
    "# define the dataset path\n",
    "dataset_path = \"offline_stock_trade_data\""
   ]
  },
  {
   "cell_type": "code",
   "execution_count": 3,
   "metadata": {},
   "outputs": [
    {
     "data": {
      "application/vnd.jupyter.widget-view+json": {
       "model_id": "2ecb61a70ebf46ea8f8f49fb01e3ec18",
       "version_major": 2,
       "version_minor": 0
      },
      "text/plain": [
       "Generating train split: 0 examples [00:00, ? examples/s]"
      ]
     },
     "metadata": {},
     "output_type": "display_data"
    },
    {
     "data": {
      "application/vnd.jupyter.widget-view+json": {
       "model_id": "5930f2560a834dbf9e6c96394d947e6e",
       "version_major": 2,
       "version_minor": 0
      },
      "text/plain": [
       "Generating train split: 0 examples [00:00, ? examples/s]"
      ]
     },
     "metadata": {},
     "output_type": "display_data"
    },
    {
     "data": {
      "application/vnd.jupyter.widget-view+json": {
       "model_id": "6ad69b541efe4d20a2f7df32d50ef397",
       "version_major": 2,
       "version_minor": 0
      },
      "text/plain": [
       "Generating train split: 0 examples [00:00, ? examples/s]"
      ]
     },
     "metadata": {},
     "output_type": "display_data"
    },
    {
     "data": {
      "application/vnd.jupyter.widget-view+json": {
       "model_id": "6ff8bca4e39f41d0b29e650a65ab8bac",
       "version_major": 2,
       "version_minor": 0
      },
      "text/plain": [
       "Generating train split: 0 examples [00:00, ? examples/s]"
      ]
     },
     "metadata": {},
     "output_type": "display_data"
    },
    {
     "data": {
      "application/vnd.jupyter.widget-view+json": {
       "model_id": "317d679b383e4273a70aa42897053dca",
       "version_major": 2,
       "version_minor": 0
      },
      "text/plain": [
       "Generating train split: 0 examples [00:00, ? examples/s]"
      ]
     },
     "metadata": {},
     "output_type": "display_data"
    },
    {
     "data": {
      "application/vnd.jupyter.widget-view+json": {
       "model_id": "c6d7299eeaaf454f8531c78a609e0101",
       "version_major": 2,
       "version_minor": 0
      },
      "text/plain": [
       "Generating train split: 0 examples [00:00, ? examples/s]"
      ]
     },
     "metadata": {},
     "output_type": "display_data"
    },
    {
     "data": {
      "application/vnd.jupyter.widget-view+json": {
       "model_id": "b39175bd7cfd4da28014bb6f2955a661",
       "version_major": 2,
       "version_minor": 0
      },
      "text/plain": [
       "Generating train split: 0 examples [00:00, ? examples/s]"
      ]
     },
     "metadata": {},
     "output_type": "display_data"
    },
    {
     "data": {
      "application/vnd.jupyter.widget-view+json": {
       "model_id": "98531d233db54f50bb0ee3372dfaf02b",
       "version_major": 2,
       "version_minor": 0
      },
      "text/plain": [
       "Generating train split: 0 examples [00:00, ? examples/s]"
      ]
     },
     "metadata": {},
     "output_type": "display_data"
    },
    {
     "data": {
      "application/vnd.jupyter.widget-view+json": {
       "model_id": "6db53ec6c54e4c6e8cbc8e72e5aa6aab",
       "version_major": 2,
       "version_minor": 0
      },
      "text/plain": [
       "Generating train split: 0 examples [00:00, ? examples/s]"
      ]
     },
     "metadata": {},
     "output_type": "display_data"
    },
    {
     "data": {
      "application/vnd.jupyter.widget-view+json": {
       "model_id": "f7524e90409a4f9696a78129e917b9d1",
       "version_major": 2,
       "version_minor": 0
      },
      "text/plain": [
       "Generating train split: 0 examples [00:00, ? examples/s]"
      ]
     },
     "metadata": {},
     "output_type": "display_data"
    },
    {
     "data": {
      "application/vnd.jupyter.widget-view+json": {
       "model_id": "8ef996d7f26b4a2eaf0a486b8364b3d8",
       "version_major": 2,
       "version_minor": 0
      },
      "text/plain": [
       "Generating train split: 0 examples [00:00, ? examples/s]"
      ]
     },
     "metadata": {},
     "output_type": "display_data"
    },
    {
     "data": {
      "application/vnd.jupyter.widget-view+json": {
       "model_id": "30ffe5f1d70542099780cfa9d2d3e6cd",
       "version_major": 2,
       "version_minor": 0
      },
      "text/plain": [
       "Generating train split: 0 examples [00:00, ? examples/s]"
      ]
     },
     "metadata": {},
     "output_type": "display_data"
    },
    {
     "data": {
      "application/vnd.jupyter.widget-view+json": {
       "model_id": "5e8ff71891e2486ca4f71ddf78ef28c9",
       "version_major": 2,
       "version_minor": 0
      },
      "text/plain": [
       "Generating train split: 0 examples [00:00, ? examples/s]"
      ]
     },
     "metadata": {},
     "output_type": "display_data"
    },
    {
     "data": {
      "application/vnd.jupyter.widget-view+json": {
       "model_id": "7ea867addafc41888b13c99d003bd862",
       "version_major": 2,
       "version_minor": 0
      },
      "text/plain": [
       "Generating train split: 0 examples [00:00, ? examples/s]"
      ]
     },
     "metadata": {},
     "output_type": "display_data"
    },
    {
     "data": {
      "application/vnd.jupyter.widget-view+json": {
       "model_id": "931a4020a62e43a7b1646a0dfc223bc0",
       "version_major": 2,
       "version_minor": 0
      },
      "text/plain": [
       "Generating train split: 0 examples [00:00, ? examples/s]"
      ]
     },
     "metadata": {},
     "output_type": "display_data"
    },
    {
     "data": {
      "application/vnd.jupyter.widget-view+json": {
       "model_id": "5489b16e79e844f083d7e9fbc0630cca",
       "version_major": 2,
       "version_minor": 0
      },
      "text/plain": [
       "Generating train split: 0 examples [00:00, ? examples/s]"
      ]
     },
     "metadata": {},
     "output_type": "display_data"
    },
    {
     "data": {
      "application/vnd.jupyter.widget-view+json": {
       "model_id": "9cd943246df94dff904cd01d13e36087",
       "version_major": 2,
       "version_minor": 0
      },
      "text/plain": [
       "Generating train split: 0 examples [00:00, ? examples/s]"
      ]
     },
     "metadata": {},
     "output_type": "display_data"
    },
    {
     "data": {
      "application/vnd.jupyter.widget-view+json": {
       "model_id": "63e69c266b41452aa6bdc57477fc608f",
       "version_major": 2,
       "version_minor": 0
      },
      "text/plain": [
       "Generating train split: 0 examples [00:00, ? examples/s]"
      ]
     },
     "metadata": {},
     "output_type": "display_data"
    },
    {
     "data": {
      "application/vnd.jupyter.widget-view+json": {
       "model_id": "ed6148d5c8154a9bb72018b90895bf94",
       "version_major": 2,
       "version_minor": 0
      },
      "text/plain": [
       "Generating train split: 0 examples [00:00, ? examples/s]"
      ]
     },
     "metadata": {},
     "output_type": "display_data"
    },
    {
     "data": {
      "application/vnd.jupyter.widget-view+json": {
       "model_id": "b25010beaac34ca2950a40b372a38752",
       "version_major": 2,
       "version_minor": 0
      },
      "text/plain": [
       "Generating train split: 0 examples [00:00, ? examples/s]"
      ]
     },
     "metadata": {},
     "output_type": "display_data"
    },
    {
     "data": {
      "application/vnd.jupyter.widget-view+json": {
       "model_id": "15b4efb694404bb4a0a0a73c3d772cfb",
       "version_major": 2,
       "version_minor": 0
      },
      "text/plain": [
       "Generating train split: 0 examples [00:00, ? examples/s]"
      ]
     },
     "metadata": {},
     "output_type": "display_data"
    },
    {
     "data": {
      "application/vnd.jupyter.widget-view+json": {
       "model_id": "e1aafd367af2459380fa772e8cfefdd1",
       "version_major": 2,
       "version_minor": 0
      },
      "text/plain": [
       "Generating train split: 0 examples [00:00, ? examples/s]"
      ]
     },
     "metadata": {},
     "output_type": "display_data"
    },
    {
     "data": {
      "application/vnd.jupyter.widget-view+json": {
       "model_id": "6267a42b05924772a838425c912811c8",
       "version_major": 2,
       "version_minor": 0
      },
      "text/plain": [
       "Generating train split: 0 examples [00:00, ? examples/s]"
      ]
     },
     "metadata": {},
     "output_type": "display_data"
    },
    {
     "data": {
      "application/vnd.jupyter.widget-view+json": {
       "model_id": "32ea46359c374d37a534e7ee889bd81e",
       "version_major": 2,
       "version_minor": 0
      },
      "text/plain": [
       "Generating train split: 0 examples [00:00, ? examples/s]"
      ]
     },
     "metadata": {},
     "output_type": "display_data"
    },
    {
     "data": {
      "application/vnd.jupyter.widget-view+json": {
       "model_id": "0ea16e990eb3485aba396e3790f0939e",
       "version_major": 2,
       "version_minor": 0
      },
      "text/plain": [
       "Generating train split: 0 examples [00:00, ? examples/s]"
      ]
     },
     "metadata": {},
     "output_type": "display_data"
    },
    {
     "data": {
      "application/vnd.jupyter.widget-view+json": {
       "model_id": "f6c156bee9a741c9868593504bf1bf5a",
       "version_major": 2,
       "version_minor": 0
      },
      "text/plain": [
       "Generating train split: 0 examples [00:00, ? examples/s]"
      ]
     },
     "metadata": {},
     "output_type": "display_data"
    },
    {
     "data": {
      "application/vnd.jupyter.widget-view+json": {
       "model_id": "3fb35a66a1b846f49a97ea9e1d4ca04c",
       "version_major": 2,
       "version_minor": 0
      },
      "text/plain": [
       "Generating train split: 0 examples [00:00, ? examples/s]"
      ]
     },
     "metadata": {},
     "output_type": "display_data"
    },
    {
     "data": {
      "application/vnd.jupyter.widget-view+json": {
       "model_id": "54598503dcf94f2c8125ab454f4a7931",
       "version_major": 2,
       "version_minor": 0
      },
      "text/plain": [
       "Generating train split: 0 examples [00:00, ? examples/s]"
      ]
     },
     "metadata": {},
     "output_type": "display_data"
    },
    {
     "data": {
      "application/vnd.jupyter.widget-view+json": {
       "model_id": "f3ed2340bb1141eea1d65bba62a1f8bb",
       "version_major": 2,
       "version_minor": 0
      },
      "text/plain": [
       "Generating train split: 0 examples [00:00, ? examples/s]"
      ]
     },
     "metadata": {},
     "output_type": "display_data"
    },
    {
     "data": {
      "application/vnd.jupyter.widget-view+json": {
       "model_id": "8bb92da38a9d408aa0683058f4bb932d",
       "version_major": 2,
       "version_minor": 0
      },
      "text/plain": [
       "Generating train split: 0 examples [00:00, ? examples/s]"
      ]
     },
     "metadata": {},
     "output_type": "display_data"
    },
    {
     "data": {
      "application/vnd.jupyter.widget-view+json": {
       "model_id": "5cac75b58d624bb08e907bba25a0e5ae",
       "version_major": 2,
       "version_minor": 0
      },
      "text/plain": [
       "Generating train split: 0 examples [00:00, ? examples/s]"
      ]
     },
     "metadata": {},
     "output_type": "display_data"
    },
    {
     "data": {
      "application/vnd.jupyter.widget-view+json": {
       "model_id": "e7a73c45babe454386ae9941628b1767",
       "version_major": 2,
       "version_minor": 0
      },
      "text/plain": [
       "Generating train split: 0 examples [00:00, ? examples/s]"
      ]
     },
     "metadata": {},
     "output_type": "display_data"
    },
    {
     "data": {
      "application/vnd.jupyter.widget-view+json": {
       "model_id": "eb3c694bc12c4c36af0194b7b6fa7e77",
       "version_major": 2,
       "version_minor": 0
      },
      "text/plain": [
       "Generating train split: 0 examples [00:00, ? examples/s]"
      ]
     },
     "metadata": {},
     "output_type": "display_data"
    },
    {
     "data": {
      "application/vnd.jupyter.widget-view+json": {
       "model_id": "173c802e2ce44288ab0cda9f47396f2a",
       "version_major": 2,
       "version_minor": 0
      },
      "text/plain": [
       "Generating train split: 0 examples [00:00, ? examples/s]"
      ]
     },
     "metadata": {},
     "output_type": "display_data"
    },
    {
     "data": {
      "application/vnd.jupyter.widget-view+json": {
       "model_id": "07e98451b7c84a0da8a25beb9995b696",
       "version_major": 2,
       "version_minor": 0
      },
      "text/plain": [
       "Generating train split: 0 examples [00:00, ? examples/s]"
      ]
     },
     "metadata": {},
     "output_type": "display_data"
    },
    {
     "data": {
      "application/vnd.jupyter.widget-view+json": {
       "model_id": "7b27edaf182c4284bc39bcb419b187ee",
       "version_major": 2,
       "version_minor": 0
      },
      "text/plain": [
       "Generating train split: 0 examples [00:00, ? examples/s]"
      ]
     },
     "metadata": {},
     "output_type": "display_data"
    },
    {
     "data": {
      "application/vnd.jupyter.widget-view+json": {
       "model_id": "254840081d214aeca773cbf358fbef0b",
       "version_major": 2,
       "version_minor": 0
      },
      "text/plain": [
       "Generating train split: 0 examples [00:00, ? examples/s]"
      ]
     },
     "metadata": {},
     "output_type": "display_data"
    },
    {
     "data": {
      "application/vnd.jupyter.widget-view+json": {
       "model_id": "cf2673a1b2a643698cc38968050ee0dd",
       "version_major": 2,
       "version_minor": 0
      },
      "text/plain": [
       "Generating train split: 0 examples [00:00, ? examples/s]"
      ]
     },
     "metadata": {},
     "output_type": "display_data"
    },
    {
     "data": {
      "application/vnd.jupyter.widget-view+json": {
       "model_id": "6c35d1d7a34242b684ca1eace4945b62",
       "version_major": 2,
       "version_minor": 0
      },
      "text/plain": [
       "Generating train split: 0 examples [00:00, ? examples/s]"
      ]
     },
     "metadata": {},
     "output_type": "display_data"
    },
    {
     "data": {
      "application/vnd.jupyter.widget-view+json": {
       "model_id": "f4864623c53342e99efa1cf290d68181",
       "version_major": 2,
       "version_minor": 0
      },
      "text/plain": [
       "Generating train split: 0 examples [00:00, ? examples/s]"
      ]
     },
     "metadata": {},
     "output_type": "display_data"
    },
    {
     "data": {
      "application/vnd.jupyter.widget-view+json": {
       "model_id": "0f7de7719b0d485ab6d9c14eb518ee35",
       "version_major": 2,
       "version_minor": 0
      },
      "text/plain": [
       "Generating train split: 0 examples [00:00, ? examples/s]"
      ]
     },
     "metadata": {},
     "output_type": "display_data"
    },
    {
     "data": {
      "application/vnd.jupyter.widget-view+json": {
       "model_id": "9457ed4f3b184be28a7e58ffcee3bb4f",
       "version_major": 2,
       "version_minor": 0
      },
      "text/plain": [
       "Generating train split: 0 examples [00:00, ? examples/s]"
      ]
     },
     "metadata": {},
     "output_type": "display_data"
    },
    {
     "data": {
      "application/vnd.jupyter.widget-view+json": {
       "model_id": "f017dbf70a7e4a688bd9078a7d94e9b1",
       "version_major": 2,
       "version_minor": 0
      },
      "text/plain": [
       "Generating train split: 0 examples [00:00, ? examples/s]"
      ]
     },
     "metadata": {},
     "output_type": "display_data"
    },
    {
     "data": {
      "application/vnd.jupyter.widget-view+json": {
       "model_id": "1b2cc0b3f6414f7babe7f52016417243",
       "version_major": 2,
       "version_minor": 0
      },
      "text/plain": [
       "Generating train split: 0 examples [00:00, ? examples/s]"
      ]
     },
     "metadata": {},
     "output_type": "display_data"
    },
    {
     "data": {
      "application/vnd.jupyter.widget-view+json": {
       "model_id": "43344b913b3e4edb878fe8f85e14ab3f",
       "version_major": 2,
       "version_minor": 0
      },
      "text/plain": [
       "Generating train split: 0 examples [00:00, ? examples/s]"
      ]
     },
     "metadata": {},
     "output_type": "display_data"
    },
    {
     "data": {
      "application/vnd.jupyter.widget-view+json": {
       "model_id": "71b13a58a4ba4c76abf05ceb4909979e",
       "version_major": 2,
       "version_minor": 0
      },
      "text/plain": [
       "Generating train split: 0 examples [00:00, ? examples/s]"
      ]
     },
     "metadata": {},
     "output_type": "display_data"
    },
    {
     "data": {
      "application/vnd.jupyter.widget-view+json": {
       "model_id": "e01a5340fcdd43ef9263c846f3df5db3",
       "version_major": 2,
       "version_minor": 0
      },
      "text/plain": [
       "Generating train split: 0 examples [00:00, ? examples/s]"
      ]
     },
     "metadata": {},
     "output_type": "display_data"
    },
    {
     "data": {
      "application/vnd.jupyter.widget-view+json": {
       "model_id": "41d4229abc564d70b6456812ecfe2cfd",
       "version_major": 2,
       "version_minor": 0
      },
      "text/plain": [
       "Generating train split: 0 examples [00:00, ? examples/s]"
      ]
     },
     "metadata": {},
     "output_type": "display_data"
    },
    {
     "data": {
      "application/vnd.jupyter.widget-view+json": {
       "model_id": "61c3ad32c8304d7b9d0f48319ec9d853",
       "version_major": 2,
       "version_minor": 0
      },
      "text/plain": [
       "Generating train split: 0 examples [00:00, ? examples/s]"
      ]
     },
     "metadata": {},
     "output_type": "display_data"
    },
    {
     "data": {
      "application/vnd.jupyter.widget-view+json": {
       "model_id": "63b4f68fde1b467b8f9de29e2d444052",
       "version_major": 2,
       "version_minor": 0
      },
      "text/plain": [
       "Generating train split: 0 examples [00:00, ? examples/s]"
      ]
     },
     "metadata": {},
     "output_type": "display_data"
    },
    {
     "data": {
      "application/vnd.jupyter.widget-view+json": {
       "model_id": "e159551480af499ca279b87ea6594f5c",
       "version_major": 2,
       "version_minor": 0
      },
      "text/plain": [
       "Generating train split: 0 examples [00:00, ? examples/s]"
      ]
     },
     "metadata": {},
     "output_type": "display_data"
    },
    {
     "data": {
      "application/vnd.jupyter.widget-view+json": {
       "model_id": "6f47c15aa9a6401e8f9a3ad06e0fa9fa",
       "version_major": 2,
       "version_minor": 0
      },
      "text/plain": [
       "Generating train split: 0 examples [00:00, ? examples/s]"
      ]
     },
     "metadata": {},
     "output_type": "display_data"
    },
    {
     "data": {
      "application/vnd.jupyter.widget-view+json": {
       "model_id": "0a5a1056671e44cba53387005c61f92b",
       "version_major": 2,
       "version_minor": 0
      },
      "text/plain": [
       "Generating train split: 0 examples [00:00, ? examples/s]"
      ]
     },
     "metadata": {},
     "output_type": "display_data"
    },
    {
     "data": {
      "application/vnd.jupyter.widget-view+json": {
       "model_id": "51d241789a384c2e80980597ff7c274e",
       "version_major": 2,
       "version_minor": 0
      },
      "text/plain": [
       "Generating train split: 0 examples [00:00, ? examples/s]"
      ]
     },
     "metadata": {},
     "output_type": "display_data"
    },
    {
     "data": {
      "application/vnd.jupyter.widget-view+json": {
       "model_id": "25159f4136e947ecad5f7eb6397cce22",
       "version_major": 2,
       "version_minor": 0
      },
      "text/plain": [
       "Generating train split: 0 examples [00:00, ? examples/s]"
      ]
     },
     "metadata": {},
     "output_type": "display_data"
    },
    {
     "data": {
      "application/vnd.jupyter.widget-view+json": {
       "model_id": "0242a5fadca346248ee6e8558e92955c",
       "version_major": 2,
       "version_minor": 0
      },
      "text/plain": [
       "Generating train split: 0 examples [00:00, ? examples/s]"
      ]
     },
     "metadata": {},
     "output_type": "display_data"
    },
    {
     "data": {
      "application/vnd.jupyter.widget-view+json": {
       "model_id": "3bf8cff4d470485a8ffc15c6e7f5b24b",
       "version_major": 2,
       "version_minor": 0
      },
      "text/plain": [
       "Generating train split: 0 examples [00:00, ? examples/s]"
      ]
     },
     "metadata": {},
     "output_type": "display_data"
    },
    {
     "data": {
      "application/vnd.jupyter.widget-view+json": {
       "model_id": "7631cc44b5ab4f2c97a747888ad61ccd",
       "version_major": 2,
       "version_minor": 0
      },
      "text/plain": [
       "Generating train split: 0 examples [00:00, ? examples/s]"
      ]
     },
     "metadata": {},
     "output_type": "display_data"
    },
    {
     "data": {
      "application/vnd.jupyter.widget-view+json": {
       "model_id": "2a626729f0bd424fac8774d102f58391",
       "version_major": 2,
       "version_minor": 0
      },
      "text/plain": [
       "Generating train split: 0 examples [00:00, ? examples/s]"
      ]
     },
     "metadata": {},
     "output_type": "display_data"
    },
    {
     "data": {
      "application/vnd.jupyter.widget-view+json": {
       "model_id": "4a8b161017fc4c9c9484ac46059ac256",
       "version_major": 2,
       "version_minor": 0
      },
      "text/plain": [
       "Generating train split: 0 examples [00:00, ? examples/s]"
      ]
     },
     "metadata": {},
     "output_type": "display_data"
    },
    {
     "data": {
      "application/vnd.jupyter.widget-view+json": {
       "model_id": "48afb595bb75454da6245118142e003a",
       "version_major": 2,
       "version_minor": 0
      },
      "text/plain": [
       "Generating train split: 0 examples [00:00, ? examples/s]"
      ]
     },
     "metadata": {},
     "output_type": "display_data"
    },
    {
     "data": {
      "application/vnd.jupyter.widget-view+json": {
       "model_id": "84c8cd4b24924103801b61a460eaabf3",
       "version_major": 2,
       "version_minor": 0
      },
      "text/plain": [
       "Generating train split: 0 examples [00:00, ? examples/s]"
      ]
     },
     "metadata": {},
     "output_type": "display_data"
    },
    {
     "data": {
      "application/vnd.jupyter.widget-view+json": {
       "model_id": "b88a9f47a24d4139abe465d910c49d05",
       "version_major": 2,
       "version_minor": 0
      },
      "text/plain": [
       "Generating train split: 0 examples [00:00, ? examples/s]"
      ]
     },
     "metadata": {},
     "output_type": "display_data"
    },
    {
     "data": {
      "application/vnd.jupyter.widget-view+json": {
       "model_id": "c7be264256bf4862bb7c19e2be2eaabc",
       "version_major": 2,
       "version_minor": 0
      },
      "text/plain": [
       "Generating train split: 0 examples [00:00, ? examples/s]"
      ]
     },
     "metadata": {},
     "output_type": "display_data"
    },
    {
     "data": {
      "application/vnd.jupyter.widget-view+json": {
       "model_id": "7bf4e469e9b44dbf93371c3c12fae06c",
       "version_major": 2,
       "version_minor": 0
      },
      "text/plain": [
       "Generating train split: 0 examples [00:00, ? examples/s]"
      ]
     },
     "metadata": {},
     "output_type": "display_data"
    },
    {
     "data": {
      "application/vnd.jupyter.widget-view+json": {
       "model_id": "4f99051f429b45249e86b30912952e9a",
       "version_major": 2,
       "version_minor": 0
      },
      "text/plain": [
       "Generating train split: 0 examples [00:00, ? examples/s]"
      ]
     },
     "metadata": {},
     "output_type": "display_data"
    },
    {
     "data": {
      "application/vnd.jupyter.widget-view+json": {
       "model_id": "8caf9182cea5480cb16ea2383cec5057",
       "version_major": 2,
       "version_minor": 0
      },
      "text/plain": [
       "Generating train split: 0 examples [00:00, ? examples/s]"
      ]
     },
     "metadata": {},
     "output_type": "display_data"
    },
    {
     "data": {
      "application/vnd.jupyter.widget-view+json": {
       "model_id": "8364a06e25cd42328010790860a218fa",
       "version_major": 2,
       "version_minor": 0
      },
      "text/plain": [
       "Generating train split: 0 examples [00:00, ? examples/s]"
      ]
     },
     "metadata": {},
     "output_type": "display_data"
    },
    {
     "data": {
      "application/vnd.jupyter.widget-view+json": {
       "model_id": "3240ed9b3194469f869f751dfb9d1768",
       "version_major": 2,
       "version_minor": 0
      },
      "text/plain": [
       "Generating train split: 0 examples [00:00, ? examples/s]"
      ]
     },
     "metadata": {},
     "output_type": "display_data"
    },
    {
     "data": {
      "application/vnd.jupyter.widget-view+json": {
       "model_id": "76f12f0b0ed4449db43556edc4ed3b0a",
       "version_major": 2,
       "version_minor": 0
      },
      "text/plain": [
       "Generating train split: 0 examples [00:00, ? examples/s]"
      ]
     },
     "metadata": {},
     "output_type": "display_data"
    },
    {
     "data": {
      "application/vnd.jupyter.widget-view+json": {
       "model_id": "dce9e4999d2845df875320c4b0e5c9b6",
       "version_major": 2,
       "version_minor": 0
      },
      "text/plain": [
       "Generating train split: 0 examples [00:00, ? examples/s]"
      ]
     },
     "metadata": {},
     "output_type": "display_data"
    },
    {
     "data": {
      "application/vnd.jupyter.widget-view+json": {
       "model_id": "8403815ed1a345b18624c6a61ffdbbdc",
       "version_major": 2,
       "version_minor": 0
      },
      "text/plain": [
       "Generating train split: 0 examples [00:00, ? examples/s]"
      ]
     },
     "metadata": {},
     "output_type": "display_data"
    },
    {
     "data": {
      "application/vnd.jupyter.widget-view+json": {
       "model_id": "cb51db5eaac24d2c8f5c626cc5e914ce",
       "version_major": 2,
       "version_minor": 0
      },
      "text/plain": [
       "Generating train split: 0 examples [00:00, ? examples/s]"
      ]
     },
     "metadata": {},
     "output_type": "display_data"
    },
    {
     "data": {
      "application/vnd.jupyter.widget-view+json": {
       "model_id": "8bad2f8f852e4dc6806649bf3e4fe777",
       "version_major": 2,
       "version_minor": 0
      },
      "text/plain": [
       "Generating train split: 0 examples [00:00, ? examples/s]"
      ]
     },
     "metadata": {},
     "output_type": "display_data"
    },
    {
     "data": {
      "application/vnd.jupyter.widget-view+json": {
       "model_id": "64c13ff0eb944fb28664820dfb19e17e",
       "version_major": 2,
       "version_minor": 0
      },
      "text/plain": [
       "Generating train split: 0 examples [00:00, ? examples/s]"
      ]
     },
     "metadata": {},
     "output_type": "display_data"
    },
    {
     "data": {
      "application/vnd.jupyter.widget-view+json": {
       "model_id": "61867bff87e14d89a9e0e1cf2eaf5c74",
       "version_major": 2,
       "version_minor": 0
      },
      "text/plain": [
       "Generating train split: 0 examples [00:00, ? examples/s]"
      ]
     },
     "metadata": {},
     "output_type": "display_data"
    },
    {
     "data": {
      "application/vnd.jupyter.widget-view+json": {
       "model_id": "08df00b3483c439da88515c604011878",
       "version_major": 2,
       "version_minor": 0
      },
      "text/plain": [
       "Generating train split: 0 examples [00:00, ? examples/s]"
      ]
     },
     "metadata": {},
     "output_type": "display_data"
    },
    {
     "data": {
      "application/vnd.jupyter.widget-view+json": {
       "model_id": "f0b1246c5cda4daf98abb771ba2a2fa2",
       "version_major": 2,
       "version_minor": 0
      },
      "text/plain": [
       "Generating train split: 0 examples [00:00, ? examples/s]"
      ]
     },
     "metadata": {},
     "output_type": "display_data"
    },
    {
     "data": {
      "application/vnd.jupyter.widget-view+json": {
       "model_id": "afdff36549804adbac2e4c3d2b0e3baf",
       "version_major": 2,
       "version_minor": 0
      },
      "text/plain": [
       "Generating train split: 0 examples [00:00, ? examples/s]"
      ]
     },
     "metadata": {},
     "output_type": "display_data"
    },
    {
     "data": {
      "application/vnd.jupyter.widget-view+json": {
       "model_id": "1176eb6325704af3913a5646556430a0",
       "version_major": 2,
       "version_minor": 0
      },
      "text/plain": [
       "Generating train split: 0 examples [00:00, ? examples/s]"
      ]
     },
     "metadata": {},
     "output_type": "display_data"
    },
    {
     "data": {
      "application/vnd.jupyter.widget-view+json": {
       "model_id": "7f6cc6d13ba94ee3b66bf45ecd8cf00c",
       "version_major": 2,
       "version_minor": 0
      },
      "text/plain": [
       "Generating train split: 0 examples [00:00, ? examples/s]"
      ]
     },
     "metadata": {},
     "output_type": "display_data"
    },
    {
     "data": {
      "application/vnd.jupyter.widget-view+json": {
       "model_id": "0e479436cf684fccafaa4153a94a3ddf",
       "version_major": 2,
       "version_minor": 0
      },
      "text/plain": [
       "Generating train split: 0 examples [00:00, ? examples/s]"
      ]
     },
     "metadata": {},
     "output_type": "display_data"
    },
    {
     "data": {
      "application/vnd.jupyter.widget-view+json": {
       "model_id": "ef00de54af6c492e848cc9e211d2977b",
       "version_major": 2,
       "version_minor": 0
      },
      "text/plain": [
       "Generating train split: 0 examples [00:00, ? examples/s]"
      ]
     },
     "metadata": {},
     "output_type": "display_data"
    },
    {
     "data": {
      "application/vnd.jupyter.widget-view+json": {
       "model_id": "76cbcc6176bb42b09b95f19c96e5b56d",
       "version_major": 2,
       "version_minor": 0
      },
      "text/plain": [
       "Generating train split: 0 examples [00:00, ? examples/s]"
      ]
     },
     "metadata": {},
     "output_type": "display_data"
    },
    {
     "data": {
      "application/vnd.jupyter.widget-view+json": {
       "model_id": "39b7898e13db48618e8ea55321794c48",
       "version_major": 2,
       "version_minor": 0
      },
      "text/plain": [
       "Generating train split: 0 examples [00:00, ? examples/s]"
      ]
     },
     "metadata": {},
     "output_type": "display_data"
    },
    {
     "data": {
      "application/vnd.jupyter.widget-view+json": {
       "model_id": "d6242e10738e480b8672079c54adbdba",
       "version_major": 2,
       "version_minor": 0
      },
      "text/plain": [
       "Generating train split: 0 examples [00:00, ? examples/s]"
      ]
     },
     "metadata": {},
     "output_type": "display_data"
    },
    {
     "data": {
      "application/vnd.jupyter.widget-view+json": {
       "model_id": "e817080d64b74b0587416f1268b922aa",
       "version_major": 2,
       "version_minor": 0
      },
      "text/plain": [
       "Generating train split: 0 examples [00:00, ? examples/s]"
      ]
     },
     "metadata": {},
     "output_type": "display_data"
    },
    {
     "data": {
      "application/vnd.jupyter.widget-view+json": {
       "model_id": "f3ce7ed60d614867a476deb5c5c35256",
       "version_major": 2,
       "version_minor": 0
      },
      "text/plain": [
       "Generating train split: 0 examples [00:00, ? examples/s]"
      ]
     },
     "metadata": {},
     "output_type": "display_data"
    },
    {
     "data": {
      "application/vnd.jupyter.widget-view+json": {
       "model_id": "47bad9192ae44310b8e59a9508ef863c",
       "version_major": 2,
       "version_minor": 0
      },
      "text/plain": [
       "Generating train split: 0 examples [00:00, ? examples/s]"
      ]
     },
     "metadata": {},
     "output_type": "display_data"
    },
    {
     "data": {
      "application/vnd.jupyter.widget-view+json": {
       "model_id": "20a5e5308b20489c99bc545482dd8fdb",
       "version_major": 2,
       "version_minor": 0
      },
      "text/plain": [
       "Generating train split: 0 examples [00:00, ? examples/s]"
      ]
     },
     "metadata": {},
     "output_type": "display_data"
    },
    {
     "data": {
      "application/vnd.jupyter.widget-view+json": {
       "model_id": "932aec43730a41939d22bf3eb16c3100",
       "version_major": 2,
       "version_minor": 0
      },
      "text/plain": [
       "Generating train split: 0 examples [00:00, ? examples/s]"
      ]
     },
     "metadata": {},
     "output_type": "display_data"
    },
    {
     "data": {
      "application/vnd.jupyter.widget-view+json": {
       "model_id": "aded9b5d117444a68c24309586566847",
       "version_major": 2,
       "version_minor": 0
      },
      "text/plain": [
       "Generating train split: 0 examples [00:00, ? examples/s]"
      ]
     },
     "metadata": {},
     "output_type": "display_data"
    },
    {
     "data": {
      "application/vnd.jupyter.widget-view+json": {
       "model_id": "d0886d5275b344f496a82aadbb582efc",
       "version_major": 2,
       "version_minor": 0
      },
      "text/plain": [
       "Generating train split: 0 examples [00:00, ? examples/s]"
      ]
     },
     "metadata": {},
     "output_type": "display_data"
    },
    {
     "data": {
      "application/vnd.jupyter.widget-view+json": {
       "model_id": "142f5931117b4901966d2c7f5cddb5ce",
       "version_major": 2,
       "version_minor": 0
      },
      "text/plain": [
       "Generating train split: 0 examples [00:00, ? examples/s]"
      ]
     },
     "metadata": {},
     "output_type": "display_data"
    },
    {
     "data": {
      "application/vnd.jupyter.widget-view+json": {
       "model_id": "068bc45789444b1da34cfda6536f78b1",
       "version_major": 2,
       "version_minor": 0
      },
      "text/plain": [
       "Generating train split: 0 examples [00:00, ? examples/s]"
      ]
     },
     "metadata": {},
     "output_type": "display_data"
    },
    {
     "data": {
      "application/vnd.jupyter.widget-view+json": {
       "model_id": "490b47fd370042ada3311b58c1b25c47",
       "version_major": 2,
       "version_minor": 0
      },
      "text/plain": [
       "Generating train split: 0 examples [00:00, ? examples/s]"
      ]
     },
     "metadata": {},
     "output_type": "display_data"
    },
    {
     "data": {
      "application/vnd.jupyter.widget-view+json": {
       "model_id": "f9091a1f274e4b5f8d4f80a16ed20b62",
       "version_major": 2,
       "version_minor": 0
      },
      "text/plain": [
       "Generating train split: 0 examples [00:00, ? examples/s]"
      ]
     },
     "metadata": {},
     "output_type": "display_data"
    },
    {
     "data": {
      "application/vnd.jupyter.widget-view+json": {
       "model_id": "06eaf55d30c94704b772ed5a59272bfd",
       "version_major": 2,
       "version_minor": 0
      },
      "text/plain": [
       "Generating train split: 0 examples [00:00, ? examples/s]"
      ]
     },
     "metadata": {},
     "output_type": "display_data"
    },
    {
     "data": {
      "application/vnd.jupyter.widget-view+json": {
       "model_id": "e4f40e2696e343a4b98432de9317e059",
       "version_major": 2,
       "version_minor": 0
      },
      "text/plain": [
       "Generating train split: 0 examples [00:00, ? examples/s]"
      ]
     },
     "metadata": {},
     "output_type": "display_data"
    },
    {
     "data": {
      "application/vnd.jupyter.widget-view+json": {
       "model_id": "91aafe9d334c4651b8cf3c64a9d40bfe",
       "version_major": 2,
       "version_minor": 0
      },
      "text/plain": [
       "Generating train split: 0 examples [00:00, ? examples/s]"
      ]
     },
     "metadata": {},
     "output_type": "display_data"
    },
    {
     "data": {
      "application/vnd.jupyter.widget-view+json": {
       "model_id": "738e24d9a62d48fe9aa71e5953542f4b",
       "version_major": 2,
       "version_minor": 0
      },
      "text/plain": [
       "Generating train split: 0 examples [00:00, ? examples/s]"
      ]
     },
     "metadata": {},
     "output_type": "display_data"
    },
    {
     "data": {
      "application/vnd.jupyter.widget-view+json": {
       "model_id": "a06e124c5cd94d6ab28547c663cac021",
       "version_major": 2,
       "version_minor": 0
      },
      "text/plain": [
       "Generating train split: 0 examples [00:00, ? examples/s]"
      ]
     },
     "metadata": {},
     "output_type": "display_data"
    },
    {
     "data": {
      "application/vnd.jupyter.widget-view+json": {
       "model_id": "d9a48aeca22847058b51ffbfbf6f3d72",
       "version_major": 2,
       "version_minor": 0
      },
      "text/plain": [
       "Generating train split: 0 examples [00:00, ? examples/s]"
      ]
     },
     "metadata": {},
     "output_type": "display_data"
    },
    {
     "data": {
      "application/vnd.jupyter.widget-view+json": {
       "model_id": "a0f8b684033e4cfdaa9a29091697e48c",
       "version_major": 2,
       "version_minor": 0
      },
      "text/plain": [
       "Generating train split: 0 examples [00:00, ? examples/s]"
      ]
     },
     "metadata": {},
     "output_type": "display_data"
    },
    {
     "data": {
      "application/vnd.jupyter.widget-view+json": {
       "model_id": "9500140321ad42858e92ff0ca0f3378d",
       "version_major": 2,
       "version_minor": 0
      },
      "text/plain": [
       "Generating train split: 0 examples [00:00, ? examples/s]"
      ]
     },
     "metadata": {},
     "output_type": "display_data"
    },
    {
     "data": {
      "application/vnd.jupyter.widget-view+json": {
       "model_id": "34473355ecfa4623a16396c4f478853e",
       "version_major": 2,
       "version_minor": 0
      },
      "text/plain": [
       "Generating train split: 0 examples [00:00, ? examples/s]"
      ]
     },
     "metadata": {},
     "output_type": "display_data"
    },
    {
     "data": {
      "application/vnd.jupyter.widget-view+json": {
       "model_id": "f7e961b4db524303984df68233c42fcb",
       "version_major": 2,
       "version_minor": 0
      },
      "text/plain": [
       "Generating train split: 0 examples [00:00, ? examples/s]"
      ]
     },
     "metadata": {},
     "output_type": "display_data"
    },
    {
     "data": {
      "application/vnd.jupyter.widget-view+json": {
       "model_id": "77c6a3f5e060484192e7e17f8e388b6c",
       "version_major": 2,
       "version_minor": 0
      },
      "text/plain": [
       "Generating train split: 0 examples [00:00, ? examples/s]"
      ]
     },
     "metadata": {},
     "output_type": "display_data"
    },
    {
     "data": {
      "application/vnd.jupyter.widget-view+json": {
       "model_id": "7d07637c6b2e40c8b355d639bc2fc9cd",
       "version_major": 2,
       "version_minor": 0
      },
      "text/plain": [
       "Generating train split: 0 examples [00:00, ? examples/s]"
      ]
     },
     "metadata": {},
     "output_type": "display_data"
    },
    {
     "data": {
      "application/vnd.jupyter.widget-view+json": {
       "model_id": "d186e03f9e464d499d7585a202d9b323",
       "version_major": 2,
       "version_minor": 0
      },
      "text/plain": [
       "Generating train split: 0 examples [00:00, ? examples/s]"
      ]
     },
     "metadata": {},
     "output_type": "display_data"
    },
    {
     "data": {
      "application/vnd.jupyter.widget-view+json": {
       "model_id": "04af1ff121a649128021c48bb4a9c2c3",
       "version_major": 2,
       "version_minor": 0
      },
      "text/plain": [
       "Generating train split: 0 examples [00:00, ? examples/s]"
      ]
     },
     "metadata": {},
     "output_type": "display_data"
    },
    {
     "data": {
      "application/vnd.jupyter.widget-view+json": {
       "model_id": "9a2e0ecbe6c340809547ce82f486193f",
       "version_major": 2,
       "version_minor": 0
      },
      "text/plain": [
       "Generating train split: 0 examples [00:00, ? examples/s]"
      ]
     },
     "metadata": {},
     "output_type": "display_data"
    },
    {
     "data": {
      "application/vnd.jupyter.widget-view+json": {
       "model_id": "2134ccd93d514dd2844e1a1326d50948",
       "version_major": 2,
       "version_minor": 0
      },
      "text/plain": [
       "Generating train split: 0 examples [00:00, ? examples/s]"
      ]
     },
     "metadata": {},
     "output_type": "display_data"
    },
    {
     "data": {
      "application/vnd.jupyter.widget-view+json": {
       "model_id": "a28fde71fd6e44aaae58e8ea027f36e7",
       "version_major": 2,
       "version_minor": 0
      },
      "text/plain": [
       "Generating train split: 0 examples [00:00, ? examples/s]"
      ]
     },
     "metadata": {},
     "output_type": "display_data"
    },
    {
     "data": {
      "application/vnd.jupyter.widget-view+json": {
       "model_id": "b490c3ee87eb46bb9866dee2feb3c654",
       "version_major": 2,
       "version_minor": 0
      },
      "text/plain": [
       "Generating train split: 0 examples [00:00, ? examples/s]"
      ]
     },
     "metadata": {},
     "output_type": "display_data"
    },
    {
     "data": {
      "application/vnd.jupyter.widget-view+json": {
       "model_id": "865d879d39ba493a955b2aaafa0bba09",
       "version_major": 2,
       "version_minor": 0
      },
      "text/plain": [
       "Generating train split: 0 examples [00:00, ? examples/s]"
      ]
     },
     "metadata": {},
     "output_type": "display_data"
    },
    {
     "data": {
      "application/vnd.jupyter.widget-view+json": {
       "model_id": "96d9b94622bf47e29137053bc34bff05",
       "version_major": 2,
       "version_minor": 0
      },
      "text/plain": [
       "Generating train split: 0 examples [00:00, ? examples/s]"
      ]
     },
     "metadata": {},
     "output_type": "display_data"
    },
    {
     "data": {
      "application/vnd.jupyter.widget-view+json": {
       "model_id": "0c6dc16b86084fae92f0d901ecd38972",
       "version_major": 2,
       "version_minor": 0
      },
      "text/plain": [
       "Generating train split: 0 examples [00:00, ? examples/s]"
      ]
     },
     "metadata": {},
     "output_type": "display_data"
    },
    {
     "data": {
      "application/vnd.jupyter.widget-view+json": {
       "model_id": "cdcca1d52f3746beaab5f0966717d01d",
       "version_major": 2,
       "version_minor": 0
      },
      "text/plain": [
       "Generating train split: 0 examples [00:00, ? examples/s]"
      ]
     },
     "metadata": {},
     "output_type": "display_data"
    },
    {
     "data": {
      "application/vnd.jupyter.widget-view+json": {
       "model_id": "07be5bceced54f5399a0951a36ffb22a",
       "version_major": 2,
       "version_minor": 0
      },
      "text/plain": [
       "Generating train split: 0 examples [00:00, ? examples/s]"
      ]
     },
     "metadata": {},
     "output_type": "display_data"
    },
    {
     "data": {
      "application/vnd.jupyter.widget-view+json": {
       "model_id": "355daa1ed62a4eb3a5abba4d09c9927b",
       "version_major": 2,
       "version_minor": 0
      },
      "text/plain": [
       "Generating train split: 0 examples [00:00, ? examples/s]"
      ]
     },
     "metadata": {},
     "output_type": "display_data"
    },
    {
     "data": {
      "application/vnd.jupyter.widget-view+json": {
       "model_id": "b5a28b054b48467a88c8319d27af6157",
       "version_major": 2,
       "version_minor": 0
      },
      "text/plain": [
       "Generating train split: 0 examples [00:00, ? examples/s]"
      ]
     },
     "metadata": {},
     "output_type": "display_data"
    },
    {
     "data": {
      "application/vnd.jupyter.widget-view+json": {
       "model_id": "c63775db2e234d5690132bbf075751ed",
       "version_major": 2,
       "version_minor": 0
      },
      "text/plain": [
       "Generating train split: 0 examples [00:00, ? examples/s]"
      ]
     },
     "metadata": {},
     "output_type": "display_data"
    },
    {
     "data": {
      "application/vnd.jupyter.widget-view+json": {
       "model_id": "24333fc9ef294a0bb77280f12a81252a",
       "version_major": 2,
       "version_minor": 0
      },
      "text/plain": [
       "Generating train split: 0 examples [00:00, ? examples/s]"
      ]
     },
     "metadata": {},
     "output_type": "display_data"
    },
    {
     "data": {
      "application/vnd.jupyter.widget-view+json": {
       "model_id": "b85fd26202a64910a0088ebbf3f8e5e1",
       "version_major": 2,
       "version_minor": 0
      },
      "text/plain": [
       "Generating train split: 0 examples [00:00, ? examples/s]"
      ]
     },
     "metadata": {},
     "output_type": "display_data"
    },
    {
     "data": {
      "application/vnd.jupyter.widget-view+json": {
       "model_id": "cdfa6394086744edaae0bcf97b120727",
       "version_major": 2,
       "version_minor": 0
      },
      "text/plain": [
       "Generating train split: 0 examples [00:00, ? examples/s]"
      ]
     },
     "metadata": {},
     "output_type": "display_data"
    },
    {
     "data": {
      "application/vnd.jupyter.widget-view+json": {
       "model_id": "b86e6a736a494576949b087edaec32d8",
       "version_major": 2,
       "version_minor": 0
      },
      "text/plain": [
       "Generating train split: 0 examples [00:00, ? examples/s]"
      ]
     },
     "metadata": {},
     "output_type": "display_data"
    },
    {
     "data": {
      "application/vnd.jupyter.widget-view+json": {
       "model_id": "969de46ebfe74ffe90daaadc519a9615",
       "version_major": 2,
       "version_minor": 0
      },
      "text/plain": [
       "Generating train split: 0 examples [00:00, ? examples/s]"
      ]
     },
     "metadata": {},
     "output_type": "display_data"
    },
    {
     "data": {
      "application/vnd.jupyter.widget-view+json": {
       "model_id": "52001ea0a2f44d0ebd0316cd0ab6281d",
       "version_major": 2,
       "version_minor": 0
      },
      "text/plain": [
       "Generating train split: 0 examples [00:00, ? examples/s]"
      ]
     },
     "metadata": {},
     "output_type": "display_data"
    },
    {
     "data": {
      "application/vnd.jupyter.widget-view+json": {
       "model_id": "0a3a6d8d60cb41fbbc171a35036bd566",
       "version_major": 2,
       "version_minor": 0
      },
      "text/plain": [
       "Generating train split: 0 examples [00:00, ? examples/s]"
      ]
     },
     "metadata": {},
     "output_type": "display_data"
    },
    {
     "data": {
      "application/vnd.jupyter.widget-view+json": {
       "model_id": "80cdeaa085234a9dbc4445ff3cc40eaf",
       "version_major": 2,
       "version_minor": 0
      },
      "text/plain": [
       "Generating train split: 0 examples [00:00, ? examples/s]"
      ]
     },
     "metadata": {},
     "output_type": "display_data"
    },
    {
     "data": {
      "application/vnd.jupyter.widget-view+json": {
       "model_id": "e2c0ff6bc2914029be61fe77d67a9fb1",
       "version_major": 2,
       "version_minor": 0
      },
      "text/plain": [
       "Generating train split: 0 examples [00:00, ? examples/s]"
      ]
     },
     "metadata": {},
     "output_type": "display_data"
    },
    {
     "data": {
      "application/vnd.jupyter.widget-view+json": {
       "model_id": "d86f52a256ff4f1ea06b93a9a170a815",
       "version_major": 2,
       "version_minor": 0
      },
      "text/plain": [
       "Generating train split: 0 examples [00:00, ? examples/s]"
      ]
     },
     "metadata": {},
     "output_type": "display_data"
    },
    {
     "data": {
      "application/vnd.jupyter.widget-view+json": {
       "model_id": "352a20e2835a47788698dfc64daa2525",
       "version_major": 2,
       "version_minor": 0
      },
      "text/plain": [
       "Generating train split: 0 examples [00:00, ? examples/s]"
      ]
     },
     "metadata": {},
     "output_type": "display_data"
    },
    {
     "data": {
      "application/vnd.jupyter.widget-view+json": {
       "model_id": "5ff78780e5b54b1197bbc9b99b3eb508",
       "version_major": 2,
       "version_minor": 0
      },
      "text/plain": [
       "Generating train split: 0 examples [00:00, ? examples/s]"
      ]
     },
     "metadata": {},
     "output_type": "display_data"
    },
    {
     "data": {
      "application/vnd.jupyter.widget-view+json": {
       "model_id": "4712e88cbadc4e7b8a69487effc6d9bb",
       "version_major": 2,
       "version_minor": 0
      },
      "text/plain": [
       "Generating train split: 0 examples [00:00, ? examples/s]"
      ]
     },
     "metadata": {},
     "output_type": "display_data"
    },
    {
     "data": {
      "application/vnd.jupyter.widget-view+json": {
       "model_id": "bccd5cb0b2ad4f6ab2fe3b65e2217da2",
       "version_major": 2,
       "version_minor": 0
      },
      "text/plain": [
       "Generating train split: 0 examples [00:00, ? examples/s]"
      ]
     },
     "metadata": {},
     "output_type": "display_data"
    },
    {
     "data": {
      "application/vnd.jupyter.widget-view+json": {
       "model_id": "b580ccc300904a4e8909c4896ebf63a4",
       "version_major": 2,
       "version_minor": 0
      },
      "text/plain": [
       "Generating train split: 0 examples [00:00, ? examples/s]"
      ]
     },
     "metadata": {},
     "output_type": "display_data"
    },
    {
     "data": {
      "application/vnd.jupyter.widget-view+json": {
       "model_id": "287739c1a4854876b926000f50f927e1",
       "version_major": 2,
       "version_minor": 0
      },
      "text/plain": [
       "Generating train split: 0 examples [00:00, ? examples/s]"
      ]
     },
     "metadata": {},
     "output_type": "display_data"
    },
    {
     "data": {
      "application/vnd.jupyter.widget-view+json": {
       "model_id": "f72c53db2d6d424eb32a8298a8948ae6",
       "version_major": 2,
       "version_minor": 0
      },
      "text/plain": [
       "Generating train split: 0 examples [00:00, ? examples/s]"
      ]
     },
     "metadata": {},
     "output_type": "display_data"
    },
    {
     "data": {
      "application/vnd.jupyter.widget-view+json": {
       "model_id": "4e58b54d06d848ab8999be8e2a5fa379",
       "version_major": 2,
       "version_minor": 0
      },
      "text/plain": [
       "Generating train split: 0 examples [00:00, ? examples/s]"
      ]
     },
     "metadata": {},
     "output_type": "display_data"
    },
    {
     "data": {
      "application/vnd.jupyter.widget-view+json": {
       "model_id": "6922c7a8c86e4382b41916bcaee236e6",
       "version_major": 2,
       "version_minor": 0
      },
      "text/plain": [
       "Generating train split: 0 examples [00:00, ? examples/s]"
      ]
     },
     "metadata": {},
     "output_type": "display_data"
    },
    {
     "data": {
      "application/vnd.jupyter.widget-view+json": {
       "model_id": "3cb8f62f333342d2bcd311e666e5c21a",
       "version_major": 2,
       "version_minor": 0
      },
      "text/plain": [
       "Generating train split: 0 examples [00:00, ? examples/s]"
      ]
     },
     "metadata": {},
     "output_type": "display_data"
    },
    {
     "data": {
      "application/vnd.jupyter.widget-view+json": {
       "model_id": "d74c6a5d8b3e4b09b90681dee3eaf938",
       "version_major": 2,
       "version_minor": 0
      },
      "text/plain": [
       "Generating train split: 0 examples [00:00, ? examples/s]"
      ]
     },
     "metadata": {},
     "output_type": "display_data"
    },
    {
     "data": {
      "application/vnd.jupyter.widget-view+json": {
       "model_id": "37506b9a334f451b925c1a420fe40298",
       "version_major": 2,
       "version_minor": 0
      },
      "text/plain": [
       "Generating train split: 0 examples [00:00, ? examples/s]"
      ]
     },
     "metadata": {},
     "output_type": "display_data"
    },
    {
     "data": {
      "application/vnd.jupyter.widget-view+json": {
       "model_id": "8f50d757823d4914ba88fea6c4d86cff",
       "version_major": 2,
       "version_minor": 0
      },
      "text/plain": [
       "Generating train split: 0 examples [00:00, ? examples/s]"
      ]
     },
     "metadata": {},
     "output_type": "display_data"
    },
    {
     "data": {
      "application/vnd.jupyter.widget-view+json": {
       "model_id": "00b67b9bbd754a94ab32f6a8c61e9c5f",
       "version_major": 2,
       "version_minor": 0
      },
      "text/plain": [
       "Generating train split: 0 examples [00:00, ? examples/s]"
      ]
     },
     "metadata": {},
     "output_type": "display_data"
    },
    {
     "data": {
      "application/vnd.jupyter.widget-view+json": {
       "model_id": "6e610948f5514cc5b253f96678636809",
       "version_major": 2,
       "version_minor": 0
      },
      "text/plain": [
       "Generating train split: 0 examples [00:00, ? examples/s]"
      ]
     },
     "metadata": {},
     "output_type": "display_data"
    },
    {
     "data": {
      "application/vnd.jupyter.widget-view+json": {
       "model_id": "993658ec3b824ce1ad779eddb972031d",
       "version_major": 2,
       "version_minor": 0
      },
      "text/plain": [
       "Generating train split: 0 examples [00:00, ? examples/s]"
      ]
     },
     "metadata": {},
     "output_type": "display_data"
    },
    {
     "data": {
      "application/vnd.jupyter.widget-view+json": {
       "model_id": "75bf14bb9ea147b2bb2590f568f3437c",
       "version_major": 2,
       "version_minor": 0
      },
      "text/plain": [
       "Generating train split: 0 examples [00:00, ? examples/s]"
      ]
     },
     "metadata": {},
     "output_type": "display_data"
    },
    {
     "data": {
      "application/vnd.jupyter.widget-view+json": {
       "model_id": "db60f3fe6e944d73a7b262b79d02601c",
       "version_major": 2,
       "version_minor": 0
      },
      "text/plain": [
       "Generating train split: 0 examples [00:00, ? examples/s]"
      ]
     },
     "metadata": {},
     "output_type": "display_data"
    },
    {
     "data": {
      "application/vnd.jupyter.widget-view+json": {
       "model_id": "af9db83c7912457ca42e679584382796",
       "version_major": 2,
       "version_minor": 0
      },
      "text/plain": [
       "Generating train split: 0 examples [00:00, ? examples/s]"
      ]
     },
     "metadata": {},
     "output_type": "display_data"
    },
    {
     "data": {
      "application/vnd.jupyter.widget-view+json": {
       "model_id": "efa640722d114fc0a3cf584ad350fd70",
       "version_major": 2,
       "version_minor": 0
      },
      "text/plain": [
       "Generating train split: 0 examples [00:00, ? examples/s]"
      ]
     },
     "metadata": {},
     "output_type": "display_data"
    },
    {
     "data": {
      "application/vnd.jupyter.widget-view+json": {
       "model_id": "756d12842c4c4d9d92eadf1ca799c52d",
       "version_major": 2,
       "version_minor": 0
      },
      "text/plain": [
       "Generating train split: 0 examples [00:00, ? examples/s]"
      ]
     },
     "metadata": {},
     "output_type": "display_data"
    },
    {
     "data": {
      "application/vnd.jupyter.widget-view+json": {
       "model_id": "7c12a3ec7df5405581b7902d418a40bf",
       "version_major": 2,
       "version_minor": 0
      },
      "text/plain": [
       "Generating train split: 0 examples [00:00, ? examples/s]"
      ]
     },
     "metadata": {},
     "output_type": "display_data"
    },
    {
     "data": {
      "application/vnd.jupyter.widget-view+json": {
       "model_id": "220755b0f4f146e49d62625a4bd804ed",
       "version_major": 2,
       "version_minor": 0
      },
      "text/plain": [
       "Generating train split: 0 examples [00:00, ? examples/s]"
      ]
     },
     "metadata": {},
     "output_type": "display_data"
    },
    {
     "data": {
      "application/vnd.jupyter.widget-view+json": {
       "model_id": "45feae85eff944579e4e3107e4bc422c",
       "version_major": 2,
       "version_minor": 0
      },
      "text/plain": [
       "Generating train split: 0 examples [00:00, ? examples/s]"
      ]
     },
     "metadata": {},
     "output_type": "display_data"
    },
    {
     "data": {
      "application/vnd.jupyter.widget-view+json": {
       "model_id": "e4e7de8d9eb044b2bdafbabe510b1077",
       "version_major": 2,
       "version_minor": 0
      },
      "text/plain": [
       "Generating train split: 0 examples [00:00, ? examples/s]"
      ]
     },
     "metadata": {},
     "output_type": "display_data"
    },
    {
     "data": {
      "application/vnd.jupyter.widget-view+json": {
       "model_id": "e6ed072d40dc434fbf9e93fe18584839",
       "version_major": 2,
       "version_minor": 0
      },
      "text/plain": [
       "Generating train split: 0 examples [00:00, ? examples/s]"
      ]
     },
     "metadata": {},
     "output_type": "display_data"
    },
    {
     "data": {
      "application/vnd.jupyter.widget-view+json": {
       "model_id": "e13a3648792141719176c48fd030c82c",
       "version_major": 2,
       "version_minor": 0
      },
      "text/plain": [
       "Generating train split: 0 examples [00:00, ? examples/s]"
      ]
     },
     "metadata": {},
     "output_type": "display_data"
    },
    {
     "data": {
      "application/vnd.jupyter.widget-view+json": {
       "model_id": "e3313a52ccbd4540b7b90b0727c1e994",
       "version_major": 2,
       "version_minor": 0
      },
      "text/plain": [
       "Generating train split: 0 examples [00:00, ? examples/s]"
      ]
     },
     "metadata": {},
     "output_type": "display_data"
    },
    {
     "data": {
      "application/vnd.jupyter.widget-view+json": {
       "model_id": "83bfa02cb2f043cdbcd2666b3fa7cffc",
       "version_major": 2,
       "version_minor": 0
      },
      "text/plain": [
       "Generating train split: 0 examples [00:00, ? examples/s]"
      ]
     },
     "metadata": {},
     "output_type": "display_data"
    },
    {
     "data": {
      "application/vnd.jupyter.widget-view+json": {
       "model_id": "1993d6e3a8b44d6b82784b0d6f151981",
       "version_major": 2,
       "version_minor": 0
      },
      "text/plain": [
       "Generating train split: 0 examples [00:00, ? examples/s]"
      ]
     },
     "metadata": {},
     "output_type": "display_data"
    },
    {
     "data": {
      "application/vnd.jupyter.widget-view+json": {
       "model_id": "6e092c3775ea438985c05001182f7268",
       "version_major": 2,
       "version_minor": 0
      },
      "text/plain": [
       "Generating train split: 0 examples [00:00, ? examples/s]"
      ]
     },
     "metadata": {},
     "output_type": "display_data"
    },
    {
     "data": {
      "application/vnd.jupyter.widget-view+json": {
       "model_id": "6f3344e5ccbd433cb7ce4b0157c0dbe5",
       "version_major": 2,
       "version_minor": 0
      },
      "text/plain": [
       "Generating train split: 0 examples [00:00, ? examples/s]"
      ]
     },
     "metadata": {},
     "output_type": "display_data"
    },
    {
     "data": {
      "application/vnd.jupyter.widget-view+json": {
       "model_id": "0c6c839be44848deb1b09d9d57d0c2c7",
       "version_major": 2,
       "version_minor": 0
      },
      "text/plain": [
       "Generating train split: 0 examples [00:00, ? examples/s]"
      ]
     },
     "metadata": {},
     "output_type": "display_data"
    },
    {
     "data": {
      "application/vnd.jupyter.widget-view+json": {
       "model_id": "69ceb6b095ff4586b9078ea7c3684290",
       "version_major": 2,
       "version_minor": 0
      },
      "text/plain": [
       "Generating train split: 0 examples [00:00, ? examples/s]"
      ]
     },
     "metadata": {},
     "output_type": "display_data"
    },
    {
     "data": {
      "application/vnd.jupyter.widget-view+json": {
       "model_id": "25a5d21b82af4cc2bec9465ab9a43d28",
       "version_major": 2,
       "version_minor": 0
      },
      "text/plain": [
       "Generating train split: 0 examples [00:00, ? examples/s]"
      ]
     },
     "metadata": {},
     "output_type": "display_data"
    },
    {
     "data": {
      "application/vnd.jupyter.widget-view+json": {
       "model_id": "b2b38af11e1948f38f0324b2ad0be9cc",
       "version_major": 2,
       "version_minor": 0
      },
      "text/plain": [
       "Generating train split: 0 examples [00:00, ? examples/s]"
      ]
     },
     "metadata": {},
     "output_type": "display_data"
    },
    {
     "data": {
      "application/vnd.jupyter.widget-view+json": {
       "model_id": "166c1eda5e0c46fbbd499cf3c4160962",
       "version_major": 2,
       "version_minor": 0
      },
      "text/plain": [
       "Generating train split: 0 examples [00:00, ? examples/s]"
      ]
     },
     "metadata": {},
     "output_type": "display_data"
    },
    {
     "data": {
      "application/vnd.jupyter.widget-view+json": {
       "model_id": "01da1063f6364732a3c1ac7216418110",
       "version_major": 2,
       "version_minor": 0
      },
      "text/plain": [
       "Generating train split: 0 examples [00:00, ? examples/s]"
      ]
     },
     "metadata": {},
     "output_type": "display_data"
    },
    {
     "data": {
      "application/vnd.jupyter.widget-view+json": {
       "model_id": "0bf947e0c7884c968db9217f81cfef71",
       "version_major": 2,
       "version_minor": 0
      },
      "text/plain": [
       "Generating train split: 0 examples [00:00, ? examples/s]"
      ]
     },
     "metadata": {},
     "output_type": "display_data"
    },
    {
     "data": {
      "application/vnd.jupyter.widget-view+json": {
       "model_id": "f94334234958440b9fd385783276f7e2",
       "version_major": 2,
       "version_minor": 0
      },
      "text/plain": [
       "Generating train split: 0 examples [00:00, ? examples/s]"
      ]
     },
     "metadata": {},
     "output_type": "display_data"
    },
    {
     "data": {
      "application/vnd.jupyter.widget-view+json": {
       "model_id": "ac1958c255f044a1b416743790b7a979",
       "version_major": 2,
       "version_minor": 0
      },
      "text/plain": [
       "Generating train split: 0 examples [00:00, ? examples/s]"
      ]
     },
     "metadata": {},
     "output_type": "display_data"
    },
    {
     "data": {
      "application/vnd.jupyter.widget-view+json": {
       "model_id": "e650cf3a4454445a86734ce2110fab35",
       "version_major": 2,
       "version_minor": 0
      },
      "text/plain": [
       "Generating train split: 0 examples [00:00, ? examples/s]"
      ]
     },
     "metadata": {},
     "output_type": "display_data"
    },
    {
     "data": {
      "application/vnd.jupyter.widget-view+json": {
       "model_id": "78d816f828c74db3b2006a1f68e612d2",
       "version_major": 2,
       "version_minor": 0
      },
      "text/plain": [
       "Generating train split: 0 examples [00:00, ? examples/s]"
      ]
     },
     "metadata": {},
     "output_type": "display_data"
    },
    {
     "data": {
      "application/vnd.jupyter.widget-view+json": {
       "model_id": "11a864248eab49df90ebb561893c0437",
       "version_major": 2,
       "version_minor": 0
      },
      "text/plain": [
       "Generating train split: 0 examples [00:00, ? examples/s]"
      ]
     },
     "metadata": {},
     "output_type": "display_data"
    },
    {
     "data": {
      "application/vnd.jupyter.widget-view+json": {
       "model_id": "169eceac1b3e4dd2b322761d99cd8267",
       "version_major": 2,
       "version_minor": 0
      },
      "text/plain": [
       "Generating train split: 0 examples [00:00, ? examples/s]"
      ]
     },
     "metadata": {},
     "output_type": "display_data"
    },
    {
     "data": {
      "application/vnd.jupyter.widget-view+json": {
       "model_id": "5b125c95fb8e49cbbd1fafb5285ac2c2",
       "version_major": 2,
       "version_minor": 0
      },
      "text/plain": [
       "Generating train split: 0 examples [00:00, ? examples/s]"
      ]
     },
     "metadata": {},
     "output_type": "display_data"
    },
    {
     "data": {
      "application/vnd.jupyter.widget-view+json": {
       "model_id": "56fd2b0bf7a34d3f9c0cbdd61d45b479",
       "version_major": 2,
       "version_minor": 0
      },
      "text/plain": [
       "Generating train split: 0 examples [00:00, ? examples/s]"
      ]
     },
     "metadata": {},
     "output_type": "display_data"
    },
    {
     "data": {
      "application/vnd.jupyter.widget-view+json": {
       "model_id": "1c5380ff96104c9c91692816bc6b5512",
       "version_major": 2,
       "version_minor": 0
      },
      "text/plain": [
       "Generating train split: 0 examples [00:00, ? examples/s]"
      ]
     },
     "metadata": {},
     "output_type": "display_data"
    },
    {
     "data": {
      "application/vnd.jupyter.widget-view+json": {
       "model_id": "b21154c70e6c4bc58aa2a27982ea7021",
       "version_major": 2,
       "version_minor": 0
      },
      "text/plain": [
       "Generating train split: 0 examples [00:00, ? examples/s]"
      ]
     },
     "metadata": {},
     "output_type": "display_data"
    },
    {
     "data": {
      "application/vnd.jupyter.widget-view+json": {
       "model_id": "cfb95587667e49e099695a84dddb55aa",
       "version_major": 2,
       "version_minor": 0
      },
      "text/plain": [
       "Generating train split: 0 examples [00:00, ? examples/s]"
      ]
     },
     "metadata": {},
     "output_type": "display_data"
    },
    {
     "data": {
      "application/vnd.jupyter.widget-view+json": {
       "model_id": "766987cece6d4706badc6515230fdfa0",
       "version_major": 2,
       "version_minor": 0
      },
      "text/plain": [
       "Generating train split: 0 examples [00:00, ? examples/s]"
      ]
     },
     "metadata": {},
     "output_type": "display_data"
    },
    {
     "data": {
      "application/vnd.jupyter.widget-view+json": {
       "model_id": "b1a6ae5226b04137bd1e4c7e4ef7635c",
       "version_major": 2,
       "version_minor": 0
      },
      "text/plain": [
       "Generating train split: 0 examples [00:00, ? examples/s]"
      ]
     },
     "metadata": {},
     "output_type": "display_data"
    },
    {
     "data": {
      "application/vnd.jupyter.widget-view+json": {
       "model_id": "8b3c11458e7546fabc77cac64ba275b1",
       "version_major": 2,
       "version_minor": 0
      },
      "text/plain": [
       "Generating train split: 0 examples [00:00, ? examples/s]"
      ]
     },
     "metadata": {},
     "output_type": "display_data"
    },
    {
     "data": {
      "application/vnd.jupyter.widget-view+json": {
       "model_id": "316ddbdd7d3f496297156f660b5e05af",
       "version_major": 2,
       "version_minor": 0
      },
      "text/plain": [
       "Generating train split: 0 examples [00:00, ? examples/s]"
      ]
     },
     "metadata": {},
     "output_type": "display_data"
    },
    {
     "data": {
      "application/vnd.jupyter.widget-view+json": {
       "model_id": "ba6410d30f7f4fe789ee6a474ce38ca1",
       "version_major": 2,
       "version_minor": 0
      },
      "text/plain": [
       "Generating train split: 0 examples [00:00, ? examples/s]"
      ]
     },
     "metadata": {},
     "output_type": "display_data"
    },
    {
     "data": {
      "application/vnd.jupyter.widget-view+json": {
       "model_id": "559285930f8c46f7bb9386e22951aa95",
       "version_major": 2,
       "version_minor": 0
      },
      "text/plain": [
       "Generating train split: 0 examples [00:00, ? examples/s]"
      ]
     },
     "metadata": {},
     "output_type": "display_data"
    },
    {
     "data": {
      "application/vnd.jupyter.widget-view+json": {
       "model_id": "31453d4ed6164a23b1d84c759a60fbf2",
       "version_major": 2,
       "version_minor": 0
      },
      "text/plain": [
       "Generating train split: 0 examples [00:00, ? examples/s]"
      ]
     },
     "metadata": {},
     "output_type": "display_data"
    },
    {
     "data": {
      "application/vnd.jupyter.widget-view+json": {
       "model_id": "570169efdc41498e89b504a8ecbad041",
       "version_major": 2,
       "version_minor": 0
      },
      "text/plain": [
       "Generating train split: 0 examples [00:00, ? examples/s]"
      ]
     },
     "metadata": {},
     "output_type": "display_data"
    },
    {
     "data": {
      "application/vnd.jupyter.widget-view+json": {
       "model_id": "4af4afe2d881401d976b5b9da4262dc5",
       "version_major": 2,
       "version_minor": 0
      },
      "text/plain": [
       "Generating train split: 0 examples [00:00, ? examples/s]"
      ]
     },
     "metadata": {},
     "output_type": "display_data"
    },
    {
     "data": {
      "application/vnd.jupyter.widget-view+json": {
       "model_id": "2935cd5996ff4ded88355d940550ca1c",
       "version_major": 2,
       "version_minor": 0
      },
      "text/plain": [
       "Generating train split: 0 examples [00:00, ? examples/s]"
      ]
     },
     "metadata": {},
     "output_type": "display_data"
    },
    {
     "data": {
      "application/vnd.jupyter.widget-view+json": {
       "model_id": "b4c2eb4b9931468496d28c0d80d44810",
       "version_major": 2,
       "version_minor": 0
      },
      "text/plain": [
       "Generating train split: 0 examples [00:00, ? examples/s]"
      ]
     },
     "metadata": {},
     "output_type": "display_data"
    },
    {
     "data": {
      "application/vnd.jupyter.widget-view+json": {
       "model_id": "9eebc8e484254119b07b4a5a22b29091",
       "version_major": 2,
       "version_minor": 0
      },
      "text/plain": [
       "Generating train split: 0 examples [00:00, ? examples/s]"
      ]
     },
     "metadata": {},
     "output_type": "display_data"
    },
    {
     "data": {
      "application/vnd.jupyter.widget-view+json": {
       "model_id": "82721e21c7444e81b47403cd2260808c",
       "version_major": 2,
       "version_minor": 0
      },
      "text/plain": [
       "Generating train split: 0 examples [00:00, ? examples/s]"
      ]
     },
     "metadata": {},
     "output_type": "display_data"
    },
    {
     "data": {
      "application/vnd.jupyter.widget-view+json": {
       "model_id": "00d85ad02784448f832d8ff8889683dd",
       "version_major": 2,
       "version_minor": 0
      },
      "text/plain": [
       "Generating train split: 0 examples [00:00, ? examples/s]"
      ]
     },
     "metadata": {},
     "output_type": "display_data"
    },
    {
     "data": {
      "application/vnd.jupyter.widget-view+json": {
       "model_id": "becb6d8ac0aa4a72b61b9faf1336cd3c",
       "version_major": 2,
       "version_minor": 0
      },
      "text/plain": [
       "Generating train split: 0 examples [00:00, ? examples/s]"
      ]
     },
     "metadata": {},
     "output_type": "display_data"
    },
    {
     "data": {
      "application/vnd.jupyter.widget-view+json": {
       "model_id": "fd63150320764bdda4ae861a38201b4f",
       "version_major": 2,
       "version_minor": 0
      },
      "text/plain": [
       "Generating train split: 0 examples [00:00, ? examples/s]"
      ]
     },
     "metadata": {},
     "output_type": "display_data"
    },
    {
     "data": {
      "application/vnd.jupyter.widget-view+json": {
       "model_id": "cda7c15b90464354bd163fdfef0ae2bd",
       "version_major": 2,
       "version_minor": 0
      },
      "text/plain": [
       "Generating train split: 0 examples [00:00, ? examples/s]"
      ]
     },
     "metadata": {},
     "output_type": "display_data"
    },
    {
     "data": {
      "application/vnd.jupyter.widget-view+json": {
       "model_id": "7379130f0e4c4bb9858b0c0ae362cd7e",
       "version_major": 2,
       "version_minor": 0
      },
      "text/plain": [
       "Generating train split: 0 examples [00:00, ? examples/s]"
      ]
     },
     "metadata": {},
     "output_type": "display_data"
    },
    {
     "data": {
      "application/vnd.jupyter.widget-view+json": {
       "model_id": "46a9315133224f989123f6621c8c2408",
       "version_major": 2,
       "version_minor": 0
      },
      "text/plain": [
       "Generating train split: 0 examples [00:00, ? examples/s]"
      ]
     },
     "metadata": {},
     "output_type": "display_data"
    },
    {
     "data": {
      "application/vnd.jupyter.widget-view+json": {
       "model_id": "76d03ce3b12b49b7ad1f1b12f3389d64",
       "version_major": 2,
       "version_minor": 0
      },
      "text/plain": [
       "Generating train split: 0 examples [00:00, ? examples/s]"
      ]
     },
     "metadata": {},
     "output_type": "display_data"
    },
    {
     "data": {
      "application/vnd.jupyter.widget-view+json": {
       "model_id": "fb68305bf69f41f9b70cd4a49868f5fb",
       "version_major": 2,
       "version_minor": 0
      },
      "text/plain": [
       "Generating train split: 0 examples [00:00, ? examples/s]"
      ]
     },
     "metadata": {},
     "output_type": "display_data"
    },
    {
     "data": {
      "application/vnd.jupyter.widget-view+json": {
       "model_id": "78b87b777ebf4449a289c4977b82cb44",
       "version_major": 2,
       "version_minor": 0
      },
      "text/plain": [
       "Generating train split: 0 examples [00:00, ? examples/s]"
      ]
     },
     "metadata": {},
     "output_type": "display_data"
    },
    {
     "data": {
      "application/vnd.jupyter.widget-view+json": {
       "model_id": "b65a6876f56f49b488e521c548129259",
       "version_major": 2,
       "version_minor": 0
      },
      "text/plain": [
       "Generating train split: 0 examples [00:00, ? examples/s]"
      ]
     },
     "metadata": {},
     "output_type": "display_data"
    },
    {
     "data": {
      "application/vnd.jupyter.widget-view+json": {
       "model_id": "6a5e079b919249a8aa3271bf940b45c1",
       "version_major": 2,
       "version_minor": 0
      },
      "text/plain": [
       "Generating train split: 0 examples [00:00, ? examples/s]"
      ]
     },
     "metadata": {},
     "output_type": "display_data"
    },
    {
     "data": {
      "application/vnd.jupyter.widget-view+json": {
       "model_id": "3d91166792c443e282dfc701cfe06196",
       "version_major": 2,
       "version_minor": 0
      },
      "text/plain": [
       "Generating train split: 0 examples [00:00, ? examples/s]"
      ]
     },
     "metadata": {},
     "output_type": "display_data"
    },
    {
     "data": {
      "application/vnd.jupyter.widget-view+json": {
       "model_id": "7c4ba17e7b6a41628d1dc4e1595a0438",
       "version_major": 2,
       "version_minor": 0
      },
      "text/plain": [
       "Generating train split: 0 examples [00:00, ? examples/s]"
      ]
     },
     "metadata": {},
     "output_type": "display_data"
    },
    {
     "data": {
      "application/vnd.jupyter.widget-view+json": {
       "model_id": "fcb28aea44fb401ab7a6eeaf59de538f",
       "version_major": 2,
       "version_minor": 0
      },
      "text/plain": [
       "Generating train split: 0 examples [00:00, ? examples/s]"
      ]
     },
     "metadata": {},
     "output_type": "display_data"
    },
    {
     "data": {
      "application/vnd.jupyter.widget-view+json": {
       "model_id": "93e0cb5dae2f4f3baba5ec948244bb04",
       "version_major": 2,
       "version_minor": 0
      },
      "text/plain": [
       "Generating train split: 0 examples [00:00, ? examples/s]"
      ]
     },
     "metadata": {},
     "output_type": "display_data"
    },
    {
     "data": {
      "application/vnd.jupyter.widget-view+json": {
       "model_id": "7a48d0e4e33641488e92c1063241c11d",
       "version_major": 2,
       "version_minor": 0
      },
      "text/plain": [
       "Generating train split: 0 examples [00:00, ? examples/s]"
      ]
     },
     "metadata": {},
     "output_type": "display_data"
    },
    {
     "data": {
      "application/vnd.jupyter.widget-view+json": {
       "model_id": "163d9b6cb85049a89102375aa9271baa",
       "version_major": 2,
       "version_minor": 0
      },
      "text/plain": [
       "Generating train split: 0 examples [00:00, ? examples/s]"
      ]
     },
     "metadata": {},
     "output_type": "display_data"
    },
    {
     "data": {
      "application/vnd.jupyter.widget-view+json": {
       "model_id": "3c5f2b1e95524b35a21987ab29d9f012",
       "version_major": 2,
       "version_minor": 0
      },
      "text/plain": [
       "Generating train split: 0 examples [00:00, ? examples/s]"
      ]
     },
     "metadata": {},
     "output_type": "display_data"
    },
    {
     "data": {
      "application/vnd.jupyter.widget-view+json": {
       "model_id": "38bae92d36624512b65c5bba0f1a3c8d",
       "version_major": 2,
       "version_minor": 0
      },
      "text/plain": [
       "Generating train split: 0 examples [00:00, ? examples/s]"
      ]
     },
     "metadata": {},
     "output_type": "display_data"
    },
    {
     "data": {
      "application/vnd.jupyter.widget-view+json": {
       "model_id": "b91750a95c534e80ba7b39c73c248999",
       "version_major": 2,
       "version_minor": 0
      },
      "text/plain": [
       "Generating train split: 0 examples [00:00, ? examples/s]"
      ]
     },
     "metadata": {},
     "output_type": "display_data"
    },
    {
     "data": {
      "application/vnd.jupyter.widget-view+json": {
       "model_id": "2e6dc40c4ede40a1b26f563795d1c017",
       "version_major": 2,
       "version_minor": 0
      },
      "text/plain": [
       "Generating train split: 0 examples [00:00, ? examples/s]"
      ]
     },
     "metadata": {},
     "output_type": "display_data"
    },
    {
     "data": {
      "application/vnd.jupyter.widget-view+json": {
       "model_id": "a79a4e13e54a4a1fa3cce3921ec0695e",
       "version_major": 2,
       "version_minor": 0
      },
      "text/plain": [
       "Generating train split: 0 examples [00:00, ? examples/s]"
      ]
     },
     "metadata": {},
     "output_type": "display_data"
    },
    {
     "data": {
      "application/vnd.jupyter.widget-view+json": {
       "model_id": "ac619345d24b4ed8b4ff50d58c301f4b",
       "version_major": 2,
       "version_minor": 0
      },
      "text/plain": [
       "Generating train split: 0 examples [00:00, ? examples/s]"
      ]
     },
     "metadata": {},
     "output_type": "display_data"
    },
    {
     "data": {
      "application/vnd.jupyter.widget-view+json": {
       "model_id": "862db2cfec794b94860edcd6d48cc9b6",
       "version_major": 2,
       "version_minor": 0
      },
      "text/plain": [
       "Generating train split: 0 examples [00:00, ? examples/s]"
      ]
     },
     "metadata": {},
     "output_type": "display_data"
    },
    {
     "data": {
      "application/vnd.jupyter.widget-view+json": {
       "model_id": "429b85746dce4e01bd3a097b0cc30683",
       "version_major": 2,
       "version_minor": 0
      },
      "text/plain": [
       "Generating train split: 0 examples [00:00, ? examples/s]"
      ]
     },
     "metadata": {},
     "output_type": "display_data"
    },
    {
     "data": {
      "application/vnd.jupyter.widget-view+json": {
       "model_id": "497cb306ad5649edafb75990a8a3be8d",
       "version_major": 2,
       "version_minor": 0
      },
      "text/plain": [
       "Generating train split: 0 examples [00:00, ? examples/s]"
      ]
     },
     "metadata": {},
     "output_type": "display_data"
    },
    {
     "data": {
      "application/vnd.jupyter.widget-view+json": {
       "model_id": "dd5b0c735f5d4966bd32a23379a12bc7",
       "version_major": 2,
       "version_minor": 0
      },
      "text/plain": [
       "Generating train split: 0 examples [00:00, ? examples/s]"
      ]
     },
     "metadata": {},
     "output_type": "display_data"
    },
    {
     "data": {
      "application/vnd.jupyter.widget-view+json": {
       "model_id": "6cf7440f9c9d44aeb5bf409ce71fee56",
       "version_major": 2,
       "version_minor": 0
      },
      "text/plain": [
       "Generating train split: 0 examples [00:00, ? examples/s]"
      ]
     },
     "metadata": {},
     "output_type": "display_data"
    },
    {
     "data": {
      "application/vnd.jupyter.widget-view+json": {
       "model_id": "9746a619273b45519255adc78e2139b4",
       "version_major": 2,
       "version_minor": 0
      },
      "text/plain": [
       "Generating train split: 0 examples [00:00, ? examples/s]"
      ]
     },
     "metadata": {},
     "output_type": "display_data"
    },
    {
     "data": {
      "application/vnd.jupyter.widget-view+json": {
       "model_id": "fd75d6562b2544f6bbb12c30c3eef964",
       "version_major": 2,
       "version_minor": 0
      },
      "text/plain": [
       "Generating train split: 0 examples [00:00, ? examples/s]"
      ]
     },
     "metadata": {},
     "output_type": "display_data"
    },
    {
     "data": {
      "application/vnd.jupyter.widget-view+json": {
       "model_id": "d90fc099583a409b8b6eab19214f430d",
       "version_major": 2,
       "version_minor": 0
      },
      "text/plain": [
       "Generating train split: 0 examples [00:00, ? examples/s]"
      ]
     },
     "metadata": {},
     "output_type": "display_data"
    },
    {
     "data": {
      "application/vnd.jupyter.widget-view+json": {
       "model_id": "223adace92bf4edd90fa1f73aa32f81b",
       "version_major": 2,
       "version_minor": 0
      },
      "text/plain": [
       "Generating train split: 0 examples [00:00, ? examples/s]"
      ]
     },
     "metadata": {},
     "output_type": "display_data"
    },
    {
     "data": {
      "application/vnd.jupyter.widget-view+json": {
       "model_id": "d4c330e8137744efbd17cf503ee6d152",
       "version_major": 2,
       "version_minor": 0
      },
      "text/plain": [
       "Generating train split: 0 examples [00:00, ? examples/s]"
      ]
     },
     "metadata": {},
     "output_type": "display_data"
    },
    {
     "data": {
      "application/vnd.jupyter.widget-view+json": {
       "model_id": "602afba90b47435c9b7eea003e0865dd",
       "version_major": 2,
       "version_minor": 0
      },
      "text/plain": [
       "Generating train split: 0 examples [00:00, ? examples/s]"
      ]
     },
     "metadata": {},
     "output_type": "display_data"
    },
    {
     "data": {
      "application/vnd.jupyter.widget-view+json": {
       "model_id": "ce73ce2849bf45c9b1ee4ce5c315a5aa",
       "version_major": 2,
       "version_minor": 0
      },
      "text/plain": [
       "Generating train split: 0 examples [00:00, ? examples/s]"
      ]
     },
     "metadata": {},
     "output_type": "display_data"
    },
    {
     "data": {
      "application/vnd.jupyter.widget-view+json": {
       "model_id": "227d9bf6083e43869a0db113d60be68f",
       "version_major": 2,
       "version_minor": 0
      },
      "text/plain": [
       "Generating train split: 0 examples [00:00, ? examples/s]"
      ]
     },
     "metadata": {},
     "output_type": "display_data"
    },
    {
     "data": {
      "application/vnd.jupyter.widget-view+json": {
       "model_id": "3a4e6df692f94b939adcc8d6e386cbee",
       "version_major": 2,
       "version_minor": 0
      },
      "text/plain": [
       "Generating train split: 0 examples [00:00, ? examples/s]"
      ]
     },
     "metadata": {},
     "output_type": "display_data"
    },
    {
     "data": {
      "application/vnd.jupyter.widget-view+json": {
       "model_id": "cea0f07810d14f35b69c80e0bafca964",
       "version_major": 2,
       "version_minor": 0
      },
      "text/plain": [
       "Generating train split: 0 examples [00:00, ? examples/s]"
      ]
     },
     "metadata": {},
     "output_type": "display_data"
    },
    {
     "data": {
      "application/vnd.jupyter.widget-view+json": {
       "model_id": "4256d990a76448719424bc562329f745",
       "version_major": 2,
       "version_minor": 0
      },
      "text/plain": [
       "Generating train split: 0 examples [00:00, ? examples/s]"
      ]
     },
     "metadata": {},
     "output_type": "display_data"
    },
    {
     "data": {
      "application/vnd.jupyter.widget-view+json": {
       "model_id": "4a7288c57736438ca9c9b35ecdb34b75",
       "version_major": 2,
       "version_minor": 0
      },
      "text/plain": [
       "Generating train split: 0 examples [00:00, ? examples/s]"
      ]
     },
     "metadata": {},
     "output_type": "display_data"
    },
    {
     "data": {
      "application/vnd.jupyter.widget-view+json": {
       "model_id": "e181b66bafea4fa6ab3da6f33f690851",
       "version_major": 2,
       "version_minor": 0
      },
      "text/plain": [
       "Generating train split: 0 examples [00:00, ? examples/s]"
      ]
     },
     "metadata": {},
     "output_type": "display_data"
    },
    {
     "data": {
      "application/vnd.jupyter.widget-view+json": {
       "model_id": "a7765f961f9748ef9054e1a7000854d9",
       "version_major": 2,
       "version_minor": 0
      },
      "text/plain": [
       "Generating train split: 0 examples [00:00, ? examples/s]"
      ]
     },
     "metadata": {},
     "output_type": "display_data"
    },
    {
     "data": {
      "application/vnd.jupyter.widget-view+json": {
       "model_id": "d03d95fed7ac48a69cf029de7b39b090",
       "version_major": 2,
       "version_minor": 0
      },
      "text/plain": [
       "Generating train split: 0 examples [00:00, ? examples/s]"
      ]
     },
     "metadata": {},
     "output_type": "display_data"
    },
    {
     "data": {
      "application/vnd.jupyter.widget-view+json": {
       "model_id": "e108c9c6db10420d8f9071db6da1cb55",
       "version_major": 2,
       "version_minor": 0
      },
      "text/plain": [
       "Generating train split: 0 examples [00:00, ? examples/s]"
      ]
     },
     "metadata": {},
     "output_type": "display_data"
    },
    {
     "data": {
      "application/vnd.jupyter.widget-view+json": {
       "model_id": "95c29f3152ef4284832aeb208645772f",
       "version_major": 2,
       "version_minor": 0
      },
      "text/plain": [
       "Generating train split: 0 examples [00:00, ? examples/s]"
      ]
     },
     "metadata": {},
     "output_type": "display_data"
    },
    {
     "data": {
      "application/vnd.jupyter.widget-view+json": {
       "model_id": "17c993b9aa3c4461bb48a996038888c0",
       "version_major": 2,
       "version_minor": 0
      },
      "text/plain": [
       "Generating train split: 0 examples [00:00, ? examples/s]"
      ]
     },
     "metadata": {},
     "output_type": "display_data"
    },
    {
     "data": {
      "application/vnd.jupyter.widget-view+json": {
       "model_id": "cc5b1375c17b49bcb5e374ef6f8d611e",
       "version_major": 2,
       "version_minor": 0
      },
      "text/plain": [
       "Generating train split: 0 examples [00:00, ? examples/s]"
      ]
     },
     "metadata": {},
     "output_type": "display_data"
    },
    {
     "data": {
      "application/vnd.jupyter.widget-view+json": {
       "model_id": "0fd24cb1c101421494d4fe62e70964af",
       "version_major": 2,
       "version_minor": 0
      },
      "text/plain": [
       "Generating train split: 0 examples [00:00, ? examples/s]"
      ]
     },
     "metadata": {},
     "output_type": "display_data"
    },
    {
     "data": {
      "application/vnd.jupyter.widget-view+json": {
       "model_id": "bf109fa6726a444ca58c5e695054d152",
       "version_major": 2,
       "version_minor": 0
      },
      "text/plain": [
       "Generating train split: 0 examples [00:00, ? examples/s]"
      ]
     },
     "metadata": {},
     "output_type": "display_data"
    },
    {
     "data": {
      "application/vnd.jupyter.widget-view+json": {
       "model_id": "c1f0e57aa4214ddc975a652a8bdb7fe2",
       "version_major": 2,
       "version_minor": 0
      },
      "text/plain": [
       "Generating train split: 0 examples [00:00, ? examples/s]"
      ]
     },
     "metadata": {},
     "output_type": "display_data"
    },
    {
     "data": {
      "application/vnd.jupyter.widget-view+json": {
       "model_id": "30159cf746ae4ba8a6d2daf8ffc3c374",
       "version_major": 2,
       "version_minor": 0
      },
      "text/plain": [
       "Generating train split: 0 examples [00:00, ? examples/s]"
      ]
     },
     "metadata": {},
     "output_type": "display_data"
    },
    {
     "data": {
      "application/vnd.jupyter.widget-view+json": {
       "model_id": "2805cdec74d24eeeb97083576f293095",
       "version_major": 2,
       "version_minor": 0
      },
      "text/plain": [
       "Generating train split: 0 examples [00:00, ? examples/s]"
      ]
     },
     "metadata": {},
     "output_type": "display_data"
    },
    {
     "data": {
      "application/vnd.jupyter.widget-view+json": {
       "model_id": "d60c270beaf6440ca3fa933dd270211a",
       "version_major": 2,
       "version_minor": 0
      },
      "text/plain": [
       "Generating train split: 0 examples [00:00, ? examples/s]"
      ]
     },
     "metadata": {},
     "output_type": "display_data"
    },
    {
     "data": {
      "application/vnd.jupyter.widget-view+json": {
       "model_id": "343c7f1896204b93b09032f498962892",
       "version_major": 2,
       "version_minor": 0
      },
      "text/plain": [
       "Generating train split: 0 examples [00:00, ? examples/s]"
      ]
     },
     "metadata": {},
     "output_type": "display_data"
    },
    {
     "data": {
      "application/vnd.jupyter.widget-view+json": {
       "model_id": "25c653b8ce464a8abfa7e359498af9af",
       "version_major": 2,
       "version_minor": 0
      },
      "text/plain": [
       "Generating train split: 0 examples [00:00, ? examples/s]"
      ]
     },
     "metadata": {},
     "output_type": "display_data"
    },
    {
     "data": {
      "application/vnd.jupyter.widget-view+json": {
       "model_id": "1ae50c204f3246c48fc5a210411bb1b2",
       "version_major": 2,
       "version_minor": 0
      },
      "text/plain": [
       "Generating train split: 0 examples [00:00, ? examples/s]"
      ]
     },
     "metadata": {},
     "output_type": "display_data"
    },
    {
     "data": {
      "application/vnd.jupyter.widget-view+json": {
       "model_id": "98f1d18cbbd640f29e1f208ffb1ae1e0",
       "version_major": 2,
       "version_minor": 0
      },
      "text/plain": [
       "Generating train split: 0 examples [00:00, ? examples/s]"
      ]
     },
     "metadata": {},
     "output_type": "display_data"
    },
    {
     "data": {
      "application/vnd.jupyter.widget-view+json": {
       "model_id": "0e89afe6faa64661afd9e3cee56f5b10",
       "version_major": 2,
       "version_minor": 0
      },
      "text/plain": [
       "Generating train split: 0 examples [00:00, ? examples/s]"
      ]
     },
     "metadata": {},
     "output_type": "display_data"
    },
    {
     "data": {
      "application/vnd.jupyter.widget-view+json": {
       "model_id": "eb772a2aa3324e46a91d60e9c1f6def0",
       "version_major": 2,
       "version_minor": 0
      },
      "text/plain": [
       "Generating train split: 0 examples [00:00, ? examples/s]"
      ]
     },
     "metadata": {},
     "output_type": "display_data"
    },
    {
     "data": {
      "application/vnd.jupyter.widget-view+json": {
       "model_id": "e98f18e1a2c144f5adee23ad674776d4",
       "version_major": 2,
       "version_minor": 0
      },
      "text/plain": [
       "Generating train split: 0 examples [00:00, ? examples/s]"
      ]
     },
     "metadata": {},
     "output_type": "display_data"
    },
    {
     "data": {
      "application/vnd.jupyter.widget-view+json": {
       "model_id": "f17b120140ef414ba64e3436842da4f8",
       "version_major": 2,
       "version_minor": 0
      },
      "text/plain": [
       "Generating train split: 0 examples [00:00, ? examples/s]"
      ]
     },
     "metadata": {},
     "output_type": "display_data"
    },
    {
     "data": {
      "application/vnd.jupyter.widget-view+json": {
       "model_id": "aa368f28c0e0489cbc24604123a73b7a",
       "version_major": 2,
       "version_minor": 0
      },
      "text/plain": [
       "Generating train split: 0 examples [00:00, ? examples/s]"
      ]
     },
     "metadata": {},
     "output_type": "display_data"
    },
    {
     "data": {
      "application/vnd.jupyter.widget-view+json": {
       "model_id": "e11d27b8c6604ef09be51bdf6ee2a00a",
       "version_major": 2,
       "version_minor": 0
      },
      "text/plain": [
       "Generating train split: 0 examples [00:00, ? examples/s]"
      ]
     },
     "metadata": {},
     "output_type": "display_data"
    },
    {
     "data": {
      "application/vnd.jupyter.widget-view+json": {
       "model_id": "d40e3341aa9d4cee92f772fbad5e5c0c",
       "version_major": 2,
       "version_minor": 0
      },
      "text/plain": [
       "Generating train split: 0 examples [00:00, ? examples/s]"
      ]
     },
     "metadata": {},
     "output_type": "display_data"
    },
    {
     "data": {
      "application/vnd.jupyter.widget-view+json": {
       "model_id": "18db687a288b4f2bb7e9aa475042ffb2",
       "version_major": 2,
       "version_minor": 0
      },
      "text/plain": [
       "Generating train split: 0 examples [00:00, ? examples/s]"
      ]
     },
     "metadata": {},
     "output_type": "display_data"
    },
    {
     "data": {
      "application/vnd.jupyter.widget-view+json": {
       "model_id": "8c0b99f635834bb78406765e7d685cc8",
       "version_major": 2,
       "version_minor": 0
      },
      "text/plain": [
       "Generating train split: 0 examples [00:00, ? examples/s]"
      ]
     },
     "metadata": {},
     "output_type": "display_data"
    },
    {
     "data": {
      "application/vnd.jupyter.widget-view+json": {
       "model_id": "ffa69dad7aed443f852ae2eda71c6169",
       "version_major": 2,
       "version_minor": 0
      },
      "text/plain": [
       "Generating train split: 0 examples [00:00, ? examples/s]"
      ]
     },
     "metadata": {},
     "output_type": "display_data"
    },
    {
     "data": {
      "application/vnd.jupyter.widget-view+json": {
       "model_id": "a74e0a3293c8473e8a92ae696249e4b0",
       "version_major": 2,
       "version_minor": 0
      },
      "text/plain": [
       "Generating train split: 0 examples [00:00, ? examples/s]"
      ]
     },
     "metadata": {},
     "output_type": "display_data"
    },
    {
     "data": {
      "application/vnd.jupyter.widget-view+json": {
       "model_id": "288141b5ef9744dfb4b6be9177219980",
       "version_major": 2,
       "version_minor": 0
      },
      "text/plain": [
       "Generating train split: 0 examples [00:00, ? examples/s]"
      ]
     },
     "metadata": {},
     "output_type": "display_data"
    },
    {
     "data": {
      "application/vnd.jupyter.widget-view+json": {
       "model_id": "9c9c9f74c92e4b5eb910209fbc4f1734",
       "version_major": 2,
       "version_minor": 0
      },
      "text/plain": [
       "Generating train split: 0 examples [00:00, ? examples/s]"
      ]
     },
     "metadata": {},
     "output_type": "display_data"
    },
    {
     "data": {
      "application/vnd.jupyter.widget-view+json": {
       "model_id": "770e3c7dbb8749e491b0ba789a5ee897",
       "version_major": 2,
       "version_minor": 0
      },
      "text/plain": [
       "Generating train split: 0 examples [00:00, ? examples/s]"
      ]
     },
     "metadata": {},
     "output_type": "display_data"
    },
    {
     "data": {
      "application/vnd.jupyter.widget-view+json": {
       "model_id": "c2427b2cc7054b54a6b1cbd614a40cd2",
       "version_major": 2,
       "version_minor": 0
      },
      "text/plain": [
       "Generating train split: 0 examples [00:00, ? examples/s]"
      ]
     },
     "metadata": {},
     "output_type": "display_data"
    },
    {
     "data": {
      "application/vnd.jupyter.widget-view+json": {
       "model_id": "0fa545eec1734550a18eea6161022bbb",
       "version_major": 2,
       "version_minor": 0
      },
      "text/plain": [
       "Generating train split: 0 examples [00:00, ? examples/s]"
      ]
     },
     "metadata": {},
     "output_type": "display_data"
    },
    {
     "data": {
      "application/vnd.jupyter.widget-view+json": {
       "model_id": "23b7175338564cfd88a31b0eb5d43a1f",
       "version_major": 2,
       "version_minor": 0
      },
      "text/plain": [
       "Generating train split: 0 examples [00:00, ? examples/s]"
      ]
     },
     "metadata": {},
     "output_type": "display_data"
    },
    {
     "data": {
      "application/vnd.jupyter.widget-view+json": {
       "model_id": "1b1a39b1b14e489a86dd8966b942c9b4",
       "version_major": 2,
       "version_minor": 0
      },
      "text/plain": [
       "Generating train split: 0 examples [00:00, ? examples/s]"
      ]
     },
     "metadata": {},
     "output_type": "display_data"
    },
    {
     "data": {
      "application/vnd.jupyter.widget-view+json": {
       "model_id": "3bf2e4a022264cb1bed1f199289b78c2",
       "version_major": 2,
       "version_minor": 0
      },
      "text/plain": [
       "Generating train split: 0 examples [00:00, ? examples/s]"
      ]
     },
     "metadata": {},
     "output_type": "display_data"
    },
    {
     "data": {
      "application/vnd.jupyter.widget-view+json": {
       "model_id": "24172cc99c8a43c4b4d345218af49e29",
       "version_major": 2,
       "version_minor": 0
      },
      "text/plain": [
       "Generating train split: 0 examples [00:00, ? examples/s]"
      ]
     },
     "metadata": {},
     "output_type": "display_data"
    },
    {
     "data": {
      "application/vnd.jupyter.widget-view+json": {
       "model_id": "1227481bf1fc40b5b9c2829533bb2acd",
       "version_major": 2,
       "version_minor": 0
      },
      "text/plain": [
       "Generating train split: 0 examples [00:00, ? examples/s]"
      ]
     },
     "metadata": {},
     "output_type": "display_data"
    },
    {
     "data": {
      "application/vnd.jupyter.widget-view+json": {
       "model_id": "1ac77e3908e04f45aae6e12c7dd6d65b",
       "version_major": 2,
       "version_minor": 0
      },
      "text/plain": [
       "Generating train split: 0 examples [00:00, ? examples/s]"
      ]
     },
     "metadata": {},
     "output_type": "display_data"
    },
    {
     "data": {
      "application/vnd.jupyter.widget-view+json": {
       "model_id": "ba77a1957387470097a4121050e27c84",
       "version_major": 2,
       "version_minor": 0
      },
      "text/plain": [
       "Generating train split: 0 examples [00:00, ? examples/s]"
      ]
     },
     "metadata": {},
     "output_type": "display_data"
    },
    {
     "data": {
      "application/vnd.jupyter.widget-view+json": {
       "model_id": "98c24f90464f4e8d8da761ee2b312d9b",
       "version_major": 2,
       "version_minor": 0
      },
      "text/plain": [
       "Generating train split: 0 examples [00:00, ? examples/s]"
      ]
     },
     "metadata": {},
     "output_type": "display_data"
    },
    {
     "data": {
      "application/vnd.jupyter.widget-view+json": {
       "model_id": "bf7cea0c98514c498cf51337efe75592",
       "version_major": 2,
       "version_minor": 0
      },
      "text/plain": [
       "Generating train split: 0 examples [00:00, ? examples/s]"
      ]
     },
     "metadata": {},
     "output_type": "display_data"
    },
    {
     "data": {
      "application/vnd.jupyter.widget-view+json": {
       "model_id": "0c2cc81e3a6b4c379b6a4fc9120fd06e",
       "version_major": 2,
       "version_minor": 0
      },
      "text/plain": [
       "Generating train split: 0 examples [00:00, ? examples/s]"
      ]
     },
     "metadata": {},
     "output_type": "display_data"
    },
    {
     "data": {
      "application/vnd.jupyter.widget-view+json": {
       "model_id": "e538f4e47876443db12a471e18a396ee",
       "version_major": 2,
       "version_minor": 0
      },
      "text/plain": [
       "Generating train split: 0 examples [00:00, ? examples/s]"
      ]
     },
     "metadata": {},
     "output_type": "display_data"
    },
    {
     "data": {
      "application/vnd.jupyter.widget-view+json": {
       "model_id": "80a3e878003c454a8a26d7e48fb7c1cc",
       "version_major": 2,
       "version_minor": 0
      },
      "text/plain": [
       "Generating train split: 0 examples [00:00, ? examples/s]"
      ]
     },
     "metadata": {},
     "output_type": "display_data"
    },
    {
     "data": {
      "application/vnd.jupyter.widget-view+json": {
       "model_id": "5d390b5a0c7d4e099189ef544e26440d",
       "version_major": 2,
       "version_minor": 0
      },
      "text/plain": [
       "Generating train split: 0 examples [00:00, ? examples/s]"
      ]
     },
     "metadata": {},
     "output_type": "display_data"
    },
    {
     "data": {
      "application/vnd.jupyter.widget-view+json": {
       "model_id": "7110cbbf177e4bfcb092541ebe6306c4",
       "version_major": 2,
       "version_minor": 0
      },
      "text/plain": [
       "Generating train split: 0 examples [00:00, ? examples/s]"
      ]
     },
     "metadata": {},
     "output_type": "display_data"
    },
    {
     "data": {
      "application/vnd.jupyter.widget-view+json": {
       "model_id": "9f7dcd12292a4e16acc42a4f9c633caf",
       "version_major": 2,
       "version_minor": 0
      },
      "text/plain": [
       "Generating train split: 0 examples [00:00, ? examples/s]"
      ]
     },
     "metadata": {},
     "output_type": "display_data"
    },
    {
     "data": {
      "application/vnd.jupyter.widget-view+json": {
       "model_id": "e248f9addd2349809c9959ab2a3fb591",
       "version_major": 2,
       "version_minor": 0
      },
      "text/plain": [
       "Generating train split: 0 examples [00:00, ? examples/s]"
      ]
     },
     "metadata": {},
     "output_type": "display_data"
    },
    {
     "data": {
      "application/vnd.jupyter.widget-view+json": {
       "model_id": "82418377a95f4cc6b0a4e2c9835fe46f",
       "version_major": 2,
       "version_minor": 0
      },
      "text/plain": [
       "Generating train split: 0 examples [00:00, ? examples/s]"
      ]
     },
     "metadata": {},
     "output_type": "display_data"
    },
    {
     "data": {
      "application/vnd.jupyter.widget-view+json": {
       "model_id": "755090e11ccf42a9b052c174dd4be7af",
       "version_major": 2,
       "version_minor": 0
      },
      "text/plain": [
       "Generating train split: 0 examples [00:00, ? examples/s]"
      ]
     },
     "metadata": {},
     "output_type": "display_data"
    },
    {
     "data": {
      "application/vnd.jupyter.widget-view+json": {
       "model_id": "471ab23800804ab68e763a2b94b324dd",
       "version_major": 2,
       "version_minor": 0
      },
      "text/plain": [
       "Generating train split: 0 examples [00:00, ? examples/s]"
      ]
     },
     "metadata": {},
     "output_type": "display_data"
    },
    {
     "data": {
      "application/vnd.jupyter.widget-view+json": {
       "model_id": "cc412cc33c1542d8846d47d7cb710e1b",
       "version_major": 2,
       "version_minor": 0
      },
      "text/plain": [
       "Generating train split: 0 examples [00:00, ? examples/s]"
      ]
     },
     "metadata": {},
     "output_type": "display_data"
    },
    {
     "data": {
      "application/vnd.jupyter.widget-view+json": {
       "model_id": "4f1d0a01122044999f97dbe565b9bf78",
       "version_major": 2,
       "version_minor": 0
      },
      "text/plain": [
       "Generating train split: 0 examples [00:00, ? examples/s]"
      ]
     },
     "metadata": {},
     "output_type": "display_data"
    },
    {
     "data": {
      "application/vnd.jupyter.widget-view+json": {
       "model_id": "35a3d59b5b1b4c35a64d6f0a06a3496c",
       "version_major": 2,
       "version_minor": 0
      },
      "text/plain": [
       "Generating train split: 0 examples [00:00, ? examples/s]"
      ]
     },
     "metadata": {},
     "output_type": "display_data"
    },
    {
     "data": {
      "application/vnd.jupyter.widget-view+json": {
       "model_id": "78610f24b8d74950b8be86246a346309",
       "version_major": 2,
       "version_minor": 0
      },
      "text/plain": [
       "Generating train split: 0 examples [00:00, ? examples/s]"
      ]
     },
     "metadata": {},
     "output_type": "display_data"
    },
    {
     "data": {
      "application/vnd.jupyter.widget-view+json": {
       "model_id": "d919f732e3414c6e9df97dbbbbf08f87",
       "version_major": 2,
       "version_minor": 0
      },
      "text/plain": [
       "Generating train split: 0 examples [00:00, ? examples/s]"
      ]
     },
     "metadata": {},
     "output_type": "display_data"
    },
    {
     "data": {
      "application/vnd.jupyter.widget-view+json": {
       "model_id": "06c21cd3c07244b2841c5840466bf57f",
       "version_major": 2,
       "version_minor": 0
      },
      "text/plain": [
       "Generating train split: 0 examples [00:00, ? examples/s]"
      ]
     },
     "metadata": {},
     "output_type": "display_data"
    },
    {
     "data": {
      "application/vnd.jupyter.widget-view+json": {
       "model_id": "b9ffbe00e43b44d8a98d04e886ccb36d",
       "version_major": 2,
       "version_minor": 0
      },
      "text/plain": [
       "Generating train split: 0 examples [00:00, ? examples/s]"
      ]
     },
     "metadata": {},
     "output_type": "display_data"
    },
    {
     "data": {
      "application/vnd.jupyter.widget-view+json": {
       "model_id": "c56205e8932d4cfe9486c403af79d61f",
       "version_major": 2,
       "version_minor": 0
      },
      "text/plain": [
       "Generating train split: 0 examples [00:00, ? examples/s]"
      ]
     },
     "metadata": {},
     "output_type": "display_data"
    },
    {
     "data": {
      "application/vnd.jupyter.widget-view+json": {
       "model_id": "bbfbb9f6b76a469aba2a331cd2960928",
       "version_major": 2,
       "version_minor": 0
      },
      "text/plain": [
       "Generating train split: 0 examples [00:00, ? examples/s]"
      ]
     },
     "metadata": {},
     "output_type": "display_data"
    },
    {
     "data": {
      "application/vnd.jupyter.widget-view+json": {
       "model_id": "54d356cab6d143799520ff5e0cc3d4d6",
       "version_major": 2,
       "version_minor": 0
      },
      "text/plain": [
       "Generating train split: 0 examples [00:00, ? examples/s]"
      ]
     },
     "metadata": {},
     "output_type": "display_data"
    },
    {
     "data": {
      "application/vnd.jupyter.widget-view+json": {
       "model_id": "972f024fee7f462491abb263231d6a9b",
       "version_major": 2,
       "version_minor": 0
      },
      "text/plain": [
       "Generating train split: 0 examples [00:00, ? examples/s]"
      ]
     },
     "metadata": {},
     "output_type": "display_data"
    },
    {
     "data": {
      "application/vnd.jupyter.widget-view+json": {
       "model_id": "00de3e34d8644cb5988918165ecbf3eb",
       "version_major": 2,
       "version_minor": 0
      },
      "text/plain": [
       "Generating train split: 0 examples [00:00, ? examples/s]"
      ]
     },
     "metadata": {},
     "output_type": "display_data"
    },
    {
     "data": {
      "application/vnd.jupyter.widget-view+json": {
       "model_id": "4d96f2506c054933989997f0759c4a62",
       "version_major": 2,
       "version_minor": 0
      },
      "text/plain": [
       "Generating train split: 0 examples [00:00, ? examples/s]"
      ]
     },
     "metadata": {},
     "output_type": "display_data"
    },
    {
     "data": {
      "application/vnd.jupyter.widget-view+json": {
       "model_id": "751e6c39374544bcaaae389d9b422f09",
       "version_major": 2,
       "version_minor": 0
      },
      "text/plain": [
       "Generating train split: 0 examples [00:00, ? examples/s]"
      ]
     },
     "metadata": {},
     "output_type": "display_data"
    },
    {
     "data": {
      "application/vnd.jupyter.widget-view+json": {
       "model_id": "e2b57751aa9547bebb2d81134b84ff7b",
       "version_major": 2,
       "version_minor": 0
      },
      "text/plain": [
       "Generating train split: 0 examples [00:00, ? examples/s]"
      ]
     },
     "metadata": {},
     "output_type": "display_data"
    },
    {
     "data": {
      "application/vnd.jupyter.widget-view+json": {
       "model_id": "c7469159669c45a1a6cbe32e18fa59b2",
       "version_major": 2,
       "version_minor": 0
      },
      "text/plain": [
       "Generating train split: 0 examples [00:00, ? examples/s]"
      ]
     },
     "metadata": {},
     "output_type": "display_data"
    },
    {
     "data": {
      "application/vnd.jupyter.widget-view+json": {
       "model_id": "13761194b1584a86995fb3490b0c86c9",
       "version_major": 2,
       "version_minor": 0
      },
      "text/plain": [
       "Generating train split: 0 examples [00:00, ? examples/s]"
      ]
     },
     "metadata": {},
     "output_type": "display_data"
    },
    {
     "data": {
      "application/vnd.jupyter.widget-view+json": {
       "model_id": "4bbdb33361504f8bb945d45f59984089",
       "version_major": 2,
       "version_minor": 0
      },
      "text/plain": [
       "Generating train split: 0 examples [00:00, ? examples/s]"
      ]
     },
     "metadata": {},
     "output_type": "display_data"
    },
    {
     "data": {
      "application/vnd.jupyter.widget-view+json": {
       "model_id": "aadfc0f1738840509078715108e64078",
       "version_major": 2,
       "version_minor": 0
      },
      "text/plain": [
       "Generating train split: 0 examples [00:00, ? examples/s]"
      ]
     },
     "metadata": {},
     "output_type": "display_data"
    },
    {
     "data": {
      "application/vnd.jupyter.widget-view+json": {
       "model_id": "8763a9b68c4b41aa94d9966c55348235",
       "version_major": 2,
       "version_minor": 0
      },
      "text/plain": [
       "Generating train split: 0 examples [00:00, ? examples/s]"
      ]
     },
     "metadata": {},
     "output_type": "display_data"
    },
    {
     "data": {
      "application/vnd.jupyter.widget-view+json": {
       "model_id": "40c6669577bf46c5ba40edbc93967672",
       "version_major": 2,
       "version_minor": 0
      },
      "text/plain": [
       "Generating train split: 0 examples [00:00, ? examples/s]"
      ]
     },
     "metadata": {},
     "output_type": "display_data"
    },
    {
     "data": {
      "application/vnd.jupyter.widget-view+json": {
       "model_id": "7164f8b5929f478e89707fea225468cb",
       "version_major": 2,
       "version_minor": 0
      },
      "text/plain": [
       "Generating train split: 0 examples [00:00, ? examples/s]"
      ]
     },
     "metadata": {},
     "output_type": "display_data"
    },
    {
     "data": {
      "application/vnd.jupyter.widget-view+json": {
       "model_id": "d346f16f3f51409ca622f43061fd0d85",
       "version_major": 2,
       "version_minor": 0
      },
      "text/plain": [
       "Generating train split: 0 examples [00:00, ? examples/s]"
      ]
     },
     "metadata": {},
     "output_type": "display_data"
    },
    {
     "data": {
      "application/vnd.jupyter.widget-view+json": {
       "model_id": "5fc5ecd8959a4743b4325857788ac8ea",
       "version_major": 2,
       "version_minor": 0
      },
      "text/plain": [
       "Generating train split: 0 examples [00:00, ? examples/s]"
      ]
     },
     "metadata": {},
     "output_type": "display_data"
    },
    {
     "data": {
      "application/vnd.jupyter.widget-view+json": {
       "model_id": "b08accae839b4fbfa07392d933312c43",
       "version_major": 2,
       "version_minor": 0
      },
      "text/plain": [
       "Generating train split: 0 examples [00:00, ? examples/s]"
      ]
     },
     "metadata": {},
     "output_type": "display_data"
    },
    {
     "data": {
      "application/vnd.jupyter.widget-view+json": {
       "model_id": "edcb141be94b4e619e1e9b7c49f119de",
       "version_major": 2,
       "version_minor": 0
      },
      "text/plain": [
       "Generating train split: 0 examples [00:00, ? examples/s]"
      ]
     },
     "metadata": {},
     "output_type": "display_data"
    },
    {
     "data": {
      "application/vnd.jupyter.widget-view+json": {
       "model_id": "d5bd187203814057814c509fcdb1493c",
       "version_major": 2,
       "version_minor": 0
      },
      "text/plain": [
       "Generating train split: 0 examples [00:00, ? examples/s]"
      ]
     },
     "metadata": {},
     "output_type": "display_data"
    },
    {
     "data": {
      "application/vnd.jupyter.widget-view+json": {
       "model_id": "45befefcdd854100a2c8204e145e168f",
       "version_major": 2,
       "version_minor": 0
      },
      "text/plain": [
       "Generating train split: 0 examples [00:00, ? examples/s]"
      ]
     },
     "metadata": {},
     "output_type": "display_data"
    },
    {
     "data": {
      "application/vnd.jupyter.widget-view+json": {
       "model_id": "0b57b77fcb43472bb31994c0d9798c69",
       "version_major": 2,
       "version_minor": 0
      },
      "text/plain": [
       "Generating train split: 0 examples [00:00, ? examples/s]"
      ]
     },
     "metadata": {},
     "output_type": "display_data"
    },
    {
     "data": {
      "application/vnd.jupyter.widget-view+json": {
       "model_id": "11df3b200aa444feb5306a1bcf3ebd46",
       "version_major": 2,
       "version_minor": 0
      },
      "text/plain": [
       "Generating train split: 0 examples [00:00, ? examples/s]"
      ]
     },
     "metadata": {},
     "output_type": "display_data"
    },
    {
     "data": {
      "application/vnd.jupyter.widget-view+json": {
       "model_id": "29cb7086b8024ded943d7d262a7d9d54",
       "version_major": 2,
       "version_minor": 0
      },
      "text/plain": [
       "Generating train split: 0 examples [00:00, ? examples/s]"
      ]
     },
     "metadata": {},
     "output_type": "display_data"
    },
    {
     "data": {
      "application/vnd.jupyter.widget-view+json": {
       "model_id": "1575c050aead4c20bd948c69fb448f4f",
       "version_major": 2,
       "version_minor": 0
      },
      "text/plain": [
       "Generating train split: 0 examples [00:00, ? examples/s]"
      ]
     },
     "metadata": {},
     "output_type": "display_data"
    },
    {
     "data": {
      "application/vnd.jupyter.widget-view+json": {
       "model_id": "8e021063a4944035bb72f1f7cdf49cbe",
       "version_major": 2,
       "version_minor": 0
      },
      "text/plain": [
       "Generating train split: 0 examples [00:00, ? examples/s]"
      ]
     },
     "metadata": {},
     "output_type": "display_data"
    },
    {
     "data": {
      "application/vnd.jupyter.widget-view+json": {
       "model_id": "92a57ccc942743bf958a030669026781",
       "version_major": 2,
       "version_minor": 0
      },
      "text/plain": [
       "Generating train split: 0 examples [00:00, ? examples/s]"
      ]
     },
     "metadata": {},
     "output_type": "display_data"
    },
    {
     "data": {
      "application/vnd.jupyter.widget-view+json": {
       "model_id": "231a498b1f35497da5a46be25b7493c2",
       "version_major": 2,
       "version_minor": 0
      },
      "text/plain": [
       "Generating train split: 0 examples [00:00, ? examples/s]"
      ]
     },
     "metadata": {},
     "output_type": "display_data"
    },
    {
     "data": {
      "application/vnd.jupyter.widget-view+json": {
       "model_id": "c81ad7bd3ac54c39988b0285a1ea9403",
       "version_major": 2,
       "version_minor": 0
      },
      "text/plain": [
       "Generating train split: 0 examples [00:00, ? examples/s]"
      ]
     },
     "metadata": {},
     "output_type": "display_data"
    },
    {
     "data": {
      "application/vnd.jupyter.widget-view+json": {
       "model_id": "f8fc55943f1740489ce218339ea0f04e",
       "version_major": 2,
       "version_minor": 0
      },
      "text/plain": [
       "Generating train split: 0 examples [00:00, ? examples/s]"
      ]
     },
     "metadata": {},
     "output_type": "display_data"
    },
    {
     "data": {
      "application/vnd.jupyter.widget-view+json": {
       "model_id": "5f73b1620a0a459aabdc84ca41942ad8",
       "version_major": 2,
       "version_minor": 0
      },
      "text/plain": [
       "Generating train split: 0 examples [00:00, ? examples/s]"
      ]
     },
     "metadata": {},
     "output_type": "display_data"
    },
    {
     "data": {
      "application/vnd.jupyter.widget-view+json": {
       "model_id": "9d07abab1b6348889da68820df6d6b5f",
       "version_major": 2,
       "version_minor": 0
      },
      "text/plain": [
       "Generating train split: 0 examples [00:00, ? examples/s]"
      ]
     },
     "metadata": {},
     "output_type": "display_data"
    },
    {
     "data": {
      "application/vnd.jupyter.widget-view+json": {
       "model_id": "488b2502596943fcb5b08d1ca2571dc2",
       "version_major": 2,
       "version_minor": 0
      },
      "text/plain": [
       "Generating train split: 0 examples [00:00, ? examples/s]"
      ]
     },
     "metadata": {},
     "output_type": "display_data"
    },
    {
     "data": {
      "application/vnd.jupyter.widget-view+json": {
       "model_id": "329ea20a6f3a414299978ac8e2820d2f",
       "version_major": 2,
       "version_minor": 0
      },
      "text/plain": [
       "Generating train split: 0 examples [00:00, ? examples/s]"
      ]
     },
     "metadata": {},
     "output_type": "display_data"
    },
    {
     "data": {
      "application/vnd.jupyter.widget-view+json": {
       "model_id": "cd66d28f8eda4eee894d0cb3a1800e8a",
       "version_major": 2,
       "version_minor": 0
      },
      "text/plain": [
       "Generating train split: 0 examples [00:00, ? examples/s]"
      ]
     },
     "metadata": {},
     "output_type": "display_data"
    },
    {
     "data": {
      "application/vnd.jupyter.widget-view+json": {
       "model_id": "a5c833c393a8419dbd2840684b885813",
       "version_major": 2,
       "version_minor": 0
      },
      "text/plain": [
       "Generating train split: 0 examples [00:00, ? examples/s]"
      ]
     },
     "metadata": {},
     "output_type": "display_data"
    },
    {
     "data": {
      "application/vnd.jupyter.widget-view+json": {
       "model_id": "6e294012acae449a828721633a4261c6",
       "version_major": 2,
       "version_minor": 0
      },
      "text/plain": [
       "Generating train split: 0 examples [00:00, ? examples/s]"
      ]
     },
     "metadata": {},
     "output_type": "display_data"
    },
    {
     "data": {
      "application/vnd.jupyter.widget-view+json": {
       "model_id": "fbff2ad23f9b4473b60af30acb89f125",
       "version_major": 2,
       "version_minor": 0
      },
      "text/plain": [
       "Generating train split: 0 examples [00:00, ? examples/s]"
      ]
     },
     "metadata": {},
     "output_type": "display_data"
    },
    {
     "data": {
      "application/vnd.jupyter.widget-view+json": {
       "model_id": "e38038dcc0ed4c9390394bfc12d9ef48",
       "version_major": 2,
       "version_minor": 0
      },
      "text/plain": [
       "Generating train split: 0 examples [00:00, ? examples/s]"
      ]
     },
     "metadata": {},
     "output_type": "display_data"
    },
    {
     "data": {
      "application/vnd.jupyter.widget-view+json": {
       "model_id": "ba802d35a82341da90108b8c7b5a0727",
       "version_major": 2,
       "version_minor": 0
      },
      "text/plain": [
       "Generating train split: 0 examples [00:00, ? examples/s]"
      ]
     },
     "metadata": {},
     "output_type": "display_data"
    },
    {
     "data": {
      "application/vnd.jupyter.widget-view+json": {
       "model_id": "d3bcacaed33e4a1081fff9f1127b34fa",
       "version_major": 2,
       "version_minor": 0
      },
      "text/plain": [
       "Generating train split: 0 examples [00:00, ? examples/s]"
      ]
     },
     "metadata": {},
     "output_type": "display_data"
    },
    {
     "data": {
      "application/vnd.jupyter.widget-view+json": {
       "model_id": "cac1b381de6a40e9b9cb0c91cb62f39b",
       "version_major": 2,
       "version_minor": 0
      },
      "text/plain": [
       "Generating train split: 0 examples [00:00, ? examples/s]"
      ]
     },
     "metadata": {},
     "output_type": "display_data"
    },
    {
     "data": {
      "application/vnd.jupyter.widget-view+json": {
       "model_id": "47f60421be4548a884e9df2f171039e2",
       "version_major": 2,
       "version_minor": 0
      },
      "text/plain": [
       "Generating train split: 0 examples [00:00, ? examples/s]"
      ]
     },
     "metadata": {},
     "output_type": "display_data"
    },
    {
     "data": {
      "application/vnd.jupyter.widget-view+json": {
       "model_id": "a4e6bf0a6cbe458d8994ac7bebb61e77",
       "version_major": 2,
       "version_minor": 0
      },
      "text/plain": [
       "Generating train split: 0 examples [00:00, ? examples/s]"
      ]
     },
     "metadata": {},
     "output_type": "display_data"
    },
    {
     "data": {
      "application/vnd.jupyter.widget-view+json": {
       "model_id": "6306e0e44b57476e926c8d68a13f93a8",
       "version_major": 2,
       "version_minor": 0
      },
      "text/plain": [
       "Generating train split: 0 examples [00:00, ? examples/s]"
      ]
     },
     "metadata": {},
     "output_type": "display_data"
    },
    {
     "data": {
      "application/vnd.jupyter.widget-view+json": {
       "model_id": "5e3dec97d34b4c7c81fc3c5ddab0d100",
       "version_major": 2,
       "version_minor": 0
      },
      "text/plain": [
       "Generating train split: 0 examples [00:00, ? examples/s]"
      ]
     },
     "metadata": {},
     "output_type": "display_data"
    },
    {
     "data": {
      "application/vnd.jupyter.widget-view+json": {
       "model_id": "275c9f44aa7445f19a54893cd28ef642",
       "version_major": 2,
       "version_minor": 0
      },
      "text/plain": [
       "Generating train split: 0 examples [00:00, ? examples/s]"
      ]
     },
     "metadata": {},
     "output_type": "display_data"
    },
    {
     "data": {
      "application/vnd.jupyter.widget-view+json": {
       "model_id": "c0a3e0b0da4d417bb047dbfbb7e6478e",
       "version_major": 2,
       "version_minor": 0
      },
      "text/plain": [
       "Generating train split: 0 examples [00:00, ? examples/s]"
      ]
     },
     "metadata": {},
     "output_type": "display_data"
    },
    {
     "data": {
      "application/vnd.jupyter.widget-view+json": {
       "model_id": "42f7a8bd702240fd8ae838131bf59479",
       "version_major": 2,
       "version_minor": 0
      },
      "text/plain": [
       "Generating train split: 0 examples [00:00, ? examples/s]"
      ]
     },
     "metadata": {},
     "output_type": "display_data"
    },
    {
     "data": {
      "application/vnd.jupyter.widget-view+json": {
       "model_id": "01ed580b867f44b48aad0dc6a15622c2",
       "version_major": 2,
       "version_minor": 0
      },
      "text/plain": [
       "Generating train split: 0 examples [00:00, ? examples/s]"
      ]
     },
     "metadata": {},
     "output_type": "display_data"
    },
    {
     "data": {
      "application/vnd.jupyter.widget-view+json": {
       "model_id": "9ecd9a3b4c5a459e974d107df507dbb6",
       "version_major": 2,
       "version_minor": 0
      },
      "text/plain": [
       "Generating train split: 0 examples [00:00, ? examples/s]"
      ]
     },
     "metadata": {},
     "output_type": "display_data"
    },
    {
     "data": {
      "application/vnd.jupyter.widget-view+json": {
       "model_id": "e33c6c43d5e742ba82dba4c4bf904ddc",
       "version_major": 2,
       "version_minor": 0
      },
      "text/plain": [
       "Generating train split: 0 examples [00:00, ? examples/s]"
      ]
     },
     "metadata": {},
     "output_type": "display_data"
    },
    {
     "data": {
      "application/vnd.jupyter.widget-view+json": {
       "model_id": "717dde67f2074fbf9cb93dbad70c7e7e",
       "version_major": 2,
       "version_minor": 0
      },
      "text/plain": [
       "Generating train split: 0 examples [00:00, ? examples/s]"
      ]
     },
     "metadata": {},
     "output_type": "display_data"
    },
    {
     "data": {
      "application/vnd.jupyter.widget-view+json": {
       "model_id": "edbb9ae307104afe9167629392ac81f0",
       "version_major": 2,
       "version_minor": 0
      },
      "text/plain": [
       "Generating train split: 0 examples [00:00, ? examples/s]"
      ]
     },
     "metadata": {},
     "output_type": "display_data"
    },
    {
     "data": {
      "application/vnd.jupyter.widget-view+json": {
       "model_id": "dd256f90fc1643d182dd8068d93ee9a5",
       "version_major": 2,
       "version_minor": 0
      },
      "text/plain": [
       "Generating train split: 0 examples [00:00, ? examples/s]"
      ]
     },
     "metadata": {},
     "output_type": "display_data"
    },
    {
     "data": {
      "application/vnd.jupyter.widget-view+json": {
       "model_id": "6525648c785243888b7ddda5561d739c",
       "version_major": 2,
       "version_minor": 0
      },
      "text/plain": [
       "Generating train split: 0 examples [00:00, ? examples/s]"
      ]
     },
     "metadata": {},
     "output_type": "display_data"
    },
    {
     "data": {
      "application/vnd.jupyter.widget-view+json": {
       "model_id": "d150791d3c8d4ecca8558e54a91626a6",
       "version_major": 2,
       "version_minor": 0
      },
      "text/plain": [
       "Generating train split: 0 examples [00:00, ? examples/s]"
      ]
     },
     "metadata": {},
     "output_type": "display_data"
    },
    {
     "data": {
      "application/vnd.jupyter.widget-view+json": {
       "model_id": "61d7b806a2b84c19854dce80e531ecda",
       "version_major": 2,
       "version_minor": 0
      },
      "text/plain": [
       "Generating train split: 0 examples [00:00, ? examples/s]"
      ]
     },
     "metadata": {},
     "output_type": "display_data"
    },
    {
     "data": {
      "application/vnd.jupyter.widget-view+json": {
       "model_id": "5d321cfcea3f4004b4da1ccf9cebd6ec",
       "version_major": 2,
       "version_minor": 0
      },
      "text/plain": [
       "Generating train split: 0 examples [00:00, ? examples/s]"
      ]
     },
     "metadata": {},
     "output_type": "display_data"
    },
    {
     "data": {
      "application/vnd.jupyter.widget-view+json": {
       "model_id": "c0432de9843a43e780f21e4a32d736b9",
       "version_major": 2,
       "version_minor": 0
      },
      "text/plain": [
       "Generating train split: 0 examples [00:00, ? examples/s]"
      ]
     },
     "metadata": {},
     "output_type": "display_data"
    },
    {
     "data": {
      "application/vnd.jupyter.widget-view+json": {
       "model_id": "572bf4dee493427783c44e82bbe8be75",
       "version_major": 2,
       "version_minor": 0
      },
      "text/plain": [
       "Generating train split: 0 examples [00:00, ? examples/s]"
      ]
     },
     "metadata": {},
     "output_type": "display_data"
    },
    {
     "data": {
      "application/vnd.jupyter.widget-view+json": {
       "model_id": "65fe7c091f8141f6a1ed381a436213d0",
       "version_major": 2,
       "version_minor": 0
      },
      "text/plain": [
       "Generating train split: 0 examples [00:00, ? examples/s]"
      ]
     },
     "metadata": {},
     "output_type": "display_data"
    },
    {
     "data": {
      "application/vnd.jupyter.widget-view+json": {
       "model_id": "b9b0782a57104cc2825ac5072b932cef",
       "version_major": 2,
       "version_minor": 0
      },
      "text/plain": [
       "Generating train split: 0 examples [00:00, ? examples/s]"
      ]
     },
     "metadata": {},
     "output_type": "display_data"
    },
    {
     "data": {
      "application/vnd.jupyter.widget-view+json": {
       "model_id": "346ec13e8b644a4daf51ab8b69e9b7ee",
       "version_major": 2,
       "version_minor": 0
      },
      "text/plain": [
       "Generating train split: 0 examples [00:00, ? examples/s]"
      ]
     },
     "metadata": {},
     "output_type": "display_data"
    },
    {
     "data": {
      "application/vnd.jupyter.widget-view+json": {
       "model_id": "5ba244de2d9e4ee593a0f25d7c15cc69",
       "version_major": 2,
       "version_minor": 0
      },
      "text/plain": [
       "Generating train split: 0 examples [00:00, ? examples/s]"
      ]
     },
     "metadata": {},
     "output_type": "display_data"
    },
    {
     "data": {
      "application/vnd.jupyter.widget-view+json": {
       "model_id": "a34813acf85b495daf83224757bf4d25",
       "version_major": 2,
       "version_minor": 0
      },
      "text/plain": [
       "Generating train split: 0 examples [00:00, ? examples/s]"
      ]
     },
     "metadata": {},
     "output_type": "display_data"
    },
    {
     "data": {
      "application/vnd.jupyter.widget-view+json": {
       "model_id": "226d20a921b64dec8f0d8e82c73055cf",
       "version_major": 2,
       "version_minor": 0
      },
      "text/plain": [
       "Generating train split: 0 examples [00:00, ? examples/s]"
      ]
     },
     "metadata": {},
     "output_type": "display_data"
    },
    {
     "data": {
      "application/vnd.jupyter.widget-view+json": {
       "model_id": "779cfcd409bf46f092d24222a68b330b",
       "version_major": 2,
       "version_minor": 0
      },
      "text/plain": [
       "Generating train split: 0 examples [00:00, ? examples/s]"
      ]
     },
     "metadata": {},
     "output_type": "display_data"
    },
    {
     "data": {
      "application/vnd.jupyter.widget-view+json": {
       "model_id": "ecc09ac4966846cca3ae7185ce7e81b7",
       "version_major": 2,
       "version_minor": 0
      },
      "text/plain": [
       "Generating train split: 0 examples [00:00, ? examples/s]"
      ]
     },
     "metadata": {},
     "output_type": "display_data"
    },
    {
     "data": {
      "application/vnd.jupyter.widget-view+json": {
       "model_id": "c4c9b381a7d74348b69b3f588587c59d",
       "version_major": 2,
       "version_minor": 0
      },
      "text/plain": [
       "Generating train split: 0 examples [00:00, ? examples/s]"
      ]
     },
     "metadata": {},
     "output_type": "display_data"
    },
    {
     "data": {
      "application/vnd.jupyter.widget-view+json": {
       "model_id": "b0ee7689b91d407894f796d9a78734e3",
       "version_major": 2,
       "version_minor": 0
      },
      "text/plain": [
       "Generating train split: 0 examples [00:00, ? examples/s]"
      ]
     },
     "metadata": {},
     "output_type": "display_data"
    },
    {
     "data": {
      "application/vnd.jupyter.widget-view+json": {
       "model_id": "0fc2bc05741e479aaa25021dade63107",
       "version_major": 2,
       "version_minor": 0
      },
      "text/plain": [
       "Generating train split: 0 examples [00:00, ? examples/s]"
      ]
     },
     "metadata": {},
     "output_type": "display_data"
    },
    {
     "data": {
      "application/vnd.jupyter.widget-view+json": {
       "model_id": "095a18a1910748eab3e745494d27d699",
       "version_major": 2,
       "version_minor": 0
      },
      "text/plain": [
       "Generating train split: 0 examples [00:00, ? examples/s]"
      ]
     },
     "metadata": {},
     "output_type": "display_data"
    },
    {
     "data": {
      "application/vnd.jupyter.widget-view+json": {
       "model_id": "84ae0a621fdb4953b22bc80ae3b6b629",
       "version_major": 2,
       "version_minor": 0
      },
      "text/plain": [
       "Generating train split: 0 examples [00:00, ? examples/s]"
      ]
     },
     "metadata": {},
     "output_type": "display_data"
    },
    {
     "data": {
      "application/vnd.jupyter.widget-view+json": {
       "model_id": "f23f791ec3c24935b4dc4b4bcf35887a",
       "version_major": 2,
       "version_minor": 0
      },
      "text/plain": [
       "Generating train split: 0 examples [00:00, ? examples/s]"
      ]
     },
     "metadata": {},
     "output_type": "display_data"
    },
    {
     "data": {
      "application/vnd.jupyter.widget-view+json": {
       "model_id": "d9f9489c9a0646bb8a95c2ca99040c00",
       "version_major": 2,
       "version_minor": 0
      },
      "text/plain": [
       "Generating train split: 0 examples [00:00, ? examples/s]"
      ]
     },
     "metadata": {},
     "output_type": "display_data"
    },
    {
     "data": {
      "application/vnd.jupyter.widget-view+json": {
       "model_id": "1c0fbbe05f644df6ab8fdc230fde487f",
       "version_major": 2,
       "version_minor": 0
      },
      "text/plain": [
       "Generating train split: 0 examples [00:00, ? examples/s]"
      ]
     },
     "metadata": {},
     "output_type": "display_data"
    },
    {
     "data": {
      "application/vnd.jupyter.widget-view+json": {
       "model_id": "0c2fac7e74b54f68aff52fdf68cc430e",
       "version_major": 2,
       "version_minor": 0
      },
      "text/plain": [
       "Generating train split: 0 examples [00:00, ? examples/s]"
      ]
     },
     "metadata": {},
     "output_type": "display_data"
    },
    {
     "data": {
      "application/vnd.jupyter.widget-view+json": {
       "model_id": "74584d6e44fc4f71972f535cc28b29d9",
       "version_major": 2,
       "version_minor": 0
      },
      "text/plain": [
       "Generating train split: 0 examples [00:00, ? examples/s]"
      ]
     },
     "metadata": {},
     "output_type": "display_data"
    },
    {
     "data": {
      "application/vnd.jupyter.widget-view+json": {
       "model_id": "68af220e7d224e30bb8eb919fc019185",
       "version_major": 2,
       "version_minor": 0
      },
      "text/plain": [
       "Generating train split: 0 examples [00:00, ? examples/s]"
      ]
     },
     "metadata": {},
     "output_type": "display_data"
    },
    {
     "data": {
      "application/vnd.jupyter.widget-view+json": {
       "model_id": "19847594b455403881362676997df24b",
       "version_major": 2,
       "version_minor": 0
      },
      "text/plain": [
       "Generating train split: 0 examples [00:00, ? examples/s]"
      ]
     },
     "metadata": {},
     "output_type": "display_data"
    },
    {
     "data": {
      "application/vnd.jupyter.widget-view+json": {
       "model_id": "dd66223f950c473cae456fcf630fe158",
       "version_major": 2,
       "version_minor": 0
      },
      "text/plain": [
       "Generating train split: 0 examples [00:00, ? examples/s]"
      ]
     },
     "metadata": {},
     "output_type": "display_data"
    },
    {
     "data": {
      "application/vnd.jupyter.widget-view+json": {
       "model_id": "9ed9f52751d84b8eaa96689d076e3bcb",
       "version_major": 2,
       "version_minor": 0
      },
      "text/plain": [
       "Generating train split: 0 examples [00:00, ? examples/s]"
      ]
     },
     "metadata": {},
     "output_type": "display_data"
    },
    {
     "data": {
      "application/vnd.jupyter.widget-view+json": {
       "model_id": "23082d3028d4408d8e378218af80d37e",
       "version_major": 2,
       "version_minor": 0
      },
      "text/plain": [
       "Generating train split: 0 examples [00:00, ? examples/s]"
      ]
     },
     "metadata": {},
     "output_type": "display_data"
    },
    {
     "data": {
      "application/vnd.jupyter.widget-view+json": {
       "model_id": "272596b206014b29abcef57cde41e884",
       "version_major": 2,
       "version_minor": 0
      },
      "text/plain": [
       "Generating train split: 0 examples [00:00, ? examples/s]"
      ]
     },
     "metadata": {},
     "output_type": "display_data"
    },
    {
     "data": {
      "application/vnd.jupyter.widget-view+json": {
       "model_id": "d24b8ea368a34e93bda42e04e8d3b2fe",
       "version_major": 2,
       "version_minor": 0
      },
      "text/plain": [
       "Generating train split: 0 examples [00:00, ? examples/s]"
      ]
     },
     "metadata": {},
     "output_type": "display_data"
    },
    {
     "data": {
      "application/vnd.jupyter.widget-view+json": {
       "model_id": "6091496c460c452c85206ef53a8dd366",
       "version_major": 2,
       "version_minor": 0
      },
      "text/plain": [
       "Generating train split: 0 examples [00:00, ? examples/s]"
      ]
     },
     "metadata": {},
     "output_type": "display_data"
    },
    {
     "data": {
      "application/vnd.jupyter.widget-view+json": {
       "model_id": "33700b7f4d3849eb81b681da713ac991",
       "version_major": 2,
       "version_minor": 0
      },
      "text/plain": [
       "Generating train split: 0 examples [00:00, ? examples/s]"
      ]
     },
     "metadata": {},
     "output_type": "display_data"
    },
    {
     "data": {
      "application/vnd.jupyter.widget-view+json": {
       "model_id": "806de8a51df245fcb6ac748010d5fa88",
       "version_major": 2,
       "version_minor": 0
      },
      "text/plain": [
       "Generating train split: 0 examples [00:00, ? examples/s]"
      ]
     },
     "metadata": {},
     "output_type": "display_data"
    },
    {
     "data": {
      "application/vnd.jupyter.widget-view+json": {
       "model_id": "bd8c229795fe4d74be94a07056af3c85",
       "version_major": 2,
       "version_minor": 0
      },
      "text/plain": [
       "Generating train split: 0 examples [00:00, ? examples/s]"
      ]
     },
     "metadata": {},
     "output_type": "display_data"
    },
    {
     "data": {
      "application/vnd.jupyter.widget-view+json": {
       "model_id": "3ea8c5853f924f08bcc896b821b1e31c",
       "version_major": 2,
       "version_minor": 0
      },
      "text/plain": [
       "Generating train split: 0 examples [00:00, ? examples/s]"
      ]
     },
     "metadata": {},
     "output_type": "display_data"
    },
    {
     "data": {
      "application/vnd.jupyter.widget-view+json": {
       "model_id": "d6a47a5870ef44159ce151f76e4c397e",
       "version_major": 2,
       "version_minor": 0
      },
      "text/plain": [
       "Generating train split: 0 examples [00:00, ? examples/s]"
      ]
     },
     "metadata": {},
     "output_type": "display_data"
    },
    {
     "data": {
      "application/vnd.jupyter.widget-view+json": {
       "model_id": "7d9ae67a25544851a7ee729dfd1451a2",
       "version_major": 2,
       "version_minor": 0
      },
      "text/plain": [
       "Generating train split: 0 examples [00:00, ? examples/s]"
      ]
     },
     "metadata": {},
     "output_type": "display_data"
    },
    {
     "data": {
      "application/vnd.jupyter.widget-view+json": {
       "model_id": "fab885bfb9584c2e9aa9bf02f260d5db",
       "version_major": 2,
       "version_minor": 0
      },
      "text/plain": [
       "Generating train split: 0 examples [00:00, ? examples/s]"
      ]
     },
     "metadata": {},
     "output_type": "display_data"
    },
    {
     "data": {
      "application/vnd.jupyter.widget-view+json": {
       "model_id": "81984d5b734f453480a020e9829edbb0",
       "version_major": 2,
       "version_minor": 0
      },
      "text/plain": [
       "Generating train split: 0 examples [00:00, ? examples/s]"
      ]
     },
     "metadata": {},
     "output_type": "display_data"
    },
    {
     "data": {
      "application/vnd.jupyter.widget-view+json": {
       "model_id": "e332b8cb273f4a8d8eac8ad12607c614",
       "version_major": 2,
       "version_minor": 0
      },
      "text/plain": [
       "Generating train split: 0 examples [00:00, ? examples/s]"
      ]
     },
     "metadata": {},
     "output_type": "display_data"
    },
    {
     "data": {
      "application/vnd.jupyter.widget-view+json": {
       "model_id": "71e2f7cc6fa14bd1acfa69022082756c",
       "version_major": 2,
       "version_minor": 0
      },
      "text/plain": [
       "Generating train split: 0 examples [00:00, ? examples/s]"
      ]
     },
     "metadata": {},
     "output_type": "display_data"
    },
    {
     "data": {
      "application/vnd.jupyter.widget-view+json": {
       "model_id": "61e58672efab441e802a5acee0532e5a",
       "version_major": 2,
       "version_minor": 0
      },
      "text/plain": [
       "Generating train split: 0 examples [00:00, ? examples/s]"
      ]
     },
     "metadata": {},
     "output_type": "display_data"
    },
    {
     "data": {
      "application/vnd.jupyter.widget-view+json": {
       "model_id": "6d50241f5752473db2b40f89e5e4ff5b",
       "version_major": 2,
       "version_minor": 0
      },
      "text/plain": [
       "Generating train split: 0 examples [00:00, ? examples/s]"
      ]
     },
     "metadata": {},
     "output_type": "display_data"
    },
    {
     "data": {
      "application/vnd.jupyter.widget-view+json": {
       "model_id": "08054f2f49de4c6e8fce4b622fb5cc46",
       "version_major": 2,
       "version_minor": 0
      },
      "text/plain": [
       "Generating train split: 0 examples [00:00, ? examples/s]"
      ]
     },
     "metadata": {},
     "output_type": "display_data"
    },
    {
     "data": {
      "application/vnd.jupyter.widget-view+json": {
       "model_id": "8fdf20ec78044181bab0cfcc44cef7b6",
       "version_major": 2,
       "version_minor": 0
      },
      "text/plain": [
       "Generating train split: 0 examples [00:00, ? examples/s]"
      ]
     },
     "metadata": {},
     "output_type": "display_data"
    },
    {
     "data": {
      "application/vnd.jupyter.widget-view+json": {
       "model_id": "9338b08143b844eb9d726b03ba33b41e",
       "version_major": 2,
       "version_minor": 0
      },
      "text/plain": [
       "Generating train split: 0 examples [00:00, ? examples/s]"
      ]
     },
     "metadata": {},
     "output_type": "display_data"
    },
    {
     "data": {
      "application/vnd.jupyter.widget-view+json": {
       "model_id": "b51c8bb93e6e4916b674025eb97d6c59",
       "version_major": 2,
       "version_minor": 0
      },
      "text/plain": [
       "Generating train split: 0 examples [00:00, ? examples/s]"
      ]
     },
     "metadata": {},
     "output_type": "display_data"
    },
    {
     "data": {
      "application/vnd.jupyter.widget-view+json": {
       "model_id": "075060bca2004ca0a177262e16ecca07",
       "version_major": 2,
       "version_minor": 0
      },
      "text/plain": [
       "Generating train split: 0 examples [00:00, ? examples/s]"
      ]
     },
     "metadata": {},
     "output_type": "display_data"
    },
    {
     "data": {
      "application/vnd.jupyter.widget-view+json": {
       "model_id": "63a35697c0e140f993e007e3acd000df",
       "version_major": 2,
       "version_minor": 0
      },
      "text/plain": [
       "Generating train split: 0 examples [00:00, ? examples/s]"
      ]
     },
     "metadata": {},
     "output_type": "display_data"
    },
    {
     "data": {
      "application/vnd.jupyter.widget-view+json": {
       "model_id": "6fdfc32a7eb94c2fb6327a0706ce01f4",
       "version_major": 2,
       "version_minor": 0
      },
      "text/plain": [
       "Generating train split: 0 examples [00:00, ? examples/s]"
      ]
     },
     "metadata": {},
     "output_type": "display_data"
    },
    {
     "data": {
      "application/vnd.jupyter.widget-view+json": {
       "model_id": "4110cf8450e045b78f07c275ad3f6d61",
       "version_major": 2,
       "version_minor": 0
      },
      "text/plain": [
       "Generating train split: 0 examples [00:00, ? examples/s]"
      ]
     },
     "metadata": {},
     "output_type": "display_data"
    },
    {
     "data": {
      "application/vnd.jupyter.widget-view+json": {
       "model_id": "6e033fcfbdf945a18adf01d36852ece0",
       "version_major": 2,
       "version_minor": 0
      },
      "text/plain": [
       "Generating train split: 0 examples [00:00, ? examples/s]"
      ]
     },
     "metadata": {},
     "output_type": "display_data"
    },
    {
     "data": {
      "application/vnd.jupyter.widget-view+json": {
       "model_id": "d6081bf59b6549e49be10466b7ff6f40",
       "version_major": 2,
       "version_minor": 0
      },
      "text/plain": [
       "Generating train split: 0 examples [00:00, ? examples/s]"
      ]
     },
     "metadata": {},
     "output_type": "display_data"
    },
    {
     "data": {
      "application/vnd.jupyter.widget-view+json": {
       "model_id": "0becbc9b0083408cb5e75c5ca81654c1",
       "version_major": 2,
       "version_minor": 0
      },
      "text/plain": [
       "Generating train split: 0 examples [00:00, ? examples/s]"
      ]
     },
     "metadata": {},
     "output_type": "display_data"
    },
    {
     "data": {
      "application/vnd.jupyter.widget-view+json": {
       "model_id": "bc5709da2fc845dbb364b01d74de3828",
       "version_major": 2,
       "version_minor": 0
      },
      "text/plain": [
       "Generating train split: 0 examples [00:00, ? examples/s]"
      ]
     },
     "metadata": {},
     "output_type": "display_data"
    },
    {
     "data": {
      "application/vnd.jupyter.widget-view+json": {
       "model_id": "dc2ca7a96c554f45afea9b531b84aa41",
       "version_major": 2,
       "version_minor": 0
      },
      "text/plain": [
       "Generating train split: 0 examples [00:00, ? examples/s]"
      ]
     },
     "metadata": {},
     "output_type": "display_data"
    },
    {
     "data": {
      "application/vnd.jupyter.widget-view+json": {
       "model_id": "b02347893d764662967cee605bde821e",
       "version_major": 2,
       "version_minor": 0
      },
      "text/plain": [
       "Generating train split: 0 examples [00:00, ? examples/s]"
      ]
     },
     "metadata": {},
     "output_type": "display_data"
    },
    {
     "data": {
      "application/vnd.jupyter.widget-view+json": {
       "model_id": "2429d944f1ce4aa3ab2098230055d7aa",
       "version_major": 2,
       "version_minor": 0
      },
      "text/plain": [
       "Generating train split: 0 examples [00:00, ? examples/s]"
      ]
     },
     "metadata": {},
     "output_type": "display_data"
    },
    {
     "data": {
      "application/vnd.jupyter.widget-view+json": {
       "model_id": "57fa58f1b2fb40f5b42da306867f31cf",
       "version_major": 2,
       "version_minor": 0
      },
      "text/plain": [
       "Generating train split: 0 examples [00:00, ? examples/s]"
      ]
     },
     "metadata": {},
     "output_type": "display_data"
    },
    {
     "data": {
      "application/vnd.jupyter.widget-view+json": {
       "model_id": "ffbde9bacf1f4f0cbd656407d8149ca8",
       "version_major": 2,
       "version_minor": 0
      },
      "text/plain": [
       "Generating train split: 0 examples [00:00, ? examples/s]"
      ]
     },
     "metadata": {},
     "output_type": "display_data"
    },
    {
     "data": {
      "application/vnd.jupyter.widget-view+json": {
       "model_id": "95f1c8a301bc442d80573d1083414cb9",
       "version_major": 2,
       "version_minor": 0
      },
      "text/plain": [
       "Generating train split: 0 examples [00:00, ? examples/s]"
      ]
     },
     "metadata": {},
     "output_type": "display_data"
    },
    {
     "data": {
      "application/vnd.jupyter.widget-view+json": {
       "model_id": "0c2932c0d20f4cfc80ded9e9035dd206",
       "version_major": 2,
       "version_minor": 0
      },
      "text/plain": [
       "Generating train split: 0 examples [00:00, ? examples/s]"
      ]
     },
     "metadata": {},
     "output_type": "display_data"
    },
    {
     "data": {
      "application/vnd.jupyter.widget-view+json": {
       "model_id": "2685a82a8c9e4fbf9c6df3a8dd928e3c",
       "version_major": 2,
       "version_minor": 0
      },
      "text/plain": [
       "Generating train split: 0 examples [00:00, ? examples/s]"
      ]
     },
     "metadata": {},
     "output_type": "display_data"
    },
    {
     "data": {
      "application/vnd.jupyter.widget-view+json": {
       "model_id": "7cc41fd93a584b62b6ca4c8125c0a370",
       "version_major": 2,
       "version_minor": 0
      },
      "text/plain": [
       "Generating train split: 0 examples [00:00, ? examples/s]"
      ]
     },
     "metadata": {},
     "output_type": "display_data"
    },
    {
     "data": {
      "application/vnd.jupyter.widget-view+json": {
       "model_id": "c0fb648ff17a45a69718fe0ef519cb9b",
       "version_major": 2,
       "version_minor": 0
      },
      "text/plain": [
       "Generating train split: 0 examples [00:00, ? examples/s]"
      ]
     },
     "metadata": {},
     "output_type": "display_data"
    },
    {
     "data": {
      "application/vnd.jupyter.widget-view+json": {
       "model_id": "47f7f7e999a24ca38c243a20719c4c78",
       "version_major": 2,
       "version_minor": 0
      },
      "text/plain": [
       "Generating train split: 0 examples [00:00, ? examples/s]"
      ]
     },
     "metadata": {},
     "output_type": "display_data"
    },
    {
     "data": {
      "application/vnd.jupyter.widget-view+json": {
       "model_id": "479875d3e4034761b1b9ed8ed2e339a9",
       "version_major": 2,
       "version_minor": 0
      },
      "text/plain": [
       "Generating train split: 0 examples [00:00, ? examples/s]"
      ]
     },
     "metadata": {},
     "output_type": "display_data"
    },
    {
     "data": {
      "application/vnd.jupyter.widget-view+json": {
       "model_id": "4130d8d0e0d7405e82316b7a9a2522e2",
       "version_major": 2,
       "version_minor": 0
      },
      "text/plain": [
       "Generating train split: 0 examples [00:00, ? examples/s]"
      ]
     },
     "metadata": {},
     "output_type": "display_data"
    },
    {
     "data": {
      "application/vnd.jupyter.widget-view+json": {
       "model_id": "38bd0eee96ff46d6bcb210eaa9f1b88c",
       "version_major": 2,
       "version_minor": 0
      },
      "text/plain": [
       "Generating train split: 0 examples [00:00, ? examples/s]"
      ]
     },
     "metadata": {},
     "output_type": "display_data"
    },
    {
     "data": {
      "application/vnd.jupyter.widget-view+json": {
       "model_id": "1b76ecb43abb40f8aa4a6f280f97c109",
       "version_major": 2,
       "version_minor": 0
      },
      "text/plain": [
       "Generating train split: 0 examples [00:00, ? examples/s]"
      ]
     },
     "metadata": {},
     "output_type": "display_data"
    },
    {
     "data": {
      "application/vnd.jupyter.widget-view+json": {
       "model_id": "764b526cbb794bd6b674e49c043446ee",
       "version_major": 2,
       "version_minor": 0
      },
      "text/plain": [
       "Generating train split: 0 examples [00:00, ? examples/s]"
      ]
     },
     "metadata": {},
     "output_type": "display_data"
    },
    {
     "data": {
      "application/vnd.jupyter.widget-view+json": {
       "model_id": "003db5b0a4ae418397a8560d0882a155",
       "version_major": 2,
       "version_minor": 0
      },
      "text/plain": [
       "Generating train split: 0 examples [00:00, ? examples/s]"
      ]
     },
     "metadata": {},
     "output_type": "display_data"
    },
    {
     "data": {
      "application/vnd.jupyter.widget-view+json": {
       "model_id": "f9ef96a0fd7746f8ad9592af52087ad1",
       "version_major": 2,
       "version_minor": 0
      },
      "text/plain": [
       "Generating train split: 0 examples [00:00, ? examples/s]"
      ]
     },
     "metadata": {},
     "output_type": "display_data"
    },
    {
     "data": {
      "application/vnd.jupyter.widget-view+json": {
       "model_id": "e05cef984a0d478baa7fc18fedf51069",
       "version_major": 2,
       "version_minor": 0
      },
      "text/plain": [
       "Generating train split: 0 examples [00:00, ? examples/s]"
      ]
     },
     "metadata": {},
     "output_type": "display_data"
    },
    {
     "data": {
      "application/vnd.jupyter.widget-view+json": {
       "model_id": "ab12d2606c9d49689f185bcbbef44f61",
       "version_major": 2,
       "version_minor": 0
      },
      "text/plain": [
       "Generating train split: 0 examples [00:00, ? examples/s]"
      ]
     },
     "metadata": {},
     "output_type": "display_data"
    },
    {
     "data": {
      "application/vnd.jupyter.widget-view+json": {
       "model_id": "4e09d1f102c64d86a0ebb93e8bfdb9cc",
       "version_major": 2,
       "version_minor": 0
      },
      "text/plain": [
       "Generating train split: 0 examples [00:00, ? examples/s]"
      ]
     },
     "metadata": {},
     "output_type": "display_data"
    },
    {
     "data": {
      "application/vnd.jupyter.widget-view+json": {
       "model_id": "c45624b1a60544dab2301ca5cabf0708",
       "version_major": 2,
       "version_minor": 0
      },
      "text/plain": [
       "Generating train split: 0 examples [00:00, ? examples/s]"
      ]
     },
     "metadata": {},
     "output_type": "display_data"
    },
    {
     "data": {
      "application/vnd.jupyter.widget-view+json": {
       "model_id": "24a9768fcb9e42d99f1fea776f50e0cb",
       "version_major": 2,
       "version_minor": 0
      },
      "text/plain": [
       "Generating train split: 0 examples [00:00, ? examples/s]"
      ]
     },
     "metadata": {},
     "output_type": "display_data"
    },
    {
     "data": {
      "application/vnd.jupyter.widget-view+json": {
       "model_id": "c70929ac2a0542558d60ead0bdf396da",
       "version_major": 2,
       "version_minor": 0
      },
      "text/plain": [
       "Generating train split: 0 examples [00:00, ? examples/s]"
      ]
     },
     "metadata": {},
     "output_type": "display_data"
    },
    {
     "data": {
      "application/vnd.jupyter.widget-view+json": {
       "model_id": "66e79a2e88d74fcdb2bcdb9791c9ed58",
       "version_major": 2,
       "version_minor": 0
      },
      "text/plain": [
       "Generating train split: 0 examples [00:00, ? examples/s]"
      ]
     },
     "metadata": {},
     "output_type": "display_data"
    },
    {
     "data": {
      "application/vnd.jupyter.widget-view+json": {
       "model_id": "28b14b3a039a4603b986b95814e8aba4",
       "version_major": 2,
       "version_minor": 0
      },
      "text/plain": [
       "Generating train split: 0 examples [00:00, ? examples/s]"
      ]
     },
     "metadata": {},
     "output_type": "display_data"
    },
    {
     "data": {
      "application/vnd.jupyter.widget-view+json": {
       "model_id": "e7f144d2c378480da9f88e44a7020a37",
       "version_major": 2,
       "version_minor": 0
      },
      "text/plain": [
       "Generating train split: 0 examples [00:00, ? examples/s]"
      ]
     },
     "metadata": {},
     "output_type": "display_data"
    },
    {
     "data": {
      "application/vnd.jupyter.widget-view+json": {
       "model_id": "29a42e9136f14f36bf24eee76c28c000",
       "version_major": 2,
       "version_minor": 0
      },
      "text/plain": [
       "Generating train split: 0 examples [00:00, ? examples/s]"
      ]
     },
     "metadata": {},
     "output_type": "display_data"
    },
    {
     "data": {
      "application/vnd.jupyter.widget-view+json": {
       "model_id": "4a4cba8a17a04b598c663b3243e4ffc7",
       "version_major": 2,
       "version_minor": 0
      },
      "text/plain": [
       "Generating train split: 0 examples [00:00, ? examples/s]"
      ]
     },
     "metadata": {},
     "output_type": "display_data"
    },
    {
     "data": {
      "application/vnd.jupyter.widget-view+json": {
       "model_id": "a83f78e373914dd5a97b5e8ea4d8b65a",
       "version_major": 2,
       "version_minor": 0
      },
      "text/plain": [
       "Generating train split: 0 examples [00:00, ? examples/s]"
      ]
     },
     "metadata": {},
     "output_type": "display_data"
    },
    {
     "data": {
      "application/vnd.jupyter.widget-view+json": {
       "model_id": "c78b2964e3644fd094632083f6adc2a7",
       "version_major": 2,
       "version_minor": 0
      },
      "text/plain": [
       "Generating train split: 0 examples [00:00, ? examples/s]"
      ]
     },
     "metadata": {},
     "output_type": "display_data"
    },
    {
     "data": {
      "application/vnd.jupyter.widget-view+json": {
       "model_id": "dad9d10ecec5459ca7f302423228fdcf",
       "version_major": 2,
       "version_minor": 0
      },
      "text/plain": [
       "Generating train split: 0 examples [00:00, ? examples/s]"
      ]
     },
     "metadata": {},
     "output_type": "display_data"
    },
    {
     "data": {
      "application/vnd.jupyter.widget-view+json": {
       "model_id": "7bf6437e97be4db5a967aa50b26e639e",
       "version_major": 2,
       "version_minor": 0
      },
      "text/plain": [
       "Generating train split: 0 examples [00:00, ? examples/s]"
      ]
     },
     "metadata": {},
     "output_type": "display_data"
    },
    {
     "data": {
      "application/vnd.jupyter.widget-view+json": {
       "model_id": "a93f61df5f104bd99f52ec0e3c27faac",
       "version_major": 2,
       "version_minor": 0
      },
      "text/plain": [
       "Generating train split: 0 examples [00:00, ? examples/s]"
      ]
     },
     "metadata": {},
     "output_type": "display_data"
    },
    {
     "data": {
      "application/vnd.jupyter.widget-view+json": {
       "model_id": "749e7f5498ac41b9aaf8e49bd980d969",
       "version_major": 2,
       "version_minor": 0
      },
      "text/plain": [
       "Generating train split: 0 examples [00:00, ? examples/s]"
      ]
     },
     "metadata": {},
     "output_type": "display_data"
    },
    {
     "data": {
      "application/vnd.jupyter.widget-view+json": {
       "model_id": "66b791a2af3a4244936f8f33c0cdb146",
       "version_major": 2,
       "version_minor": 0
      },
      "text/plain": [
       "Generating train split: 0 examples [00:00, ? examples/s]"
      ]
     },
     "metadata": {},
     "output_type": "display_data"
    },
    {
     "data": {
      "application/vnd.jupyter.widget-view+json": {
       "model_id": "f268ac98fef54f4da0ff8b539367d525",
       "version_major": 2,
       "version_minor": 0
      },
      "text/plain": [
       "Generating train split: 0 examples [00:00, ? examples/s]"
      ]
     },
     "metadata": {},
     "output_type": "display_data"
    },
    {
     "data": {
      "application/vnd.jupyter.widget-view+json": {
       "model_id": "b7a82c0b4214457cbb3d6bfc77a2f177",
       "version_major": 2,
       "version_minor": 0
      },
      "text/plain": [
       "Generating train split: 0 examples [00:00, ? examples/s]"
      ]
     },
     "metadata": {},
     "output_type": "display_data"
    },
    {
     "data": {
      "application/vnd.jupyter.widget-view+json": {
       "model_id": "e34094d444fc4a888ddeb22579ba68b8",
       "version_major": 2,
       "version_minor": 0
      },
      "text/plain": [
       "Generating train split: 0 examples [00:00, ? examples/s]"
      ]
     },
     "metadata": {},
     "output_type": "display_data"
    },
    {
     "data": {
      "application/vnd.jupyter.widget-view+json": {
       "model_id": "784b2746e1ef48d8bb856bdd464e8604",
       "version_major": 2,
       "version_minor": 0
      },
      "text/plain": [
       "Generating train split: 0 examples [00:00, ? examples/s]"
      ]
     },
     "metadata": {},
     "output_type": "display_data"
    },
    {
     "data": {
      "application/vnd.jupyter.widget-view+json": {
       "model_id": "603d925b58ae4c1fafc8cc95ad492ca3",
       "version_major": 2,
       "version_minor": 0
      },
      "text/plain": [
       "Generating train split: 0 examples [00:00, ? examples/s]"
      ]
     },
     "metadata": {},
     "output_type": "display_data"
    },
    {
     "data": {
      "application/vnd.jupyter.widget-view+json": {
       "model_id": "055d9387077f4a1997aef0adcd377cd1",
       "version_major": 2,
       "version_minor": 0
      },
      "text/plain": [
       "Generating train split: 0 examples [00:00, ? examples/s]"
      ]
     },
     "metadata": {},
     "output_type": "display_data"
    },
    {
     "data": {
      "application/vnd.jupyter.widget-view+json": {
       "model_id": "7215236aee7843d088a16f343e02cf45",
       "version_major": 2,
       "version_minor": 0
      },
      "text/plain": [
       "Generating train split: 0 examples [00:00, ? examples/s]"
      ]
     },
     "metadata": {},
     "output_type": "display_data"
    },
    {
     "data": {
      "application/vnd.jupyter.widget-view+json": {
       "model_id": "e8e62e37f64642fbb21ff91c646dd1f2",
       "version_major": 2,
       "version_minor": 0
      },
      "text/plain": [
       "Generating train split: 0 examples [00:00, ? examples/s]"
      ]
     },
     "metadata": {},
     "output_type": "display_data"
    },
    {
     "data": {
      "application/vnd.jupyter.widget-view+json": {
       "model_id": "6c04f151645e485fbfefd71b84615532",
       "version_major": 2,
       "version_minor": 0
      },
      "text/plain": [
       "Generating train split: 0 examples [00:00, ? examples/s]"
      ]
     },
     "metadata": {},
     "output_type": "display_data"
    },
    {
     "data": {
      "application/vnd.jupyter.widget-view+json": {
       "model_id": "2a7d446e5115401b8d86eddf67d9e3b9",
       "version_major": 2,
       "version_minor": 0
      },
      "text/plain": [
       "Generating train split: 0 examples [00:00, ? examples/s]"
      ]
     },
     "metadata": {},
     "output_type": "display_data"
    },
    {
     "data": {
      "application/vnd.jupyter.widget-view+json": {
       "model_id": "e7b0c0b940ef4030919ba86fa236a843",
       "version_major": 2,
       "version_minor": 0
      },
      "text/plain": [
       "Generating train split: 0 examples [00:00, ? examples/s]"
      ]
     },
     "metadata": {},
     "output_type": "display_data"
    },
    {
     "data": {
      "application/vnd.jupyter.widget-view+json": {
       "model_id": "81e9cf2bd9584230836307882c8787d5",
       "version_major": 2,
       "version_minor": 0
      },
      "text/plain": [
       "Generating train split: 0 examples [00:00, ? examples/s]"
      ]
     },
     "metadata": {},
     "output_type": "display_data"
    },
    {
     "data": {
      "application/vnd.jupyter.widget-view+json": {
       "model_id": "b47b3dc9acd64e78ab9e1d232bb84bef",
       "version_major": 2,
       "version_minor": 0
      },
      "text/plain": [
       "Generating train split: 0 examples [00:00, ? examples/s]"
      ]
     },
     "metadata": {},
     "output_type": "display_data"
    }
   ],
   "source": [
    "# first we need to calculate the mean and std of each feature in the dataset\n",
    "from curatedataset import calc_meanstd_datasets\n",
    "dataset_meanstd = calc_meanstd_datasets(dataset_path, [\"positive\", \"negative\", \"neutral\"])\n"
   ]
  },
  {
   "cell_type": "code",
   "execution_count": 4,
   "metadata": {},
   "outputs": [
    {
     "name": "stdout",
     "output_type": "stream",
     "text": [
      "opening files and creating datasets\n"
     ]
    },
    {
     "data": {
      "application/vnd.jupyter.widget-view+json": {
       "model_id": "84dee1e838e04e20ae66a83df5970b5f",
       "version_major": 2,
       "version_minor": 0
      },
      "text/plain": [
       "Generating train split: 0 examples [00:00, ? examples/s]"
      ]
     },
     "metadata": {},
     "output_type": "display_data"
    },
    {
     "name": "stdout",
     "output_type": "stream",
     "text": [
      "Processing data as polars dataframe.\n",
      "Forcing normalization\n",
      "Dataset length:  200\n",
      "offline_stock_trade_data/AVGO/momentum_stoch_rsi_AVGO_2018-02-05.json has 200 trajectories\n",
      "Processing data as polars dataframe.\n",
      "Forcing normalization\n",
      "Dataset length:  200\n",
      "offline_stock_trade_data/AVGO/random_AVGO_2018-02-05.json has 200 trajectories\n",
      "Processing data as polars dataframe.\n",
      "Forcing normalization\n",
      "Dataset length:  200\n",
      "offline_stock_trade_data/AVGO/sentiment_react_AVGO_2018-02-05.json has 200 trajectories\n",
      "Processing data as polars dataframe.\n",
      "Forcing normalization\n",
      "Dataset length:  80\n",
      "offline_stock_trade_data/AVGO/stable-baselines-ddpg_AVGO_2018-02-05.json has 80 trajectories\n",
      "Processing data as polars dataframe.\n",
      "Forcing normalization\n",
      "Dataset length:  80\n",
      "offline_stock_trade_data/AVGO/stable-baselines-a2c_AVGO_2018-02-05.json has 80 trajectories\n",
      "Processing data as polars dataframe.\n",
      "Forcing normalization\n",
      "Dataset length:  80\n",
      "offline_stock_trade_data/AVGO/stable-baselines-ppo_AVGO_2018-02-05.json has 80 trajectories\n",
      "Processing data as polars dataframe.\n",
      "Forcing normalization\n",
      "Dataset length:  200\n",
      "offline_stock_trade_data/AVGO/trend_sma_fast_AVGO_2018-02-05.json has 200 trajectories\n",
      "Processing data as polars dataframe.\n",
      "Forcing normalization\n",
      "Dataset length:  200\n",
      "offline_stock_trade_data/AMAT/random_AMAT_2018-02-05.json has 200 trajectories\n",
      "Processing data as polars dataframe.\n",
      "Forcing normalization\n",
      "Dataset length:  200\n",
      "offline_stock_trade_data/AMAT/sentiment_react_AMAT_2018-02-05.json has 200 trajectories\n",
      "Processing data as polars dataframe.\n",
      "Forcing normalization\n",
      "Dataset length:  200\n",
      "offline_stock_trade_data/AMAT/momentum_stoch_rsi_AMAT_2018-02-05.json has 200 trajectories\n",
      "Processing data as polars dataframe.\n",
      "Forcing normalization\n",
      "Dataset length:  200\n",
      "offline_stock_trade_data/AMAT/trend_sma_fast_AMAT_2018-02-05.json has 200 trajectories\n",
      "Processing data as polars dataframe.\n",
      "Forcing normalization\n",
      "Dataset length:  80\n",
      "offline_stock_trade_data/AMAT/stable-baselines-ppo_AMAT_2018-02-05.json has 80 trajectories\n",
      "Processing data as polars dataframe.\n",
      "Forcing normalization\n",
      "Dataset length:  80\n",
      "offline_stock_trade_data/AMAT/stable-baselines-ddpg_AMAT_2018-02-05.json has 80 trajectories\n",
      "Processing data as polars dataframe.\n",
      "Forcing normalization\n",
      "Dataset length:  80\n",
      "offline_stock_trade_data/AMAT/stable-baselines-a2c_AMAT_2018-02-05.json has 80 trajectories\n",
      "Processing data as polars dataframe.\n",
      "Forcing normalization\n",
      "Dataset length:  200\n",
      "offline_stock_trade_data/FAST/trend_sma_fast_FAST_2018-02-05.json has 200 trajectories\n",
      "Processing data as polars dataframe.\n",
      "Forcing normalization\n",
      "Dataset length:  80\n",
      "offline_stock_trade_data/FAST/stable-baselines-ddpg_FAST_2018-02-05.json has 80 trajectories\n",
      "Processing data as polars dataframe.\n",
      "Forcing normalization\n",
      "Dataset length:  80\n",
      "offline_stock_trade_data/FAST/stable-baselines-a2c_FAST_2018-02-05.json has 80 trajectories\n",
      "Processing data as polars dataframe.\n",
      "Forcing normalization\n",
      "Dataset length:  200\n",
      "offline_stock_trade_data/FAST/momentum_stoch_rsi_FAST_2018-02-05.json has 200 trajectories\n",
      "Processing data as polars dataframe.\n",
      "Forcing normalization\n",
      "Dataset length:  200\n",
      "offline_stock_trade_data/FAST/random_FAST_2018-02-05.json has 200 trajectories\n",
      "Processing data as polars dataframe.\n",
      "Forcing normalization\n",
      "Dataset length:  200\n",
      "offline_stock_trade_data/FAST/sentiment_react_FAST_2018-02-05.json has 200 trajectories\n",
      "Processing data as polars dataframe.\n",
      "Forcing normalization\n",
      "Dataset length:  80\n",
      "offline_stock_trade_data/FAST/stable-baselines-ppo_FAST_2018-02-05.json has 80 trajectories\n",
      "Processing data as polars dataframe.\n",
      "Forcing normalization\n",
      "Dataset length:  80\n",
      "offline_stock_trade_data/MSFT/stable-baselines-ddpg_MSFT_2018-02-05.json has 80 trajectories\n",
      "Processing data as polars dataframe.\n",
      "Forcing normalization\n",
      "Dataset length:  200\n",
      "offline_stock_trade_data/MSFT/trend_sma_fast_MSFT_2018-02-05.json has 200 trajectories\n",
      "Processing data as polars dataframe.\n",
      "Forcing normalization\n",
      "Dataset length:  80\n",
      "offline_stock_trade_data/MSFT/stable-baselines-a2c_MSFT_2018-02-05.json has 80 trajectories\n",
      "Processing data as polars dataframe.\n",
      "Forcing normalization\n",
      "Dataset length:  200\n",
      "offline_stock_trade_data/MSFT/sentiment_react_MSFT_2018-02-05.json has 200 trajectories\n",
      "Processing data as polars dataframe.\n",
      "Forcing normalization\n",
      "Dataset length:  80\n",
      "offline_stock_trade_data/MSFT/stable-baselines-ppo_MSFT_2018-02-05.json has 80 trajectories\n",
      "Processing data as polars dataframe.\n",
      "Forcing normalization\n",
      "Dataset length:  200\n",
      "offline_stock_trade_data/MSFT/momentum_stoch_rsi_MSFT_2018-02-05.json has 200 trajectories\n",
      "Processing data as polars dataframe.\n",
      "Forcing normalization\n",
      "Dataset length:  200\n",
      "offline_stock_trade_data/MSFT/random_MSFT_2018-02-05.json has 200 trajectories\n",
      "Processing data as polars dataframe.\n",
      "Forcing normalization\n",
      "Dataset length:  80\n",
      "offline_stock_trade_data/LRCX/stable-baselines-a2c_LRCX_2018-02-05.json has 80 trajectories\n",
      "Processing data as polars dataframe.\n",
      "Forcing normalization\n",
      "Dataset length:  200\n",
      "offline_stock_trade_data/LRCX/trend_sma_fast_LRCX_2018-02-05.json has 200 trajectories\n",
      "Processing data as polars dataframe.\n",
      "Forcing normalization\n",
      "Dataset length:  200\n",
      "offline_stock_trade_data/LRCX/momentum_stoch_rsi_LRCX_2018-02-05.json has 200 trajectories\n",
      "Processing data as polars dataframe.\n",
      "Forcing normalization\n",
      "Dataset length:  80\n",
      "offline_stock_trade_data/LRCX/stable-baselines-ppo_LRCX_2018-02-05.json has 80 trajectories\n",
      "Processing data as polars dataframe.\n",
      "Forcing normalization\n",
      "Dataset length:  200\n",
      "offline_stock_trade_data/LRCX/sentiment_react_LRCX_2018-02-05.json has 200 trajectories\n",
      "Processing data as polars dataframe.\n",
      "Forcing normalization\n",
      "Dataset length:  200\n",
      "offline_stock_trade_data/LRCX/random_LRCX_2018-02-05.json has 200 trajectories\n",
      "Processing data as polars dataframe.\n",
      "Forcing normalization\n",
      "Dataset length:  80\n",
      "offline_stock_trade_data/LRCX/stable-baselines-ddpg_LRCX_2018-02-05.json has 80 trajectories\n",
      "Processing data as polars dataframe.\n",
      "Forcing normalization\n",
      "Dataset length:  200\n",
      "offline_stock_trade_data/NFLX/trend_sma_fast_NFLX_2018-02-05.json has 200 trajectories\n",
      "Processing data as polars dataframe.\n",
      "Forcing normalization\n",
      "Dataset length:  80\n",
      "offline_stock_trade_data/NFLX/stable-baselines-a2c_NFLX_2018-02-05.json has 80 trajectories\n",
      "Processing data as polars dataframe.\n",
      "Forcing normalization\n",
      "Dataset length:  80\n",
      "offline_stock_trade_data/NFLX/stable-baselines-ddpg_NFLX_2018-02-05.json has 80 trajectories\n",
      "Processing data as polars dataframe.\n",
      "Forcing normalization\n",
      "Dataset length:  200\n",
      "offline_stock_trade_data/NFLX/sentiment_react_NFLX_2018-02-05.json has 200 trajectories\n",
      "Processing data as polars dataframe.\n",
      "Forcing normalization\n",
      "Dataset length:  200\n",
      "offline_stock_trade_data/NFLX/random_NFLX_2018-02-05.json has 200 trajectories\n",
      "Processing data as polars dataframe.\n",
      "Forcing normalization\n",
      "Dataset length:  200\n",
      "offline_stock_trade_data/NFLX/momentum_stoch_rsi_NFLX_2018-02-05.json has 200 trajectories\n",
      "Processing data as polars dataframe.\n",
      "Forcing normalization\n",
      "Dataset length:  80\n",
      "offline_stock_trade_data/NFLX/stable-baselines-ppo_NFLX_2018-02-05.json has 80 trajectories\n",
      "Processing data as polars dataframe.\n",
      "Forcing normalization\n",
      "Dataset length:  80\n",
      "offline_stock_trade_data/MCHP/stable-baselines-ddpg_MCHP_2018-02-05.json has 80 trajectories\n",
      "Processing data as polars dataframe.\n",
      "Forcing normalization\n",
      "Dataset length:  80\n",
      "offline_stock_trade_data/MCHP/stable-baselines-ppo_MCHP_2018-02-05.json has 80 trajectories\n",
      "Processing data as polars dataframe.\n",
      "Forcing normalization\n",
      "Dataset length:  200\n",
      "offline_stock_trade_data/MCHP/trend_sma_fast_MCHP_2018-02-05.json has 200 trajectories\n",
      "Processing data as polars dataframe.\n",
      "Forcing normalization\n",
      "Dataset length:  200\n",
      "offline_stock_trade_data/MCHP/sentiment_react_MCHP_2018-02-05.json has 200 trajectories\n",
      "Processing data as polars dataframe.\n",
      "Forcing normalization\n",
      "Dataset length:  200\n",
      "offline_stock_trade_data/MCHP/random_MCHP_2018-02-05.json has 200 trajectories\n",
      "Processing data as polars dataframe.\n",
      "Forcing normalization\n",
      "Dataset length:  80\n",
      "offline_stock_trade_data/MCHP/stable-baselines-a2c_MCHP_2018-02-05.json has 80 trajectories\n",
      "Processing data as polars dataframe.\n",
      "Forcing normalization\n",
      "Dataset length:  200\n",
      "offline_stock_trade_data/MCHP/momentum_stoch_rsi_MCHP_2018-02-05.json has 200 trajectories\n",
      "Processing data as polars dataframe.\n",
      "Forcing normalization\n",
      "Dataset length:  80\n",
      "offline_stock_trade_data/KO/stable-baselines-ddpg_KO_2018-02-05.json has 80 trajectories\n",
      "Processing data as polars dataframe.\n",
      "Forcing normalization\n",
      "Dataset length:  80\n",
      "offline_stock_trade_data/KO/stable-baselines-a2c_KO_2018-02-05.json has 80 trajectories\n",
      "Processing data as polars dataframe.\n",
      "Forcing normalization\n",
      "Dataset length:  200\n",
      "offline_stock_trade_data/KO/random_KO_2018-02-05.json has 200 trajectories\n",
      "Processing data as polars dataframe.\n",
      "Forcing normalization\n",
      "Dataset length:  200\n",
      "offline_stock_trade_data/KO/trend_sma_fast_KO_2018-02-05.json has 200 trajectories\n",
      "Processing data as polars dataframe.\n",
      "Forcing normalization\n",
      "Dataset length:  200\n",
      "offline_stock_trade_data/KO/sentiment_react_KO_2018-02-05.json has 200 trajectories\n",
      "Processing data as polars dataframe.\n",
      "Forcing normalization\n",
      "Dataset length:  200\n",
      "offline_stock_trade_data/KO/momentum_stoch_rsi_KO_2018-02-05.json has 200 trajectories\n",
      "Processing data as polars dataframe.\n",
      "Forcing normalization\n",
      "Dataset length:  80\n",
      "offline_stock_trade_data/KO/stable-baselines-ppo_KO_2018-02-05.json has 80 trajectories\n",
      "Processing data as polars dataframe.\n",
      "Forcing normalization\n",
      "Dataset length:  80\n",
      "offline_stock_trade_data/VRSK/stable-baselines-ppo_VRSK_2018-02-05.json has 80 trajectories\n",
      "Processing data as polars dataframe.\n",
      "Forcing normalization\n",
      "Dataset length:  200\n",
      "offline_stock_trade_data/VRSK/trend_sma_fast_VRSK_2018-02-05.json has 200 trajectories\n",
      "Processing data as polars dataframe.\n",
      "Forcing normalization\n",
      "Dataset length:  80\n",
      "offline_stock_trade_data/VRSK/stable-baselines-ddpg_VRSK_2018-02-05.json has 80 trajectories\n",
      "Processing data as polars dataframe.\n",
      "Forcing normalization\n",
      "Dataset length:  200\n",
      "offline_stock_trade_data/VRSK/sentiment_react_VRSK_2018-02-05.json has 200 trajectories\n",
      "Processing data as polars dataframe.\n",
      "Forcing normalization\n",
      "Dataset length:  200\n",
      "offline_stock_trade_data/VRSK/momentum_stoch_rsi_VRSK_2018-02-05.json has 200 trajectories\n",
      "Processing data as polars dataframe.\n",
      "Forcing normalization\n",
      "Dataset length:  200\n",
      "offline_stock_trade_data/VRSK/random_VRSK_2018-02-05.json has 200 trajectories\n",
      "Processing data as polars dataframe.\n",
      "Forcing normalization\n",
      "Dataset length:  80\n",
      "offline_stock_trade_data/VRSK/stable-baselines-a2c_VRSK_2018-02-05.json has 80 trajectories\n",
      "Processing data as polars dataframe.\n",
      "Forcing normalization\n",
      "Dataset length:  80\n",
      "offline_stock_trade_data/WBA/stable-baselines-a2c_WBA_2018-02-05.json has 80 trajectories\n",
      "Processing data as polars dataframe.\n",
      "Forcing normalization\n",
      "Dataset length:  200\n",
      "offline_stock_trade_data/WBA/sentiment_react_WBA_2018-02-05.json has 200 trajectories\n",
      "Processing data as polars dataframe.\n",
      "Forcing normalization\n",
      "Dataset length:  80\n",
      "offline_stock_trade_data/WBA/stable-baselines-ddpg_WBA_2018-02-05.json has 80 trajectories\n",
      "Processing data as polars dataframe.\n",
      "Forcing normalization\n",
      "Dataset length:  80\n",
      "offline_stock_trade_data/WBA/stable-baselines-ppo_WBA_2018-02-05.json has 80 trajectories\n",
      "Processing data as polars dataframe.\n",
      "Forcing normalization\n",
      "Dataset length:  200\n",
      "offline_stock_trade_data/WBA/momentum_stoch_rsi_WBA_2018-02-05.json has 200 trajectories\n",
      "Processing data as polars dataframe.\n",
      "Forcing normalization\n",
      "Dataset length:  200\n",
      "offline_stock_trade_data/WBA/trend_sma_fast_WBA_2018-02-05.json has 200 trajectories\n",
      "Processing data as polars dataframe.\n",
      "Forcing normalization\n",
      "Dataset length:  200\n",
      "offline_stock_trade_data/WBA/random_WBA_2018-02-05.json has 200 trajectories\n",
      "Processing data as polars dataframe.\n",
      "Forcing normalization\n",
      "Dataset length:  200\n",
      "offline_stock_trade_data/NXPI/random_NXPI_2018-02-05.json has 200 trajectories\n",
      "Processing data as polars dataframe.\n",
      "Forcing normalization\n",
      "Dataset length:  80\n",
      "offline_stock_trade_data/NXPI/stable-baselines-ddpg_NXPI_2018-02-05.json has 80 trajectories\n",
      "Processing data as polars dataframe.\n",
      "Forcing normalization\n",
      "Dataset length:  80\n",
      "offline_stock_trade_data/NXPI/stable-baselines-ppo_NXPI_2018-02-05.json has 80 trajectories\n",
      "Processing data as polars dataframe.\n",
      "Forcing normalization\n",
      "Dataset length:  200\n",
      "offline_stock_trade_data/NXPI/sentiment_react_NXPI_2018-02-05.json has 200 trajectories\n",
      "Processing data as polars dataframe.\n",
      "Forcing normalization\n",
      "Dataset length:  200\n",
      "offline_stock_trade_data/NXPI/trend_sma_fast_NXPI_2018-02-05.json has 200 trajectories\n",
      "Processing data as polars dataframe.\n",
      "Forcing normalization\n",
      "Dataset length:  200\n",
      "offline_stock_trade_data/NXPI/momentum_stoch_rsi_NXPI_2018-02-05.json has 200 trajectories\n",
      "Processing data as polars dataframe.\n",
      "Forcing normalization\n",
      "Dataset length:  80\n",
      "offline_stock_trade_data/NXPI/stable-baselines-a2c_NXPI_2018-02-05.json has 80 trajectories\n",
      "Processing data as polars dataframe.\n",
      "Forcing normalization\n",
      "Dataset length:  80\n",
      "offline_stock_trade_data/BA/stable-baselines-a2c_BA_2018-02-05.json has 80 trajectories\n",
      "Processing data as polars dataframe.\n",
      "Forcing normalization\n",
      "Dataset length:  200\n",
      "offline_stock_trade_data/BA/momentum_stoch_rsi_BA_2018-02-05.json has 200 trajectories\n",
      "Processing data as polars dataframe.\n",
      "Forcing normalization\n",
      "Dataset length:  200\n",
      "offline_stock_trade_data/BA/trend_sma_fast_BA_2018-02-05.json has 200 trajectories\n",
      "Processing data as polars dataframe.\n",
      "Forcing normalization\n",
      "Dataset length:  200\n",
      "offline_stock_trade_data/BA/random_BA_2018-02-05.json has 200 trajectories\n",
      "Processing data as polars dataframe.\n",
      "Forcing normalization\n",
      "Dataset length:  80\n",
      "offline_stock_trade_data/BA/stable-baselines-ddpg_BA_2018-02-05.json has 80 trajectories\n",
      "Processing data as polars dataframe.\n",
      "Forcing normalization\n",
      "Dataset length:  80\n",
      "offline_stock_trade_data/BA/stable-baselines-ppo_BA_2018-02-05.json has 80 trajectories\n",
      "Processing data as polars dataframe.\n",
      "Forcing normalization\n",
      "Dataset length:  200\n",
      "offline_stock_trade_data/BA/sentiment_react_BA_2018-02-05.json has 200 trajectories\n",
      "Processing data as polars dataframe.\n",
      "Forcing normalization\n",
      "Dataset length:  80\n",
      "offline_stock_trade_data/COST/stable-baselines-a2c_COST_2018-02-05.json has 80 trajectories\n",
      "Processing data as polars dataframe.\n",
      "Forcing normalization\n",
      "Dataset length:  200\n",
      "offline_stock_trade_data/COST/random_COST_2018-02-05.json has 200 trajectories\n",
      "Processing data as polars dataframe.\n",
      "Forcing normalization\n",
      "Dataset length:  200\n",
      "offline_stock_trade_data/COST/momentum_stoch_rsi_COST_2018-02-05.json has 200 trajectories\n",
      "Processing data as polars dataframe.\n",
      "Forcing normalization\n",
      "Dataset length:  80\n",
      "offline_stock_trade_data/COST/stable-baselines-ppo_COST_2018-02-05.json has 80 trajectories\n",
      "Processing data as polars dataframe.\n",
      "Forcing normalization\n",
      "Dataset length:  200\n",
      "offline_stock_trade_data/COST/trend_sma_fast_COST_2018-02-05.json has 200 trajectories\n",
      "Processing data as polars dataframe.\n",
      "Forcing normalization\n",
      "Dataset length:  80\n",
      "offline_stock_trade_data/COST/stable-baselines-ddpg_COST_2018-02-05.json has 80 trajectories\n",
      "Processing data as polars dataframe.\n",
      "Forcing normalization\n",
      "Dataset length:  200\n",
      "offline_stock_trade_data/COST/sentiment_react_COST_2018-02-05.json has 200 trajectories\n",
      "Processing data as polars dataframe.\n",
      "Forcing normalization\n",
      "Dataset length:  200\n",
      "offline_stock_trade_data/AZN/random_AZN_2018-02-05.json has 200 trajectories\n",
      "Processing data as polars dataframe.\n",
      "Forcing normalization\n",
      "Dataset length:  200\n",
      "offline_stock_trade_data/AZN/sentiment_react_AZN_2018-02-05.json has 200 trajectories\n",
      "Processing data as polars dataframe.\n",
      "Forcing normalization\n",
      "Dataset length:  80\n",
      "offline_stock_trade_data/AZN/stable-baselines-ddpg_AZN_2018-02-05.json has 80 trajectories\n",
      "Processing data as polars dataframe.\n",
      "Forcing normalization\n",
      "Dataset length:  80\n",
      "offline_stock_trade_data/AZN/stable-baselines-a2c_AZN_2018-02-05.json has 80 trajectories\n",
      "Processing data as polars dataframe.\n",
      "Forcing normalization\n",
      "Dataset length:  200\n",
      "offline_stock_trade_data/AZN/trend_sma_fast_AZN_2018-02-05.json has 200 trajectories\n",
      "Processing data as polars dataframe.\n",
      "Forcing normalization\n",
      "Dataset length:  200\n",
      "offline_stock_trade_data/AZN/momentum_stoch_rsi_AZN_2018-02-05.json has 200 trajectories\n",
      "Processing data as polars dataframe.\n",
      "Forcing normalization\n",
      "Dataset length:  80\n",
      "offline_stock_trade_data/AZN/stable-baselines-ppo_AZN_2018-02-05.json has 80 trajectories\n",
      "Processing data as polars dataframe.\n",
      "Forcing normalization\n",
      "Dataset length:  80\n",
      "offline_stock_trade_data/CSX/stable-baselines-a2c_CSX_2018-02-05.json has 80 trajectories\n",
      "Processing data as polars dataframe.\n",
      "Forcing normalization\n",
      "Dataset length:  200\n",
      "offline_stock_trade_data/CSX/trend_sma_fast_CSX_2018-02-05.json has 200 trajectories\n",
      "Processing data as polars dataframe.\n",
      "Forcing normalization\n",
      "Dataset length:  200\n",
      "offline_stock_trade_data/CSX/momentum_stoch_rsi_CSX_2018-02-05.json has 200 trajectories\n",
      "Processing data as polars dataframe.\n",
      "Forcing normalization\n",
      "Dataset length:  200\n",
      "offline_stock_trade_data/CSX/sentiment_react_CSX_2018-02-05.json has 200 trajectories\n",
      "Processing data as polars dataframe.\n",
      "Forcing normalization\n",
      "Dataset length:  200\n",
      "offline_stock_trade_data/CSX/random_CSX_2018-02-05.json has 200 trajectories\n",
      "Processing data as polars dataframe.\n",
      "Forcing normalization\n",
      "Dataset length:  80\n",
      "offline_stock_trade_data/CSX/stable-baselines-ddpg_CSX_2018-02-05.json has 80 trajectories\n",
      "Processing data as polars dataframe.\n",
      "Forcing normalization\n",
      "Dataset length:  80\n",
      "offline_stock_trade_data/CSX/stable-baselines-ppo_CSX_2018-02-05.json has 80 trajectories\n",
      "Processing data as polars dataframe.\n",
      "Forcing normalization\n",
      "Dataset length:  80\n",
      "offline_stock_trade_data/EXC/stable-baselines-ddpg_EXC_2018-02-05.json has 80 trajectories\n",
      "Processing data as polars dataframe.\n",
      "Forcing normalization\n",
      "Dataset length:  200\n",
      "offline_stock_trade_data/EXC/momentum_stoch_rsi_EXC_2018-02-05.json has 200 trajectories\n",
      "Processing data as polars dataframe.\n",
      "Forcing normalization\n",
      "Dataset length:  200\n",
      "offline_stock_trade_data/EXC/random_EXC_2018-02-05.json has 200 trajectories\n",
      "Processing data as polars dataframe.\n",
      "Forcing normalization\n",
      "Dataset length:  80\n",
      "offline_stock_trade_data/EXC/stable-baselines-a2c_EXC_2018-02-05.json has 80 trajectories\n",
      "Processing data as polars dataframe.\n",
      "Forcing normalization\n",
      "Dataset length:  200\n",
      "offline_stock_trade_data/EXC/trend_sma_fast_EXC_2018-02-05.json has 200 trajectories\n",
      "Processing data as polars dataframe.\n",
      "Forcing normalization\n",
      "Dataset length:  200\n",
      "offline_stock_trade_data/EXC/sentiment_react_EXC_2018-02-05.json has 200 trajectories\n",
      "Processing data as polars dataframe.\n",
      "Forcing normalization\n",
      "Dataset length:  80\n",
      "offline_stock_trade_data/EXC/stable-baselines-ppo_EXC_2018-02-05.json has 80 trajectories\n",
      "Processing data as polars dataframe.\n",
      "Forcing normalization\n",
      "Dataset length:  200\n",
      "offline_stock_trade_data/ZS/random_ZS_2018-02-05.json has 200 trajectories\n",
      "Processing data as polars dataframe.\n",
      "Forcing normalization\n",
      "Dataset length:  200\n",
      "offline_stock_trade_data/ZS/sentiment_react_ZS_2018-02-05.json has 200 trajectories\n",
      "Processing data as polars dataframe.\n",
      "Forcing normalization\n",
      "Dataset length:  200\n",
      "offline_stock_trade_data/ZS/momentum_stoch_rsi_ZS_2018-02-05.json has 200 trajectories\n",
      "Processing data as polars dataframe.\n",
      "Forcing normalization\n",
      "Dataset length:  200\n",
      "offline_stock_trade_data/ZS/trend_sma_fast_ZS_2018-02-05.json has 200 trajectories\n",
      "Processing data as polars dataframe.\n",
      "Forcing normalization\n",
      "Dataset length:  200\n",
      "offline_stock_trade_data/CVX/sentiment_react_CVX_2018-02-05.json has 200 trajectories\n",
      "Processing data as polars dataframe.\n",
      "Forcing normalization\n",
      "Dataset length:  200\n",
      "offline_stock_trade_data/CVX/momentum_stoch_rsi_CVX_2018-02-05.json has 200 trajectories\n",
      "Processing data as polars dataframe.\n",
      "Forcing normalization\n",
      "Dataset length:  200\n",
      "offline_stock_trade_data/CVX/random_CVX_2018-02-05.json has 200 trajectories\n",
      "Processing data as polars dataframe.\n",
      "Forcing normalization\n",
      "Dataset length:  80\n",
      "offline_stock_trade_data/CVX/stable-baselines-a2c_CVX_2018-02-05.json has 80 trajectories\n",
      "Processing data as polars dataframe.\n",
      "Forcing normalization\n",
      "Dataset length:  80\n",
      "offline_stock_trade_data/CVX/stable-baselines-ddpg_CVX_2018-02-05.json has 80 trajectories\n",
      "Processing data as polars dataframe.\n",
      "Forcing normalization\n",
      "Dataset length:  80\n",
      "offline_stock_trade_data/CVX/stable-baselines-ppo_CVX_2018-02-05.json has 80 trajectories\n",
      "Processing data as polars dataframe.\n",
      "Forcing normalization\n",
      "Dataset length:  200\n",
      "offline_stock_trade_data/CVX/trend_sma_fast_CVX_2018-02-05.json has 200 trajectories\n",
      "Processing data as polars dataframe.\n",
      "Forcing normalization\n",
      "Dataset length:  80\n",
      "offline_stock_trade_data/JPM/stable-baselines-ddpg_JPM_2018-02-05.json has 80 trajectories\n",
      "Processing data as polars dataframe.\n",
      "Forcing normalization\n",
      "Dataset length:  200\n",
      "offline_stock_trade_data/JPM/momentum_stoch_rsi_JPM_2018-02-05.json has 200 trajectories\n",
      "Processing data as polars dataframe.\n",
      "Forcing normalization\n",
      "Dataset length:  200\n",
      "offline_stock_trade_data/JPM/sentiment_react_JPM_2018-02-05.json has 200 trajectories\n",
      "Processing data as polars dataframe.\n",
      "Forcing normalization\n",
      "Dataset length:  200\n",
      "offline_stock_trade_data/JPM/random_JPM_2018-02-05.json has 200 trajectories\n",
      "Processing data as polars dataframe.\n",
      "Forcing normalization\n",
      "Dataset length:  80\n",
      "offline_stock_trade_data/JPM/stable-baselines-a2c_JPM_2018-02-05.json has 80 trajectories\n",
      "Processing data as polars dataframe.\n",
      "Forcing normalization\n",
      "Dataset length:  200\n",
      "offline_stock_trade_data/JPM/trend_sma_fast_JPM_2018-02-05.json has 200 trajectories\n",
      "Processing data as polars dataframe.\n",
      "Forcing normalization\n",
      "Dataset length:  80\n",
      "offline_stock_trade_data/JPM/stable-baselines-ppo_JPM_2018-02-05.json has 80 trajectories\n",
      "Processing data as polars dataframe.\n",
      "Forcing normalization\n",
      "Dataset length:  200\n",
      "offline_stock_trade_data/CCEP/trend_sma_fast_CCEP_2018-02-05.json has 200 trajectories\n",
      "Processing data as polars dataframe.\n",
      "Forcing normalization\n",
      "Dataset length:  80\n",
      "offline_stock_trade_data/CCEP/stable-baselines-a2c_CCEP_2018-02-05.json has 80 trajectories\n",
      "Processing data as polars dataframe.\n",
      "Forcing normalization\n",
      "Dataset length:  200\n",
      "offline_stock_trade_data/CCEP/sentiment_react_CCEP_2018-02-05.json has 200 trajectories\n",
      "Processing data as polars dataframe.\n",
      "Forcing normalization\n",
      "Dataset length:  80\n",
      "offline_stock_trade_data/CCEP/stable-baselines-ddpg_CCEP_2018-02-05.json has 80 trajectories\n",
      "Processing data as polars dataframe.\n",
      "Forcing normalization\n",
      "Dataset length:  200\n",
      "offline_stock_trade_data/CCEP/random_CCEP_2018-02-05.json has 200 trajectories\n",
      "Processing data as polars dataframe.\n",
      "Forcing normalization\n",
      "Dataset length:  80\n",
      "offline_stock_trade_data/CCEP/stable-baselines-ppo_CCEP_2018-02-05.json has 80 trajectories\n",
      "Processing data as polars dataframe.\n",
      "Forcing normalization\n",
      "Dataset length:  200\n",
      "offline_stock_trade_data/CCEP/momentum_stoch_rsi_CCEP_2018-02-05.json has 200 trajectories\n",
      "Processing data as polars dataframe.\n",
      "Forcing normalization\n",
      "Dataset length:  200\n",
      "offline_stock_trade_data/ADP/momentum_stoch_rsi_ADP_2018-02-05.json has 200 trajectories\n",
      "Processing data as polars dataframe.\n",
      "Forcing normalization\n",
      "Dataset length:  200\n",
      "offline_stock_trade_data/ADP/sentiment_react_ADP_2018-02-05.json has 200 trajectories\n",
      "Processing data as polars dataframe.\n",
      "Forcing normalization\n",
      "Dataset length:  80\n",
      "offline_stock_trade_data/ADP/stable-baselines-ppo_ADP_2018-02-05.json has 80 trajectories\n",
      "Processing data as polars dataframe.\n",
      "Forcing normalization\n",
      "Dataset length:  200\n",
      "offline_stock_trade_data/ADP/random_ADP_2018-02-05.json has 200 trajectories\n",
      "Processing data as polars dataframe.\n",
      "Forcing normalization\n",
      "Dataset length:  200\n",
      "offline_stock_trade_data/ADP/trend_sma_fast_ADP_2018-02-05.json has 200 trajectories\n",
      "Processing data as polars dataframe.\n",
      "Forcing normalization\n",
      "Dataset length:  80\n",
      "offline_stock_trade_data/ADP/stable-baselines-ddpg_ADP_2018-02-05.json has 80 trajectories\n",
      "Processing data as polars dataframe.\n",
      "Forcing normalization\n",
      "Dataset length:  80\n",
      "offline_stock_trade_data/ADP/stable-baselines-a2c_ADP_2018-02-05.json has 80 trajectories\n",
      "Processing data as polars dataframe.\n",
      "Forcing normalization\n",
      "Dataset length:  200\n",
      "offline_stock_trade_data/ODFL/random_ODFL_2018-02-05.json has 200 trajectories\n",
      "Processing data as polars dataframe.\n",
      "Forcing normalization\n",
      "Dataset length:  80\n",
      "offline_stock_trade_data/ODFL/stable-baselines-ddpg_ODFL_2018-02-05.json has 80 trajectories\n",
      "Processing data as polars dataframe.\n",
      "Forcing normalization\n",
      "Dataset length:  200\n",
      "offline_stock_trade_data/ODFL/sentiment_react_ODFL_2018-02-05.json has 200 trajectories\n",
      "Processing data as polars dataframe.\n",
      "Forcing normalization\n",
      "Dataset length:  80\n",
      "offline_stock_trade_data/ODFL/stable-baselines-a2c_ODFL_2018-02-05.json has 80 trajectories\n",
      "Processing data as polars dataframe.\n",
      "Forcing normalization\n",
      "Dataset length:  200\n",
      "offline_stock_trade_data/ODFL/momentum_stoch_rsi_ODFL_2018-02-05.json has 200 trajectories\n",
      "Processing data as polars dataframe.\n",
      "Forcing normalization\n",
      "Dataset length:  80\n",
      "offline_stock_trade_data/ODFL/stable-baselines-ppo_ODFL_2018-02-05.json has 80 trajectories\n",
      "Processing data as polars dataframe.\n",
      "Forcing normalization\n",
      "Dataset length:  200\n",
      "offline_stock_trade_data/ODFL/trend_sma_fast_ODFL_2018-02-05.json has 200 trajectories\n",
      "Processing data as polars dataframe.\n",
      "Forcing normalization\n",
      "Dataset length:  200\n",
      "offline_stock_trade_data/ILMN/momentum_stoch_rsi_ILMN_2018-02-05.json has 200 trajectories\n",
      "Processing data as polars dataframe.\n",
      "Forcing normalization\n",
      "Dataset length:  80\n",
      "offline_stock_trade_data/ILMN/stable-baselines-ppo_ILMN_2018-02-05.json has 80 trajectories\n",
      "Processing data as polars dataframe.\n",
      "Forcing normalization\n",
      "Dataset length:  200\n",
      "offline_stock_trade_data/ILMN/random_ILMN_2018-02-05.json has 200 trajectories\n",
      "Processing data as polars dataframe.\n",
      "Forcing normalization\n",
      "Dataset length:  200\n",
      "offline_stock_trade_data/ILMN/trend_sma_fast_ILMN_2018-02-05.json has 200 trajectories\n",
      "Processing data as polars dataframe.\n",
      "Forcing normalization\n",
      "Dataset length:  80\n",
      "offline_stock_trade_data/ILMN/stable-baselines-a2c_ILMN_2018-02-05.json has 80 trajectories\n",
      "Processing data as polars dataframe.\n",
      "Forcing normalization\n",
      "Dataset length:  80\n",
      "offline_stock_trade_data/ILMN/stable-baselines-ddpg_ILMN_2018-02-05.json has 80 trajectories\n",
      "Processing data as polars dataframe.\n",
      "Forcing normalization\n",
      "Dataset length:  200\n",
      "offline_stock_trade_data/ILMN/sentiment_react_ILMN_2018-02-05.json has 200 trajectories\n",
      "Processing data as polars dataframe.\n",
      "Forcing normalization\n",
      "Dataset length:  200\n",
      "offline_stock_trade_data/TTWO/momentum_stoch_rsi_TTWO_2018-02-05.json has 200 trajectories\n",
      "Processing data as polars dataframe.\n",
      "Forcing normalization\n",
      "Dataset length:  200\n",
      "offline_stock_trade_data/TTWO/random_TTWO_2018-02-05.json has 200 trajectories\n",
      "Processing data as polars dataframe.\n",
      "Forcing normalization\n",
      "Dataset length:  200\n",
      "offline_stock_trade_data/TTWO/sentiment_react_TTWO_2018-02-05.json has 200 trajectories\n",
      "Processing data as polars dataframe.\n",
      "Forcing normalization\n",
      "Dataset length:  80\n",
      "offline_stock_trade_data/TTWO/stable-baselines-ddpg_TTWO_2018-02-05.json has 80 trajectories\n",
      "Processing data as polars dataframe.\n",
      "Forcing normalization\n",
      "Dataset length:  80\n",
      "offline_stock_trade_data/TTWO/stable-baselines-ppo_TTWO_2018-02-05.json has 80 trajectories\n",
      "Processing data as polars dataframe.\n",
      "Forcing normalization\n",
      "Dataset length:  200\n",
      "offline_stock_trade_data/TTWO/trend_sma_fast_TTWO_2018-02-05.json has 200 trajectories\n",
      "Processing data as polars dataframe.\n",
      "Forcing normalization\n",
      "Dataset length:  80\n",
      "offline_stock_trade_data/TTWO/stable-baselines-a2c_TTWO_2018-02-05.json has 80 trajectories\n",
      "Processing data as polars dataframe.\n",
      "Forcing normalization\n",
      "Dataset length:  200\n",
      "offline_stock_trade_data/AMD/random_AMD_2018-02-05.json has 200 trajectories\n",
      "Processing data as polars dataframe.\n",
      "Forcing normalization\n",
      "Dataset length:  200\n",
      "offline_stock_trade_data/AMD/sentiment_react_AMD_2018-02-05.json has 200 trajectories\n",
      "Processing data as polars dataframe.\n",
      "Forcing normalization\n",
      "Dataset length:  80\n",
      "offline_stock_trade_data/AMD/stable-baselines-ddpg_AMD_2018-02-05.json has 80 trajectories\n",
      "Processing data as polars dataframe.\n",
      "Forcing normalization\n",
      "Dataset length:  80\n",
      "offline_stock_trade_data/AMD/stable-baselines-ppo_AMD_2018-02-05.json has 80 trajectories\n",
      "Processing data as polars dataframe.\n",
      "Forcing normalization\n",
      "Dataset length:  80\n",
      "offline_stock_trade_data/AMD/stable-baselines-a2c_AMD_2018-02-05.json has 80 trajectories\n",
      "Processing data as polars dataframe.\n",
      "Forcing normalization\n",
      "Dataset length:  200\n",
      "offline_stock_trade_data/AMD/trend_sma_fast_AMD_2018-02-05.json has 200 trajectories\n",
      "Processing data as polars dataframe.\n",
      "Forcing normalization\n",
      "Dataset length:  200\n",
      "offline_stock_trade_data/AMD/momentum_stoch_rsi_AMD_2018-02-05.json has 200 trajectories\n",
      "Processing data as polars dataframe.\n",
      "Forcing normalization\n",
      "Dataset length:  80\n",
      "offline_stock_trade_data/V/stable-baselines-a2c_V_2018-02-05.json has 80 trajectories\n",
      "Processing data as polars dataframe.\n",
      "Forcing normalization\n",
      "Dataset length:  200\n",
      "offline_stock_trade_data/V/random_V_2018-02-05.json has 200 trajectories\n",
      "Processing data as polars dataframe.\n",
      "Forcing normalization\n",
      "Dataset length:  80\n",
      "offline_stock_trade_data/V/stable-baselines-ppo_V_2018-02-05.json has 80 trajectories\n",
      "Processing data as polars dataframe.\n",
      "Forcing normalization\n",
      "Dataset length:  200\n",
      "offline_stock_trade_data/V/sentiment_react_V_2018-02-05.json has 200 trajectories\n",
      "Processing data as polars dataframe.\n",
      "Forcing normalization\n",
      "Dataset length:  200\n",
      "offline_stock_trade_data/V/trend_sma_fast_V_2018-02-05.json has 200 trajectories\n",
      "Processing data as polars dataframe.\n",
      "Forcing normalization\n",
      "Dataset length:  200\n",
      "offline_stock_trade_data/V/momentum_stoch_rsi_V_2018-02-05.json has 200 trajectories\n",
      "Processing data as polars dataframe.\n",
      "Forcing normalization\n",
      "Dataset length:  80\n",
      "offline_stock_trade_data/V/stable-baselines-ddpg_V_2018-02-05.json has 80 trajectories\n",
      "Processing data as polars dataframe.\n",
      "Forcing normalization\n",
      "Dataset length:  200\n",
      "offline_stock_trade_data/GILD/sentiment_react_GILD_2018-02-05.json has 200 trajectories\n",
      "Processing data as polars dataframe.\n",
      "Forcing normalization\n",
      "Dataset length:  80\n",
      "offline_stock_trade_data/GILD/stable-baselines-ppo_GILD_2018-02-05.json has 80 trajectories\n",
      "Processing data as polars dataframe.\n",
      "Forcing normalization\n",
      "Dataset length:  80\n",
      "offline_stock_trade_data/GILD/stable-baselines-ddpg_GILD_2018-02-05.json has 80 trajectories\n",
      "Processing data as polars dataframe.\n",
      "Forcing normalization\n",
      "Dataset length:  200\n",
      "offline_stock_trade_data/GILD/momentum_stoch_rsi_GILD_2018-02-05.json has 200 trajectories\n",
      "Processing data as polars dataframe.\n",
      "Forcing normalization\n",
      "Dataset length:  200\n",
      "offline_stock_trade_data/GILD/random_GILD_2018-02-05.json has 200 trajectories\n",
      "Processing data as polars dataframe.\n",
      "Forcing normalization\n",
      "Dataset length:  80\n",
      "offline_stock_trade_data/GILD/stable-baselines-a2c_GILD_2018-02-05.json has 80 trajectories\n",
      "Processing data as polars dataframe.\n",
      "Forcing normalization\n",
      "Dataset length:  200\n",
      "offline_stock_trade_data/GILD/trend_sma_fast_GILD_2018-02-05.json has 200 trajectories\n",
      "Processing data as polars dataframe.\n",
      "Forcing normalization\n",
      "Dataset length:  200\n",
      "offline_stock_trade_data/MDB/momentum_stoch_rsi_MDB_2018-02-05.json has 200 trajectories\n",
      "Processing data as polars dataframe.\n",
      "Forcing normalization\n",
      "Dataset length:  200\n",
      "offline_stock_trade_data/MDB/random_MDB_2018-02-05.json has 200 trajectories\n",
      "Processing data as polars dataframe.\n",
      "Forcing normalization\n",
      "Dataset length:  200\n",
      "offline_stock_trade_data/MDB/trend_sma_fast_MDB_2018-02-05.json has 200 trajectories\n",
      "Processing data as polars dataframe.\n",
      "Forcing normalization\n",
      "Dataset length:  200\n",
      "offline_stock_trade_data/MDB/sentiment_react_MDB_2018-02-05.json has 200 trajectories\n",
      "Processing data as polars dataframe.\n",
      "Forcing normalization\n",
      "Dataset length:  80\n",
      "offline_stock_trade_data/MDB/stable-baselines-a2c_MDB_2018-02-05.json has 80 trajectories\n",
      "Processing data as polars dataframe.\n",
      "Forcing normalization\n",
      "Dataset length:  80\n",
      "offline_stock_trade_data/MDB/stable-baselines-ddpg_MDB_2018-02-05.json has 80 trajectories\n",
      "Processing data as polars dataframe.\n",
      "Forcing normalization\n",
      "Dataset length:  80\n",
      "offline_stock_trade_data/MDB/stable-baselines-ppo_MDB_2018-02-05.json has 80 trajectories\n",
      "Processing data as polars dataframe.\n",
      "Forcing normalization\n",
      "Dataset length:  80\n",
      "offline_stock_trade_data/LULU/stable-baselines-ddpg_LULU_2018-02-05.json has 80 trajectories\n",
      "Processing data as polars dataframe.\n",
      "Forcing normalization\n",
      "Dataset length:  80\n",
      "offline_stock_trade_data/LULU/stable-baselines-ppo_LULU_2018-02-05.json has 80 trajectories\n",
      "Processing data as polars dataframe.\n",
      "Forcing normalization\n",
      "Dataset length:  80\n",
      "offline_stock_trade_data/LULU/stable-baselines-a2c_LULU_2018-02-05.json has 80 trajectories\n",
      "Processing data as polars dataframe.\n",
      "Forcing normalization\n",
      "Dataset length:  200\n",
      "offline_stock_trade_data/LULU/sentiment_react_LULU_2018-02-05.json has 200 trajectories\n",
      "Processing data as polars dataframe.\n",
      "Forcing normalization\n",
      "Dataset length:  200\n",
      "offline_stock_trade_data/LULU/random_LULU_2018-02-05.json has 200 trajectories\n",
      "Processing data as polars dataframe.\n",
      "Forcing normalization\n",
      "Dataset length:  200\n",
      "offline_stock_trade_data/LULU/momentum_stoch_rsi_LULU_2018-02-05.json has 200 trajectories\n",
      "Processing data as polars dataframe.\n",
      "Forcing normalization\n",
      "Dataset length:  200\n",
      "offline_stock_trade_data/LULU/trend_sma_fast_LULU_2018-02-05.json has 200 trajectories\n",
      "Processing data as polars dataframe.\n",
      "Forcing normalization\n",
      "Dataset length:  80\n",
      "offline_stock_trade_data/FANG/stable-baselines-ddpg_FANG_2018-02-05.json has 80 trajectories\n",
      "Processing data as polars dataframe.\n",
      "Forcing normalization\n",
      "Dataset length:  80\n",
      "offline_stock_trade_data/FANG/stable-baselines-a2c_FANG_2018-02-05.json has 80 trajectories\n",
      "Processing data as polars dataframe.\n",
      "Forcing normalization\n",
      "Dataset length:  200\n",
      "offline_stock_trade_data/FANG/trend_sma_fast_FANG_2018-02-05.json has 200 trajectories\n",
      "Processing data as polars dataframe.\n",
      "Forcing normalization\n",
      "Dataset length:  200\n",
      "offline_stock_trade_data/FANG/momentum_stoch_rsi_FANG_2018-02-05.json has 200 trajectories\n",
      "Processing data as polars dataframe.\n",
      "Forcing normalization\n",
      "Dataset length:  80\n",
      "offline_stock_trade_data/FANG/stable-baselines-ppo_FANG_2018-02-05.json has 80 trajectories\n",
      "Processing data as polars dataframe.\n",
      "Forcing normalization\n",
      "Dataset length:  200\n",
      "offline_stock_trade_data/FANG/random_FANG_2018-02-05.json has 200 trajectories\n",
      "Processing data as polars dataframe.\n",
      "Forcing normalization\n",
      "Dataset length:  200\n",
      "offline_stock_trade_data/FANG/sentiment_react_FANG_2018-02-05.json has 200 trajectories\n",
      "Processing data as polars dataframe.\n",
      "Forcing normalization\n",
      "Dataset length:  80\n",
      "offline_stock_trade_data/GS/stable-baselines-ddpg_GS_2018-02-05.json has 80 trajectories\n",
      "Processing data as polars dataframe.\n",
      "Forcing normalization\n",
      "Dataset length:  200\n",
      "offline_stock_trade_data/GS/sentiment_react_GS_2018-02-05.json has 200 trajectories\n",
      "Processing data as polars dataframe.\n",
      "Forcing normalization\n",
      "Dataset length:  80\n",
      "offline_stock_trade_data/GS/stable-baselines-ppo_GS_2018-02-05.json has 80 trajectories\n",
      "Processing data as polars dataframe.\n",
      "Forcing normalization\n",
      "Dataset length:  200\n",
      "offline_stock_trade_data/GS/trend_sma_fast_GS_2018-02-05.json has 200 trajectories\n",
      "Processing data as polars dataframe.\n",
      "Forcing normalization\n",
      "Dataset length:  80\n",
      "offline_stock_trade_data/GS/stable-baselines-a2c_GS_2018-02-05.json has 80 trajectories\n",
      "Processing data as polars dataframe.\n",
      "Forcing normalization\n",
      "Dataset length:  200\n",
      "offline_stock_trade_data/GS/momentum_stoch_rsi_GS_2018-02-05.json has 200 trajectories\n",
      "Processing data as polars dataframe.\n",
      "Forcing normalization\n",
      "Dataset length:  200\n",
      "offline_stock_trade_data/GS/random_GS_2018-02-05.json has 200 trajectories\n",
      "Processing data as polars dataframe.\n",
      "Forcing normalization\n",
      "Dataset length:  200\n",
      "offline_stock_trade_data/WBD/random_WBD_2018-02-05.json has 200 trajectories\n",
      "Processing data as polars dataframe.\n",
      "Forcing normalization\n",
      "Dataset length:  200\n",
      "offline_stock_trade_data/WBD/trend_sma_fast_WBD_2018-02-05.json has 200 trajectories\n",
      "Processing data as polars dataframe.\n",
      "Forcing normalization\n",
      "Dataset length:  80\n",
      "offline_stock_trade_data/WBD/stable-baselines-ppo_WBD_2018-02-05.json has 80 trajectories\n",
      "Processing data as polars dataframe.\n",
      "Forcing normalization\n",
      "Dataset length:  80\n",
      "offline_stock_trade_data/WBD/stable-baselines-a2c_WBD_2018-02-05.json has 80 trajectories\n",
      "Processing data as polars dataframe.\n",
      "Forcing normalization\n",
      "Dataset length:  80\n",
      "offline_stock_trade_data/WBD/stable-baselines-ddpg_WBD_2018-02-05.json has 80 trajectories\n",
      "Processing data as polars dataframe.\n",
      "Forcing normalization\n",
      "Dataset length:  200\n",
      "offline_stock_trade_data/WBD/sentiment_react_WBD_2018-02-05.json has 200 trajectories\n",
      "Processing data as polars dataframe.\n",
      "Forcing normalization\n",
      "Dataset length:  200\n",
      "offline_stock_trade_data/WBD/momentum_stoch_rsi_WBD_2018-02-05.json has 200 trajectories\n",
      "Processing data as polars dataframe.\n",
      "Forcing normalization\n",
      "Dataset length:  200\n",
      "offline_stock_trade_data/PCAR/trend_sma_fast_PCAR_2018-02-05.json has 200 trajectories\n",
      "Processing data as polars dataframe.\n",
      "Forcing normalization\n",
      "Dataset length:  80\n",
      "offline_stock_trade_data/PCAR/stable-baselines-ddpg_PCAR_2018-02-05.json has 80 trajectories\n",
      "Processing data as polars dataframe.\n",
      "Forcing normalization\n",
      "Dataset length:  200\n",
      "offline_stock_trade_data/PCAR/momentum_stoch_rsi_PCAR_2018-02-05.json has 200 trajectories\n",
      "Processing data as polars dataframe.\n",
      "Forcing normalization\n",
      "Dataset length:  200\n",
      "offline_stock_trade_data/PCAR/random_PCAR_2018-02-05.json has 200 trajectories\n",
      "Processing data as polars dataframe.\n",
      "Forcing normalization\n",
      "Dataset length:  200\n",
      "offline_stock_trade_data/PCAR/sentiment_react_PCAR_2018-02-05.json has 200 trajectories\n",
      "Processing data as polars dataframe.\n",
      "Forcing normalization\n",
      "Dataset length:  80\n",
      "offline_stock_trade_data/PCAR/stable-baselines-a2c_PCAR_2018-02-05.json has 80 trajectories\n",
      "Processing data as polars dataframe.\n",
      "Forcing normalization\n",
      "Dataset length:  80\n",
      "offline_stock_trade_data/PCAR/stable-baselines-ppo_PCAR_2018-02-05.json has 80 trajectories\n",
      "Processing data as polars dataframe.\n",
      "Forcing normalization\n",
      "Dataset length:  200\n",
      "offline_stock_trade_data/EA/momentum_stoch_rsi_EA_2018-02-05.json has 200 trajectories\n",
      "Processing data as polars dataframe.\n",
      "Forcing normalization\n",
      "Dataset length:  200\n",
      "offline_stock_trade_data/EA/trend_sma_fast_EA_2018-02-05.json has 200 trajectories\n",
      "Processing data as polars dataframe.\n",
      "Forcing normalization\n",
      "Dataset length:  80\n",
      "offline_stock_trade_data/EA/stable-baselines-ddpg_EA_2018-02-05.json has 80 trajectories\n",
      "Processing data as polars dataframe.\n",
      "Forcing normalization\n",
      "Dataset length:  200\n",
      "offline_stock_trade_data/EA/sentiment_react_EA_2018-02-05.json has 200 trajectories\n",
      "Processing data as polars dataframe.\n",
      "Forcing normalization\n",
      "Dataset length:  80\n",
      "offline_stock_trade_data/EA/stable-baselines-ppo_EA_2018-02-05.json has 80 trajectories\n",
      "Processing data as polars dataframe.\n",
      "Forcing normalization\n",
      "Dataset length:  80\n",
      "offline_stock_trade_data/EA/stable-baselines-a2c_EA_2018-02-05.json has 80 trajectories\n",
      "Processing data as polars dataframe.\n",
      "Forcing normalization\n",
      "Dataset length:  200\n",
      "offline_stock_trade_data/EA/random_EA_2018-02-05.json has 200 trajectories\n",
      "Processing data as polars dataframe.\n",
      "Forcing normalization\n",
      "Dataset length:  200\n",
      "offline_stock_trade_data/MAR/trend_sma_fast_MAR_2018-02-05.json has 200 trajectories\n",
      "Processing data as polars dataframe.\n",
      "Forcing normalization\n",
      "Dataset length:  80\n",
      "offline_stock_trade_data/MAR/stable-baselines-a2c_MAR_2018-02-05.json has 80 trajectories\n",
      "Processing data as polars dataframe.\n",
      "Forcing normalization\n",
      "Dataset length:  200\n",
      "offline_stock_trade_data/MAR/random_MAR_2018-02-05.json has 200 trajectories\n",
      "Processing data as polars dataframe.\n",
      "Forcing normalization\n",
      "Dataset length:  200\n",
      "offline_stock_trade_data/MAR/sentiment_react_MAR_2018-02-05.json has 200 trajectories\n",
      "Processing data as polars dataframe.\n",
      "Forcing normalization\n",
      "Dataset length:  200\n",
      "offline_stock_trade_data/MAR/momentum_stoch_rsi_MAR_2018-02-05.json has 200 trajectories\n",
      "Processing data as polars dataframe.\n",
      "Forcing normalization\n",
      "Dataset length:  80\n",
      "offline_stock_trade_data/MAR/stable-baselines-ddpg_MAR_2018-02-05.json has 80 trajectories\n",
      "Processing data as polars dataframe.\n",
      "Forcing normalization\n",
      "Dataset length:  80\n",
      "offline_stock_trade_data/MAR/stable-baselines-ppo_MAR_2018-02-05.json has 80 trajectories\n",
      "Processing data as polars dataframe.\n",
      "Forcing normalization\n",
      "Dataset length:  200\n",
      "offline_stock_trade_data/INTU/trend_sma_fast_INTU_2018-02-05.json has 200 trajectories\n",
      "Processing data as polars dataframe.\n",
      "Forcing normalization\n",
      "Dataset length:  80\n",
      "offline_stock_trade_data/INTU/stable-baselines-a2c_INTU_2018-02-05.json has 80 trajectories\n",
      "Processing data as polars dataframe.\n",
      "Forcing normalization\n",
      "Dataset length:  200\n",
      "offline_stock_trade_data/INTU/momentum_stoch_rsi_INTU_2018-02-05.json has 200 trajectories\n",
      "Processing data as polars dataframe.\n",
      "Forcing normalization\n",
      "Dataset length:  200\n",
      "offline_stock_trade_data/INTU/sentiment_react_INTU_2018-02-05.json has 200 trajectories\n",
      "Processing data as polars dataframe.\n",
      "Forcing normalization\n",
      "Dataset length:  80\n",
      "offline_stock_trade_data/INTU/stable-baselines-ddpg_INTU_2018-02-05.json has 80 trajectories\n",
      "Processing data as polars dataframe.\n",
      "Forcing normalization\n",
      "Dataset length:  80\n",
      "offline_stock_trade_data/INTU/stable-baselines-ppo_INTU_2018-02-05.json has 80 trajectories\n",
      "Processing data as polars dataframe.\n",
      "Forcing normalization\n",
      "Dataset length:  200\n",
      "offline_stock_trade_data/INTU/random_INTU_2018-02-05.json has 200 trajectories\n",
      "Processing data as polars dataframe.\n",
      "Forcing normalization\n",
      "Dataset length:  80\n",
      "offline_stock_trade_data/CAT/stable-baselines-a2c_CAT_2018-02-05.json has 80 trajectories\n",
      "Processing data as polars dataframe.\n",
      "Forcing normalization\n",
      "Dataset length:  80\n",
      "offline_stock_trade_data/CAT/stable-baselines-ddpg_CAT_2018-02-05.json has 80 trajectories\n",
      "Processing data as polars dataframe.\n",
      "Forcing normalization\n",
      "Dataset length:  200\n",
      "offline_stock_trade_data/CAT/random_CAT_2018-02-05.json has 200 trajectories\n",
      "Processing data as polars dataframe.\n",
      "Forcing normalization\n",
      "Dataset length:  80\n",
      "offline_stock_trade_data/CAT/stable-baselines-ppo_CAT_2018-02-05.json has 80 trajectories\n",
      "Processing data as polars dataframe.\n",
      "Forcing normalization\n",
      "Dataset length:  200\n",
      "offline_stock_trade_data/CAT/trend_sma_fast_CAT_2018-02-05.json has 200 trajectories\n",
      "Processing data as polars dataframe.\n",
      "Forcing normalization\n",
      "Dataset length:  200\n",
      "offline_stock_trade_data/CAT/momentum_stoch_rsi_CAT_2018-02-05.json has 200 trajectories\n",
      "Processing data as polars dataframe.\n",
      "Forcing normalization\n",
      "Dataset length:  200\n",
      "offline_stock_trade_data/CAT/sentiment_react_CAT_2018-02-05.json has 200 trajectories\n",
      "Processing data as polars dataframe.\n",
      "Forcing normalization\n",
      "Dataset length:  200\n",
      "offline_stock_trade_data/ISRG/sentiment_react_ISRG_2018-02-05.json has 200 trajectories\n",
      "Processing data as polars dataframe.\n",
      "Forcing normalization\n",
      "Dataset length:  200\n",
      "offline_stock_trade_data/ISRG/momentum_stoch_rsi_ISRG_2018-02-05.json has 200 trajectories\n",
      "Processing data as polars dataframe.\n",
      "Forcing normalization\n",
      "Dataset length:  80\n",
      "offline_stock_trade_data/ISRG/stable-baselines-ddpg_ISRG_2018-02-05.json has 80 trajectories\n",
      "Processing data as polars dataframe.\n",
      "Forcing normalization\n",
      "Dataset length:  80\n",
      "offline_stock_trade_data/ISRG/stable-baselines-a2c_ISRG_2018-02-05.json has 80 trajectories\n",
      "Processing data as polars dataframe.\n",
      "Forcing normalization\n",
      "Dataset length:  200\n",
      "offline_stock_trade_data/ISRG/trend_sma_fast_ISRG_2018-02-05.json has 200 trajectories\n",
      "Processing data as polars dataframe.\n",
      "Forcing normalization\n",
      "Dataset length:  80\n",
      "offline_stock_trade_data/ISRG/stable-baselines-ppo_ISRG_2018-02-05.json has 80 trajectories\n",
      "Processing data as polars dataframe.\n",
      "Forcing normalization\n",
      "Dataset length:  200\n",
      "offline_stock_trade_data/ISRG/random_ISRG_2018-02-05.json has 200 trajectories\n",
      "Processing data as polars dataframe.\n",
      "Forcing normalization\n",
      "Dataset length:  80\n",
      "offline_stock_trade_data/ADSK/stable-baselines-a2c_ADSK_2018-02-05.json has 80 trajectories\n",
      "Processing data as polars dataframe.\n",
      "Forcing normalization\n",
      "Dataset length:  200\n",
      "offline_stock_trade_data/ADSK/sentiment_react_ADSK_2018-02-05.json has 200 trajectories\n",
      "Processing data as polars dataframe.\n",
      "Forcing normalization\n",
      "Dataset length:  200\n",
      "offline_stock_trade_data/ADSK/trend_sma_fast_ADSK_2018-02-05.json has 200 trajectories\n",
      "Processing data as polars dataframe.\n",
      "Forcing normalization\n",
      "Dataset length:  200\n",
      "offline_stock_trade_data/ADSK/random_ADSK_2018-02-05.json has 200 trajectories\n",
      "Processing data as polars dataframe.\n",
      "Forcing normalization\n",
      "Dataset length:  80\n",
      "offline_stock_trade_data/ADSK/stable-baselines-ddpg_ADSK_2018-02-05.json has 80 trajectories\n",
      "Processing data as polars dataframe.\n",
      "Forcing normalization\n",
      "Dataset length:  80\n",
      "offline_stock_trade_data/ADSK/stable-baselines-ppo_ADSK_2018-02-05.json has 80 trajectories\n",
      "Processing data as polars dataframe.\n",
      "Forcing normalization\n",
      "Dataset length:  200\n",
      "offline_stock_trade_data/ADSK/momentum_stoch_rsi_ADSK_2018-02-05.json has 200 trajectories\n",
      "Processing data as polars dataframe.\n",
      "Forcing normalization\n",
      "Dataset length:  200\n",
      "offline_stock_trade_data/MRK/momentum_stoch_rsi_MRK_2018-02-05.json has 200 trajectories\n",
      "Processing data as polars dataframe.\n",
      "Forcing normalization\n",
      "Dataset length:  80\n",
      "offline_stock_trade_data/MRK/stable-baselines-ppo_MRK_2018-02-05.json has 80 trajectories\n",
      "Processing data as polars dataframe.\n",
      "Forcing normalization\n",
      "Dataset length:  80\n",
      "offline_stock_trade_data/MRK/stable-baselines-ddpg_MRK_2018-02-05.json has 80 trajectories\n",
      "Processing data as polars dataframe.\n",
      "Forcing normalization\n",
      "Dataset length:  200\n",
      "offline_stock_trade_data/MRK/sentiment_react_MRK_2018-02-05.json has 200 trajectories\n",
      "Processing data as polars dataframe.\n",
      "Forcing normalization\n",
      "Dataset length:  80\n",
      "offline_stock_trade_data/MRK/stable-baselines-a2c_MRK_2018-02-05.json has 80 trajectories\n",
      "Processing data as polars dataframe.\n",
      "Forcing normalization\n",
      "Dataset length:  200\n",
      "offline_stock_trade_data/MRK/trend_sma_fast_MRK_2018-02-05.json has 200 trajectories\n",
      "Processing data as polars dataframe.\n",
      "Forcing normalization\n",
      "Dataset length:  200\n",
      "offline_stock_trade_data/MRK/random_MRK_2018-02-05.json has 200 trajectories\n",
      "Processing data as polars dataframe.\n",
      "Forcing normalization\n",
      "Dataset length:  80\n",
      "offline_stock_trade_data/REGN/stable-baselines-a2c_REGN_2018-02-05.json has 80 trajectories\n",
      "Processing data as polars dataframe.\n",
      "Forcing normalization\n",
      "Dataset length:  80\n",
      "offline_stock_trade_data/REGN/stable-baselines-ppo_REGN_2018-02-05.json has 80 trajectories\n",
      "Processing data as polars dataframe.\n",
      "Forcing normalization\n",
      "Dataset length:  80\n",
      "offline_stock_trade_data/REGN/stable-baselines-ddpg_REGN_2018-02-05.json has 80 trajectories\n",
      "Processing data as polars dataframe.\n",
      "Forcing normalization\n",
      "Dataset length:  200\n",
      "offline_stock_trade_data/REGN/momentum_stoch_rsi_REGN_2018-02-05.json has 200 trajectories\n",
      "Processing data as polars dataframe.\n",
      "Forcing normalization\n",
      "Dataset length:  200\n",
      "offline_stock_trade_data/REGN/trend_sma_fast_REGN_2018-02-05.json has 200 trajectories\n",
      "Processing data as polars dataframe.\n",
      "Forcing normalization\n",
      "Dataset length:  200\n",
      "offline_stock_trade_data/REGN/random_REGN_2018-02-05.json has 200 trajectories\n",
      "Processing data as polars dataframe.\n",
      "Forcing normalization\n",
      "Dataset length:  200\n",
      "offline_stock_trade_data/REGN/sentiment_react_REGN_2018-02-05.json has 200 trajectories\n",
      "Processing data as polars dataframe.\n",
      "Forcing normalization\n",
      "Dataset length:  200\n",
      "offline_stock_trade_data/PG/random_PG_2018-02-05.json has 200 trajectories\n",
      "Processing data as polars dataframe.\n",
      "Forcing normalization\n",
      "Dataset length:  80\n",
      "offline_stock_trade_data/PG/stable-baselines-a2c_PG_2018-02-05.json has 80 trajectories\n",
      "Processing data as polars dataframe.\n",
      "Forcing normalization\n",
      "Dataset length:  80\n",
      "offline_stock_trade_data/PG/stable-baselines-ddpg_PG_2018-02-05.json has 80 trajectories\n",
      "Processing data as polars dataframe.\n",
      "Forcing normalization\n",
      "Dataset length:  200\n",
      "offline_stock_trade_data/PG/trend_sma_fast_PG_2018-02-05.json has 200 trajectories\n",
      "Processing data as polars dataframe.\n",
      "Forcing normalization\n",
      "Dataset length:  200\n",
      "offline_stock_trade_data/PG/sentiment_react_PG_2018-02-05.json has 200 trajectories\n",
      "Processing data as polars dataframe.\n",
      "Forcing normalization\n",
      "Dataset length:  200\n",
      "offline_stock_trade_data/PG/momentum_stoch_rsi_PG_2018-02-05.json has 200 trajectories\n",
      "Processing data as polars dataframe.\n",
      "Forcing normalization\n",
      "Dataset length:  80\n",
      "offline_stock_trade_data/PG/stable-baselines-ppo_PG_2018-02-05.json has 80 trajectories\n",
      "Processing data as polars dataframe.\n",
      "Forcing normalization\n",
      "Dataset length:  200\n",
      "offline_stock_trade_data/FTNT/momentum_stoch_rsi_FTNT_2018-02-05.json has 200 trajectories\n",
      "Processing data as polars dataframe.\n",
      "Forcing normalization\n",
      "Dataset length:  200\n",
      "offline_stock_trade_data/FTNT/random_FTNT_2018-02-05.json has 200 trajectories\n",
      "Processing data as polars dataframe.\n",
      "Forcing normalization\n",
      "Dataset length:  200\n",
      "offline_stock_trade_data/FTNT/trend_sma_fast_FTNT_2018-02-05.json has 200 trajectories\n",
      "Processing data as polars dataframe.\n",
      "Forcing normalization\n",
      "Dataset length:  200\n",
      "offline_stock_trade_data/FTNT/sentiment_react_FTNT_2018-02-05.json has 200 trajectories\n",
      "Processing data as polars dataframe.\n",
      "Forcing normalization\n",
      "Dataset length:  200\n",
      "offline_stock_trade_data/ROST/sentiment_react_ROST_2018-02-05.json has 200 trajectories\n",
      "Processing data as polars dataframe.\n",
      "Forcing normalization\n",
      "Dataset length:  200\n",
      "offline_stock_trade_data/ROST/momentum_stoch_rsi_ROST_2018-02-05.json has 200 trajectories\n",
      "Processing data as polars dataframe.\n",
      "Forcing normalization\n",
      "Dataset length:  80\n",
      "offline_stock_trade_data/ROST/stable-baselines-a2c_ROST_2018-02-05.json has 80 trajectories\n",
      "Processing data as polars dataframe.\n",
      "Forcing normalization\n",
      "Dataset length:  80\n",
      "offline_stock_trade_data/ROST/stable-baselines-ppo_ROST_2018-02-05.json has 80 trajectories\n",
      "Processing data as polars dataframe.\n",
      "Forcing normalization\n",
      "Dataset length:  80\n",
      "offline_stock_trade_data/ROST/stable-baselines-ddpg_ROST_2018-02-05.json has 80 trajectories\n",
      "Processing data as polars dataframe.\n",
      "Forcing normalization\n",
      "Dataset length:  200\n",
      "offline_stock_trade_data/ROST/trend_sma_fast_ROST_2018-02-05.json has 200 trajectories\n",
      "Processing data as polars dataframe.\n",
      "Forcing normalization\n",
      "Dataset length:  200\n",
      "offline_stock_trade_data/ROST/random_ROST_2018-02-05.json has 200 trajectories\n",
      "Processing data as polars dataframe.\n",
      "Forcing normalization\n",
      "Dataset length:  80\n",
      "offline_stock_trade_data/QCOM/stable-baselines-ppo_QCOM_2018-02-05.json has 80 trajectories\n",
      "Processing data as polars dataframe.\n",
      "Forcing normalization\n",
      "Dataset length:  200\n",
      "offline_stock_trade_data/QCOM/momentum_stoch_rsi_QCOM_2018-02-05.json has 200 trajectories\n",
      "Processing data as polars dataframe.\n",
      "Forcing normalization\n",
      "Dataset length:  200\n",
      "offline_stock_trade_data/QCOM/sentiment_react_QCOM_2018-02-05.json has 200 trajectories\n",
      "Processing data as polars dataframe.\n",
      "Forcing normalization\n",
      "Dataset length:  200\n",
      "offline_stock_trade_data/QCOM/trend_sma_fast_QCOM_2018-02-05.json has 200 trajectories\n",
      "Processing data as polars dataframe.\n",
      "Forcing normalization\n",
      "Dataset length:  80\n",
      "offline_stock_trade_data/QCOM/stable-baselines-a2c_QCOM_2018-02-05.json has 80 trajectories\n",
      "Processing data as polars dataframe.\n",
      "Forcing normalization\n",
      "Dataset length:  200\n",
      "offline_stock_trade_data/QCOM/random_QCOM_2018-02-05.json has 200 trajectories\n",
      "Processing data as polars dataframe.\n",
      "Forcing normalization\n",
      "Dataset length:  80\n",
      "offline_stock_trade_data/QCOM/stable-baselines-ddpg_QCOM_2018-02-05.json has 80 trajectories\n",
      "Processing data as polars dataframe.\n",
      "Forcing normalization\n",
      "Dataset length:  200\n",
      "offline_stock_trade_data/UNH/momentum_stoch_rsi_UNH_2018-02-05.json has 200 trajectories\n",
      "Processing data as polars dataframe.\n",
      "Forcing normalization\n",
      "Dataset length:  80\n",
      "offline_stock_trade_data/UNH/stable-baselines-a2c_UNH_2018-02-05.json has 80 trajectories\n",
      "Processing data as polars dataframe.\n",
      "Forcing normalization\n",
      "Dataset length:  80\n",
      "offline_stock_trade_data/UNH/stable-baselines-ddpg_UNH_2018-02-05.json has 80 trajectories\n",
      "Processing data as polars dataframe.\n",
      "Forcing normalization\n",
      "Dataset length:  200\n",
      "offline_stock_trade_data/UNH/trend_sma_fast_UNH_2018-02-05.json has 200 trajectories\n",
      "Processing data as polars dataframe.\n",
      "Forcing normalization\n",
      "Dataset length:  80\n",
      "offline_stock_trade_data/UNH/stable-baselines-ppo_UNH_2018-02-05.json has 80 trajectories\n",
      "Processing data as polars dataframe.\n",
      "Forcing normalization\n",
      "Dataset length:  200\n",
      "offline_stock_trade_data/UNH/random_UNH_2018-02-05.json has 200 trajectories\n",
      "Processing data as polars dataframe.\n",
      "Forcing normalization\n",
      "Dataset length:  200\n",
      "offline_stock_trade_data/UNH/sentiment_react_UNH_2018-02-05.json has 200 trajectories\n",
      "Processing data as polars dataframe.\n",
      "Forcing normalization\n",
      "Dataset length:  200\n",
      "offline_stock_trade_data/CRM/momentum_stoch_rsi_CRM_2018-02-05.json has 200 trajectories\n",
      "Processing data as polars dataframe.\n",
      "Forcing normalization\n",
      "Dataset length:  200\n",
      "offline_stock_trade_data/CRM/trend_sma_fast_CRM_2018-02-05.json has 200 trajectories\n",
      "Processing data as polars dataframe.\n",
      "Forcing normalization\n",
      "Dataset length:  200\n",
      "offline_stock_trade_data/CRM/sentiment_react_CRM_2018-02-05.json has 200 trajectories\n",
      "Processing data as polars dataframe.\n",
      "Forcing normalization\n",
      "Dataset length:  80\n",
      "offline_stock_trade_data/CRM/stable-baselines-a2c_CRM_2018-02-05.json has 80 trajectories\n",
      "Processing data as polars dataframe.\n",
      "Forcing normalization\n",
      "Dataset length:  80\n",
      "offline_stock_trade_data/CRM/stable-baselines-ddpg_CRM_2018-02-05.json has 80 trajectories\n",
      "Processing data as polars dataframe.\n",
      "Forcing normalization\n",
      "Dataset length:  80\n",
      "offline_stock_trade_data/CRM/stable-baselines-ppo_CRM_2018-02-05.json has 80 trajectories\n",
      "Processing data as polars dataframe.\n",
      "Forcing normalization\n",
      "Dataset length:  200\n",
      "offline_stock_trade_data/CRM/random_CRM_2018-02-05.json has 200 trajectories\n",
      "Processing data as polars dataframe.\n",
      "Forcing normalization\n",
      "Dataset length:  200\n",
      "offline_stock_trade_data/CRWD/momentum_stoch_rsi_CRWD_2018-02-05.json has 200 trajectories\n",
      "Processing data as polars dataframe.\n",
      "Forcing normalization\n",
      "Dataset length:  200\n",
      "offline_stock_trade_data/CRWD/sentiment_react_CRWD_2018-02-05.json has 200 trajectories\n",
      "Processing data as polars dataframe.\n",
      "Forcing normalization\n",
      "Dataset length:  200\n",
      "offline_stock_trade_data/CRWD/trend_sma_fast_CRWD_2018-02-05.json has 200 trajectories\n",
      "Processing data as polars dataframe.\n",
      "Forcing normalization\n",
      "Dataset length:  200\n",
      "offline_stock_trade_data/CRWD/random_CRWD_2018-02-05.json has 200 trajectories\n",
      "Processing data as polars dataframe.\n",
      "Forcing normalization\n",
      "Dataset length:  200\n",
      "offline_stock_trade_data/MRNA/random_MRNA_2018-02-05.json has 200 trajectories\n",
      "Processing data as polars dataframe.\n",
      "Forcing normalization\n",
      "Dataset length:  200\n",
      "offline_stock_trade_data/MRNA/trend_sma_fast_MRNA_2018-02-05.json has 200 trajectories\n",
      "Processing data as polars dataframe.\n",
      "Forcing normalization\n",
      "Dataset length:  200\n",
      "offline_stock_trade_data/MRNA/sentiment_react_MRNA_2018-02-05.json has 200 trajectories\n",
      "Processing data as polars dataframe.\n",
      "Forcing normalization\n",
      "Dataset length:  200\n",
      "offline_stock_trade_data/MRNA/momentum_stoch_rsi_MRNA_2018-02-05.json has 200 trajectories\n",
      "Processing data as polars dataframe.\n",
      "Forcing normalization\n",
      "Dataset length:  200\n",
      "offline_stock_trade_data/BKR/sentiment_react_BKR_2018-02-05.json has 200 trajectories\n",
      "Processing data as polars dataframe.\n",
      "Forcing normalization\n",
      "Dataset length:  200\n",
      "offline_stock_trade_data/BKR/random_BKR_2018-02-05.json has 200 trajectories\n",
      "Processing data as polars dataframe.\n",
      "Forcing normalization\n",
      "Dataset length:  80\n",
      "offline_stock_trade_data/BKR/stable-baselines-ppo_BKR_2018-02-05.json has 80 trajectories\n",
      "Processing data as polars dataframe.\n",
      "Forcing normalization\n",
      "Dataset length:  200\n",
      "offline_stock_trade_data/BKR/trend_sma_fast_BKR_2018-02-05.json has 200 trajectories\n",
      "Processing data as polars dataframe.\n",
      "Forcing normalization\n",
      "Dataset length:  80\n",
      "offline_stock_trade_data/BKR/stable-baselines-a2c_BKR_2018-02-05.json has 80 trajectories\n",
      "Processing data as polars dataframe.\n",
      "Forcing normalization\n",
      "Dataset length:  200\n",
      "offline_stock_trade_data/BKR/momentum_stoch_rsi_BKR_2018-02-05.json has 200 trajectories\n",
      "Processing data as polars dataframe.\n",
      "Forcing normalization\n",
      "Dataset length:  80\n",
      "offline_stock_trade_data/BKR/stable-baselines-ddpg_BKR_2018-02-05.json has 80 trajectories\n",
      "Processing data as polars dataframe.\n",
      "Forcing normalization\n",
      "Dataset length:  200\n",
      "offline_stock_trade_data/MU/momentum_stoch_rsi_MU_2018-02-05.json has 200 trajectories\n",
      "Processing data as polars dataframe.\n",
      "Forcing normalization\n",
      "Dataset length:  80\n",
      "offline_stock_trade_data/MU/stable-baselines-ppo_MU_2018-02-05.json has 80 trajectories\n",
      "Processing data as polars dataframe.\n",
      "Forcing normalization\n",
      "Dataset length:  200\n",
      "offline_stock_trade_data/MU/trend_sma_fast_MU_2018-02-05.json has 200 trajectories\n",
      "Processing data as polars dataframe.\n",
      "Forcing normalization\n",
      "Dataset length:  200\n",
      "offline_stock_trade_data/MU/random_MU_2018-02-05.json has 200 trajectories\n",
      "Processing data as polars dataframe.\n",
      "Forcing normalization\n",
      "Dataset length:  200\n",
      "offline_stock_trade_data/MU/sentiment_react_MU_2018-02-05.json has 200 trajectories\n",
      "Processing data as polars dataframe.\n",
      "Forcing normalization\n",
      "Dataset length:  80\n",
      "offline_stock_trade_data/MU/stable-baselines-ddpg_MU_2018-02-05.json has 80 trajectories\n",
      "Processing data as polars dataframe.\n",
      "Forcing normalization\n",
      "Dataset length:  80\n",
      "offline_stock_trade_data/MU/stable-baselines-a2c_MU_2018-02-05.json has 80 trajectories\n",
      "Processing data as polars dataframe.\n",
      "Forcing normalization\n",
      "Dataset length:  80\n",
      "offline_stock_trade_data/AXP/stable-baselines-ddpg_AXP_2018-02-05.json has 80 trajectories\n",
      "Processing data as polars dataframe.\n",
      "Forcing normalization\n",
      "Dataset length:  200\n",
      "offline_stock_trade_data/AXP/sentiment_react_AXP_2018-02-05.json has 200 trajectories\n",
      "Processing data as polars dataframe.\n",
      "Forcing normalization\n",
      "Dataset length:  80\n",
      "offline_stock_trade_data/AXP/stable-baselines-a2c_AXP_2018-02-05.json has 80 trajectories\n",
      "Processing data as polars dataframe.\n",
      "Forcing normalization\n",
      "Dataset length:  200\n",
      "offline_stock_trade_data/AXP/trend_sma_fast_AXP_2018-02-05.json has 200 trajectories\n",
      "Processing data as polars dataframe.\n",
      "Forcing normalization\n",
      "Dataset length:  200\n",
      "offline_stock_trade_data/AXP/momentum_stoch_rsi_AXP_2018-02-05.json has 200 trajectories\n",
      "Processing data as polars dataframe.\n",
      "Forcing normalization\n",
      "Dataset length:  80\n",
      "offline_stock_trade_data/AXP/stable-baselines-ppo_AXP_2018-02-05.json has 80 trajectories\n",
      "Processing data as polars dataframe.\n",
      "Forcing normalization\n",
      "Dataset length:  200\n",
      "offline_stock_trade_data/AXP/random_AXP_2018-02-05.json has 200 trajectories\n",
      "Processing data as polars dataframe.\n",
      "Forcing normalization\n",
      "Dataset length:  200\n",
      "offline_stock_trade_data/TTD/sentiment_react_TTD_2018-02-05.json has 200 trajectories\n",
      "Processing data as polars dataframe.\n",
      "Forcing normalization\n",
      "Dataset length:  200\n",
      "offline_stock_trade_data/TTD/trend_sma_fast_TTD_2018-02-05.json has 200 trajectories\n",
      "Processing data as polars dataframe.\n",
      "Forcing normalization\n",
      "Dataset length:  80\n",
      "offline_stock_trade_data/TTD/stable-baselines-ddpg_TTD_2018-02-05.json has 80 trajectories\n",
      "Processing data as polars dataframe.\n",
      "Forcing normalization\n",
      "Dataset length:  80\n",
      "offline_stock_trade_data/TTD/stable-baselines-ppo_TTD_2018-02-05.json has 80 trajectories\n",
      "Processing data as polars dataframe.\n",
      "Forcing normalization\n",
      "Dataset length:  200\n",
      "offline_stock_trade_data/TTD/momentum_stoch_rsi_TTD_2018-02-05.json has 200 trajectories\n",
      "Processing data as polars dataframe.\n",
      "Forcing normalization\n",
      "Dataset length:  200\n",
      "offline_stock_trade_data/TTD/random_TTD_2018-02-05.json has 200 trajectories\n",
      "Processing data as polars dataframe.\n",
      "Forcing normalization\n",
      "Dataset length:  80\n",
      "offline_stock_trade_data/TTD/stable-baselines-a2c_TTD_2018-02-05.json has 80 trajectories\n",
      "Processing data as polars dataframe.\n",
      "Forcing normalization\n",
      "Dataset length:  80\n",
      "offline_stock_trade_data/CPRT/stable-baselines-a2c_CPRT_2018-02-05.json has 80 trajectories\n",
      "Processing data as polars dataframe.\n",
      "Forcing normalization\n",
      "Dataset length:  80\n",
      "offline_stock_trade_data/CPRT/stable-baselines-ddpg_CPRT_2018-02-05.json has 80 trajectories\n",
      "Processing data as polars dataframe.\n",
      "Forcing normalization\n",
      "Dataset length:  200\n",
      "offline_stock_trade_data/CPRT/trend_sma_fast_CPRT_2018-02-05.json has 200 trajectories\n",
      "Processing data as polars dataframe.\n",
      "Forcing normalization\n",
      "Dataset length:  200\n",
      "offline_stock_trade_data/CPRT/random_CPRT_2018-02-05.json has 200 trajectories\n",
      "Processing data as polars dataframe.\n",
      "Forcing normalization\n",
      "Dataset length:  200\n",
      "offline_stock_trade_data/CPRT/sentiment_react_CPRT_2018-02-05.json has 200 trajectories\n",
      "Processing data as polars dataframe.\n",
      "Forcing normalization\n",
      "Dataset length:  80\n",
      "offline_stock_trade_data/CPRT/stable-baselines-ppo_CPRT_2018-02-05.json has 80 trajectories\n",
      "Processing data as polars dataframe.\n",
      "Forcing normalization\n",
      "Dataset length:  200\n",
      "offline_stock_trade_data/CPRT/momentum_stoch_rsi_CPRT_2018-02-05.json has 200 trajectories\n",
      "Processing data as polars dataframe.\n",
      "Forcing normalization\n",
      "Dataset length:  200\n",
      "offline_stock_trade_data/ROP/trend_sma_fast_ROP_2018-02-05.json has 200 trajectories\n",
      "Processing data as polars dataframe.\n",
      "Forcing normalization\n",
      "Dataset length:  80\n",
      "offline_stock_trade_data/ROP/stable-baselines-a2c_ROP_2018-02-05.json has 80 trajectories\n",
      "Processing data as polars dataframe.\n",
      "Forcing normalization\n",
      "Dataset length:  80\n",
      "offline_stock_trade_data/ROP/stable-baselines-ppo_ROP_2018-02-05.json has 80 trajectories\n",
      "Processing data as polars dataframe.\n",
      "Forcing normalization\n",
      "Dataset length:  200\n",
      "offline_stock_trade_data/ROP/sentiment_react_ROP_2018-02-05.json has 200 trajectories\n",
      "Processing data as polars dataframe.\n",
      "Forcing normalization\n",
      "Dataset length:  200\n",
      "offline_stock_trade_data/ROP/random_ROP_2018-02-05.json has 200 trajectories\n",
      "Processing data as polars dataframe.\n",
      "Forcing normalization\n",
      "Dataset length:  200\n",
      "offline_stock_trade_data/ROP/momentum_stoch_rsi_ROP_2018-02-05.json has 200 trajectories\n",
      "Processing data as polars dataframe.\n",
      "Forcing normalization\n",
      "Dataset length:  80\n",
      "offline_stock_trade_data/ROP/stable-baselines-ddpg_ROP_2018-02-05.json has 80 trajectories\n",
      "Processing data as polars dataframe.\n",
      "Forcing normalization\n",
      "Dataset length:  80\n",
      "offline_stock_trade_data/ORLY/stable-baselines-ddpg_ORLY_2018-02-05.json has 80 trajectories\n",
      "Processing data as polars dataframe.\n",
      "Forcing normalization\n",
      "Dataset length:  200\n",
      "offline_stock_trade_data/ORLY/trend_sma_fast_ORLY_2018-02-05.json has 200 trajectories\n",
      "Processing data as polars dataframe.\n",
      "Forcing normalization\n",
      "Dataset length:  80\n",
      "offline_stock_trade_data/ORLY/stable-baselines-ppo_ORLY_2018-02-05.json has 80 trajectories\n",
      "Processing data as polars dataframe.\n",
      "Forcing normalization\n",
      "Dataset length:  200\n",
      "offline_stock_trade_data/ORLY/momentum_stoch_rsi_ORLY_2018-02-05.json has 200 trajectories\n",
      "Processing data as polars dataframe.\n",
      "Forcing normalization\n",
      "Dataset length:  200\n",
      "offline_stock_trade_data/ORLY/sentiment_react_ORLY_2018-02-05.json has 200 trajectories\n",
      "Processing data as polars dataframe.\n",
      "Forcing normalization\n",
      "Dataset length:  80\n",
      "offline_stock_trade_data/ORLY/stable-baselines-a2c_ORLY_2018-02-05.json has 80 trajectories\n",
      "Processing data as polars dataframe.\n",
      "Forcing normalization\n",
      "Dataset length:  200\n",
      "offline_stock_trade_data/ORLY/random_ORLY_2018-02-05.json has 200 trajectories\n",
      "Processing data as polars dataframe.\n",
      "Forcing normalization\n",
      "Dataset length:  200\n",
      "offline_stock_trade_data/AMZN/trend_sma_fast_AMZN_2018-02-05.json has 200 trajectories\n",
      "Processing data as polars dataframe.\n",
      "Forcing normalization\n",
      "Dataset length:  80\n",
      "offline_stock_trade_data/AMZN/stable-baselines-ppo_AMZN_2018-02-05.json has 80 trajectories\n",
      "Processing data as polars dataframe.\n",
      "Forcing normalization\n",
      "Dataset length:  200\n",
      "offline_stock_trade_data/AMZN/sentiment_react_AMZN_2018-02-05.json has 200 trajectories\n",
      "Processing data as polars dataframe.\n",
      "Forcing normalization\n",
      "Dataset length:  80\n",
      "offline_stock_trade_data/AMZN/stable-baselines-a2c_AMZN_2018-02-05.json has 80 trajectories\n",
      "Processing data as polars dataframe.\n",
      "Forcing normalization\n",
      "Dataset length:  200\n",
      "offline_stock_trade_data/AMZN/momentum_stoch_rsi_AMZN_2018-02-05.json has 200 trajectories\n",
      "Processing data as polars dataframe.\n",
      "Forcing normalization\n",
      "Dataset length:  80\n",
      "offline_stock_trade_data/AMZN/stable-baselines-ddpg_AMZN_2018-02-05.json has 80 trajectories\n",
      "Processing data as polars dataframe.\n",
      "Forcing normalization\n",
      "Dataset length:  200\n",
      "offline_stock_trade_data/AMZN/random_AMZN_2018-02-05.json has 200 trajectories\n",
      "Processing data as polars dataframe.\n",
      "Forcing normalization\n",
      "Dataset length:  200\n",
      "offline_stock_trade_data/LIN/trend_sma_fast_LIN_2018-02-05.json has 200 trajectories\n",
      "Processing data as polars dataframe.\n",
      "Forcing normalization\n",
      "Dataset length:  200\n",
      "offline_stock_trade_data/LIN/momentum_stoch_rsi_LIN_2018-02-05.json has 200 trajectories\n",
      "Processing data as polars dataframe.\n",
      "Forcing normalization\n",
      "Dataset length:  80\n",
      "offline_stock_trade_data/LIN/stable-baselines-a2c_LIN_2018-02-05.json has 80 trajectories\n",
      "Processing data as polars dataframe.\n",
      "Forcing normalization\n",
      "Dataset length:  80\n",
      "offline_stock_trade_data/LIN/stable-baselines-ddpg_LIN_2018-02-05.json has 80 trajectories\n",
      "Processing data as polars dataframe.\n",
      "Forcing normalization\n",
      "Dataset length:  200\n",
      "offline_stock_trade_data/LIN/sentiment_react_LIN_2018-02-05.json has 200 trajectories\n",
      "Processing data as polars dataframe.\n",
      "Forcing normalization\n",
      "Dataset length:  200\n",
      "offline_stock_trade_data/LIN/random_LIN_2018-02-05.json has 200 trajectories\n",
      "Processing data as polars dataframe.\n",
      "Forcing normalization\n",
      "Dataset length:  80\n",
      "offline_stock_trade_data/LIN/stable-baselines-ppo_LIN_2018-02-05.json has 80 trajectories\n",
      "Processing data as polars dataframe.\n",
      "Forcing normalization\n",
      "Dataset length:  200\n",
      "offline_stock_trade_data/JNJ/trend_sma_fast_JNJ_2018-02-05.json has 200 trajectories\n",
      "Processing data as polars dataframe.\n",
      "Forcing normalization\n",
      "Dataset length:  80\n",
      "offline_stock_trade_data/JNJ/stable-baselines-ppo_JNJ_2018-02-05.json has 80 trajectories\n",
      "Processing data as polars dataframe.\n",
      "Forcing normalization\n",
      "Dataset length:  80\n",
      "offline_stock_trade_data/JNJ/stable-baselines-a2c_JNJ_2018-02-05.json has 80 trajectories\n",
      "Processing data as polars dataframe.\n",
      "Forcing normalization\n",
      "Dataset length:  80\n",
      "offline_stock_trade_data/JNJ/stable-baselines-ddpg_JNJ_2018-02-05.json has 80 trajectories\n",
      "Processing data as polars dataframe.\n",
      "Forcing normalization\n",
      "Dataset length:  200\n",
      "offline_stock_trade_data/JNJ/sentiment_react_JNJ_2018-02-05.json has 200 trajectories\n",
      "Processing data as polars dataframe.\n",
      "Forcing normalization\n",
      "Dataset length:  200\n",
      "offline_stock_trade_data/JNJ/random_JNJ_2018-02-05.json has 200 trajectories\n",
      "Processing data as polars dataframe.\n",
      "Forcing normalization\n",
      "Dataset length:  200\n",
      "offline_stock_trade_data/JNJ/momentum_stoch_rsi_JNJ_2018-02-05.json has 200 trajectories\n",
      "Processing data as polars dataframe.\n",
      "Forcing normalization\n",
      "Dataset length:  80\n",
      "offline_stock_trade_data/NKE/stable-baselines-ppo_NKE_2018-02-05.json has 80 trajectories\n",
      "Processing data as polars dataframe.\n",
      "Forcing normalization\n",
      "Dataset length:  200\n",
      "offline_stock_trade_data/NKE/momentum_stoch_rsi_NKE_2018-02-05.json has 200 trajectories\n",
      "Processing data as polars dataframe.\n",
      "Forcing normalization\n",
      "Dataset length:  200\n",
      "offline_stock_trade_data/NKE/sentiment_react_NKE_2018-02-05.json has 200 trajectories\n",
      "Processing data as polars dataframe.\n",
      "Forcing normalization\n",
      "Dataset length:  200\n",
      "offline_stock_trade_data/NKE/trend_sma_fast_NKE_2018-02-05.json has 200 trajectories\n",
      "Processing data as polars dataframe.\n",
      "Forcing normalization\n",
      "Dataset length:  80\n",
      "offline_stock_trade_data/NKE/stable-baselines-ddpg_NKE_2018-02-05.json has 80 trajectories\n",
      "Processing data as polars dataframe.\n",
      "Forcing normalization\n",
      "Dataset length:  200\n",
      "offline_stock_trade_data/NKE/random_NKE_2018-02-05.json has 200 trajectories\n",
      "Processing data as polars dataframe.\n",
      "Forcing normalization\n",
      "Dataset length:  80\n",
      "offline_stock_trade_data/NKE/stable-baselines-a2c_NKE_2018-02-05.json has 80 trajectories\n",
      "Processing data as polars dataframe.\n",
      "Forcing normalization\n",
      "Dataset length:  200\n",
      "offline_stock_trade_data/CSGP/sentiment_react_CSGP_2018-02-05.json has 200 trajectories\n",
      "Processing data as polars dataframe.\n",
      "Forcing normalization\n",
      "Dataset length:  80\n",
      "offline_stock_trade_data/CSGP/stable-baselines-a2c_CSGP_2018-02-05.json has 80 trajectories\n",
      "Processing data as polars dataframe.\n",
      "Forcing normalization\n",
      "Dataset length:  200\n",
      "offline_stock_trade_data/CSGP/momentum_stoch_rsi_CSGP_2018-02-05.json has 200 trajectories\n",
      "Processing data as polars dataframe.\n",
      "Forcing normalization\n",
      "Dataset length:  80\n",
      "offline_stock_trade_data/CSGP/stable-baselines-ppo_CSGP_2018-02-05.json has 80 trajectories\n",
      "Processing data as polars dataframe.\n",
      "Forcing normalization\n",
      "Dataset length:  80\n",
      "offline_stock_trade_data/CSGP/stable-baselines-ddpg_CSGP_2018-02-05.json has 80 trajectories\n",
      "Processing data as polars dataframe.\n",
      "Forcing normalization\n",
      "Dataset length:  200\n",
      "offline_stock_trade_data/CSGP/random_CSGP_2018-02-05.json has 200 trajectories\n",
      "Processing data as polars dataframe.\n",
      "Forcing normalization\n",
      "Dataset length:  200\n",
      "offline_stock_trade_data/CSGP/trend_sma_fast_CSGP_2018-02-05.json has 200 trajectories\n",
      "Processing data as polars dataframe.\n",
      "Forcing normalization\n",
      "Dataset length:  80\n",
      "offline_stock_trade_data/TRV/stable-baselines-ppo_TRV_2018-02-05.json has 80 trajectories\n",
      "Processing data as polars dataframe.\n",
      "Forcing normalization\n",
      "Dataset length:  200\n",
      "offline_stock_trade_data/TRV/sentiment_react_TRV_2018-02-05.json has 200 trajectories\n",
      "Processing data as polars dataframe.\n",
      "Forcing normalization\n",
      "Dataset length:  80\n",
      "offline_stock_trade_data/TRV/stable-baselines-ddpg_TRV_2018-02-05.json has 80 trajectories\n",
      "Processing data as polars dataframe.\n",
      "Forcing normalization\n",
      "Dataset length:  80\n",
      "offline_stock_trade_data/TRV/stable-baselines-a2c_TRV_2018-02-05.json has 80 trajectories\n",
      "Processing data as polars dataframe.\n",
      "Forcing normalization\n",
      "Dataset length:  200\n",
      "offline_stock_trade_data/TRV/trend_sma_fast_TRV_2018-02-05.json has 200 trajectories\n",
      "Processing data as polars dataframe.\n",
      "Forcing normalization\n",
      "Dataset length:  200\n",
      "offline_stock_trade_data/TRV/momentum_stoch_rsi_TRV_2018-02-05.json has 200 trajectories\n",
      "Processing data as polars dataframe.\n",
      "Forcing normalization\n",
      "Dataset length:  200\n",
      "offline_stock_trade_data/TRV/random_TRV_2018-02-05.json has 200 trajectories\n",
      "Processing data as polars dataframe.\n",
      "Forcing normalization\n",
      "Dataset length:  200\n",
      "offline_stock_trade_data/SPLK/momentum_stoch_rsi_SPLK_2018-02-05.json has 200 trajectories\n",
      "Processing data as polars dataframe.\n",
      "Forcing normalization\n",
      "Dataset length:  200\n",
      "offline_stock_trade_data/SPLK/sentiment_react_SPLK_2018-02-05.json has 200 trajectories\n",
      "Processing data as polars dataframe.\n",
      "Forcing normalization\n",
      "Dataset length:  200\n",
      "offline_stock_trade_data/SPLK/trend_sma_fast_SPLK_2018-02-05.json has 200 trajectories\n",
      "Processing data as polars dataframe.\n",
      "Forcing normalization\n",
      "Dataset length:  200\n",
      "offline_stock_trade_data/SPLK/random_SPLK_2018-02-05.json has 200 trajectories\n",
      "Processing data as polars dataframe.\n",
      "Forcing normalization\n",
      "Dataset length:  200\n",
      "offline_stock_trade_data/CTSH/random_CTSH_2018-02-05.json has 200 trajectories\n",
      "Processing data as polars dataframe.\n",
      "Forcing normalization\n",
      "Dataset length:  80\n",
      "offline_stock_trade_data/CTSH/stable-baselines-ppo_CTSH_2018-02-05.json has 80 trajectories\n",
      "Processing data as polars dataframe.\n",
      "Forcing normalization\n",
      "Dataset length:  80\n",
      "offline_stock_trade_data/CTSH/stable-baselines-a2c_CTSH_2018-02-05.json has 80 trajectories\n",
      "Processing data as polars dataframe.\n",
      "Forcing normalization\n",
      "Dataset length:  200\n",
      "offline_stock_trade_data/CTSH/sentiment_react_CTSH_2018-02-05.json has 200 trajectories\n",
      "Processing data as polars dataframe.\n",
      "Forcing normalization\n",
      "Dataset length:  200\n",
      "offline_stock_trade_data/CTSH/momentum_stoch_rsi_CTSH_2018-02-05.json has 200 trajectories\n",
      "Processing data as polars dataframe.\n",
      "Forcing normalization\n",
      "Dataset length:  80\n",
      "offline_stock_trade_data/CTSH/stable-baselines-ddpg_CTSH_2018-02-05.json has 80 trajectories\n",
      "Processing data as polars dataframe.\n",
      "Forcing normalization\n",
      "Dataset length:  200\n",
      "offline_stock_trade_data/CTSH/trend_sma_fast_CTSH_2018-02-05.json has 200 trajectories\n",
      "Processing data as polars dataframe.\n",
      "Forcing normalization\n",
      "Dataset length:  80\n",
      "offline_stock_trade_data/NVDA/stable-baselines-a2c_NVDA_2018-02-05.json has 80 trajectories\n",
      "Processing data as polars dataframe.\n",
      "Forcing normalization\n",
      "Dataset length:  80\n",
      "offline_stock_trade_data/NVDA/stable-baselines-ppo_NVDA_2018-02-05.json has 80 trajectories\n",
      "Processing data as polars dataframe.\n",
      "Forcing normalization\n",
      "Dataset length:  200\n",
      "offline_stock_trade_data/NVDA/sentiment_react_NVDA_2018-02-05.json has 200 trajectories\n",
      "Processing data as polars dataframe.\n",
      "Forcing normalization\n",
      "Dataset length:  200\n",
      "offline_stock_trade_data/NVDA/momentum_stoch_rsi_NVDA_2018-02-05.json has 200 trajectories\n",
      "Processing data as polars dataframe.\n",
      "Forcing normalization\n",
      "Dataset length:  200\n",
      "offline_stock_trade_data/NVDA/random_NVDA_2018-02-05.json has 200 trajectories\n",
      "Processing data as polars dataframe.\n",
      "Forcing normalization\n",
      "Dataset length:  200\n",
      "offline_stock_trade_data/NVDA/trend_sma_fast_NVDA_2018-02-05.json has 200 trajectories\n",
      "Processing data as polars dataframe.\n",
      "Forcing normalization\n",
      "Dataset length:  80\n",
      "offline_stock_trade_data/NVDA/stable-baselines-ddpg_NVDA_2018-02-05.json has 80 trajectories\n",
      "Processing data as polars dataframe.\n",
      "Forcing normalization\n",
      "Dataset length:  200\n",
      "offline_stock_trade_data/MMM/trend_sma_fast_MMM_2018-02-05.json has 200 trajectories\n",
      "Processing data as polars dataframe.\n",
      "Forcing normalization\n",
      "Dataset length:  80\n",
      "offline_stock_trade_data/MMM/stable-baselines-ppo_MMM_2018-02-05.json has 80 trajectories\n",
      "Processing data as polars dataframe.\n",
      "Forcing normalization\n",
      "Dataset length:  80\n",
      "offline_stock_trade_data/MMM/stable-baselines-a2c_MMM_2018-02-05.json has 80 trajectories\n",
      "Processing data as polars dataframe.\n",
      "Forcing normalization\n",
      "Dataset length:  200\n",
      "offline_stock_trade_data/MMM/momentum_stoch_rsi_MMM_2018-02-05.json has 200 trajectories\n",
      "Processing data as polars dataframe.\n",
      "Forcing normalization\n",
      "Dataset length:  200\n",
      "offline_stock_trade_data/MMM/sentiment_react_MMM_2018-02-05.json has 200 trajectories\n",
      "Processing data as polars dataframe.\n",
      "Forcing normalization\n",
      "Dataset length:  80\n",
      "offline_stock_trade_data/MMM/stable-baselines-ddpg_MMM_2018-02-05.json has 80 trajectories\n",
      "Processing data as polars dataframe.\n",
      "Forcing normalization\n",
      "Dataset length:  200\n",
      "offline_stock_trade_data/MMM/random_MMM_2018-02-05.json has 200 trajectories\n",
      "Processing data as polars dataframe.\n",
      "Forcing normalization\n",
      "Dataset length:  200\n",
      "offline_stock_trade_data/SIRI/momentum_stoch_rsi_SIRI_2018-02-05.json has 200 trajectories\n",
      "Processing data as polars dataframe.\n",
      "Forcing normalization\n",
      "Dataset length:  80\n",
      "offline_stock_trade_data/SIRI/stable-baselines-ddpg_SIRI_2018-02-05.json has 80 trajectories\n",
      "Processing data as polars dataframe.\n",
      "Forcing normalization\n",
      "Dataset length:  200\n",
      "offline_stock_trade_data/SIRI/trend_sma_fast_SIRI_2018-02-05.json has 200 trajectories\n",
      "Processing data as polars dataframe.\n",
      "Forcing normalization\n",
      "Dataset length:  80\n",
      "offline_stock_trade_data/SIRI/stable-baselines-a2c_SIRI_2018-02-05.json has 80 trajectories\n",
      "Processing data as polars dataframe.\n",
      "Forcing normalization\n",
      "Dataset length:  200\n",
      "offline_stock_trade_data/SIRI/random_SIRI_2018-02-05.json has 200 trajectories\n",
      "Processing data as polars dataframe.\n",
      "Forcing normalization\n",
      "Dataset length:  200\n",
      "offline_stock_trade_data/SIRI/sentiment_react_SIRI_2018-02-05.json has 200 trajectories\n",
      "Processing data as polars dataframe.\n",
      "Forcing normalization\n",
      "Dataset length:  80\n",
      "offline_stock_trade_data/SIRI/stable-baselines-ppo_SIRI_2018-02-05.json has 80 trajectories\n",
      "Processing data as polars dataframe.\n",
      "Forcing normalization\n",
      "Dataset length:  80\n",
      "offline_stock_trade_data/CMCSA/stable-baselines-ppo_CMCSA_2018-02-05.json has 80 trajectories\n",
      "Processing data as polars dataframe.\n",
      "Forcing normalization\n",
      "Dataset length:  200\n",
      "offline_stock_trade_data/CMCSA/sentiment_react_CMCSA_2018-02-05.json has 200 trajectories\n",
      "Processing data as polars dataframe.\n",
      "Forcing normalization\n",
      "Dataset length:  200\n",
      "offline_stock_trade_data/CMCSA/trend_sma_fast_CMCSA_2018-02-05.json has 200 trajectories\n",
      "Processing data as polars dataframe.\n",
      "Forcing normalization\n",
      "Dataset length:  200\n",
      "offline_stock_trade_data/CMCSA/random_CMCSA_2018-02-05.json has 200 trajectories\n",
      "Processing data as polars dataframe.\n",
      "Forcing normalization\n",
      "Dataset length:  200\n",
      "offline_stock_trade_data/CMCSA/momentum_stoch_rsi_CMCSA_2018-02-05.json has 200 trajectories\n",
      "Processing data as polars dataframe.\n",
      "Forcing normalization\n",
      "Dataset length:  80\n",
      "offline_stock_trade_data/CMCSA/stable-baselines-ddpg_CMCSA_2018-02-05.json has 80 trajectories\n",
      "Processing data as polars dataframe.\n",
      "Forcing normalization\n",
      "Dataset length:  80\n",
      "offline_stock_trade_data/CMCSA/stable-baselines-a2c_CMCSA_2018-02-05.json has 80 trajectories\n",
      "Processing data as polars dataframe.\n",
      "Forcing normalization\n",
      "Dataset length:  200\n",
      "offline_stock_trade_data/CDNS/sentiment_react_CDNS_2018-02-05.json has 200 trajectories\n",
      "Processing data as polars dataframe.\n",
      "Forcing normalization\n",
      "Dataset length:  80\n",
      "offline_stock_trade_data/CDNS/stable-baselines-a2c_CDNS_2018-02-05.json has 80 trajectories\n",
      "Processing data as polars dataframe.\n",
      "Forcing normalization\n",
      "Dataset length:  200\n",
      "offline_stock_trade_data/CDNS/random_CDNS_2018-02-05.json has 200 trajectories\n",
      "Processing data as polars dataframe.\n",
      "Forcing normalization\n",
      "Dataset length:  80\n",
      "offline_stock_trade_data/CDNS/stable-baselines-ddpg_CDNS_2018-02-05.json has 80 trajectories\n",
      "Processing data as polars dataframe.\n",
      "Forcing normalization\n",
      "Dataset length:  200\n",
      "offline_stock_trade_data/CDNS/momentum_stoch_rsi_CDNS_2018-02-05.json has 200 trajectories\n",
      "Processing data as polars dataframe.\n",
      "Forcing normalization\n",
      "Dataset length:  80\n",
      "offline_stock_trade_data/CDNS/stable-baselines-ppo_CDNS_2018-02-05.json has 80 trajectories\n",
      "Processing data as polars dataframe.\n",
      "Forcing normalization\n",
      "Dataset length:  200\n",
      "offline_stock_trade_data/CDNS/trend_sma_fast_CDNS_2018-02-05.json has 200 trajectories\n",
      "Processing data as polars dataframe.\n",
      "Forcing normalization\n",
      "Dataset length:  80\n",
      "offline_stock_trade_data/DLTR/stable-baselines-a2c_DLTR_2018-02-05.json has 80 trajectories\n",
      "Processing data as polars dataframe.\n",
      "Forcing normalization\n",
      "Dataset length:  200\n",
      "offline_stock_trade_data/DLTR/momentum_stoch_rsi_DLTR_2018-02-05.json has 200 trajectories\n",
      "Processing data as polars dataframe.\n",
      "Forcing normalization\n",
      "Dataset length:  200\n",
      "offline_stock_trade_data/DLTR/trend_sma_fast_DLTR_2018-02-05.json has 200 trajectories\n",
      "Processing data as polars dataframe.\n",
      "Forcing normalization\n",
      "Dataset length:  200\n",
      "offline_stock_trade_data/DLTR/sentiment_react_DLTR_2018-02-05.json has 200 trajectories\n",
      "Processing data as polars dataframe.\n",
      "Forcing normalization\n",
      "Dataset length:  80\n",
      "offline_stock_trade_data/DLTR/stable-baselines-ddpg_DLTR_2018-02-05.json has 80 trajectories\n",
      "Processing data as polars dataframe.\n",
      "Forcing normalization\n",
      "Dataset length:  80\n",
      "offline_stock_trade_data/DLTR/stable-baselines-ppo_DLTR_2018-02-05.json has 80 trajectories\n",
      "Processing data as polars dataframe.\n",
      "Forcing normalization\n",
      "Dataset length:  200\n",
      "offline_stock_trade_data/DLTR/random_DLTR_2018-02-05.json has 200 trajectories\n",
      "Processing data as polars dataframe.\n",
      "Forcing normalization\n",
      "Dataset length:  200\n",
      "offline_stock_trade_data/GOOG/momentum_stoch_rsi_GOOG_2018-02-05.json has 200 trajectories\n",
      "Processing data as polars dataframe.\n",
      "Forcing normalization\n",
      "Dataset length:  200\n",
      "offline_stock_trade_data/GOOG/random_GOOG_2018-02-05.json has 200 trajectories\n",
      "Processing data as polars dataframe.\n",
      "Forcing normalization\n",
      "Dataset length:  80\n",
      "offline_stock_trade_data/GOOG/stable-baselines-ppo_GOOG_2018-02-05.json has 80 trajectories\n",
      "Processing data as polars dataframe.\n",
      "Forcing normalization\n",
      "Dataset length:  200\n",
      "offline_stock_trade_data/GOOG/sentiment_react_GOOG_2018-02-05.json has 200 trajectories\n",
      "Processing data as polars dataframe.\n",
      "Forcing normalization\n",
      "Dataset length:  200\n",
      "offline_stock_trade_data/GOOG/trend_sma_fast_GOOG_2018-02-05.json has 200 trajectories\n",
      "Processing data as polars dataframe.\n",
      "Forcing normalization\n",
      "Dataset length:  80\n",
      "offline_stock_trade_data/GOOG/stable-baselines-a2c_GOOG_2018-02-05.json has 80 trajectories\n",
      "Processing data as polars dataframe.\n",
      "Forcing normalization\n",
      "Dataset length:  80\n",
      "offline_stock_trade_data/GOOG/stable-baselines-ddpg_GOOG_2018-02-05.json has 80 trajectories\n",
      "Processing data as polars dataframe.\n",
      "Forcing normalization\n",
      "Dataset length:  200\n",
      "offline_stock_trade_data/GOOGL/sentiment_react_GOOGL_2018-02-05.json has 200 trajectories\n",
      "Processing data as polars dataframe.\n",
      "Forcing normalization\n",
      "Dataset length:  200\n",
      "offline_stock_trade_data/GOOGL/trend_sma_fast_GOOGL_2018-02-05.json has 200 trajectories\n",
      "Processing data as polars dataframe.\n",
      "Forcing normalization\n",
      "Dataset length:  80\n",
      "offline_stock_trade_data/GOOGL/stable-baselines-ppo_GOOGL_2018-02-05.json has 80 trajectories\n",
      "Processing data as polars dataframe.\n",
      "Forcing normalization\n",
      "Dataset length:  80\n",
      "offline_stock_trade_data/GOOGL/stable-baselines-ddpg_GOOGL_2018-02-05.json has 80 trajectories\n",
      "Processing data as polars dataframe.\n",
      "Forcing normalization\n",
      "Dataset length:  200\n",
      "offline_stock_trade_data/GOOGL/momentum_stoch_rsi_GOOGL_2018-02-05.json has 200 trajectories\n",
      "Processing data as polars dataframe.\n",
      "Forcing normalization\n",
      "Dataset length:  80\n",
      "offline_stock_trade_data/GOOGL/stable-baselines-a2c_GOOGL_2018-02-05.json has 80 trajectories\n",
      "Processing data as polars dataframe.\n",
      "Forcing normalization\n",
      "Dataset length:  200\n",
      "offline_stock_trade_data/GOOGL/random_GOOGL_2018-02-05.json has 200 trajectories\n",
      "Processing data as polars dataframe.\n",
      "Forcing normalization\n",
      "Dataset length:  200\n",
      "offline_stock_trade_data/PDD/random_PDD_2018-02-05.json has 200 trajectories\n",
      "Processing data as polars dataframe.\n",
      "Forcing normalization\n",
      "Dataset length:  200\n",
      "offline_stock_trade_data/PDD/momentum_stoch_rsi_PDD_2018-02-05.json has 200 trajectories\n",
      "Processing data as polars dataframe.\n",
      "Forcing normalization\n",
      "Dataset length:  200\n",
      "offline_stock_trade_data/PDD/trend_sma_fast_PDD_2018-02-05.json has 200 trajectories\n",
      "Processing data as polars dataframe.\n",
      "Forcing normalization\n",
      "Dataset length:  200\n",
      "offline_stock_trade_data/PDD/sentiment_react_PDD_2018-02-05.json has 200 trajectories\n",
      "Processing data as polars dataframe.\n",
      "Forcing normalization\n",
      "Dataset length:  80\n",
      "offline_stock_trade_data/TXN/stable-baselines-ppo_TXN_2018-02-05.json has 80 trajectories\n",
      "Processing data as polars dataframe.\n",
      "Forcing normalization\n",
      "Dataset length:  200\n",
      "offline_stock_trade_data/TXN/momentum_stoch_rsi_TXN_2018-02-05.json has 200 trajectories\n",
      "Processing data as polars dataframe.\n",
      "Forcing normalization\n",
      "Dataset length:  200\n",
      "offline_stock_trade_data/TXN/sentiment_react_TXN_2018-02-05.json has 200 trajectories\n",
      "Processing data as polars dataframe.\n",
      "Forcing normalization\n",
      "Dataset length:  80\n",
      "offline_stock_trade_data/TXN/stable-baselines-ddpg_TXN_2018-02-05.json has 80 trajectories\n",
      "Processing data as polars dataframe.\n",
      "Forcing normalization\n",
      "Dataset length:  200\n",
      "offline_stock_trade_data/TXN/random_TXN_2018-02-05.json has 200 trajectories\n",
      "Processing data as polars dataframe.\n",
      "Forcing normalization\n",
      "Dataset length:  200\n",
      "offline_stock_trade_data/TXN/trend_sma_fast_TXN_2018-02-05.json has 200 trajectories\n",
      "Processing data as polars dataframe.\n",
      "Forcing normalization\n",
      "Dataset length:  80\n",
      "offline_stock_trade_data/TXN/stable-baselines-a2c_TXN_2018-02-05.json has 80 trajectories\n",
      "Processing data as polars dataframe.\n",
      "Forcing normalization\n",
      "Dataset length:  200\n",
      "offline_stock_trade_data/MNST/momentum_stoch_rsi_MNST_2018-02-05.json has 200 trajectories\n",
      "Processing data as polars dataframe.\n",
      "Forcing normalization\n",
      "Dataset length:  200\n",
      "offline_stock_trade_data/MNST/trend_sma_fast_MNST_2018-02-05.json has 200 trajectories\n",
      "Processing data as polars dataframe.\n",
      "Forcing normalization\n",
      "Dataset length:  80\n",
      "offline_stock_trade_data/MNST/stable-baselines-ddpg_MNST_2018-02-05.json has 80 trajectories\n",
      "Processing data as polars dataframe.\n",
      "Forcing normalization\n",
      "Dataset length:  200\n",
      "offline_stock_trade_data/MNST/sentiment_react_MNST_2018-02-05.json has 200 trajectories\n",
      "Processing data as polars dataframe.\n",
      "Forcing normalization\n",
      "Dataset length:  200\n",
      "offline_stock_trade_data/MNST/random_MNST_2018-02-05.json has 200 trajectories\n",
      "Processing data as polars dataframe.\n",
      "Forcing normalization\n",
      "Dataset length:  80\n",
      "offline_stock_trade_data/MNST/stable-baselines-ppo_MNST_2018-02-05.json has 80 trajectories\n",
      "Processing data as polars dataframe.\n",
      "Forcing normalization\n",
      "Dataset length:  80\n",
      "offline_stock_trade_data/MNST/stable-baselines-a2c_MNST_2018-02-05.json has 80 trajectories\n",
      "Processing data as polars dataframe.\n",
      "Forcing normalization\n",
      "Dataset length:  200\n",
      "offline_stock_trade_data/KHC/momentum_stoch_rsi_KHC_2018-02-05.json has 200 trajectories\n",
      "Processing data as polars dataframe.\n",
      "Forcing normalization\n",
      "Dataset length:  80\n",
      "offline_stock_trade_data/KHC/stable-baselines-ppo_KHC_2018-02-05.json has 80 trajectories\n",
      "Processing data as polars dataframe.\n",
      "Forcing normalization\n",
      "Dataset length:  200\n",
      "offline_stock_trade_data/KHC/random_KHC_2018-02-05.json has 200 trajectories\n",
      "Processing data as polars dataframe.\n",
      "Forcing normalization\n",
      "Dataset length:  200\n",
      "offline_stock_trade_data/KHC/trend_sma_fast_KHC_2018-02-05.json has 200 trajectories\n",
      "Processing data as polars dataframe.\n",
      "Forcing normalization\n",
      "Dataset length:  80\n",
      "offline_stock_trade_data/KHC/stable-baselines-ddpg_KHC_2018-02-05.json has 80 trajectories\n",
      "Processing data as polars dataframe.\n",
      "Forcing normalization\n",
      "Dataset length:  200\n",
      "offline_stock_trade_data/KHC/sentiment_react_KHC_2018-02-05.json has 200 trajectories\n",
      "Processing data as polars dataframe.\n",
      "Forcing normalization\n",
      "Dataset length:  80\n",
      "offline_stock_trade_data/KHC/stable-baselines-a2c_KHC_2018-02-05.json has 80 trajectories\n",
      "Processing data as polars dataframe.\n",
      "Forcing normalization\n",
      "Dataset length:  80\n",
      "offline_stock_trade_data/AEP/stable-baselines-ddpg_AEP_2018-02-05.json has 80 trajectories\n",
      "Processing data as polars dataframe.\n",
      "Forcing normalization\n",
      "Dataset length:  200\n",
      "offline_stock_trade_data/AEP/trend_sma_fast_AEP_2018-02-05.json has 200 trajectories\n",
      "Processing data as polars dataframe.\n",
      "Forcing normalization\n",
      "Dataset length:  200\n",
      "offline_stock_trade_data/AEP/random_AEP_2018-02-05.json has 200 trajectories\n",
      "Processing data as polars dataframe.\n",
      "Forcing normalization\n",
      "Dataset length:  80\n",
      "offline_stock_trade_data/AEP/stable-baselines-a2c_AEP_2018-02-05.json has 80 trajectories\n",
      "Processing data as polars dataframe.\n",
      "Forcing normalization\n",
      "Dataset length:  200\n",
      "offline_stock_trade_data/AEP/momentum_stoch_rsi_AEP_2018-02-05.json has 200 trajectories\n",
      "Processing data as polars dataframe.\n",
      "Forcing normalization\n",
      "Dataset length:  80\n",
      "offline_stock_trade_data/AEP/stable-baselines-ppo_AEP_2018-02-05.json has 80 trajectories\n",
      "Processing data as polars dataframe.\n",
      "Forcing normalization\n",
      "Dataset length:  200\n",
      "offline_stock_trade_data/AEP/sentiment_react_AEP_2018-02-05.json has 200 trajectories\n",
      "Processing data as polars dataframe.\n",
      "Forcing normalization\n",
      "Dataset length:  200\n",
      "offline_stock_trade_data/DIS/sentiment_react_DIS_2018-02-05.json has 200 trajectories\n",
      "Processing data as polars dataframe.\n",
      "Forcing normalization\n",
      "Dataset length:  200\n",
      "offline_stock_trade_data/DIS/momentum_stoch_rsi_DIS_2018-02-05.json has 200 trajectories\n",
      "Processing data as polars dataframe.\n",
      "Forcing normalization\n",
      "Dataset length:  200\n",
      "offline_stock_trade_data/DIS/random_DIS_2018-02-05.json has 200 trajectories\n",
      "Processing data as polars dataframe.\n",
      "Forcing normalization\n",
      "Dataset length:  80\n",
      "offline_stock_trade_data/DIS/stable-baselines-ppo_DIS_2018-02-05.json has 80 trajectories\n",
      "Processing data as polars dataframe.\n",
      "Forcing normalization\n",
      "Dataset length:  200\n",
      "offline_stock_trade_data/DIS/trend_sma_fast_DIS_2018-02-05.json has 200 trajectories\n",
      "Processing data as polars dataframe.\n",
      "Forcing normalization\n",
      "Dataset length:  80\n",
      "offline_stock_trade_data/DIS/stable-baselines-a2c_DIS_2018-02-05.json has 80 trajectories\n",
      "Processing data as polars dataframe.\n",
      "Forcing normalization\n",
      "Dataset length:  80\n",
      "offline_stock_trade_data/DIS/stable-baselines-ddpg_DIS_2018-02-05.json has 80 trajectories\n",
      "Processing data as polars dataframe.\n",
      "Forcing normalization\n",
      "Dataset length:  200\n",
      "offline_stock_trade_data/ON/momentum_stoch_rsi_ON_2018-02-05.json has 200 trajectories\n",
      "Processing data as polars dataframe.\n",
      "Forcing normalization\n",
      "Dataset length:  200\n",
      "offline_stock_trade_data/ON/random_ON_2018-02-05.json has 200 trajectories\n",
      "Processing data as polars dataframe.\n",
      "Forcing normalization\n",
      "Dataset length:  200\n",
      "offline_stock_trade_data/ON/sentiment_react_ON_2018-02-05.json has 200 trajectories\n",
      "Processing data as polars dataframe.\n",
      "Forcing normalization\n",
      "Dataset length:  200\n",
      "offline_stock_trade_data/ON/trend_sma_fast_ON_2018-02-05.json has 200 trajectories\n",
      "Processing data as polars dataframe.\n",
      "Forcing normalization\n",
      "Dataset length:  200\n",
      "offline_stock_trade_data/INTC/random_INTC_2018-02-05.json has 200 trajectories\n",
      "Processing data as polars dataframe.\n",
      "Forcing normalization\n",
      "Dataset length:  200\n",
      "offline_stock_trade_data/INTC/momentum_stoch_rsi_INTC_2018-02-05.json has 200 trajectories\n",
      "Processing data as polars dataframe.\n",
      "Forcing normalization\n",
      "Dataset length:  200\n",
      "offline_stock_trade_data/INTC/sentiment_react_INTC_2018-02-05.json has 200 trajectories\n",
      "Processing data as polars dataframe.\n",
      "Forcing normalization\n",
      "Dataset length:  200\n",
      "offline_stock_trade_data/INTC/trend_sma_fast_INTC_2018-02-05.json has 200 trajectories\n",
      "Processing data as polars dataframe.\n",
      "Forcing normalization\n",
      "Dataset length:  80\n",
      "offline_stock_trade_data/INTC/stable-baselines-a2c_INTC_2018-02-05.json has 80 trajectories\n",
      "Processing data as polars dataframe.\n",
      "Forcing normalization\n",
      "Dataset length:  80\n",
      "offline_stock_trade_data/INTC/stable-baselines-ppo_INTC_2018-02-05.json has 80 trajectories\n",
      "Processing data as polars dataframe.\n",
      "Forcing normalization\n",
      "Dataset length:  80\n",
      "offline_stock_trade_data/INTC/stable-baselines-ddpg_INTC_2018-02-05.json has 80 trajectories\n",
      "Processing data as polars dataframe.\n",
      "Forcing normalization\n",
      "Dataset length:  80\n",
      "offline_stock_trade_data/PEP/stable-baselines-ddpg_PEP_2018-02-05.json has 80 trajectories\n",
      "Processing data as polars dataframe.\n",
      "Forcing normalization\n",
      "Dataset length:  200\n",
      "offline_stock_trade_data/PEP/sentiment_react_PEP_2018-02-05.json has 200 trajectories\n",
      "Processing data as polars dataframe.\n",
      "Forcing normalization\n",
      "Dataset length:  80\n",
      "offline_stock_trade_data/PEP/stable-baselines-ppo_PEP_2018-02-05.json has 80 trajectories\n",
      "Processing data as polars dataframe.\n",
      "Forcing normalization\n",
      "Dataset length:  200\n",
      "offline_stock_trade_data/PEP/trend_sma_fast_PEP_2018-02-05.json has 200 trajectories\n",
      "Processing data as polars dataframe.\n",
      "Forcing normalization\n",
      "Dataset length:  200\n",
      "offline_stock_trade_data/PEP/random_PEP_2018-02-05.json has 200 trajectories\n",
      "Processing data as polars dataframe.\n",
      "Forcing normalization\n",
      "Dataset length:  200\n",
      "offline_stock_trade_data/PEP/momentum_stoch_rsi_PEP_2018-02-05.json has 200 trajectories\n",
      "Processing data as polars dataframe.\n",
      "Forcing normalization\n",
      "Dataset length:  80\n",
      "offline_stock_trade_data/PEP/stable-baselines-a2c_PEP_2018-02-05.json has 80 trajectories\n",
      "Processing data as polars dataframe.\n",
      "Forcing normalization\n",
      "Dataset length:  200\n",
      "offline_stock_trade_data/PYPL/momentum_stoch_rsi_PYPL_2018-02-05.json has 200 trajectories\n",
      "Processing data as polars dataframe.\n",
      "Forcing normalization\n",
      "Dataset length:  80\n",
      "offline_stock_trade_data/PYPL/stable-baselines-a2c_PYPL_2018-02-05.json has 80 trajectories\n",
      "Processing data as polars dataframe.\n",
      "Forcing normalization\n",
      "Dataset length:  80\n",
      "offline_stock_trade_data/PYPL/stable-baselines-ddpg_PYPL_2018-02-05.json has 80 trajectories\n",
      "Processing data as polars dataframe.\n",
      "Forcing normalization\n",
      "Dataset length:  200\n",
      "offline_stock_trade_data/PYPL/sentiment_react_PYPL_2018-02-05.json has 200 trajectories\n",
      "Processing data as polars dataframe.\n",
      "Forcing normalization\n",
      "Dataset length:  200\n",
      "offline_stock_trade_data/PYPL/random_PYPL_2018-02-05.json has 200 trajectories\n",
      "Processing data as polars dataframe.\n",
      "Forcing normalization\n",
      "Dataset length:  80\n",
      "offline_stock_trade_data/PYPL/stable-baselines-ppo_PYPL_2018-02-05.json has 80 trajectories\n",
      "Processing data as polars dataframe.\n",
      "Forcing normalization\n",
      "Dataset length:  200\n",
      "offline_stock_trade_data/PYPL/trend_sma_fast_PYPL_2018-02-05.json has 200 trajectories\n",
      "Processing data as polars dataframe.\n",
      "Forcing normalization\n",
      "Dataset length:  200\n",
      "offline_stock_trade_data/PANW/momentum_stoch_rsi_PANW_2018-02-05.json has 200 trajectories\n",
      "Processing data as polars dataframe.\n",
      "Forcing normalization\n",
      "Dataset length:  200\n",
      "offline_stock_trade_data/PANW/random_PANW_2018-02-05.json has 200 trajectories\n",
      "Processing data as polars dataframe.\n",
      "Forcing normalization\n",
      "Dataset length:  200\n",
      "offline_stock_trade_data/PANW/trend_sma_fast_PANW_2018-02-05.json has 200 trajectories\n",
      "Processing data as polars dataframe.\n",
      "Forcing normalization\n",
      "Dataset length:  200\n",
      "offline_stock_trade_data/PANW/sentiment_react_PANW_2018-02-05.json has 200 trajectories\n",
      "Processing data as polars dataframe.\n",
      "Forcing normalization\n",
      "Dataset length:  80\n",
      "offline_stock_trade_data/PANW/stable-baselines-ddpg_PANW_2018-02-05.json has 80 trajectories\n",
      "Processing data as polars dataframe.\n",
      "Forcing normalization\n",
      "Dataset length:  80\n",
      "offline_stock_trade_data/PANW/stable-baselines-ppo_PANW_2018-02-05.json has 80 trajectories\n",
      "Processing data as polars dataframe.\n",
      "Forcing normalization\n",
      "Dataset length:  80\n",
      "offline_stock_trade_data/PANW/stable-baselines-a2c_PANW_2018-02-05.json has 80 trajectories\n",
      "Processing data as polars dataframe.\n",
      "Forcing normalization\n",
      "Dataset length:  200\n",
      "offline_stock_trade_data/XEL/random_XEL_2018-02-05.json has 200 trajectories\n",
      "Processing data as polars dataframe.\n",
      "Forcing normalization\n",
      "Dataset length:  200\n",
      "offline_stock_trade_data/XEL/sentiment_react_XEL_2018-02-05.json has 200 trajectories\n",
      "Processing data as polars dataframe.\n",
      "Forcing normalization\n",
      "Dataset length:  80\n",
      "offline_stock_trade_data/XEL/stable-baselines-ppo_XEL_2018-02-05.json has 80 trajectories\n",
      "Processing data as polars dataframe.\n",
      "Forcing normalization\n",
      "Dataset length:  80\n",
      "offline_stock_trade_data/XEL/stable-baselines-ddpg_XEL_2018-02-05.json has 80 trajectories\n",
      "Processing data as polars dataframe.\n",
      "Forcing normalization\n",
      "Dataset length:  200\n",
      "offline_stock_trade_data/XEL/trend_sma_fast_XEL_2018-02-05.json has 200 trajectories\n",
      "Processing data as polars dataframe.\n",
      "Forcing normalization\n",
      "Dataset length:  80\n",
      "offline_stock_trade_data/XEL/stable-baselines-a2c_XEL_2018-02-05.json has 80 trajectories\n",
      "Processing data as polars dataframe.\n",
      "Forcing normalization\n",
      "Dataset length:  200\n",
      "offline_stock_trade_data/XEL/momentum_stoch_rsi_XEL_2018-02-05.json has 200 trajectories\n",
      "Processing data as polars dataframe.\n",
      "Forcing normalization\n",
      "Dataset length:  80\n",
      "offline_stock_trade_data/CDW/stable-baselines-ppo_CDW_2018-02-05.json has 80 trajectories\n",
      "Processing data as polars dataframe.\n",
      "Forcing normalization\n",
      "Dataset length:  80\n",
      "offline_stock_trade_data/CDW/stable-baselines-ddpg_CDW_2018-02-05.json has 80 trajectories\n",
      "Processing data as polars dataframe.\n",
      "Forcing normalization\n",
      "Dataset length:  200\n",
      "offline_stock_trade_data/CDW/momentum_stoch_rsi_CDW_2018-02-05.json has 200 trajectories\n",
      "Processing data as polars dataframe.\n",
      "Forcing normalization\n",
      "Dataset length:  80\n",
      "offline_stock_trade_data/CDW/stable-baselines-a2c_CDW_2018-02-05.json has 80 trajectories\n",
      "Processing data as polars dataframe.\n",
      "Forcing normalization\n",
      "Dataset length:  200\n",
      "offline_stock_trade_data/CDW/random_CDW_2018-02-05.json has 200 trajectories\n",
      "Processing data as polars dataframe.\n",
      "Forcing normalization\n",
      "Dataset length:  200\n",
      "offline_stock_trade_data/CDW/trend_sma_fast_CDW_2018-02-05.json has 200 trajectories\n",
      "Processing data as polars dataframe.\n",
      "Forcing normalization\n",
      "Dataset length:  200\n",
      "offline_stock_trade_data/CDW/sentiment_react_CDW_2018-02-05.json has 200 trajectories\n",
      "Processing data as polars dataframe.\n",
      "Forcing normalization\n",
      "Dataset length:  80\n",
      "offline_stock_trade_data/ADI/stable-baselines-ddpg_ADI_2018-02-05.json has 80 trajectories\n",
      "Processing data as polars dataframe.\n",
      "Forcing normalization\n",
      "Dataset length:  200\n",
      "offline_stock_trade_data/ADI/momentum_stoch_rsi_ADI_2018-02-05.json has 200 trajectories\n",
      "Processing data as polars dataframe.\n",
      "Forcing normalization\n",
      "Dataset length:  80\n",
      "offline_stock_trade_data/ADI/stable-baselines-ppo_ADI_2018-02-05.json has 80 trajectories\n",
      "Processing data as polars dataframe.\n",
      "Forcing normalization\n",
      "Dataset length:  80\n",
      "offline_stock_trade_data/ADI/stable-baselines-a2c_ADI_2018-02-05.json has 80 trajectories\n",
      "Processing data as polars dataframe.\n",
      "Forcing normalization\n",
      "Dataset length:  200\n",
      "offline_stock_trade_data/ADI/trend_sma_fast_ADI_2018-02-05.json has 200 trajectories\n",
      "Processing data as polars dataframe.\n",
      "Forcing normalization\n",
      "Dataset length:  200\n",
      "offline_stock_trade_data/ADI/random_ADI_2018-02-05.json has 200 trajectories\n",
      "Processing data as polars dataframe.\n",
      "Forcing normalization\n",
      "Dataset length:  200\n",
      "offline_stock_trade_data/ADI/sentiment_react_ADI_2018-02-05.json has 200 trajectories\n",
      "Processing data as polars dataframe.\n",
      "Forcing normalization\n",
      "Dataset length:  200\n",
      "offline_stock_trade_data/CHTR/sentiment_react_CHTR_2018-02-05.json has 200 trajectories\n",
      "Processing data as polars dataframe.\n",
      "Forcing normalization\n",
      "Dataset length:  200\n",
      "offline_stock_trade_data/CHTR/momentum_stoch_rsi_CHTR_2018-02-05.json has 200 trajectories\n",
      "Processing data as polars dataframe.\n",
      "Forcing normalization\n",
      "Dataset length:  80\n",
      "offline_stock_trade_data/CHTR/stable-baselines-a2c_CHTR_2018-02-05.json has 80 trajectories\n",
      "Processing data as polars dataframe.\n",
      "Forcing normalization\n",
      "Dataset length:  200\n",
      "offline_stock_trade_data/CHTR/random_CHTR_2018-02-05.json has 200 trajectories\n",
      "Processing data as polars dataframe.\n",
      "Forcing normalization\n",
      "Dataset length:  200\n",
      "offline_stock_trade_data/CHTR/trend_sma_fast_CHTR_2018-02-05.json has 200 trajectories\n",
      "Processing data as polars dataframe.\n",
      "Forcing normalization\n",
      "Dataset length:  80\n",
      "offline_stock_trade_data/CHTR/stable-baselines-ddpg_CHTR_2018-02-05.json has 80 trajectories\n",
      "Processing data as polars dataframe.\n",
      "Forcing normalization\n",
      "Dataset length:  80\n",
      "offline_stock_trade_data/CHTR/stable-baselines-ppo_CHTR_2018-02-05.json has 80 trajectories\n",
      "Processing data as polars dataframe.\n",
      "Forcing normalization\n",
      "Dataset length:  200\n",
      "offline_stock_trade_data/VZ/sentiment_react_VZ_2018-02-05.json has 200 trajectories\n",
      "Processing data as polars dataframe.\n",
      "Forcing normalization\n",
      "Dataset length:  80\n",
      "offline_stock_trade_data/VZ/stable-baselines-ppo_VZ_2018-02-05.json has 80 trajectories\n",
      "Processing data as polars dataframe.\n",
      "Forcing normalization\n",
      "Dataset length:  200\n",
      "offline_stock_trade_data/VZ/random_VZ_2018-02-05.json has 200 trajectories\n",
      "Processing data as polars dataframe.\n",
      "Forcing normalization\n",
      "Dataset length:  200\n",
      "offline_stock_trade_data/VZ/trend_sma_fast_VZ_2018-02-05.json has 200 trajectories\n",
      "Processing data as polars dataframe.\n",
      "Forcing normalization\n",
      "Dataset length:  80\n",
      "offline_stock_trade_data/VZ/stable-baselines-ddpg_VZ_2018-02-05.json has 80 trajectories\n",
      "Processing data as polars dataframe.\n",
      "Forcing normalization\n",
      "Dataset length:  200\n",
      "offline_stock_trade_data/VZ/momentum_stoch_rsi_VZ_2018-02-05.json has 200 trajectories\n",
      "Processing data as polars dataframe.\n",
      "Forcing normalization\n",
      "Dataset length:  80\n",
      "offline_stock_trade_data/VZ/stable-baselines-a2c_VZ_2018-02-05.json has 80 trajectories\n",
      "Processing data as polars dataframe.\n",
      "Forcing normalization\n",
      "Dataset length:  200\n",
      "offline_stock_trade_data/IDXX/sentiment_react_IDXX_2018-02-05.json has 200 trajectories\n",
      "Processing data as polars dataframe.\n",
      "Forcing normalization\n",
      "Dataset length:  200\n",
      "offline_stock_trade_data/IDXX/momentum_stoch_rsi_IDXX_2018-02-05.json has 200 trajectories\n",
      "Processing data as polars dataframe.\n",
      "Forcing normalization\n",
      "Dataset length:  80\n",
      "offline_stock_trade_data/IDXX/stable-baselines-ddpg_IDXX_2018-02-05.json has 80 trajectories\n",
      "Processing data as polars dataframe.\n",
      "Forcing normalization\n",
      "Dataset length:  80\n",
      "offline_stock_trade_data/IDXX/stable-baselines-ppo_IDXX_2018-02-05.json has 80 trajectories\n",
      "Processing data as polars dataframe.\n",
      "Forcing normalization\n",
      "Dataset length:  200\n",
      "offline_stock_trade_data/IDXX/random_IDXX_2018-02-05.json has 200 trajectories\n",
      "Processing data as polars dataframe.\n",
      "Forcing normalization\n",
      "Dataset length:  80\n",
      "offline_stock_trade_data/IDXX/stable-baselines-a2c_IDXX_2018-02-05.json has 80 trajectories\n",
      "Processing data as polars dataframe.\n",
      "Forcing normalization\n",
      "Dataset length:  200\n",
      "offline_stock_trade_data/IDXX/trend_sma_fast_IDXX_2018-02-05.json has 200 trajectories\n",
      "Processing data as polars dataframe.\n",
      "Forcing normalization\n",
      "Dataset length:  200\n",
      "offline_stock_trade_data/ASML/momentum_stoch_rsi_ASML_2018-02-05.json has 200 trajectories\n",
      "Processing data as polars dataframe.\n",
      "Forcing normalization\n",
      "Dataset length:  80\n",
      "offline_stock_trade_data/ASML/stable-baselines-a2c_ASML_2018-02-05.json has 80 trajectories\n",
      "Processing data as polars dataframe.\n",
      "Forcing normalization\n",
      "Dataset length:  80\n",
      "offline_stock_trade_data/ASML/stable-baselines-ddpg_ASML_2018-02-05.json has 80 trajectories\n",
      "Processing data as polars dataframe.\n",
      "Forcing normalization\n",
      "Dataset length:  200\n",
      "offline_stock_trade_data/ASML/trend_sma_fast_ASML_2018-02-05.json has 200 trajectories\n",
      "Processing data as polars dataframe.\n",
      "Forcing normalization\n",
      "Dataset length:  80\n",
      "offline_stock_trade_data/ASML/stable-baselines-ppo_ASML_2018-02-05.json has 80 trajectories\n",
      "Processing data as polars dataframe.\n",
      "Forcing normalization\n",
      "Dataset length:  200\n",
      "offline_stock_trade_data/ASML/sentiment_react_ASML_2018-02-05.json has 200 trajectories\n",
      "Processing data as polars dataframe.\n",
      "Forcing normalization\n",
      "Dataset length:  200\n",
      "offline_stock_trade_data/ASML/random_ASML_2018-02-05.json has 200 trajectories\n",
      "Processing data as polars dataframe.\n",
      "Forcing normalization\n",
      "Dataset length:  200\n",
      "offline_stock_trade_data/KDP/trend_sma_fast_KDP_2018-02-05.json has 200 trajectories\n",
      "Processing data as polars dataframe.\n",
      "Forcing normalization\n",
      "Dataset length:  80\n",
      "offline_stock_trade_data/KDP/stable-baselines-ddpg_KDP_2018-02-05.json has 80 trajectories\n",
      "Processing data as polars dataframe.\n",
      "Forcing normalization\n",
      "Dataset length:  200\n",
      "offline_stock_trade_data/KDP/momentum_stoch_rsi_KDP_2018-02-05.json has 200 trajectories\n",
      "Processing data as polars dataframe.\n",
      "Forcing normalization\n",
      "Dataset length:  80\n",
      "offline_stock_trade_data/KDP/stable-baselines-ppo_KDP_2018-02-05.json has 80 trajectories\n",
      "Processing data as polars dataframe.\n",
      "Forcing normalization\n",
      "Dataset length:  200\n",
      "offline_stock_trade_data/KDP/sentiment_react_KDP_2018-02-05.json has 200 trajectories\n",
      "Processing data as polars dataframe.\n",
      "Forcing normalization\n",
      "Dataset length:  200\n",
      "offline_stock_trade_data/KDP/random_KDP_2018-02-05.json has 200 trajectories\n",
      "Processing data as polars dataframe.\n",
      "Forcing normalization\n",
      "Dataset length:  80\n",
      "offline_stock_trade_data/KDP/stable-baselines-a2c_KDP_2018-02-05.json has 80 trajectories\n",
      "Processing data as polars dataframe.\n",
      "Forcing normalization\n",
      "Dataset length:  200\n",
      "offline_stock_trade_data/DDOG/sentiment_react_DDOG_2018-02-05.json has 200 trajectories\n",
      "Processing data as polars dataframe.\n",
      "Forcing normalization\n",
      "Dataset length:  200\n",
      "offline_stock_trade_data/DDOG/momentum_stoch_rsi_DDOG_2018-02-05.json has 200 trajectories\n",
      "Processing data as polars dataframe.\n",
      "Forcing normalization\n",
      "Dataset length:  200\n",
      "offline_stock_trade_data/DDOG/random_DDOG_2018-02-05.json has 200 trajectories\n",
      "Processing data as polars dataframe.\n",
      "Forcing normalization\n",
      "Dataset length:  200\n",
      "offline_stock_trade_data/DDOG/trend_sma_fast_DDOG_2018-02-05.json has 200 trajectories\n",
      "Processing data as polars dataframe.\n",
      "Forcing normalization\n",
      "Dataset length:  80\n",
      "offline_stock_trade_data/CSCO/stable-baselines-ddpg_CSCO_2018-02-05.json has 80 trajectories\n",
      "Processing data as polars dataframe.\n",
      "Forcing normalization\n",
      "Dataset length:  80\n",
      "offline_stock_trade_data/CSCO/stable-baselines-ppo_CSCO_2018-02-05.json has 80 trajectories\n",
      "Processing data as polars dataframe.\n",
      "Forcing normalization\n",
      "Dataset length:  80\n",
      "offline_stock_trade_data/CSCO/stable-baselines-a2c_CSCO_2018-02-05.json has 80 trajectories\n",
      "Processing data as polars dataframe.\n",
      "Forcing normalization\n",
      "Dataset length:  200\n",
      "offline_stock_trade_data/CSCO/sentiment_react_CSCO_2018-02-05.json has 200 trajectories\n",
      "Processing data as polars dataframe.\n",
      "Forcing normalization\n",
      "Dataset length:  200\n",
      "offline_stock_trade_data/CSCO/random_CSCO_2018-02-05.json has 200 trajectories\n",
      "Processing data as polars dataframe.\n",
      "Forcing normalization\n",
      "Dataset length:  200\n",
      "offline_stock_trade_data/CSCO/trend_sma_fast_CSCO_2018-02-05.json has 200 trajectories\n",
      "Processing data as polars dataframe.\n",
      "Forcing normalization\n",
      "Dataset length:  200\n",
      "offline_stock_trade_data/CSCO/momentum_stoch_rsi_CSCO_2018-02-05.json has 200 trajectories\n",
      "Processing data as polars dataframe.\n",
      "Forcing normalization\n",
      "Dataset length:  200\n",
      "offline_stock_trade_data/META/trend_sma_fast_META_2018-02-05.json has 200 trajectories\n",
      "Processing data as polars dataframe.\n",
      "Forcing normalization\n",
      "Dataset length:  200\n",
      "offline_stock_trade_data/META/random_META_2018-02-05.json has 200 trajectories\n",
      "Processing data as polars dataframe.\n",
      "Forcing normalization\n",
      "Dataset length:  200\n",
      "offline_stock_trade_data/META/sentiment_react_META_2018-02-05.json has 200 trajectories\n",
      "Processing data as polars dataframe.\n",
      "Forcing normalization\n",
      "Dataset length:  200\n",
      "offline_stock_trade_data/META/momentum_stoch_rsi_META_2018-02-05.json has 200 trajectories\n",
      "Processing data as polars dataframe.\n",
      "Forcing normalization\n",
      "Dataset length:  80\n",
      "offline_stock_trade_data/META/stable-baselines-ddpg_META_2018-02-05.json has 80 trajectories\n",
      "Processing data as polars dataframe.\n",
      "Forcing normalization\n",
      "Dataset length:  80\n",
      "offline_stock_trade_data/META/stable-baselines-ppo_META_2018-02-05.json has 80 trajectories\n",
      "Processing data as polars dataframe.\n",
      "Forcing normalization\n",
      "Dataset length:  80\n",
      "offline_stock_trade_data/META/stable-baselines-a2c_META_2018-02-05.json has 80 trajectories\n",
      "Processing data as polars dataframe.\n",
      "Forcing normalization\n",
      "Dataset length:  200\n",
      "offline_stock_trade_data/IBM/sentiment_react_IBM_2018-02-05.json has 200 trajectories\n",
      "Processing data as polars dataframe.\n",
      "Forcing normalization\n",
      "Dataset length:  200\n",
      "offline_stock_trade_data/IBM/momentum_stoch_rsi_IBM_2018-02-05.json has 200 trajectories\n",
      "Processing data as polars dataframe.\n",
      "Forcing normalization\n",
      "Dataset length:  80\n",
      "offline_stock_trade_data/IBM/stable-baselines-ppo_IBM_2018-02-05.json has 80 trajectories\n",
      "Processing data as polars dataframe.\n",
      "Forcing normalization\n",
      "Dataset length:  80\n",
      "offline_stock_trade_data/IBM/stable-baselines-ddpg_IBM_2018-02-05.json has 80 trajectories\n",
      "Processing data as polars dataframe.\n",
      "Forcing normalization\n",
      "Dataset length:  200\n",
      "offline_stock_trade_data/IBM/trend_sma_fast_IBM_2018-02-05.json has 200 trajectories\n",
      "Processing data as polars dataframe.\n",
      "Forcing normalization\n",
      "Dataset length:  200\n",
      "offline_stock_trade_data/IBM/random_IBM_2018-02-05.json has 200 trajectories\n",
      "Processing data as polars dataframe.\n",
      "Forcing normalization\n",
      "Dataset length:  80\n",
      "offline_stock_trade_data/IBM/stable-baselines-a2c_IBM_2018-02-05.json has 80 trajectories\n",
      "Processing data as polars dataframe.\n",
      "Forcing normalization\n",
      "Dataset length:  200\n",
      "offline_stock_trade_data/WMT/random_WMT_2018-02-05.json has 200 trajectories\n",
      "Processing data as polars dataframe.\n",
      "Forcing normalization\n",
      "Dataset length:  80\n",
      "offline_stock_trade_data/WMT/stable-baselines-ddpg_WMT_2018-02-05.json has 80 trajectories\n",
      "Processing data as polars dataframe.\n",
      "Forcing normalization\n",
      "Dataset length:  200\n",
      "offline_stock_trade_data/WMT/sentiment_react_WMT_2018-02-05.json has 200 trajectories\n",
      "Processing data as polars dataframe.\n",
      "Forcing normalization\n",
      "Dataset length:  200\n",
      "offline_stock_trade_data/WMT/trend_sma_fast_WMT_2018-02-05.json has 200 trajectories\n",
      "Processing data as polars dataframe.\n",
      "Forcing normalization\n",
      "Dataset length:  80\n",
      "offline_stock_trade_data/WMT/stable-baselines-a2c_WMT_2018-02-05.json has 80 trajectories\n",
      "Processing data as polars dataframe.\n",
      "Forcing normalization\n",
      "Dataset length:  200\n",
      "offline_stock_trade_data/WMT/momentum_stoch_rsi_WMT_2018-02-05.json has 200 trajectories\n",
      "Processing data as polars dataframe.\n",
      "Forcing normalization\n",
      "Dataset length:  80\n",
      "offline_stock_trade_data/WMT/stable-baselines-ppo_WMT_2018-02-05.json has 80 trajectories\n",
      "Processing data as polars dataframe.\n",
      "Forcing normalization\n",
      "Dataset length:  200\n",
      "offline_stock_trade_data/MDLZ/trend_sma_fast_MDLZ_2018-02-05.json has 200 trajectories\n",
      "Processing data as polars dataframe.\n",
      "Forcing normalization\n",
      "Dataset length:  200\n",
      "offline_stock_trade_data/MDLZ/momentum_stoch_rsi_MDLZ_2018-02-05.json has 200 trajectories\n",
      "Processing data as polars dataframe.\n",
      "Forcing normalization\n",
      "Dataset length:  80\n",
      "offline_stock_trade_data/MDLZ/stable-baselines-ddpg_MDLZ_2018-02-05.json has 80 trajectories\n",
      "Processing data as polars dataframe.\n",
      "Forcing normalization\n",
      "Dataset length:  80\n",
      "offline_stock_trade_data/MDLZ/stable-baselines-a2c_MDLZ_2018-02-05.json has 80 trajectories\n",
      "Processing data as polars dataframe.\n",
      "Forcing normalization\n",
      "Dataset length:  80\n",
      "offline_stock_trade_data/MDLZ/stable-baselines-ppo_MDLZ_2018-02-05.json has 80 trajectories\n",
      "Processing data as polars dataframe.\n",
      "Forcing normalization\n",
      "Dataset length:  200\n",
      "offline_stock_trade_data/MDLZ/random_MDLZ_2018-02-05.json has 200 trajectories\n",
      "Processing data as polars dataframe.\n",
      "Forcing normalization\n",
      "Dataset length:  200\n",
      "offline_stock_trade_data/MDLZ/sentiment_react_MDLZ_2018-02-05.json has 200 trajectories\n",
      "Processing data as polars dataframe.\n",
      "Forcing normalization\n",
      "Dataset length:  200\n",
      "offline_stock_trade_data/CTAS/sentiment_react_CTAS_2018-02-05.json has 200 trajectories\n",
      "Processing data as polars dataframe.\n",
      "Forcing normalization\n",
      "Dataset length:  80\n",
      "offline_stock_trade_data/CTAS/stable-baselines-ddpg_CTAS_2018-02-05.json has 80 trajectories\n",
      "Processing data as polars dataframe.\n",
      "Forcing normalization\n",
      "Dataset length:  200\n",
      "offline_stock_trade_data/CTAS/trend_sma_fast_CTAS_2018-02-05.json has 200 trajectories\n",
      "Processing data as polars dataframe.\n",
      "Forcing normalization\n",
      "Dataset length:  200\n",
      "offline_stock_trade_data/CTAS/random_CTAS_2018-02-05.json has 200 trajectories\n",
      "Processing data as polars dataframe.\n",
      "Forcing normalization\n",
      "Dataset length:  200\n",
      "offline_stock_trade_data/CTAS/momentum_stoch_rsi_CTAS_2018-02-05.json has 200 trajectories\n",
      "Processing data as polars dataframe.\n",
      "Forcing normalization\n",
      "Dataset length:  80\n",
      "offline_stock_trade_data/CTAS/stable-baselines-ppo_CTAS_2018-02-05.json has 80 trajectories\n",
      "Processing data as polars dataframe.\n",
      "Forcing normalization\n",
      "Dataset length:  80\n",
      "offline_stock_trade_data/CTAS/stable-baselines-a2c_CTAS_2018-02-05.json has 80 trajectories\n",
      "Processing data as polars dataframe.\n",
      "Forcing normalization\n",
      "Dataset length:  80\n",
      "offline_stock_trade_data/MCD/stable-baselines-ddpg_MCD_2018-02-05.json has 80 trajectories\n",
      "Processing data as polars dataframe.\n",
      "Forcing normalization\n",
      "Dataset length:  200\n",
      "offline_stock_trade_data/MCD/sentiment_react_MCD_2018-02-05.json has 200 trajectories\n",
      "Processing data as polars dataframe.\n",
      "Forcing normalization\n",
      "Dataset length:  80\n",
      "offline_stock_trade_data/MCD/stable-baselines-ppo_MCD_2018-02-05.json has 80 trajectories\n",
      "Processing data as polars dataframe.\n",
      "Forcing normalization\n",
      "Dataset length:  200\n",
      "offline_stock_trade_data/MCD/momentum_stoch_rsi_MCD_2018-02-05.json has 200 trajectories\n",
      "Processing data as polars dataframe.\n",
      "Forcing normalization\n",
      "Dataset length:  200\n",
      "offline_stock_trade_data/MCD/random_MCD_2018-02-05.json has 200 trajectories\n",
      "Processing data as polars dataframe.\n",
      "Forcing normalization\n",
      "Dataset length:  200\n",
      "offline_stock_trade_data/MCD/trend_sma_fast_MCD_2018-02-05.json has 200 trajectories\n",
      "Processing data as polars dataframe.\n",
      "Forcing normalization\n",
      "Dataset length:  80\n",
      "offline_stock_trade_data/MCD/stable-baselines-a2c_MCD_2018-02-05.json has 80 trajectories\n",
      "Processing data as polars dataframe.\n",
      "Forcing normalization\n",
      "Dataset length:  80\n",
      "offline_stock_trade_data/HD/stable-baselines-ppo_HD_2018-02-05.json has 80 trajectories\n",
      "Processing data as polars dataframe.\n",
      "Forcing normalization\n",
      "Dataset length:  80\n",
      "offline_stock_trade_data/HD/stable-baselines-ddpg_HD_2018-02-05.json has 80 trajectories\n",
      "Processing data as polars dataframe.\n",
      "Forcing normalization\n",
      "Dataset length:  200\n",
      "offline_stock_trade_data/HD/trend_sma_fast_HD_2018-02-05.json has 200 trajectories\n",
      "Processing data as polars dataframe.\n",
      "Forcing normalization\n",
      "Dataset length:  200\n",
      "offline_stock_trade_data/HD/sentiment_react_HD_2018-02-05.json has 200 trajectories\n",
      "Processing data as polars dataframe.\n",
      "Forcing normalization\n",
      "Dataset length:  200\n",
      "offline_stock_trade_data/HD/random_HD_2018-02-05.json has 200 trajectories\n",
      "Processing data as polars dataframe.\n",
      "Forcing normalization\n",
      "Dataset length:  80\n",
      "offline_stock_trade_data/HD/stable-baselines-a2c_HD_2018-02-05.json has 80 trajectories\n",
      "Processing data as polars dataframe.\n",
      "Forcing normalization\n",
      "Dataset length:  200\n",
      "offline_stock_trade_data/HD/momentum_stoch_rsi_HD_2018-02-05.json has 200 trajectories\n",
      "Processing data as polars dataframe.\n",
      "Forcing normalization\n",
      "Dataset length:  200\n",
      "offline_stock_trade_data/HON/sentiment_react_HON_2018-02-05.json has 200 trajectories\n",
      "Processing data as polars dataframe.\n",
      "Forcing normalization\n",
      "Dataset length:  200\n",
      "offline_stock_trade_data/HON/momentum_stoch_rsi_HON_2018-02-05.json has 200 trajectories\n",
      "Processing data as polars dataframe.\n",
      "Forcing normalization\n",
      "Dataset length:  80\n",
      "offline_stock_trade_data/HON/stable-baselines-a2c_HON_2018-02-05.json has 80 trajectories\n",
      "Processing data as polars dataframe.\n",
      "Forcing normalization\n",
      "Dataset length:  80\n",
      "offline_stock_trade_data/HON/stable-baselines-ddpg_HON_2018-02-05.json has 80 trajectories\n",
      "Processing data as polars dataframe.\n",
      "Forcing normalization\n",
      "Dataset length:  200\n",
      "offline_stock_trade_data/HON/random_HON_2018-02-05.json has 200 trajectories\n",
      "Processing data as polars dataframe.\n",
      "Forcing normalization\n",
      "Dataset length:  80\n",
      "offline_stock_trade_data/HON/stable-baselines-ppo_HON_2018-02-05.json has 80 trajectories\n",
      "Processing data as polars dataframe.\n",
      "Forcing normalization\n",
      "Dataset length:  200\n",
      "offline_stock_trade_data/HON/trend_sma_fast_HON_2018-02-05.json has 200 trajectories\n",
      "Processing data as polars dataframe.\n",
      "Forcing normalization\n",
      "Dataset length:  80\n",
      "offline_stock_trade_data/BIIB/stable-baselines-ddpg_BIIB_2018-02-05.json has 80 trajectories\n",
      "Processing data as polars dataframe.\n",
      "Forcing normalization\n",
      "Dataset length:  200\n",
      "offline_stock_trade_data/BIIB/momentum_stoch_rsi_BIIB_2018-02-05.json has 200 trajectories\n",
      "Processing data as polars dataframe.\n",
      "Forcing normalization\n",
      "Dataset length:  200\n",
      "offline_stock_trade_data/BIIB/random_BIIB_2018-02-05.json has 200 trajectories\n",
      "Processing data as polars dataframe.\n",
      "Forcing normalization\n",
      "Dataset length:  200\n",
      "offline_stock_trade_data/BIIB/trend_sma_fast_BIIB_2018-02-05.json has 200 trajectories\n",
      "Processing data as polars dataframe.\n",
      "Forcing normalization\n",
      "Dataset length:  80\n",
      "offline_stock_trade_data/BIIB/stable-baselines-ppo_BIIB_2018-02-05.json has 80 trajectories\n",
      "Processing data as polars dataframe.\n",
      "Forcing normalization\n",
      "Dataset length:  80\n",
      "offline_stock_trade_data/BIIB/stable-baselines-a2c_BIIB_2018-02-05.json has 80 trajectories\n",
      "Processing data as polars dataframe.\n",
      "Forcing normalization\n",
      "Dataset length:  200\n",
      "offline_stock_trade_data/BIIB/sentiment_react_BIIB_2018-02-05.json has 200 trajectories\n",
      "Processing data as polars dataframe.\n",
      "Forcing normalization\n",
      "Dataset length:  200\n",
      "offline_stock_trade_data/AAPL/momentum_stoch_rsi_AAPL_2018-02-05.json has 200 trajectories\n",
      "Processing data as polars dataframe.\n",
      "Forcing normalization\n",
      "Dataset length:  200\n",
      "offline_stock_trade_data/AAPL/sentiment_react_AAPL_2018-02-05.json has 200 trajectories\n",
      "Processing data as polars dataframe.\n",
      "Forcing normalization\n",
      "Dataset length:  80\n",
      "offline_stock_trade_data/AAPL/stable-baselines-a2c_AAPL_2018-02-05.json has 80 trajectories\n",
      "Processing data as polars dataframe.\n",
      "Forcing normalization\n",
      "Dataset length:  200\n",
      "offline_stock_trade_data/AAPL/random_AAPL_2018-02-05.json has 200 trajectories\n",
      "Processing data as polars dataframe.\n",
      "Forcing normalization\n",
      "Dataset length:  80\n",
      "offline_stock_trade_data/AAPL/stable-baselines-ddpg_AAPL_2018-02-05.json has 80 trajectories\n",
      "Processing data as polars dataframe.\n",
      "Forcing normalization\n",
      "Dataset length:  80\n",
      "offline_stock_trade_data/AAPL/stable-baselines-ppo_AAPL_2018-02-05.json has 80 trajectories\n",
      "Processing data as polars dataframe.\n",
      "Forcing normalization\n",
      "Dataset length:  200\n",
      "offline_stock_trade_data/AAPL/trend_sma_fast_AAPL_2018-02-05.json has 200 trajectories\n",
      "Processing data as polars dataframe.\n",
      "Forcing normalization\n",
      "Dataset length:  80\n",
      "offline_stock_trade_data/WDAY/stable-baselines-ppo_WDAY_2018-02-05.json has 80 trajectories\n",
      "Processing data as polars dataframe.\n",
      "Forcing normalization\n",
      "Dataset length:  200\n",
      "offline_stock_trade_data/WDAY/trend_sma_fast_WDAY_2018-02-05.json has 200 trajectories\n",
      "Processing data as polars dataframe.\n",
      "Forcing normalization\n",
      "Dataset length:  80\n",
      "offline_stock_trade_data/WDAY/stable-baselines-ddpg_WDAY_2018-02-05.json has 80 trajectories\n",
      "Processing data as polars dataframe.\n",
      "Forcing normalization\n",
      "Dataset length:  200\n",
      "offline_stock_trade_data/WDAY/momentum_stoch_rsi_WDAY_2018-02-05.json has 200 trajectories\n",
      "Processing data as polars dataframe.\n",
      "Forcing normalization\n",
      "Dataset length:  200\n",
      "offline_stock_trade_data/WDAY/sentiment_react_WDAY_2018-02-05.json has 200 trajectories\n",
      "Processing data as polars dataframe.\n",
      "Forcing normalization\n",
      "Dataset length:  80\n",
      "offline_stock_trade_data/WDAY/stable-baselines-a2c_WDAY_2018-02-05.json has 80 trajectories\n",
      "Processing data as polars dataframe.\n",
      "Forcing normalization\n",
      "Dataset length:  200\n",
      "offline_stock_trade_data/WDAY/random_WDAY_2018-02-05.json has 200 trajectories\n",
      "Processing data as polars dataframe.\n",
      "Forcing normalization\n",
      "Dataset length:  200\n",
      "offline_stock_trade_data/DOW/random_DOW_2018-02-05.json has 200 trajectories\n",
      "Processing data as polars dataframe.\n",
      "Forcing normalization\n",
      "Dataset length:  200\n",
      "offline_stock_trade_data/DOW/trend_sma_fast_DOW_2018-02-05.json has 200 trajectories\n",
      "Processing data as polars dataframe.\n",
      "Forcing normalization\n",
      "Dataset length:  200\n",
      "offline_stock_trade_data/DOW/sentiment_react_DOW_2018-02-05.json has 200 trajectories\n",
      "Processing data as polars dataframe.\n",
      "Forcing normalization\n",
      "Dataset length:  200\n",
      "offline_stock_trade_data/DOW/momentum_stoch_rsi_DOW_2018-02-05.json has 200 trajectories\n",
      "Processing data as polars dataframe.\n",
      "Forcing normalization\n",
      "Dataset length:  200\n",
      "offline_stock_trade_data/MELI/trend_sma_fast_MELI_2018-02-05.json has 200 trajectories\n",
      "Processing data as polars dataframe.\n",
      "Forcing normalization\n",
      "Dataset length:  80\n",
      "offline_stock_trade_data/MELI/stable-baselines-ppo_MELI_2018-02-05.json has 80 trajectories\n",
      "Processing data as polars dataframe.\n",
      "Forcing normalization\n",
      "Dataset length:  200\n",
      "offline_stock_trade_data/MELI/momentum_stoch_rsi_MELI_2018-02-05.json has 200 trajectories\n",
      "Processing data as polars dataframe.\n",
      "Forcing normalization\n",
      "Dataset length:  80\n",
      "offline_stock_trade_data/MELI/stable-baselines-ddpg_MELI_2018-02-05.json has 80 trajectories\n",
      "Processing data as polars dataframe.\n",
      "Forcing normalization\n",
      "Dataset length:  200\n",
      "offline_stock_trade_data/MELI/sentiment_react_MELI_2018-02-05.json has 200 trajectories\n",
      "Processing data as polars dataframe.\n",
      "Forcing normalization\n",
      "Dataset length:  200\n",
      "offline_stock_trade_data/MELI/random_MELI_2018-02-05.json has 200 trajectories\n",
      "Processing data as polars dataframe.\n",
      "Forcing normalization\n",
      "Dataset length:  80\n",
      "offline_stock_trade_data/MELI/stable-baselines-a2c_MELI_2018-02-05.json has 80 trajectories\n",
      "Processing data as polars dataframe.\n",
      "Forcing normalization\n",
      "Dataset length:  80\n",
      "offline_stock_trade_data/ANSS/stable-baselines-ppo_ANSS_2018-02-05.json has 80 trajectories\n",
      "Processing data as polars dataframe.\n",
      "Forcing normalization\n",
      "Dataset length:  200\n",
      "offline_stock_trade_data/ANSS/momentum_stoch_rsi_ANSS_2018-02-05.json has 200 trajectories\n",
      "Processing data as polars dataframe.\n",
      "Forcing normalization\n",
      "Dataset length:  80\n",
      "offline_stock_trade_data/ANSS/stable-baselines-a2c_ANSS_2018-02-05.json has 80 trajectories\n",
      "Processing data as polars dataframe.\n",
      "Forcing normalization\n",
      "Dataset length:  200\n",
      "offline_stock_trade_data/ANSS/sentiment_react_ANSS_2018-02-05.json has 200 trajectories\n",
      "Processing data as polars dataframe.\n",
      "Forcing normalization\n",
      "Dataset length:  80\n",
      "offline_stock_trade_data/ANSS/stable-baselines-ddpg_ANSS_2018-02-05.json has 80 trajectories\n",
      "Processing data as polars dataframe.\n",
      "Forcing normalization\n",
      "Dataset length:  200\n",
      "offline_stock_trade_data/ANSS/trend_sma_fast_ANSS_2018-02-05.json has 200 trajectories\n",
      "Processing data as polars dataframe.\n",
      "Forcing normalization\n",
      "Dataset length:  200\n",
      "offline_stock_trade_data/ANSS/random_ANSS_2018-02-05.json has 200 trajectories\n",
      "Processing data as polars dataframe.\n",
      "Forcing normalization\n",
      "Dataset length:  80\n",
      "offline_stock_trade_data/TEAM/stable-baselines-ppo_TEAM_2018-02-05.json has 80 trajectories\n",
      "Processing data as polars dataframe.\n",
      "Forcing normalization\n",
      "Dataset length:  200\n",
      "offline_stock_trade_data/TEAM/random_TEAM_2018-02-05.json has 200 trajectories\n",
      "Processing data as polars dataframe.\n",
      "Forcing normalization\n",
      "Dataset length:  200\n",
      "offline_stock_trade_data/TEAM/trend_sma_fast_TEAM_2018-02-05.json has 200 trajectories\n",
      "Processing data as polars dataframe.\n",
      "Forcing normalization\n",
      "Dataset length:  200\n",
      "offline_stock_trade_data/TEAM/momentum_stoch_rsi_TEAM_2018-02-05.json has 200 trajectories\n",
      "Processing data as polars dataframe.\n",
      "Forcing normalization\n",
      "Dataset length:  80\n",
      "offline_stock_trade_data/TEAM/stable-baselines-ddpg_TEAM_2018-02-05.json has 80 trajectories\n",
      "Processing data as polars dataframe.\n",
      "Forcing normalization\n",
      "Dataset length:  200\n",
      "offline_stock_trade_data/TEAM/sentiment_react_TEAM_2018-02-05.json has 200 trajectories\n",
      "Processing data as polars dataframe.\n",
      "Forcing normalization\n",
      "Dataset length:  80\n",
      "offline_stock_trade_data/TEAM/stable-baselines-a2c_TEAM_2018-02-05.json has 80 trajectories\n",
      "Processing data as polars dataframe.\n",
      "Forcing normalization\n",
      "Dataset length:  200\n",
      "offline_stock_trade_data/SNPS/trend_sma_fast_SNPS_2018-02-05.json has 200 trajectories\n",
      "Processing data as polars dataframe.\n",
      "Forcing normalization\n",
      "Dataset length:  80\n",
      "offline_stock_trade_data/SNPS/stable-baselines-a2c_SNPS_2018-02-05.json has 80 trajectories\n",
      "Processing data as polars dataframe.\n",
      "Forcing normalization\n",
      "Dataset length:  200\n",
      "offline_stock_trade_data/SNPS/momentum_stoch_rsi_SNPS_2018-02-05.json has 200 trajectories\n",
      "Processing data as polars dataframe.\n",
      "Forcing normalization\n",
      "Dataset length:  200\n",
      "offline_stock_trade_data/SNPS/sentiment_react_SNPS_2018-02-05.json has 200 trajectories\n",
      "Processing data as polars dataframe.\n",
      "Forcing normalization\n",
      "Dataset length:  80\n",
      "offline_stock_trade_data/SNPS/stable-baselines-ppo_SNPS_2018-02-05.json has 80 trajectories\n",
      "Processing data as polars dataframe.\n",
      "Forcing normalization\n",
      "Dataset length:  80\n",
      "offline_stock_trade_data/SNPS/stable-baselines-ddpg_SNPS_2018-02-05.json has 80 trajectories\n",
      "Processing data as polars dataframe.\n",
      "Forcing normalization\n",
      "Dataset length:  200\n",
      "offline_stock_trade_data/SNPS/random_SNPS_2018-02-05.json has 200 trajectories\n",
      "Processing data as polars dataframe.\n",
      "Forcing normalization\n",
      "Dataset length:  80\n",
      "offline_stock_trade_data/MRVL/stable-baselines-a2c_MRVL_2018-02-05.json has 80 trajectories\n",
      "Processing data as polars dataframe.\n",
      "Forcing normalization\n",
      "Dataset length:  200\n",
      "offline_stock_trade_data/MRVL/momentum_stoch_rsi_MRVL_2018-02-05.json has 200 trajectories\n",
      "Processing data as polars dataframe.\n",
      "Forcing normalization\n",
      "Dataset length:  200\n",
      "offline_stock_trade_data/MRVL/sentiment_react_MRVL_2018-02-05.json has 200 trajectories\n",
      "Processing data as polars dataframe.\n",
      "Forcing normalization\n",
      "Dataset length:  80\n",
      "offline_stock_trade_data/MRVL/stable-baselines-ppo_MRVL_2018-02-05.json has 80 trajectories\n",
      "Processing data as polars dataframe.\n",
      "Forcing normalization\n",
      "Dataset length:  200\n",
      "offline_stock_trade_data/MRVL/trend_sma_fast_MRVL_2018-02-05.json has 200 trajectories\n",
      "Processing data as polars dataframe.\n",
      "Forcing normalization\n",
      "Dataset length:  80\n",
      "offline_stock_trade_data/MRVL/stable-baselines-ddpg_MRVL_2018-02-05.json has 80 trajectories\n",
      "Processing data as polars dataframe.\n",
      "Forcing normalization\n",
      "Dataset length:  200\n",
      "offline_stock_trade_data/MRVL/random_MRVL_2018-02-05.json has 200 trajectories\n",
      "Processing data as polars dataframe.\n",
      "Forcing normalization\n",
      "Dataset length:  200\n",
      "offline_stock_trade_data/SBUX/momentum_stoch_rsi_SBUX_2018-02-05.json has 200 trajectories\n",
      "Processing data as polars dataframe.\n",
      "Forcing normalization\n",
      "Dataset length:  200\n",
      "offline_stock_trade_data/SBUX/sentiment_react_SBUX_2018-02-05.json has 200 trajectories\n",
      "Processing data as polars dataframe.\n",
      "Forcing normalization\n",
      "Dataset length:  200\n",
      "offline_stock_trade_data/SBUX/random_SBUX_2018-02-05.json has 200 trajectories\n",
      "Processing data as polars dataframe.\n",
      "Forcing normalization\n",
      "Dataset length:  80\n",
      "offline_stock_trade_data/SBUX/stable-baselines-ppo_SBUX_2018-02-05.json has 80 trajectories\n",
      "Processing data as polars dataframe.\n",
      "Forcing normalization\n",
      "Dataset length:  80\n",
      "offline_stock_trade_data/SBUX/stable-baselines-a2c_SBUX_2018-02-05.json has 80 trajectories\n",
      "Processing data as polars dataframe.\n",
      "Forcing normalization\n",
      "Dataset length:  200\n",
      "offline_stock_trade_data/SBUX/trend_sma_fast_SBUX_2018-02-05.json has 200 trajectories\n",
      "Processing data as polars dataframe.\n",
      "Forcing normalization\n",
      "Dataset length:  80\n",
      "offline_stock_trade_data/SBUX/stable-baselines-ddpg_SBUX_2018-02-05.json has 80 trajectories\n",
      "Processing data as polars dataframe.\n",
      "Forcing normalization\n",
      "Dataset length:  200\n",
      "offline_stock_trade_data/PAYX/random_PAYX_2018-02-05.json has 200 trajectories\n",
      "Processing data as polars dataframe.\n",
      "Forcing normalization\n",
      "Dataset length:  200\n",
      "offline_stock_trade_data/PAYX/trend_sma_fast_PAYX_2018-02-05.json has 200 trajectories\n",
      "Processing data as polars dataframe.\n",
      "Forcing normalization\n",
      "Dataset length:  80\n",
      "offline_stock_trade_data/PAYX/stable-baselines-ppo_PAYX_2018-02-05.json has 80 trajectories\n",
      "Processing data as polars dataframe.\n",
      "Forcing normalization\n",
      "Dataset length:  200\n",
      "offline_stock_trade_data/PAYX/sentiment_react_PAYX_2018-02-05.json has 200 trajectories\n",
      "Processing data as polars dataframe.\n",
      "Forcing normalization\n",
      "Dataset length:  80\n",
      "offline_stock_trade_data/PAYX/stable-baselines-ddpg_PAYX_2018-02-05.json has 80 trajectories\n",
      "Processing data as polars dataframe.\n",
      "Forcing normalization\n",
      "Dataset length:  200\n",
      "offline_stock_trade_data/PAYX/momentum_stoch_rsi_PAYX_2018-02-05.json has 200 trajectories\n",
      "Processing data as polars dataframe.\n",
      "Forcing normalization\n",
      "Dataset length:  80\n",
      "offline_stock_trade_data/PAYX/stable-baselines-a2c_PAYX_2018-02-05.json has 80 trajectories\n",
      "Processing data as polars dataframe.\n",
      "Forcing normalization\n",
      "Dataset length:  200\n",
      "offline_stock_trade_data/TSLA/random_TSLA_2018-02-05.json has 200 trajectories\n",
      "Processing data as polars dataframe.\n",
      "Forcing normalization\n",
      "Dataset length:  80\n",
      "offline_stock_trade_data/TSLA/stable-baselines-ppo_TSLA_2018-02-05.json has 80 trajectories\n",
      "Processing data as polars dataframe.\n",
      "Forcing normalization\n",
      "Dataset length:  80\n",
      "offline_stock_trade_data/TSLA/stable-baselines-a2c_TSLA_2018-02-05.json has 80 trajectories\n",
      "Processing data as polars dataframe.\n",
      "Forcing normalization\n",
      "Dataset length:  200\n",
      "offline_stock_trade_data/TSLA/trend_sma_fast_TSLA_2018-02-05.json has 200 trajectories\n",
      "Processing data as polars dataframe.\n",
      "Forcing normalization\n",
      "Dataset length:  200\n",
      "offline_stock_trade_data/TSLA/momentum_stoch_rsi_TSLA_2018-02-05.json has 200 trajectories\n",
      "Processing data as polars dataframe.\n",
      "Forcing normalization\n",
      "Dataset length:  80\n",
      "offline_stock_trade_data/TSLA/stable-baselines-ddpg_TSLA_2018-02-05.json has 80 trajectories\n",
      "Processing data as polars dataframe.\n",
      "Forcing normalization\n",
      "Dataset length:  200\n",
      "offline_stock_trade_data/TSLA/sentiment_react_TSLA_2018-02-05.json has 200 trajectories\n",
      "Processing data as polars dataframe.\n",
      "Forcing normalization\n",
      "Dataset length:  80\n",
      "offline_stock_trade_data/TMUS/stable-baselines-a2c_TMUS_2018-02-05.json has 80 trajectories\n",
      "Processing data as polars dataframe.\n",
      "Forcing normalization\n",
      "Dataset length:  80\n",
      "offline_stock_trade_data/TMUS/stable-baselines-ddpg_TMUS_2018-02-05.json has 80 trajectories\n",
      "Processing data as polars dataframe.\n",
      "Forcing normalization\n",
      "Dataset length:  200\n",
      "offline_stock_trade_data/TMUS/random_TMUS_2018-02-05.json has 200 trajectories\n",
      "Processing data as polars dataframe.\n",
      "Forcing normalization\n",
      "Dataset length:  200\n",
      "offline_stock_trade_data/TMUS/sentiment_react_TMUS_2018-02-05.json has 200 trajectories\n",
      "Processing data as polars dataframe.\n",
      "Forcing normalization\n",
      "Dataset length:  80\n",
      "offline_stock_trade_data/TMUS/stable-baselines-ppo_TMUS_2018-02-05.json has 80 trajectories\n",
      "Processing data as polars dataframe.\n",
      "Forcing normalization\n",
      "Dataset length:  200\n",
      "offline_stock_trade_data/TMUS/momentum_stoch_rsi_TMUS_2018-02-05.json has 200 trajectories\n",
      "Processing data as polars dataframe.\n",
      "Forcing normalization\n",
      "Dataset length:  200\n",
      "offline_stock_trade_data/TMUS/trend_sma_fast_TMUS_2018-02-05.json has 200 trajectories\n",
      "Processing data as polars dataframe.\n",
      "Forcing normalization\n",
      "Dataset length:  80\n",
      "offline_stock_trade_data/VRTX/stable-baselines-ppo_VRTX_2018-02-05.json has 80 trajectories\n",
      "Processing data as polars dataframe.\n",
      "Forcing normalization\n",
      "Dataset length:  200\n",
      "offline_stock_trade_data/VRTX/trend_sma_fast_VRTX_2018-02-05.json has 200 trajectories\n",
      "Processing data as polars dataframe.\n",
      "Forcing normalization\n",
      "Dataset length:  200\n",
      "offline_stock_trade_data/VRTX/sentiment_react_VRTX_2018-02-05.json has 200 trajectories\n",
      "Processing data as polars dataframe.\n",
      "Forcing normalization\n",
      "Dataset length:  200\n",
      "offline_stock_trade_data/VRTX/momentum_stoch_rsi_VRTX_2018-02-05.json has 200 trajectories\n",
      "Processing data as polars dataframe.\n",
      "Forcing normalization\n",
      "Dataset length:  200\n",
      "offline_stock_trade_data/VRTX/random_VRTX_2018-02-05.json has 200 trajectories\n",
      "Processing data as polars dataframe.\n",
      "Forcing normalization\n",
      "Dataset length:  80\n",
      "offline_stock_trade_data/VRTX/stable-baselines-a2c_VRTX_2018-02-05.json has 80 trajectories\n",
      "Processing data as polars dataframe.\n",
      "Forcing normalization\n",
      "Dataset length:  80\n",
      "offline_stock_trade_data/VRTX/stable-baselines-ddpg_VRTX_2018-02-05.json has 80 trajectories\n",
      "Processing data as polars dataframe.\n",
      "Forcing normalization\n",
      "Dataset length:  80\n",
      "offline_stock_trade_data/ADBE/stable-baselines-ppo_ADBE_2018-02-05.json has 80 trajectories\n",
      "Processing data as polars dataframe.\n",
      "Forcing normalization\n",
      "Dataset length:  200\n",
      "offline_stock_trade_data/ADBE/random_ADBE_2018-02-05.json has 200 trajectories\n",
      "Processing data as polars dataframe.\n",
      "Forcing normalization\n",
      "Dataset length:  80\n",
      "offline_stock_trade_data/ADBE/stable-baselines-ddpg_ADBE_2018-02-05.json has 80 trajectories\n",
      "Processing data as polars dataframe.\n",
      "Forcing normalization\n",
      "Dataset length:  200\n",
      "offline_stock_trade_data/ADBE/trend_sma_fast_ADBE_2018-02-05.json has 200 trajectories\n",
      "Processing data as polars dataframe.\n",
      "Forcing normalization\n",
      "Dataset length:  200\n",
      "offline_stock_trade_data/ADBE/sentiment_react_ADBE_2018-02-05.json has 200 trajectories\n",
      "Processing data as polars dataframe.\n",
      "Forcing normalization\n",
      "Dataset length:  200\n",
      "offline_stock_trade_data/ADBE/momentum_stoch_rsi_ADBE_2018-02-05.json has 200 trajectories\n",
      "Processing data as polars dataframe.\n",
      "Forcing normalization\n",
      "Dataset length:  80\n",
      "offline_stock_trade_data/ADBE/stable-baselines-a2c_ADBE_2018-02-05.json has 80 trajectories\n",
      "Processing data as polars dataframe.\n",
      "Forcing normalization\n",
      "Dataset length:  80\n",
      "offline_stock_trade_data/DXCM/stable-baselines-a2c_DXCM_2018-02-05.json has 80 trajectories\n",
      "Processing data as polars dataframe.\n",
      "Forcing normalization\n",
      "Dataset length:  80\n",
      "offline_stock_trade_data/DXCM/stable-baselines-ppo_DXCM_2018-02-05.json has 80 trajectories\n",
      "Processing data as polars dataframe.\n",
      "Forcing normalization\n",
      "Dataset length:  200\n",
      "offline_stock_trade_data/DXCM/trend_sma_fast_DXCM_2018-02-05.json has 200 trajectories\n",
      "Processing data as polars dataframe.\n",
      "Forcing normalization\n",
      "Dataset length:  80\n",
      "offline_stock_trade_data/DXCM/stable-baselines-ddpg_DXCM_2018-02-05.json has 80 trajectories\n",
      "Processing data as polars dataframe.\n",
      "Forcing normalization\n",
      "Dataset length:  200\n",
      "offline_stock_trade_data/DXCM/momentum_stoch_rsi_DXCM_2018-02-05.json has 200 trajectories\n",
      "Processing data as polars dataframe.\n",
      "Forcing normalization\n",
      "Dataset length:  200\n",
      "offline_stock_trade_data/DXCM/sentiment_react_DXCM_2018-02-05.json has 200 trajectories\n",
      "Processing data as polars dataframe.\n",
      "Forcing normalization\n",
      "Dataset length:  200\n",
      "offline_stock_trade_data/DXCM/random_DXCM_2018-02-05.json has 200 trajectories\n",
      "Processing data as polars dataframe.\n",
      "Forcing normalization\n",
      "Dataset length:  200\n",
      "offline_stock_trade_data/KLAC/trend_sma_fast_KLAC_2018-02-05.json has 200 trajectories\n",
      "Processing data as polars dataframe.\n",
      "Forcing normalization\n",
      "Dataset length:  200\n",
      "offline_stock_trade_data/KLAC/random_KLAC_2018-02-05.json has 200 trajectories\n",
      "Processing data as polars dataframe.\n",
      "Forcing normalization\n",
      "Dataset length:  80\n",
      "offline_stock_trade_data/KLAC/stable-baselines-ddpg_KLAC_2018-02-05.json has 80 trajectories\n",
      "Processing data as polars dataframe.\n",
      "Forcing normalization\n",
      "Dataset length:  200\n",
      "offline_stock_trade_data/KLAC/sentiment_react_KLAC_2018-02-05.json has 200 trajectories\n",
      "Processing data as polars dataframe.\n",
      "Forcing normalization\n",
      "Dataset length:  80\n",
      "offline_stock_trade_data/KLAC/stable-baselines-ppo_KLAC_2018-02-05.json has 80 trajectories\n",
      "Processing data as polars dataframe.\n",
      "Forcing normalization\n",
      "Dataset length:  80\n",
      "offline_stock_trade_data/KLAC/stable-baselines-a2c_KLAC_2018-02-05.json has 80 trajectories\n",
      "Processing data as polars dataframe.\n",
      "Forcing normalization\n",
      "Dataset length:  200\n",
      "offline_stock_trade_data/KLAC/momentum_stoch_rsi_KLAC_2018-02-05.json has 200 trajectories\n",
      "Processing data as polars dataframe.\n",
      "Forcing normalization\n",
      "Dataset length:  200\n",
      "offline_stock_trade_data/AMGN/momentum_stoch_rsi_AMGN_2018-02-05.json has 200 trajectories\n",
      "Processing data as polars dataframe.\n",
      "Forcing normalization\n",
      "Dataset length:  80\n",
      "offline_stock_trade_data/AMGN/stable-baselines-ppo_AMGN_2018-02-05.json has 80 trajectories\n",
      "Processing data as polars dataframe.\n",
      "Forcing normalization\n",
      "Dataset length:  80\n",
      "offline_stock_trade_data/AMGN/stable-baselines-a2c_AMGN_2018-02-05.json has 80 trajectories\n",
      "Processing data as polars dataframe.\n",
      "Forcing normalization\n",
      "Dataset length:  200\n",
      "offline_stock_trade_data/AMGN/random_AMGN_2018-02-05.json has 200 trajectories\n",
      "Processing data as polars dataframe.\n",
      "Forcing normalization\n",
      "Dataset length:  200\n",
      "offline_stock_trade_data/AMGN/trend_sma_fast_AMGN_2018-02-05.json has 200 trajectories\n",
      "Processing data as polars dataframe.\n",
      "Forcing normalization\n",
      "Dataset length:  200\n",
      "offline_stock_trade_data/AMGN/sentiment_react_AMGN_2018-02-05.json has 200 trajectories\n",
      "Processing data as polars dataframe.\n",
      "Forcing normalization\n",
      "Dataset length:  80\n",
      "offline_stock_trade_data/AMGN/stable-baselines-ddpg_AMGN_2018-02-05.json has 80 trajectories\n",
      "Processing data as polars dataframe.\n",
      "Forcing normalization\n",
      "Dataset length:  200\n",
      "offline_stock_trade_data/BKNG/trend_sma_fast_BKNG_2018-02-05.json has 200 trajectories\n",
      "Processing data as polars dataframe.\n",
      "Forcing normalization\n",
      "Dataset length:  200\n",
      "offline_stock_trade_data/BKNG/random_BKNG_2018-02-05.json has 200 trajectories\n",
      "Processing data as polars dataframe.\n",
      "Forcing normalization\n",
      "Dataset length:  80\n",
      "offline_stock_trade_data/BKNG/stable-baselines-ddpg_BKNG_2018-02-05.json has 80 trajectories\n",
      "Processing data as polars dataframe.\n",
      "Forcing normalization\n",
      "Dataset length:  80\n",
      "offline_stock_trade_data/BKNG/stable-baselines-ppo_BKNG_2018-02-05.json has 80 trajectories\n",
      "Processing data as polars dataframe.\n",
      "Forcing normalization\n",
      "Dataset length:  200\n",
      "offline_stock_trade_data/BKNG/sentiment_react_BKNG_2018-02-05.json has 200 trajectories\n",
      "Processing data as polars dataframe.\n",
      "Forcing normalization\n",
      "Dataset length:  80\n",
      "offline_stock_trade_data/BKNG/stable-baselines-a2c_BKNG_2018-02-05.json has 80 trajectories\n",
      "Processing data as polars dataframe.\n",
      "Forcing normalization\n",
      "Dataset length:  200\n",
      "offline_stock_trade_data/BKNG/momentum_stoch_rsi_BKNG_2018-02-05.json has 200 trajectories\n",
      "checking for env_state consistency\n",
      "All env_states are the same in the datasets\n",
      "Combining datasets\n",
      "Combined dataset has 122640 trajectories\n",
      "Initializing training object\n",
      "Number of parameters: 4354004\n",
      "Training object initialized\n",
      "Training model...\n"
     ]
    },
    {
     "name": "stderr",
     "output_type": "stream",
     "text": [
      "100%|██████████| 3833/3833 [03:49<00:00, 16.72it/s]\n"
     ]
    },
    {
     "name": "stdout",
     "output_type": "stream",
     "text": [
      "Epoch 0: Loss: 0.15220126509666443\n"
     ]
    },
    {
     "name": "stderr",
     "output_type": "stream",
     "text": [
      "100%|██████████| 3833/3833 [03:48<00:00, 16.80it/s]\n",
      "100%|██████████| 3833/3833 [03:48<00:00, 16.80it/s]\n",
      "100%|██████████| 3833/3833 [03:48<00:00, 16.79it/s]\n",
      "100%|██████████| 3833/3833 [03:43<00:00, 17.14it/s]\n",
      "100%|██████████| 3833/3833 [03:40<00:00, 17.38it/s]\n",
      "100%|██████████| 3833/3833 [03:40<00:00, 17.40it/s]\n",
      "100%|██████████| 3833/3833 [03:40<00:00, 17.39it/s]\n",
      "100%|██████████| 3833/3833 [03:40<00:00, 17.37it/s]\n",
      "100%|██████████| 3833/3833 [03:40<00:00, 17.38it/s]\n",
      "100%|██████████| 3833/3833 [03:40<00:00, 17.39it/s]\n",
      "100%|██████████| 3833/3833 [03:40<00:00, 17.38it/s]\n",
      "100%|██████████| 3833/3833 [03:40<00:00, 17.40it/s]\n",
      "100%|██████████| 3833/3833 [03:40<00:00, 17.40it/s]\n",
      "100%|██████████| 3833/3833 [03:40<00:00, 17.41it/s]\n",
      "100%|██████████| 3833/3833 [03:40<00:00, 17.41it/s]\n",
      "100%|██████████| 3833/3833 [03:40<00:00, 17.41it/s]\n",
      "100%|██████████| 3833/3833 [03:40<00:00, 17.39it/s]\n",
      "100%|██████████| 3833/3833 [03:40<00:00, 17.37it/s]\n",
      "100%|██████████| 3833/3833 [03:40<00:00, 17.40it/s]\n",
      "100%|██████████| 3833/3833 [03:40<00:00, 17.38it/s]\n",
      "100%|██████████| 3833/3833 [03:40<00:00, 17.39it/s]\n",
      "100%|██████████| 3833/3833 [03:40<00:00, 17.37it/s]\n",
      "100%|██████████| 3833/3833 [03:39<00:00, 17.44it/s]\n",
      "100%|██████████| 3833/3833 [03:40<00:00, 17.41it/s]\n",
      "100%|██████████| 3833/3833 [03:40<00:00, 17.39it/s]\n",
      "100%|██████████| 3833/3833 [03:40<00:00, 17.38it/s]\n",
      "100%|██████████| 3833/3833 [03:40<00:00, 17.38it/s]\n",
      "100%|██████████| 3833/3833 [03:40<00:00, 17.42it/s]\n",
      "100%|██████████| 3833/3833 [03:40<00:00, 17.42it/s]\n",
      "100%|██████████| 3833/3833 [03:40<00:00, 17.39it/s]\n",
      "100%|██████████| 3833/3833 [03:40<00:00, 17.39it/s]\n",
      "100%|██████████| 3833/3833 [03:39<00:00, 17.43it/s]\n",
      "100%|██████████| 3833/3833 [03:40<00:00, 17.40it/s]\n",
      "100%|██████████| 3833/3833 [03:40<00:00, 17.38it/s]\n",
      "100%|██████████| 3833/3833 [03:40<00:00, 17.40it/s]\n",
      "100%|██████████| 3833/3833 [03:40<00:00, 17.37it/s]\n",
      "100%|██████████| 3833/3833 [03:40<00:00, 17.39it/s]\n",
      "100%|██████████| 3833/3833 [03:40<00:00, 17.39it/s]\n",
      "100%|██████████| 3833/3833 [03:40<00:00, 17.41it/s]\n"
     ]
    },
    {
     "name": "stdout",
     "output_type": "stream",
     "text": [
      "Epoch 39: Loss: 0.08215098083019257\n",
      "Training time: 2:27:30.164641\n",
      "Training complete\n"
     ]
    },
    {
     "data": {
      "image/png": "[encoded data removed]",
      "text/plain": [
       "<Figure size 640x480 with 1 Axes>"
      ]
     },
     "metadata": {},
     "output_type": "display_data"
    }
   ],
   "source": [
    "# then we can train the agent using the full_training_run helper function\n",
    "from train_decision_transformer import full_training_run\n",
    "import torch\n",
    "\n",
    "# set device to cuda if available\n",
    "device = torch.device(\"cuda\" if torch.cuda.is_available() else \"cpu\")\n",
    "trained_model, trained_params = full_training_run(\n",
    "    dataset_path, device = device, force_normalize=dataset_meanstd, n_epochs=40)"
   ]
  },
  {
   "cell_type": "code",
   "execution_count": 2,
   "metadata": {},
   "outputs": [],
   "source": [
    "# save the trained model\n",
    "from train_decision_transformer import save_model\n",
    "\n",
    "model_name = 'nasdaq_dow_news_meanstd'\n",
    "model_path = 'trained_nasdaq_dow_decision_transformer'\n",
    "#save_model(trained_model, trained_params, model_name, model_path)"
   ]
  },
  {
   "cell_type": "code",
   "execution_count": 6,
   "metadata": {},
   "outputs": [
    {
     "name": "stdout",
     "output_type": "stream",
     "text": [
      "shape: (1, 7)\n",
      "┌──────────────┬─────────────┬─────────────┬────────────┬────────────┬───────────┬────────────┐\n",
      "│ reward_min   ┆ reward_max  ┆ reward_10   ┆ reward_25  ┆ reward_50  ┆ reward_75 ┆ reward_90  │\n",
      "│ ---          ┆ ---         ┆ ---         ┆ ---        ┆ ---        ┆ ---       ┆ ---        │\n",
      "│ f64          ┆ f64         ┆ f64         ┆ f64        ┆ f64        ┆ f64       ┆ f64        │\n",
      "╞══════════════╪═════════════╪═════════════╪════════════╪════════════╪═══════════╪════════════╡\n",
      "│ -1360.068699 ┆ 1169.344348 ┆ -208.114125 ┆ -90.155418 ┆ -29.808543 ┆ 28.744407 ┆ 140.852024 │\n",
      "└──────────────┴─────────────┴─────────────┴────────────┴────────────┴───────────┴────────────┘\n"
     ]
    }
   ],
   "source": [
    "# we first need to see what are rewards distribution in the dataset\n",
    "\n",
    "from curatedataset import eval_reward_datasets\n",
    "mean_rewards = eval_reward_datasets(dataset_path)"
   ]
  },
  {
   "cell_type": "code",
   "execution_count": 2,
   "metadata": {},
   "outputs": [],
   "source": [
    "# we then can use the reward as RTG for agent to trade\n",
    "# rtg = mean_rewards['reward_75'][0]\n",
    "rtg = 28.7"
   ]
  },
  {
   "cell_type": "code",
   "execution_count": 3,
   "metadata": {},
   "outputs": [],
   "source": [
    "# we will then create the gym environment to test run the agent\n",
    "# the gym environment will be normalized using the same mean_std as what is used to train the model\n",
    "\n",
    "import json\n",
    "import os\n",
    "from TradingEnvClass import MeanStdObject\n",
    "\n",
    "# get file end with params.json\n",
    "json_files = [f for f in os.listdir(model_path) if f.endswith('params.json')]\n",
    "parameter_path = os.path.join(model_path, json_files[0])\n",
    "with open(parameter_path, 'r') as f:\n",
    "    normalize = json.load(f)[\"normalize\"]\n",
    "\n",
    "mean_std_dict = {key: MeanStdObject(mean = value['mean'], std=value['std']) \n",
    "                 for key, value in normalize.items()}\n"
   ]
  },
  {
   "cell_type": "code",
   "execution_count": 3,
   "metadata": {},
   "outputs": [
    {
     "data": {
      "text/plain": [
       "'\\nfor stock_name in test_tic:\\n    env,obs_space, act_space, col, data = makegymenv(stock_name, start_date, num_days, interval, indicators=indicators, normalize=mean_std_dict, init_balance=init_balance)\\n    test_env_list.append(env)\\n'"
      ]
     },
     "execution_count": 3,
     "metadata": {},
     "output_type": "execute_result"
    }
   ],
   "source": [
    "from curatedataset import makegymenv, run_env\n",
    "test_tic = ['AAPL', 'MSFT', 'GOOGL', 'TSLA', 'AMZN', 'META', 'NVDA', 'INTC', 'AMD']\n",
    "\n",
    "# TODO test different start date within the dataset \n",
    "start_date = '2020-06-01'\n",
    "num_days = 365\n",
    "interval = '1d'\n",
    "indicators = [\"Volume\", \"volume_cmf\", \"trend_macd\", \"momentum_rsi\", \"momentum_stoch_rsi\", \"trend_sma_fast\"]\n",
    "init_balance = 20000\n",
    "test_env_list = []\n",
    "#data = get_stock_data_yf_between_with_indicators(stock_name, '2019-01-01', '2020-02-01', interval, ['all'])\n",
    "\n",
    "for stock_name in test_tic:\n",
    "    env,obs_space, act_space, col, data = makegymenv(stock_name, start_date, num_days, interval, indicators=indicators, normalize=mean_std_dict, init_balance=init_balance)\n",
    "    test_env_list.append(env)\n"
   ]
  },
  {
   "cell_type": "code",
   "execution_count": 12,
   "metadata": {},
   "outputs": [
    {
     "name": "stdout",
     "output_type": "stream",
     "text": [
      "Agent type:  transformer\n",
      "Loading DecisionTransformer model\n"
     ]
    }
   ],
   "source": [
    "# then create an agent from model weight to interact with the environment\n",
    "from get_agent import Agent, TradingAlgorithm\n",
    "import torch\n",
    "import fnmatch\n",
    "\n",
    "# get model parameter's path under model path by checking for _params.json\n",
    "f = os.listdir(model_path)\n",
    "matching_files = fnmatch.filter(f, model_name+'*_params.json')\n",
    "# get the file that store the model information\n",
    "parameter_path = os.path.join(model_path, matching_files[0])\n",
    "\n",
    "device = torch.device(\"cuda\" if torch.cuda.is_available() else \"cpu\")\n",
    "\n",
    "# create agent (use the first env as sample env)\n",
    "DecisionTransformer = Agent(test_env_list[0], 'transformer', rtg_target=rtg, rtg_scale=0.7, model_path=parameter_path, device=device)\n",
    "# create a random agent for comparison\n",
    "RandomAgent = Agent(test_env_list[0])\n",
    "# create a momentum algo agent for comparison\n",
    "momentumAlgo = TradingAlgorithm(algo_type='momentum_stoch_rsi', indicator_column = col.index('momentum_stoch_rsi'), amount_range = [0.05, 0.55])\n",
    "momentumAgent = Agent(test_env_list[0], 'algo', algo=momentumAlgo)"
   ]
  },
  {
   "cell_type": "code",
   "execution_count": 7,
   "metadata": {},
   "outputs": [
    {
     "name": "stdout",
     "output_type": "stream",
     "text": [
      "Episode:  0 Timestep: 250  done\n",
      "Episode:  1 Timestep: 250  done\n",
      "Episode:  2 Timestep: 250  done\n",
      "Episode:  3 Timestep: 250  done\n",
      "Episode:  4 Timestep: 250  done\n",
      "Episode:  5 Timestep: 250  done\n",
      "Episode:  6 Timestep: 250  done\n",
      "Episode:  7 Timestep: 250  done\n",
      "Episode:  8 Timestep: 250  done\n",
      "Episode:  9 Timestep: 250  done\n",
      "Episode:  0 Timestep: 250  done\n",
      "Episode:  1 Timestep: 250  done\n",
      "Episode:  2 Timestep: 250  done\n",
      "Episode:  3 Timestep: 250  done\n",
      "Episode:  4 Timestep: 250  done\n",
      "Episode:  5 Timestep: 250  done\n",
      "Episode:  6 Timestep: 250  done\n",
      "Episode:  7 Timestep: 250  done\n",
      "Episode:  8 Timestep: 250  done\n",
      "Episode:  9 Timestep: 250  done\n",
      "Episode:  0 Timestep: 250  done\n",
      "Episode:  1 Timestep: 250  done\n",
      "Episode:  2 Timestep: 250  done\n",
      "Episode:  3 Timestep: 250  done\n",
      "Episode:  4 Timestep: 250  done\n",
      "Episode:  5 Timestep: 250  done\n",
      "Episode:  6 Timestep: 250  done\n",
      "Episode:  7 Timestep: 250  done\n",
      "Episode:  8 Timestep: 250  done\n",
      "Episode:  9 Timestep: 250  done\n",
      "Episode:  0 Timestep: 250  done\n",
      "Episode:  1 Timestep: 22  done\n",
      "Episode:  2 Timestep: 22  done\n",
      "Episode:  3 Timestep: 22  done\n",
      "Episode:  4 Timestep: 22  done\n",
      "Episode:  5 Timestep: 22  done\n",
      "Episode:  6 Timestep: 22  done\n",
      "Episode:  7 Timestep: 22  done\n",
      "Episode:  8 Timestep: 22  done\n",
      "Episode:  9 Timestep: 22  done\n",
      "Episode:  0 Timestep: 250  done\n",
      "Episode:  1 Timestep: 250  done\n",
      "Episode:  2 Timestep: 250  done\n",
      "Episode:  3 Timestep: 250  done\n",
      "Episode:  4 Timestep: 250  done\n",
      "Episode:  5 Timestep: 250  done\n",
      "Episode:  6 Timestep: 250  done\n",
      "Episode:  7 Timestep: 250  done\n",
      "Episode:  8 Timestep: 250  done\n",
      "Episode:  9 Timestep: 250  done\n",
      "Episode:  0 Timestep: 250  done\n",
      "Episode:  1 Timestep: 250  done\n",
      "Episode:  2 Timestep: 250  done\n",
      "Episode:  3 Timestep: 250  done\n",
      "Episode:  4 Timestep: 250  done\n",
      "Episode:  5 Timestep: 250  done\n",
      "Episode:  6 Timestep: 250  done\n",
      "Episode:  7 Timestep: 250  done\n",
      "Episode:  8 Timestep: 250  done\n",
      "Episode:  9 Timestep: 250  done\n",
      "Episode:  0 Timestep: 250  done\n",
      "Episode:  1 Timestep: 250  done\n",
      "Episode:  2 Timestep: 250  done\n",
      "Episode:  3 Timestep: 250  done\n",
      "Episode:  4 Timestep: 250  done\n",
      "Episode:  5 Timestep: 250  done\n",
      "Episode:  6 Timestep: 250  done\n",
      "Episode:  7 Timestep: 250  done\n",
      "Episode:  8 Timestep: 250  done\n",
      "Episode:  9 Timestep: 250  done\n",
      "Episode:  0 Timestep: 250  done\n",
      "Episode:  1 Timestep: 250  done\n",
      "Episode:  2 Timestep: 250  done\n",
      "Episode:  3 Timestep: 250  done\n",
      "Episode:  4 Timestep: 250  done\n",
      "Episode:  5 Timestep: 250  done\n",
      "Episode:  6 Timestep: 250  done\n",
      "Episode:  7 Timestep: 250  done\n",
      "Episode:  8 Timestep: 250  done\n",
      "Episode:  9 Timestep: 250  done\n",
      "Episode:  0 Timestep: 250  done\n",
      "Episode:  1 Timestep: 250  done\n",
      "Episode:  2 Timestep: 250  done\n",
      "Episode:  3 Timestep: 250  done\n",
      "Episode:  4 Timestep: 250  done\n",
      "Episode:  5 Timestep: 250  done\n",
      "Episode:  6 Timestep: 250  done\n",
      "Episode:  7 Timestep: 250  done\n",
      "Episode:  8 Timestep: 250  done\n",
      "Episode:  9 Timestep: 250  done\n"
     ]
    }
   ],
   "source": [
    "# run and save the interaction data\n",
    "from curatedataset import save_data\n",
    "\n",
    "for env, stock_name in zip(test_env_list, test_tic):\n",
    "    trade_data = run_env(DecisionTransformer, stock_name, env, 3, start_date, normalize_param = mean_std_dict)\n",
    "    file_name = os.path.join(model_path, f'trained_transformer_{stock_name}_{start_date}_{num_days}_{interval}_test.json')\n",
    "    save_data(trade_data, file_name)"
   ]
  },
  {
   "cell_type": "code",
   "execution_count": 19,
   "metadata": {},
   "outputs": [
    {
     "name": "stdout",
     "output_type": "stream",
     "text": [
      "trained_nasdaq_dow_decision_transformer/trained_transformer_INTC_2020-06-01_365_1d_test.json\n",
      "Mean sample sum reward:  -10775.389630947644\n",
      "Std sample sum reward:  1.8189894035458565e-12\n",
      "Mean net worth growth:  1957.896484375\n",
      "Std net worth growth: +/- 0.0\n",
      "Plotting episode:  2\n",
      "check:  <class 'numpy.ndarray'>\n"
     ]
    },
    {
     "data": {
      "image/png": "[encoded data removed]",
      "text/plain": [
       "<Figure size 800x575 with 6 Axes>"
      ]
     },
     "metadata": {},
     "output_type": "display_data"
    }
   ],
   "source": [
    "# we then can use the evaluation helper to plot the stock price movement and trading action.\n",
    "from curatedataset import evaluate_dataset\n",
    "import os\n",
    "\n",
    "json_files = [f for f in os.listdir(model_path) if f.endswith('1d_test.json')]\n",
    "# get the index of list from tic\n",
    "ticindex = test_tic.index('AMZN')\n",
    "eval_data = os.path.join(model_path,json_files[ticindex])\n",
    "print(eval_data)\n",
    "evaluate_dataset(eval_data)"
   ]
  }
 ],
 "metadata": {
  "kernelspec": {
   "display_name": "Python 3 (ipykernel)",
   "language": "python",
   "name": "python3"
  },
  "language_info": {
   "codemirror_mode": {
    "name": "ipython",
    "version": 3
   },
   "file_extension": ".py",
   "mimetype": "text/x-python",
   "name": "python",
   "nbconvert_exporter": "python",
   "pygments_lexer": "ipython3",
   "version": "3.10.12"
  }
 },
 "nbformat": 4,
 "nbformat_minor": 2
}
